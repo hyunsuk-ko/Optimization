{
 "cells": [
  {
   "cell_type": "markdown",
   "id": "8511fdb0",
   "metadata": {},
   "source": [
    "## Problem Data"
   ]
  },
  {
   "cell_type": "markdown",
   "id": "c0ec4b52",
   "metadata": {},
   "source": [
    "#### We can improve our code's modifiability and reusability by separating the data from the structure."
   ]
  },
  {
   "cell_type": "code",
   "execution_count": 2,
   "id": "a58c8766",
   "metadata": {},
   "outputs": [],
   "source": [
    "# An Aray in Julia is a list of elements\n",
    "\n",
    "trophy_types = [:football, :soccer] \n",
    "# these are the possible trophy types\n",
    "# this array is of type \"Symbol.\"\n",
    "# Putting a colon in front of an element makes it a \"Symbol\" type.\n",
    "# typically Sumbol arrays are easier to implement in JuMP\n",
    "# than other types (such as string, integer, etc.)\n",
    "\n",
    "# Dictionary in Julia maps a key (any type) to an element (any type)\n",
    "wood_req = Dict(:football => 4, :soccer => 2)\n",
    "# how much wood each trophy type will use\n",
    "\n",
    "# in this Dictionary, we are mapping keys of Symbol type\n",
    "plaque_req = Dict(:football => 1, :soccer => 1)\n",
    "profit = Dict(:football => 12, :soccer=> 9)\n",
    "\n",
    "# we are told the amount of each resource we have available\n",
    "wood_avail = 4800\n",
    "plaques_avail = 1750\n",
    "football_avail = 1000\n",
    "soccer_avail = 1500; # semicolons suppress output"
   ]
  },
  {
   "cell_type": "code",
   "execution_count": 17,
   "id": "2020c87a",
   "metadata": {},
   "outputs": [
    {
     "name": "stdout",
     "output_type": "stream",
     "text": [
      "[:football, :soccer]\n",
      "football\n",
      "Dict(:football => 4, :soccer => 2)\n",
      "2\n",
      "12\n"
     ]
    }
   ],
   "source": [
    "println(trophy_types)\n",
    "println(trophy_types[1])\n",
    "println(wood_req)\n",
    "println(wood_req[:soccer])\n",
    "println(profit[:football])"
   ]
  },
  {
   "cell_type": "markdown",
   "id": "e95a2273",
   "metadata": {},
   "source": [
    "## Top Brass Model"
   ]
  },
  {
   "cell_type": "markdown",
   "id": "311d4f3b",
   "metadata": {},
   "source": [
    "#### Now that we've defined our data we can build a general model"
   ]
  },
  {
   "cell_type": "code",
   "execution_count": 25,
   "id": "ba2e054f",
   "metadata": {},
   "outputs": [
    {
     "name": "stdout",
     "output_type": "stream",
     "text": [
      "1-dimensional DenseAxisArray{Float64,1,...} with index sets:\n",
      "    Dimension 1, [:football, :soccer]\n",
      "And data, a 2-element Vector{Float64}:\n",
      "  650.0\n",
      " 1100.0\n",
      "Total profit will be $17700.0\n",
      "We will use 4800.0 board feet of wood\n",
      "We will use 1750.0 plaques\n",
      "Coin0506I Presolve 2 (-2) rows, 2 (0) columns and 4 (-2) elements\n",
      "Clp0006I 0  Obj -0 Dual inf 20.999998 (2)\n",
      "Clp0006I 2  Obj 17700\n",
      "Clp0000I Optimal - objective value 17700\n",
      "Coin0511I After Postsolve, objective 17700, infeasibilities - dual 0 (0), primal 0 (0)\n",
      "Clp0032I Optimal objective 17700 - 2 iterations time 0.002, Presolve 0.00\n"
     ]
    }
   ],
   "source": [
    "# always specify which packages you're going to use\n",
    "using JuMP, Clp\n",
    "\n",
    "# create a new model object, specifying the solver\n",
    "m = Model(Clp.Optimizer)\n",
    "\n",
    "# trophy variable object is now a Dictionary indexed over \n",
    "# trophy types (elements are variables)\n",
    "@variable(m, trophy[trophy_types] >= 0)\n",
    "\n",
    "# maximize profit by summing (profit/trophy * # trophies)\n",
    "# for each type\n",
    "@objective(m, Max, sum(profit[tr] * trophy[tr] for tr in trophy_types))\n",
    "\n",
    "@constraint(m, sum(wood_req[tr] * trophy[tr] for tr in trophy_types) <= wood_avail)\n",
    "@constraint(m, sum(plaque_req[tr] * trophy[tr] for tr in trophy_types) <= plaques_avail)\n",
    "@constraint(m, trophy[:football] <= football_avail)\n",
    "@constraint(m, trophy[:soccer] <= soccer_avail)\n",
    "\n",
    "status = optimize!(m)\n",
    "\n",
    "println(value.(trophy))\n",
    "\n",
    "# note the output is quite ugly, we'll se how to make it look nicer soon.\n",
    "println(\"Total profit will be \\$\", objective_value(m))\n",
    "println(\"We will use \",  value(sum(wood_req[tr] * trophy[tr] for tr in trophy_types) ), \" board feet of wood\")\n",
    "println(\"We will use \", value(sum(plaque_req[tr] * trophy[tr] for tr in trophy_types)), \" plaques\")"
   ]
  },
  {
   "cell_type": "code",
   "execution_count": 24,
   "id": "71d02fed",
   "metadata": {},
   "outputs": [
    {
     "name": "stdout",
     "output_type": "stream",
     "text": [
      "1-dimensional DenseAxisArray{VariableRef,1,...} with index sets:\n",
      "    Dimension 1, [:football, :soccer]\n",
      "And data, a 2-element Vector{VariableRef}:\n",
      " trophy[football]\n",
      " trophy[soccer]\n",
      "\n",
      "trophy[football]\n"
     ]
    }
   ],
   "source": [
    "println(trophy)\n",
    "println()\n",
    "println(trophy[:football])"
   ]
  },
  {
   "cell_type": "markdown",
   "id": "b748b46e",
   "metadata": {},
   "source": [
    "#### Another way to do the same thing uisng \"expression\" objects:"
   ]
  },
  {
   "cell_type": "code",
   "execution_count": 29,
   "id": "9f180087",
   "metadata": {},
   "outputs": [
    {
     "ename": "LoadError",
     "evalue": "An object of name tot_wood is already attached to this model. If this\n    is intended, consider using the anonymous construction syntax, e.g.,\n    `x = @variable(model, [1:N], ...)` where the name of the object does\n    not appear inside the macro.\n\n    Alternatively, use `unregister(model, :tot_wood)` to first unregister\n    the existing name from the model. Note that this will not delete the\n    object; it will just remove the reference at `model[:tot_wood]`.\n",
     "output_type": "error",
     "traceback": [
      "An object of name tot_wood is already attached to this model. If this\n    is intended, consider using the anonymous construction syntax, e.g.,\n    `x = @variable(model, [1:N], ...)` where the name of the object does\n    not appear inside the macro.\n\n    Alternatively, use `unregister(model, :tot_wood)` to first unregister\n    the existing name from the model. Note that this will not delete the\n    object; it will just remove the reference at `model[:tot_wood]`.\n",
      "",
      "Stacktrace:",
      " [1] error(s::String)",
      "   @ Base .\\error.jl:33",
      " [2] _error_if_cannot_register(model::Model, name::Symbol)",
      "   @ JuMP C:\\Users\\peren\\.julia\\packages\\JuMP\\Xrr7O\\src\\macros.jl:100",
      " [3] macro expansion",
      "   @ C:\\Users\\peren\\.julia\\packages\\JuMP\\Xrr7O\\src\\macros.jl:134 [inlined]",
      " [4] top-level scope",
      "   @ .\\In[29]:3",
      " [5] eval",
      "   @ .\\boot.jl:360 [inlined]",
      " [6] include_string(mapexpr::typeof(REPL.softscope), mod::Module, code::String, filename::String)",
      "   @ Base .\\loading.jl:1094"
     ]
    }
   ],
   "source": [
    "# Create expressions for the total amount of wood and plaques\n",
    "# used over all trophies\n",
    "# (<model name>, <expression name>, <algebraic function>)\n",
    "@expression(m, tot_wood, sum(wood_req[tr] * trophy[tr] for tr in trophy_types))\n",
    "@expression(m, tot_plaques, sum(plaque_req[tr] * trophy[tr] for tr in trophy_types))\n",
    "# create an expression for the total amount of profit\n",
    "@expression(m, tot_profit, sum(profit[tr] * trophy[tr] for tr in trophy_types))\n",
    "\n",
    "# constraints become much simpler\n",
    "@constraint(m, tot_wood <= wood_avail)\n",
    "@constraint(m, tot_plaques <= plaques_avail)\n",
    "@constraint(m, trophy[:football] <= football_avail)\n",
    "@constraint(m, trophy[:soccer] <= soccer_avail)\n",
    "\n",
    "# the objective is also very simple\n",
    "@objective(m, Max, tot_profit)\n",
    "\n",
    "# solve the instance of the model \n",
    "status = optimize!(m)\n",
    "\n",
    "# print interesting solution components, including expression values\n",
    "println(value.(trophy))\n",
    "println(\"Total profit will be \\$\", objective_value(m))\n",
    "println(\"We will use \", value(tot_wood), \" board feet of wood\")\n",
    "println(\"We will use \", value(tot_plaques), \" plaques\")"
   ]
  },
  {
   "cell_type": "code",
   "execution_count": null,
   "id": "c0f68ec2",
   "metadata": {},
   "outputs": [],
   "source": []
  }
 ],
 "metadata": {
  "kernelspec": {
   "display_name": "Julia 1.6.1",
   "language": "julia",
   "name": "julia-1.6"
  },
  "language_info": {
   "file_extension": ".jl",
   "mimetype": "application/julia",
   "name": "julia",
   "version": "1.6.1"
  }
 },
 "nbformat": 4,
 "nbformat_minor": 5
}
