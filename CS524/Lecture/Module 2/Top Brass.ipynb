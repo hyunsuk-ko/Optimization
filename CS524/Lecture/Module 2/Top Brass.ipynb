{
 "cells": [
  {
   "cell_type": "code",
   "execution_count": 1,
   "id": "ca191415",
   "metadata": {},
   "outputs": [],
   "source": [
    "# always specify which packages you are going to use\n",
    "using JuMP, Clp\n",
    "\n",
    "# create a new model object\n",
    "m = Model()\n",
    "\n",
    "# we need variables for football trophies and soccer trophies\n",
    "# format is (<model name>, <variable name>). We can optionally \n",
    "# include bounds on each variable.\n",
    "@variable(m, ft>=0)\n",
    "@variable(m, st>=0)\n",
    "\n",
    "# objective is to maximize profit\n",
    "# format is (<model name>, <Max or Min>, <algebraic function>)\n",
    "@objective(m, Max, 12*ft + 9*st)\n",
    "\n",
    "# constraint on the wood available\n",
    "# format is (<model name>, <constraint name>, <algebraic constraint>)\n",
    "@constraint(m, wood_con, 4ft + 2st <= 4800)\n",
    "\n",
    "# constraint on the plaques available\n",
    "@constraint(m, plaque_con, ft + st <= 1750)\n",
    "\n",
    "# constraints on brass footballs, soccerballs available\n",
    "@constraint(m, brass_football_con, ft <= 1000)\n",
    "@constraint(m, brass_soccerball_con, st <= 1500)\n",
    ";\n",
    "# like Matlab, a \";\" (semicolon) supresses output"
   ]
  },
  {
   "cell_type": "code",
   "execution_count": 2,
   "id": "d506c19d",
   "metadata": {},
   "outputs": [
    {
     "name": "stdout",
     "output_type": "stream",
     "text": [
      "Time to solve this model using Clp: \n",
      " 23.840177 seconds (20.13 M allocations: 1.158 GiB, 5.01% gc time, 1.12% compilation time)\n",
      "Build 650.0 football trophies.\n",
      "Build 1100.0 soccer trophies.\n",
      "Total profit will be $17700.0\n",
      "Coin0506I Presolve 2 (-2) rows, 2 (0) columns and 4 (-2) elements\n",
      "Clp0006I 0  Obj -0 Dual inf 20.999998 (2)\n",
      "Clp0006I 2  Obj 17700\n",
      "Clp0000I Optimal - objective value 17700\n",
      "Coin0511I After Postsolve, objective 17700, infeasibilities - dual 0 (0), primal 0 (0)\n",
      "Clp0032I Optimal objective 17700 - 2 iterations time 0.002, Presolve 0.00\n"
     ]
    }
   ],
   "source": [
    "println(\"Time to solve this model using Clp: \")\n",
    "\n",
    "# specify the solver you want to use to solve model m\n",
    "set_optimizer(m, Clp.Optimizer)\n",
    "\n",
    "# use the @time macro to measure the amount of time it takes to solve m\n",
    "@time(optimize!(m))\n",
    "\n",
    "println(\"Build \", value(ft), \" football trophies.\")\n",
    "println(\"Build \", value(st), \" soccer trophies.\")\n",
    "println(\"Total profit will be \\$\", objective_value(m))"
   ]
  },
  {
   "cell_type": "code",
   "execution_count": 3,
   "id": "6af2fc82",
   "metadata": {},
   "outputs": [
    {
     "name": "stdout",
     "output_type": "stream",
     "text": [
      "Time to solve this model using SCS: \n",
      " 16.822757 seconds (11.81 M allocations: 708.669 MiB, 2.67% gc time)\n",
      "Build 649.9999491459516 football trophies.\n",
      "Build 1100.0001526142569 soccer trophies.\n",
      "Total profit will be $17700.00076327973\n",
      "----------------------------------------------------------------------------\n",
      "\tSCS v2.1.3 - Splitting Conic Solver\n",
      "\t(c) Brendan O'Donoghue, Stanford University, 2012\n",
      "----------------------------------------------------------------------------\n",
      "Lin-sys: sparse-indirect, nnz in A = 8, CG tol ~ 1/iter^(2.00)\n",
      "eps = 1.00e-005, alpha = 1.50, max_iters = 5000, normalize = 1, scale = 1.00\n",
      "acceleration_lookback = 10, rho_x = 1.00e-003\n",
      "Variables n = 2, constraints m = 6\n",
      "Cones:\tlinear vars: 6\n",
      "Setup time: 2.00e-004s\n",
      "----------------------------------------------------------------------------\n",
      " Iter | pri res | dua res | rel gap | pri obj | dua obj | kap/tau | time (s)\n",
      "----------------------------------------------------------------------------\n",
      "     0|2.40e+019 1.03e+019 3.83e-001 -4.24e+023 -1.89e+023 7.75e+021 6.68e-005 \n",
      "    20|3.07e-008 1.50e-007 1.04e-008 -1.77e+004 -1.77e+004 1.96e-012 9.18e-003 \n",
      "----------------------------------------------------------------------------\n",
      "Status: Solved\n",
      "Timing: Solve time: 9.21e-003s\n",
      "\tLin-sys: avg # CG iterations: 1.52, avg solve time: 2.07e-006s\n",
      "\tCones: avg projection time: 3.52e-007s\n",
      "\tAcceleration: avg step time: 4.28e-004s\n",
      "----------------------------------------------------------------------------\n",
      "Error metrics:\n",
      "dist(s, K) = 5.3309e-015, dist(y, K*) = 0.0000e+000, s'y/|s||y| = 9.8841e-018\n",
      "primal res: |Ax + s - b|_2 / (1 + |b|_2) = 3.0681e-008\n",
      "dual res:   |A'y + c|_2 / (1 + |c|_2) = 1.4965e-007\n",
      "rel gap:    |c'x + b'y| / (1 + |c'x| + |b'y|) = 1.0413e-008\n",
      "----------------------------------------------------------------------------\n",
      "c'x = -17700.0008, -b'y = -17700.0004\n",
      "============================================================================\n"
     ]
    }
   ],
   "source": [
    "using SCS\n",
    "\n",
    "println(\"Time to solve this model using SCS: \")\n",
    "set_optimizer(m, SCS.Optimizer)\n",
    "@time(optimize!(m))\n",
    "\n",
    "println(\"Build \", value(ft), \" football trophies.\")\n",
    "println(\"Build \", value(st), \" soccer trophies.\")\n",
    "println(\"Total profit will be \\$\", objective_value(m))\n",
    "\n",
    "# some solvers (including SCS), output a lot of information along with the solution.\n",
    "# it can be helpful to explicitly print some desired solution components, as we've done here."
   ]
  },
  {
   "cell_type": "code",
   "execution_count": null,
   "id": "298b3730",
   "metadata": {},
   "outputs": [],
   "source": []
  }
 ],
 "metadata": {
  "kernelspec": {
   "display_name": "Julia 1.6.1",
   "language": "julia",
   "name": "julia-1.6"
  },
  "language_info": {
   "file_extension": ".jl",
   "mimetype": "application/julia",
   "name": "julia",
   "version": "1.6.1"
  }
 },
 "nbformat": 4,
 "nbformat_minor": 5
}
