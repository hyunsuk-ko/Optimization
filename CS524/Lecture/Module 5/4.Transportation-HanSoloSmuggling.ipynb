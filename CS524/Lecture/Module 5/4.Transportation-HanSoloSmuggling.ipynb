{
 "cells": [
  {
   "cell_type": "markdown",
   "id": "edd5f1b1",
   "metadata": {},
   "source": [
    "## A Transportation Problem Example -- Han Solo's Smuggling"
   ]
  },
  {
   "cell_type": "code",
   "execution_count": 1,
   "id": "6e23987a",
   "metadata": {},
   "outputs": [
    {
     "name": "stdout",
     "output_type": "stream",
     "text": [
      "3×3 Named Matrix{Int64}\n",
      "Sites ╲ Crimelords │ :J  :P  :S\n",
      "───────────────────┼───────────\n",
      "1                  │  4  20   0\n",
      "2                  │  3   0   9\n",
      "3                  │  9   0   0\n",
      "\n",
      "Total cost will be $5896.0\n",
      "Coin0506I Presolve 6 (0) rows, 9 (0) columns and 18 (0) elements\n",
      "Clp0006I 0  Obj 0 Primal inf 89.999999 (6)\n",
      "Clp0006I 6  Obj 5896\n",
      "Clp0000I Optimal - objective value 5896\n",
      "Clp0032I Optimal objective 5896 - 6 iterations time 0.012\n"
     ]
    }
   ],
   "source": [
    "using JuMP, Clp, NamedArrays\n",
    "\n",
    "# create index sets of storage sites and crime lords\n",
    "sites = [ 1,  2,  3]\n",
    "crimelords = [:J, :P, :S]\n",
    "\n",
    "# cost to ship from storage site to crime lord\n",
    "cost_per_haul = 4\n",
    "# NOTE: either 4 or 4*2 would be correct (with or without return trip -- just scales objective)\n",
    "\n",
    "# create a NamedArray with indices of Sites (rows) and Crime Lords (columns). Elements are distances.\n",
    "dist = NamedArray( [50 25 84; 12 75 18;64 39 70], (sites,crimelords), (\"Sites\",\"Crimelords\") )\n",
    "# each site has a max # of deliveries\n",
    "supply = Dict(zip( sites, [24 12 9] ))\n",
    "# each crime lord has a required number of deliveries\n",
    "demand = Dict(zip( crimelords, [16 20 9] ))\n",
    "\n",
    "m = Model(Clp.Optimizer)\n",
    "\n",
    "@variable(m, x[sites,crimelords] >= 0) # x[i,j] is number of deliveries sent from site i to crimelord j\n",
    "\n",
    "@constraint(m, sup[i in sites], sum(x[i,j] for j in crimelords) == supply[i] )   # supply constraint\n",
    "@constraint(m, dem[j in crimelords], sum(x[i,j] for i in sites) == demand[j] )   # demand constraint\n",
    "\n",
    "# minimize transportation cost\n",
    "@objective(m, Min, cost_per_haul*sum( x[i,j]*dist[i,j] for i in sites, j in crimelords ) ) \n",
    "\n",
    "# solve this instance of the trasportation problem\n",
    "optimize!(m)\n",
    "\n",
    "# print out a nicely formatted solution\n",
    "solution = NamedArray( \n",
    "    Int[value(x[i,j]) for i in sites, j in crimelords], \n",
    "    (sites,crimelords), \n",
    "    (\"Sites\",\"Crimelords\") \n",
    ")\n",
    "println( solution )\n",
    "println()\n",
    "println(\"Total cost will be \\$\", objective_value(m))"
   ]
  },
  {
   "cell_type": "code",
   "execution_count": 3,
   "id": "bdeafa38",
   "metadata": {},
   "outputs": [
    {
     "data": {
      "text/plain": [
       "3×3 Named Matrix{Int64}\n",
       "Sites ╲ Crimelords │ :J  :P  :S\n",
       "───────────────────┼───────────\n",
       "1                  │ 50  25  84\n",
       "2                  │ 12  75  18\n",
       "3                  │ 64  39  70"
      ]
     },
     "execution_count": 3,
     "metadata": {},
     "output_type": "execute_result"
    }
   ],
   "source": [
    "dist"
   ]
  },
  {
   "cell_type": "code",
   "execution_count": 4,
   "id": "15441423",
   "metadata": {},
   "outputs": [
    {
     "data": {
      "text/plain": [
       "Dict{Int64, Int64} with 3 entries:\n",
       "  2 => 12\n",
       "  3 => 9\n",
       "  1 => 24"
      ]
     },
     "execution_count": 4,
     "metadata": {},
     "output_type": "execute_result"
    }
   ],
   "source": [
    "supply"
   ]
  },
  {
   "cell_type": "code",
   "execution_count": 5,
   "id": "bd073c2b",
   "metadata": {},
   "outputs": [
    {
     "data": {
      "text/plain": [
       "Dict{Symbol, Int64} with 3 entries:\n",
       "  :P => 20\n",
       "  :J => 16\n",
       "  :S => 9"
      ]
     },
     "execution_count": 5,
     "metadata": {},
     "output_type": "execute_result"
    }
   ],
   "source": [
    "demand"
   ]
  },
  {
   "cell_type": "code",
   "execution_count": 6,
   "id": "66d2738f",
   "metadata": {},
   "outputs": [
    {
     "data": {
      "text/plain": [
       "2-dimensional DenseAxisArray{VariableRef,2,...} with index sets:\n",
       "    Dimension 1, [1, 2, 3]\n",
       "    Dimension 2, [:J, :P, :S]\n",
       "And data, a 3×3 Matrix{VariableRef}:\n",
       " x[1,J]  x[1,P]  x[1,S]\n",
       " x[2,J]  x[2,P]  x[2,S]\n",
       " x[3,J]  x[3,P]  x[3,S]"
      ]
     },
     "execution_count": 6,
     "metadata": {},
     "output_type": "execute_result"
    }
   ],
   "source": [
    "x"
   ]
  },
  {
   "cell_type": "code",
   "execution_count": 7,
   "id": "e3fc8e50",
   "metadata": {},
   "outputs": [
    {
     "data": {
      "text/plain": [
       "1-dimensional DenseAxisArray{ConstraintRef{Model, MathOptInterface.ConstraintIndex{MathOptInterface.ScalarAffineFunction{Float64}, MathOptInterface.EqualTo{Float64}}, ScalarShape},1,...} with index sets:\n",
       "    Dimension 1, [1, 2, 3]\n",
       "And data, a 3-element Vector{ConstraintRef{Model, MathOptInterface.ConstraintIndex{MathOptInterface.ScalarAffineFunction{Float64}, MathOptInterface.EqualTo{Float64}}, ScalarShape}}:\n",
       " sup[1] : x[1,J] + x[1,P] + x[1,S] == 24.0\n",
       " sup[2] : x[2,J] + x[2,P] + x[2,S] == 12.0\n",
       " sup[3] : x[3,J] + x[3,P] + x[3,S] == 9.0"
      ]
     },
     "execution_count": 7,
     "metadata": {},
     "output_type": "execute_result"
    }
   ],
   "source": [
    "sup"
   ]
  },
  {
   "cell_type": "code",
   "execution_count": 8,
   "id": "ce91d4b6",
   "metadata": {},
   "outputs": [
    {
     "data": {
      "text/plain": [
       "1-dimensional DenseAxisArray{ConstraintRef{Model, MathOptInterface.ConstraintIndex{MathOptInterface.ScalarAffineFunction{Float64}, MathOptInterface.EqualTo{Float64}}, ScalarShape},1,...} with index sets:\n",
       "    Dimension 1, [:J, :P, :S]\n",
       "And data, a 3-element Vector{ConstraintRef{Model, MathOptInterface.ConstraintIndex{MathOptInterface.ScalarAffineFunction{Float64}, MathOptInterface.EqualTo{Float64}}, ScalarShape}}:\n",
       " dem[J] : x[1,J] + x[2,J] + x[3,J] == 16.0\n",
       " dem[P] : x[1,P] + x[2,P] + x[3,P] == 20.0\n",
       " dem[S] : x[1,S] + x[2,S] + x[3,S] == 9.0"
      ]
     },
     "execution_count": 8,
     "metadata": {},
     "output_type": "execute_result"
    }
   ],
   "source": [
    "dem"
   ]
  },
  {
   "cell_type": "code",
   "execution_count": null,
   "id": "90fb94f4",
   "metadata": {},
   "outputs": [],
   "source": []
  }
 ],
 "metadata": {
  "kernelspec": {
   "display_name": "Julia 1.6.1",
   "language": "julia",
   "name": "julia-1.6"
  },
  "language_info": {
   "file_extension": ".jl",
   "mimetype": "application/julia",
   "name": "julia",
   "version": "1.6.1"
  }
 },
 "nbformat": 4,
 "nbformat_minor": 5
}
