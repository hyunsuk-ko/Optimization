{
 "cells": [
  {
   "cell_type": "markdown",
   "id": "5b9ad166",
   "metadata": {},
   "source": [
    "## A Multiperiod Planning Example -- ShoeCo"
   ]
  },
  {
   "cell_type": "code",
   "execution_count": 1,
   "id": "5294b0ea",
   "metadata": {},
   "outputs": [
    {
     "name": "stdout",
     "output_type": "stream",
     "text": [
      "Build [3750.0 3750.0 2000.0 1000.0] shoes each month\n",
      "Use [93.75000000000001 93.75 50.0 50.00000000000001] workers each month\n",
      "Use [0.0 0.0 0.0 0.0] overtime hours each month\n",
      "Cost: 692500.0\n",
      "Coin0506I Presolve 15 (-1) rows, 23 (-1) columns and 44 (-2) elements\n",
      "Clp0006I 0  Obj 37500 Primal inf 6746.7591 (5)\n",
      "Clp0006I 13  Obj 692500\n",
      "Clp0000I Optimal - objective value 692500\n",
      "Coin0511I After Postsolve, objective 692500, infeasibilities - dual 0 (0), primal 0 (0)\n",
      "Clp0032I Optimal objective 692500 - 13 iterations time 0.012, Presolve 0.00\n"
     ]
    }
   ],
   "source": [
    "using JuMP, Clp\n",
    "\n",
    "d = [3000 5000 2000 1000] # monthly shoe demand\n",
    "\n",
    "m = Model(Clp.Optimizer)\n",
    "\n",
    "@variable(m, x[1:4] >= 0) # shoes produced in month t=1,2,3,4\n",
    "@variable(m, w[1:4] >= 0) # workers employed in month t=1,2,3,4\n",
    "@variable(m, o[1:4] >= 0) # overtime hours in month t=1,2,3,4\n",
    "@variable(m, h[1:4] >= 0) # workers hired in month t=1,2,3,4\n",
    "@variable(m, f[1:4] >= 0) # workers fired in month t=1,2,3,4\n",
    "@variable(m, i[1:4] >= 0) # shoes in inventory in month t=1,2,3,4\n",
    "\n",
    "# our objective is to minimize the total cost\n",
    "@objective(m, Min, 15*sum(x) + 1500 * sum(w) + 16 * sum(o) + 1600 * sum(h) + 2000 * sum(f) + 3 * sum(i))\n",
    "\n",
    "# constraint on how many total hours are available for shoe production\n",
    "@constraint(m, production[t in 1:4], 4*x[t] <= 160 * w[t] + o[t])\n",
    "# ovetime cannot be greater than 20 * number of workers in each month\n",
    "@constraint(m, overtime[t in 1:4], o[t] <= 20 * w[t])\n",
    "\n",
    "# INVENTORY BALANCE #\n",
    "# amount we start with + amount we produce = amount we sell + amount that carreis to next month\n",
    "\n",
    "# balance inventory in the first month\n",
    "@constraint(m, inv_bal_init, 500 + x[1] == d[1] + i[1])\n",
    "# balance inventory for all months after the first\n",
    "@constraint(m, inv_bal[t in 2:4], i[t-1] + x[t] == d[t] + i[t])\n",
    "\n",
    "# WORKER BALANCE #\n",
    "# number currently employed - number fired + number hired = number of workers available\n",
    "\n",
    "# balance workers in first month\n",
    "@constraint(m, work_bal_init, 100 - f[1] + h[1] == w[1])\n",
    "# balance workers in all months after the first\n",
    "@constraint(m, work_Bal[t in 2:4], w[t-1] - f[t] + h[t] == w[t])\n",
    "\n",
    "# solve this instance of ShoeCo and print relevant solution details\n",
    "optimize!(m)\n",
    "\n",
    "# note we use the Array function to turn the list of solution values into an Array.\n",
    "# this helps with solution legibility.\n",
    "println(\"Build \", Array(value.(x')), \" shoes each month\")\n",
    "println(\"Use \", Array(value.(w')), \" workers each month\")\n",
    "println(\"Use \", Array(value.(o')), \" overtime hours each month\")\n",
    "println(\"Cost: \", objective_value(m))"
   ]
  },
  {
   "cell_type": "code",
   "execution_count": null,
   "id": "75fcb5ab",
   "metadata": {},
   "outputs": [],
   "source": []
  }
 ],
 "metadata": {
  "kernelspec": {
   "display_name": "Julia 1.6.1",
   "language": "julia",
   "name": "julia-1.6"
  },
  "language_info": {
   "file_extension": ".jl",
   "mimetype": "application/julia",
   "name": "julia",
   "version": "1.6.1"
  }
 },
 "nbformat": 4,
 "nbformat_minor": 5
}
