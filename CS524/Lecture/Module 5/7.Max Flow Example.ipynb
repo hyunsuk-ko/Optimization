{
 "cells": [
  {
   "cell_type": "markdown",
   "id": "12426237",
   "metadata": {},
   "source": [
    "## Max Flow Problem Example"
   ]
  },
  {
   "cell_type": "code",
   "execution_count": 1,
   "id": "dc4da361",
   "metadata": {},
   "outputs": [
    {
     "name": "stdout",
     "output_type": "stream",
     "text": [
      "Max flow: 15.0\n",
      "Flow on each arc: \n",
      "0-1: 7.0\n",
      "0-2: 8.0\n",
      "1-2: 2.0\n",
      "1-3: 5.0\n",
      "2-1: 0.0\n",
      "2-4: 10.0\n",
      "3-2: 0.0\n",
      "3-4: 2.0\n",
      "3-5: 3.0\n",
      "4-3: 0.0\n",
      "4-5: 12.0\n",
      "Dummy: 15.0\n",
      "Coin0506I Presolve 5 (-13) rows, 11 (-1) columns and 22 (-14) elements\n",
      "Clp0006I 0  Obj 0 Dual inf 1.999998 (2)\n",
      "Clp0006I 7  Obj -15\n",
      "Clp0000I Optimal - objective value -15\n",
      "Coin0511I After Postsolve, objective -15, infeasibilities - dual 0 (0), primal 0 (0)\n",
      "Clp0032I Optimal objective -15 - 7 iterations time 0.022, Presolve 0.01\n"
     ]
    }
   ],
   "source": [
    "using JuMP, Clp\n",
    "\n",
    "# incidence matrix\n",
    "# rows are nodes, columns are arcs, entries represent whether arc enters(-1) exits(1)\n",
    "\n",
    "# 해당 row의 node가 -> 앞쪽에 있으면 -1, 뒤쪽에 있으면 1\n",
    "#   01 02 12 13 21 24 32 34 35 43 45 \n",
    "A = [1  1  0  0  0  0  0  0  0  0  0     # 0\n",
    "    -1  0  1  1 -1  0  0  0  0  0  0     # 1\n",
    "     0 -1 -1  0  1  1 -1  0  0  0  0     # 2\n",
    "     0  0  0  -1 0  0  1  1  1 -1  0     # 3\n",
    "     0  0  0  0  0 -1  0 -1  0  1  1     # 4\n",
    "     0  0  0  0  0  0  0  0 -1  0 -1]    # 5\n",
    "\n",
    "# add a dummy arc from sink (5) to source (0)\n",
    "A = [A [-1;0;0;0;0;1]]\n",
    "\n",
    "# supply and demand are all 0\n",
    "b = [0, 0, 0, 0, 0, 0]\n",
    "\n",
    "# costs should be 0 on every arc except dummy\n",
    "# -1 on dummy arc\n",
    "c = [0, 0, 0, 0, 0, 0, 0, 0, 0, 0, 0, -1]\n",
    "\n",
    "# capacities on each arc. make dummy arc capacity \"big enough\"\n",
    "cap = [10, 8, 5, 5, 4, 10, 7, 6, 3, 10, 14, 100]\n",
    "\n",
    "m = Model(Clp.Optimizer)\n",
    "\n",
    "# variables representing how much flow we send on each arc\n",
    "@variable(m, x[1:12] >= 0)\n",
    "\n",
    "# constraints balance flow into and out of each node\n",
    "@constraint(m, A*x .== b)\n",
    "\n",
    "# don't exceed arc capacity\n",
    "@constraint(m, x .<= cap)\n",
    "\n",
    "# minimize the total cost (same as maximizing flow through dummy arc)\n",
    "@objective(m, Min, sum(c[i]*x[i] for i in 1:12))\n",
    "\n",
    "# solve this instance of the max flow problem\n",
    "optimize!(m)\n",
    "\n",
    "# print out the flow on each arc along with total flow\n",
    "println(\"Max flow: \", -objective_value(m)) # need to take negative\n",
    "println(\"Flow on each arc: \")\n",
    "println(\"0-1: \", value(x[1]))\n",
    "println(\"0-2: \", value(x[2]))\n",
    "println(\"1-2: \", value(x[3]))\n",
    "println(\"1-3: \", value(x[4]))\n",
    "println(\"2-1: \", value(x[5]))\n",
    "println(\"2-4: \", value(x[6]))\n",
    "println(\"3-2: \", value(x[7]))\n",
    "println(\"3-4: \", value(x[8]))\n",
    "println(\"3-5: \", value(x[9]))\n",
    "println(\"4-3: \", value(x[10]))\n",
    "println(\"4-5: \", value(x[11]))\n",
    "println(\"Dummy: \", value(x[12]))"
   ]
  },
  {
   "cell_type": "code",
   "execution_count": 2,
   "id": "570aa50c",
   "metadata": {},
   "outputs": [
    {
     "data": {
      "text/plain": [
       "6×12 Matrix{Int64}:\n",
       "  1   1   0   0   0   0   0   0   0   0   0  -1\n",
       " -1   0   1   1  -1   0   0   0   0   0   0   0\n",
       "  0  -1  -1   0   1   1  -1   0   0   0   0   0\n",
       "  0   0   0  -1   0   0   1   1   1  -1   0   0\n",
       "  0   0   0   0   0  -1   0  -1   0   1   1   0\n",
       "  0   0   0   0   0   0   0   0  -1   0  -1   1"
      ]
     },
     "execution_count": 2,
     "metadata": {},
     "output_type": "execute_result"
    }
   ],
   "source": [
    "A"
   ]
  },
  {
   "cell_type": "code",
   "execution_count": null,
   "id": "c04d80f8",
   "metadata": {},
   "outputs": [],
   "source": []
  }
 ],
 "metadata": {
  "kernelspec": {
   "display_name": "Julia 1.6.1",
   "language": "julia",
   "name": "julia-1.6"
  },
  "language_info": {
   "file_extension": ".jl",
   "mimetype": "application/julia",
   "name": "julia",
   "version": "1.6.1"
  }
 },
 "nbformat": 4,
 "nbformat_minor": 5
}
