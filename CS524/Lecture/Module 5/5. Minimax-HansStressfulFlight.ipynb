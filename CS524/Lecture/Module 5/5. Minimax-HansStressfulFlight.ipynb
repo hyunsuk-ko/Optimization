{
 "cells": [
  {
   "cell_type": "markdown",
   "id": "659d60cd",
   "metadata": {},
   "source": [
    "## A Minimax Example - Han's Stressful Flight"
   ]
  },
  {
   "cell_type": "code",
   "execution_count": 1,
   "id": "d712867c",
   "metadata": {},
   "outputs": [
    {
     "name": "stdout",
     "output_type": "stream",
     "text": [
      "Coin0506I Presolve 2 (-3) rows, 2 (0) columns and 4 (-4) elements\n",
      "Clp0006I 0  Obj 8.7 Primal inf 2.2135934 (1)\n",
      "Clp0006I 2  Obj 9.25\n",
      "Clp0000I Optimal - objective value 9.25\n",
      "Coin0511I After Postsolve, objective 9.25, infeasibilities - dual 0 (0), primal 0 (0)\n",
      "Clp0032I Optimal objective 9.25 - 2 iterations time 0.002, Presolve 0.00\n"
     ]
    },
    {
     "ename": "LoadError",
     "evalue": "syntax: missing comma or ) in argument list",
     "output_type": "error",
     "traceback": [
      "syntax: missing comma or ) in argument list",
      "",
      "Stacktrace:",
      " [1] top-level scope",
      "   @ In[1]:24",
      " [2] eval",
      "   @ .\\boot.jl:360 [inlined]",
      " [3] include_string(mapexpr::typeof(REPL.softscope), mod::Module, code::String, filename::String)",
      "   @ Base .\\loading.jl:1094"
     ]
    }
   ],
   "source": [
    "using JuMP, Clp\n",
    "\n",
    "m = Model(Clp.Optimizer)\n",
    "\n",
    "@variable(m, x >= 0) # variable representing the speed ship flies\n",
    "@variable(m, t) # epigraph trick variable\n",
    "# note that no non-negative restriction\n",
    "# t could theoretically be negative\n",
    "# be careful of this when introducing a new variable\n",
    "\n",
    "@objective(m, Min, t)\n",
    "\n",
    "@constraint(m, t >= -2*x + 20) # t must be >= L's stress function\n",
    "@constraint(m, t >= -(1/10)*x + 10)\n",
    "@constraint(m, t >= x + 1.75)\n",
    "@constraint(m, x >= 6)\n",
    "@constraint(m, x <= 12)\n",
    "\n",
    "# solve this instance of the minimax problem\n",
    "optimize!(m)\n",
    "\n",
    "# to help make the output neater, we cound round the solution variable\n",
    "# also note we should each person's stress function to calculate their stress at the final speed\n",
    "println(\"Han should fly at \", round(value(x)m digits=2), \" parsecs/min\")\n",
    "println(\"Leia's stress: \", -2*round(value(x),digits=2) + 20)\n",
    "println(\"Chewbacca's stress: \", -(1/10)*value(x) + 10)\n",
    "println(\"C-3P0's stress: \", round(value(x),digits=2) + 1.75)\n",
    "\n",
    "# the value of t tells us what the minimized maximum stress level is\n",
    "println(\"Minimax stress level: \", round(value(t),digits=2))"
   ]
  },
  {
   "cell_type": "code",
   "execution_count": null,
   "id": "df03f7bc",
   "metadata": {},
   "outputs": [],
   "source": []
  }
 ],
 "metadata": {
  "kernelspec": {
   "display_name": "Julia 1.6.1",
   "language": "julia",
   "name": "julia-1.6"
  },
  "language_info": {
   "file_extension": ".jl",
   "mimetype": "application/julia",
   "name": "julia",
   "version": "1.6.1"
  }
 },
 "nbformat": 4,
 "nbformat_minor": 5
}
