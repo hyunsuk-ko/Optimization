{
 "cells": [
  {
   "cell_type": "markdown",
   "id": "2ad7e80d",
   "metadata": {},
   "source": [
    "## A Longest Path Example -- Building a Stadium"
   ]
  },
  {
   "cell_type": "code",
   "execution_count": 19,
   "id": "8b0ce45e",
   "metadata": {},
   "outputs": [
    {
     "name": "stdout",
     "output_type": "stream",
     "text": [
      "Earliest completion time: 64.0 weeks\n",
      "Start task S in week 0.0\n",
      "Start task 1 in week 0.0\n",
      "Start task 2 in week 2.0\n",
      "Start task 3 in week 18.0\n",
      "Start task 4 in week 18.0\n",
      "Start task 5 in week 27.0\n",
      "Start task 6 in week 37.0\n",
      "Start task 7 in week 26.0\n",
      "Start task 8 in week 44.0\n",
      "Start task 9 in week 43.0\n",
      "Start task 10 in week 59.0\n",
      "Start task 11 in week 43.0\n",
      "Start task 12 in week 52.0\n",
      "Start task 13 in week 28.0\n",
      "Start task 14 in week 18.0\n",
      "Start task 15 in week 60.0\n",
      "Start task 16 in week 46.0\n",
      "Start task 17 in week 54.0\n",
      "Start task 18 in week 63.0\n",
      "Start task F in week 64.0\n",
      "Coin0506I Presolve 0 (-28) rows, 0 (-20) columns and 0 (-56) elements\n",
      "Clp3002W Empty problem - 0 rows, 0 columns and 0 elements\n",
      "Clp0000I Optimal - objective value 64\n",
      "Coin0511I After Postsolve, objective 64, infeasibilities - dual 0 (0), primal 0 (0)\n",
      "Clp0032I Optimal objective 64 - 0 iterations time 0.002, Presolve 0.00\n"
     ]
    }
   ],
   "source": [
    "using JuMP, Clp\n",
    "\n",
    "### DATA ###\n",
    "\n",
    "# task list\n",
    "T = [:S, :1, :2, :3, :4, :5, :6, :7, :8, :9, :10, :11, :12, :13, :14, :15, :16, :17, :18, :F]\n",
    "\n",
    "# each task has a duration\n",
    "duration = Dict(zip(T,[0,2,16,9,8,10,6,2,2,9,5,3,2,1,7,4,3,9,1,0]))\n",
    "\n",
    "# the easiest way to build the model is to create a list of predecessors for each task.\n",
    "# there are multiple was to do this -- I like to assign \"1\" to a pair of tasks (i,j) if\n",
    "# task j is preceeded by task i. you can see how i use this in the model below.\n",
    "using NamedArrays\n",
    "\n",
    "# initialize a table of which tasks precede others with all 0s\n",
    "zero_list = zeros(20,20)\n",
    "pred_list = NamedArray(zero_list, (T,T), (\"Task\", \"Task\"))\n",
    "\n",
    "# assign value of \"1\" if second task is preceded by fist task. \n",
    "# i recommend automating this list creation -- it's very easy to make mistakes\n",
    "# when doing it by hand!\n",
    "pred_list[1,2] = 1;  pred_list[2,3] = 1;  pred_list[2,4] = 1;  pred_list[3,5] = 1; pred_list[4,6] = 1; pred_list[5,6] = 1;\n",
    "pred_list[4,7] = 1; pred_list[6,8] = 1; pred_list[4,9] = 1; pred_list[6,9] = 1; pred_list[4,10] = 1; pred_list[6,11] = 1;\n",
    "pred_list[9,12] = 1; pred_list[7,13] = 1; pred_list[2,14] = 1; pred_list[4,15] = 1; pred_list[14,15] = 1; \n",
    "pred_list[8,16] = 1; pred_list[11,16] = 1; pred_list[14,16] = 1; pred_list[12,17] = 1; pred_list[17,18] = 1; \n",
    "pred_list[10,20] = 1; pred_list[13,20] = 1; pred_list[15,20] = 1; pred_list[16,20] = 1; pred_list[18,20] = 1\n",
    "\n",
    "\n",
    "### MODEL ###\n",
    "\n",
    "m = Model(Clp.Optimizer)\n",
    "\n",
    "@variable(m, x[T] >= 0) # variable for the time we begin each task\n",
    "\n",
    "# create constraint for every pair of tasks (i,j) where task j is preceded by task i\n",
    "@constraint(m,constr[i in T, j in T; pred_list[i,j] == 1], x[j] >= x[i] + duration[i])\n",
    "\n",
    "\n",
    "# minimize the time we start task F (finish project)\n",
    "@objective(m, Min, x[:F])\n",
    "\n",
    "# solve this isntance of the longest path problem\n",
    "optimize!(m)\n",
    "\n",
    "# record the value of the variables\n",
    "xsol = value.(x)\n",
    "\n",
    "println(\"Earliest completion time: \", objective_value(m), \" weeks\")\n",
    "for i in T\n",
    "    println(\"Start task \", i , \" in week \", xsol[i])\n",
    "end"
   ]
  },
  {
   "cell_type": "code",
   "execution_count": 20,
   "id": "b207e19b",
   "metadata": {},
   "outputs": [
    {
     "data": {
      "text/plain": [
       "Dict{Any, Int64} with 20 entries:\n",
       "  5  => 10\n",
       "  16 => 3\n",
       "  7  => 2\n",
       "  :F => 0\n",
       "  12 => 2\n",
       "  8  => 2\n",
       "  17 => 9\n",
       "  1  => 2\n",
       "  4  => 8\n",
       "  6  => 6\n",
       "  13 => 1\n",
       "  2  => 16\n",
       "  10 => 5\n",
       "  11 => 3\n",
       "  9  => 9\n",
       "  15 => 4\n",
       "  :S => 0\n",
       "  18 => 1\n",
       "  14 => 7\n",
       "  3  => 9"
      ]
     },
     "execution_count": 20,
     "metadata": {},
     "output_type": "execute_result"
    }
   ],
   "source": [
    "duration"
   ]
  },
  {
   "cell_type": "code",
   "execution_count": 21,
   "id": "c5e84e94",
   "metadata": {},
   "outputs": [
    {
     "data": {
      "text/plain": [
       "20×20 Named Matrix{Float64}\n",
       "Task ╲ Task │  :S    1    2    3    4    5  …   14   15   16   17   18   :F\n",
       "────────────┼──────────────────────────────────────────────────────────────\n",
       ":S          │ 0.0  1.0  0.0  0.0  0.0  0.0  …  0.0  0.0  0.0  0.0  0.0  0.0\n",
       "1           │ 0.0  0.0  1.0  1.0  0.0  0.0     0.0  0.0  0.0  0.0  0.0  0.0\n",
       "2           │ 0.0  0.0  0.0  0.0  1.0  0.0     0.0  0.0  0.0  0.0  0.0  0.0\n",
       "3           │ 0.0  0.0  0.0  0.0  0.0  1.0     1.0  0.0  0.0  0.0  0.0  0.0\n",
       "4           │ 0.0  0.0  0.0  0.0  0.0  1.0     0.0  0.0  0.0  0.0  0.0  0.0\n",
       "5           │ 0.0  0.0  0.0  0.0  0.0  0.0     0.0  0.0  0.0  0.0  0.0  0.0\n",
       "6           │ 0.0  0.0  0.0  0.0  0.0  0.0     0.0  0.0  0.0  0.0  0.0  0.0\n",
       "7           │ 0.0  0.0  0.0  0.0  0.0  0.0     0.0  1.0  0.0  0.0  0.0  0.0\n",
       "8           │ 0.0  0.0  0.0  0.0  0.0  0.0     0.0  0.0  0.0  0.0  0.0  0.0\n",
       "9           │ 0.0  0.0  0.0  0.0  0.0  0.0     0.0  0.0  0.0  0.0  0.0  1.0\n",
       "10          │ 0.0  0.0  0.0  0.0  0.0  0.0     0.0  1.0  0.0  0.0  0.0  0.0\n",
       "11          │ 0.0  0.0  0.0  0.0  0.0  0.0     0.0  0.0  1.0  0.0  0.0  0.0\n",
       "12          │ 0.0  0.0  0.0  0.0  0.0  0.0     0.0  0.0  0.0  0.0  0.0  1.0\n",
       "13          │ 0.0  0.0  0.0  0.0  0.0  0.0     1.0  1.0  0.0  0.0  0.0  0.0\n",
       "14          │ 0.0  0.0  0.0  0.0  0.0  0.0     0.0  0.0  0.0  0.0  0.0  1.0\n",
       "15          │ 0.0  0.0  0.0  0.0  0.0  0.0     0.0  0.0  0.0  0.0  0.0  1.0\n",
       "16          │ 0.0  0.0  0.0  0.0  0.0  0.0     0.0  0.0  0.0  1.0  0.0  0.0\n",
       "17          │ 0.0  0.0  0.0  0.0  0.0  0.0     0.0  0.0  0.0  0.0  0.0  1.0\n",
       "18          │ 0.0  0.0  0.0  0.0  0.0  0.0     0.0  0.0  0.0  0.0  0.0  0.0\n",
       ":F          │ 0.0  0.0  0.0  0.0  0.0  0.0  …  0.0  0.0  0.0  0.0  0.0  0.0"
      ]
     },
     "execution_count": 21,
     "metadata": {},
     "output_type": "execute_result"
    }
   ],
   "source": [
    "pred_list"
   ]
  },
  {
   "cell_type": "code",
   "execution_count": 22,
   "id": "e3bef91e",
   "metadata": {},
   "outputs": [
    {
     "data": {
      "text/plain": [
       "1-dimensional DenseAxisArray{VariableRef,1,...} with index sets:\n",
       "    Dimension 1, Any[:S, 1, 2, 3, 4, 5, 6, 7, 8, 9, 10, 11, 12, 13, 14, 15, 16, 17, 18, :F]\n",
       "And data, a 20-element Vector{VariableRef}:\n",
       " x[S]\n",
       " x[1]\n",
       " x[2]\n",
       " x[3]\n",
       " x[4]\n",
       " x[5]\n",
       " x[6]\n",
       " x[7]\n",
       " x[8]\n",
       " x[9]\n",
       " x[10]\n",
       " x[11]\n",
       " x[12]\n",
       " x[13]\n",
       " x[14]\n",
       " x[15]\n",
       " x[16]\n",
       " x[17]\n",
       " x[18]\n",
       " x[F]"
      ]
     },
     "execution_count": 22,
     "metadata": {},
     "output_type": "execute_result"
    }
   ],
   "source": [
    "x"
   ]
  },
  {
   "cell_type": "code",
   "execution_count": 23,
   "id": "8319a656",
   "metadata": {},
   "outputs": [
    {
     "data": {
      "text/plain": [
       "JuMP.Containers.SparseAxisArray{ConstraintRef{Model, MathOptInterface.ConstraintIndex{MathOptInterface.ScalarAffineFunction{Float64}, MathOptInterface.GreaterThan{Float64}}, ScalarShape}, 2, Tuple{Any, Any}} with 28 entries:\n",
       "  [16, F ]  =  constr[16,F] : -x[16] + x[F] >= 3.0\n",
       "  [6, 8  ]  =  constr[6,8] : -x[6] + x[8] >= 6.0\n",
       "  [1, 2  ]  =  constr[1,2] : -x[1] + x[2] >= 2.0\n",
       "  [4, 6  ]  =  constr[4,6] : -x[4] + x[6] >= 8.0\n",
       "  [9, 12 ]  =  constr[9,12] : -x[9] + x[12] >= 9.0\n",
       "  [8, 16 ]  =  constr[8,16] : -x[8] + x[16] >= 2.0\n",
       "  [14, 15]  =  constr[14,15] : -x[14] + x[15] >= 7.0\n",
       "  [4, 7  ]  =  constr[4,7] : -x[4] + x[7] >= 8.0\n",
       "  [5, 6  ]  =  constr[5,6] : -x[5] + x[6] >= 10.0\n",
       "  [6, 9  ]  =  constr[6,9] : -x[6] + x[9] >= 6.0\n",
       "            ⋮\n",
       "  [3, 5  ]  =  constr[3,5] : -x[3] + x[5] >= 9.0\n",
       "  [13, F ]  =  constr[13,F] : -x[13] + x[F] >= 1.0\n",
       "  [15, F ]  =  constr[15,F] : -x[15] + x[F] >= 4.0\n",
       "  [2, 4  ]  =  constr[2,4] : -x[2] + x[4] >= 16.0\n",
       "  [2, 14 ]  =  constr[2,14] : -x[2] + x[14] >= 16.0\n",
       "  [10, F ]  =  constr[10,F] : -x[10] + x[F] >= 5.0\n",
       "  [S, 2  ]  =  constr[S,2] : -x[S] + x[2] >= 0.0\n",
       "  [12, 17]  =  constr[12,17] : -x[12] + x[17] >= 2.0\n",
       "  [18, F ]  =  constr[18,F] : -x[18] + x[F] >= 1.0\n",
       "  [17, 18]  =  constr[17,18] : -x[17] + x[18] >= 9.0\n",
       "  [4, 9  ]  =  constr[4,9] : -x[4] + x[9] >= 8.0"
      ]
     },
     "execution_count": 23,
     "metadata": {},
     "output_type": "execute_result"
    }
   ],
   "source": [
    "constr"
   ]
  },
  {
   "cell_type": "code",
   "execution_count": 24,
   "id": "26c9f4a1",
   "metadata": {},
   "outputs": [
    {
     "data": {
      "text/plain": [
       "1-dimensional DenseAxisArray{Float64,1,...} with index sets:\n",
       "    Dimension 1, Any[:S, 1, 2, 3, 4, 5, 6, 7, 8, 9, 10, 11, 12, 13, 14, 15, 16, 17, 18, :F]\n",
       "And data, a 20-element Vector{Float64}:\n",
       "  0.0\n",
       "  0.0\n",
       "  2.0\n",
       " 18.0\n",
       " 18.0\n",
       " 27.0\n",
       " 37.0\n",
       " 26.0\n",
       " 44.0\n",
       " 43.0\n",
       " 59.0\n",
       " 43.0\n",
       " 52.0\n",
       " 28.0\n",
       " 18.0\n",
       " 60.0\n",
       " 46.0\n",
       " 54.0\n",
       " 63.0\n",
       " 64.0"
      ]
     },
     "execution_count": 24,
     "metadata": {},
     "output_type": "execute_result"
    }
   ],
   "source": [
    "xsol"
   ]
  },
  {
   "cell_type": "code",
   "execution_count": 25,
   "id": "2f9c242b",
   "metadata": {},
   "outputs": [
    {
     "name": "stdout",
     "output_type": "stream",
     "text": [
      "Task 1 is on the critical path.\n",
      "Task 2 is on the critical path.\n",
      "Task 3 is on the critical path.\n",
      "Task 5 is on the critical path.\n",
      "Task 6 is on the critical path.\n",
      "Task 9 is on the critical path.\n",
      "Task 12 is on the critical path.\n",
      "Task 17 is on the critical path.\n",
      "Task 18 is on the critical path.\n"
     ]
    }
   ],
   "source": [
    "for i in T\n",
    "    for j in T\n",
    "        if pred_list[i,j] == 1\n",
    "            # this is equivalent to saying \"if there is no slack in the constraint\"\n",
    "            if dual(constr[i,j]) > 0\n",
    "                # then we know this pair of tasks is on the critical path. \n",
    "                # to avoid redundancy, we'll only print the predecessor (could also do successor)\n",
    "                println(\"Task \", i, \" is on the critical path.\")\n",
    "            end\n",
    "        end\n",
    "    end\n",
    "end"
   ]
  },
  {
   "cell_type": "code",
   "execution_count": null,
   "id": "157e49a4",
   "metadata": {},
   "outputs": [],
   "source": []
  }
 ],
 "metadata": {
  "kernelspec": {
   "display_name": "Julia 1.6.1",
   "language": "julia",
   "name": "julia-1.6"
  },
  "language_info": {
   "file_extension": ".jl",
   "mimetype": "application/julia",
   "name": "julia",
   "version": "1.6.1"
  }
 },
 "nbformat": 4,
 "nbformat_minor": 5
}
