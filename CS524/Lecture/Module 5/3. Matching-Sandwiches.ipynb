{
 "cells": [
  {
   "cell_type": "markdown",
   "id": "caf93343",
   "metadata": {},
   "source": [
    "## Assigning children to sandwiches"
   ]
  },
  {
   "cell_type": "code",
   "execution_count": 2,
   "id": "a9b3dce1",
   "metadata": {},
   "outputs": [
    {
     "name": "stdout",
     "output_type": "stream",
     "text": [
      "Coin0506I Presolve 10 (0) rows, 25 (0) columns and 50 (0) elements\n",
      "Clp0006I 0  Obj 0 Primal inf 9.999999 (10) Dual inf 117 (21)\n",
      "Clp0006I 7  Obj 41\n",
      "Clp0000I Optimal - objective value 41\n",
      "Clp0032I Optimal objective 41 - 7 iterations time 0.002\n"
     ]
    },
    {
     "data": {
      "text/plain": [
       "5×5 Named Matrix{Float64}\n",
       "sandwich ╲ kid │   :Akhil  :Brianna   :Carlos    :Dinah   :Edward\n",
       "───────────────┼─────────────────────────────────────────────────\n",
       ":PBJ           │      0.0       0.0       0.0       1.0       0.0\n",
       ":Turkey        │      1.0       0.0       0.0       0.0       0.0\n",
       ":Ham           │      0.0       0.0       1.0       0.0       0.0\n",
       ":Veggie        │      0.0       1.0       0.0       0.0       0.0\n",
       ":Tuna          │      0.0       0.0       0.0       0.0       1.0"
      ]
     },
     "execution_count": 2,
     "metadata": {},
     "output_type": "execute_result"
    }
   ],
   "source": [
    "using JuMP, Clp, NamedArrays\n",
    "\n",
    "# create the index sets (sandwich types, children)\n",
    "sandwiches = [ :PBJ, :Turkey, :Ham, :Veggie, :Tuna ]\n",
    "kids = [ :Akhil, :Brianna, :Carlos, :Dinah, :Edward ]\n",
    "\n",
    "# create the input matrix for a NamedArray that is indexed by sandwiches (rows)\n",
    "# and children (columns) with elements showing the preferences\n",
    "prefs = [ 2 9 1 9 6\n",
    "        9 0 5 5 8\n",
    "        7 0 10 2 6\n",
    "        0 9 8 1 7\n",
    "        4 1 4 0 4]\n",
    "\n",
    "# create a NamedArray showing each child's sandwich preferences\n",
    "preferences = NamedArray( prefs, (sandwiches,kids), (\"sandwich\",\"kid\"))\n",
    "\n",
    "m = Model(Clp.Optimizer)\n",
    "\n",
    "# variable for assigning each sandwich to a child\n",
    "# NOTE: This is just a normal variable! We don't need to specify \"binary\"\n",
    "# in this case. We'll see why soon.\n",
    "@variable(m, x[sandwiches,kids] >= 0)\n",
    "\n",
    "# each kid gets exactly 1 sandwich\n",
    "@constraint(m, a[j in kids], sum(x[i,j] for i in sandwiches) == 1 ) \n",
    "# 각 사람 별로 NamedArray의 column 별로 더한 것.\n",
    "\n",
    "# each sandwich gets assigned to one kid\n",
    "@constraint(m, b[i in sandwiches], sum(x[i,j] for j in kids) == 1 )\n",
    "# 각 샌드위치 별로 NamedArray의 row 별로 더한 것.\n",
    "\n",
    "# maximize overall preference\n",
    "@objective(m, Max, sum( x[i,j]*preferences[i,j] for i in sandwiches, j in kids ) )\n",
    "\n",
    "optimize!(m)\n",
    "\n",
    "# we can print the solution to a NamedArray for ease of understanding\n",
    "assignment = NamedArray( [ (value(x[i,j])) for i in sandwiches, j in kids ], (sandwiches, kids), (\"sandwich\",\"kid\"))"
   ]
  },
  {
   "cell_type": "code",
   "execution_count": 7,
   "id": "0492f0e5",
   "metadata": {},
   "outputs": [
    {
     "data": {
      "text/plain": [
       "5×5 Named Matrix{Int64}\n",
       "sandwich ╲ kid │   :Akhil  :Brianna   :Carlos    :Dinah   :Edward\n",
       "───────────────┼─────────────────────────────────────────────────\n",
       ":PBJ           │        2         9         1         9         6\n",
       ":Turkey        │        9         0         5         5         8\n",
       ":Ham           │        7         0        10         2         6\n",
       ":Veggie        │        0         9         8         1         7\n",
       ":Tuna          │        4         1         4         0         4"
      ]
     },
     "execution_count": 7,
     "metadata": {},
     "output_type": "execute_result"
    }
   ],
   "source": [
    "preferences"
   ]
  },
  {
   "cell_type": "code",
   "execution_count": 4,
   "id": "15b4c714",
   "metadata": {},
   "outputs": [
    {
     "data": {
      "text/plain": [
       "2-dimensional DenseAxisArray{VariableRef,2,...} with index sets:\n",
       "    Dimension 1, [:PBJ, :Turkey, :Ham, :Veggie, :Tuna]\n",
       "    Dimension 2, [:Akhil, :Brianna, :Carlos, :Dinah, :Edward]\n",
       "And data, a 5×5 Matrix{VariableRef}:\n",
       " x[PBJ,Akhil]     x[PBJ,Brianna]     …  x[PBJ,Dinah]     x[PBJ,Edward]\n",
       " x[Turkey,Akhil]  x[Turkey,Brianna]     x[Turkey,Dinah]  x[Turkey,Edward]\n",
       " x[Ham,Akhil]     x[Ham,Brianna]        x[Ham,Dinah]     x[Ham,Edward]\n",
       " x[Veggie,Akhil]  x[Veggie,Brianna]     x[Veggie,Dinah]  x[Veggie,Edward]\n",
       " x[Tuna,Akhil]    x[Tuna,Brianna]       x[Tuna,Dinah]    x[Tuna,Edward]"
      ]
     },
     "execution_count": 4,
     "metadata": {},
     "output_type": "execute_result"
    }
   ],
   "source": [
    "x"
   ]
  },
  {
   "cell_type": "code",
   "execution_count": 5,
   "id": "930f1c06",
   "metadata": {},
   "outputs": [
    {
     "data": {
      "text/plain": [
       "1-dimensional DenseAxisArray{ConstraintRef{Model, MathOptInterface.ConstraintIndex{MathOptInterface.ScalarAffineFunction{Float64}, MathOptInterface.EqualTo{Float64}}, ScalarShape},1,...} with index sets:\n",
       "    Dimension 1, [:Akhil, :Brianna, :Carlos, :Dinah, :Edward]\n",
       "And data, a 5-element Vector{ConstraintRef{Model, MathOptInterface.ConstraintIndex{MathOptInterface.ScalarAffineFunction{Float64}, MathOptInterface.EqualTo{Float64}}, ScalarShape}}:\n",
       " a[Akhil] : x[PBJ,Akhil] + x[Turkey,Akhil] + x[Ham,Akhil] + x[Veggie,Akhil] + x[Tuna,Akhil] == 1.0\n",
       " a[Brianna] : x[PBJ,Brianna] + x[Turkey,Brianna] + x[Ham,Brianna] + x[Veggie,Brianna] + x[Tuna,Brianna] == 1.0\n",
       " a[Carlos] : x[PBJ,Carlos] + x[Turkey,Carlos] + x[Ham,Carlos] + x[Veggie,Carlos] + x[Tuna,Carlos] == 1.0\n",
       " a[Dinah] : x[PBJ,Dinah] + x[Turkey,Dinah] + x[Ham,Dinah] + x[Veggie,Dinah] + x[Tuna,Dinah] == 1.0\n",
       " a[Edward] : x[PBJ,Edward] + x[Turkey,Edward] + x[Ham,Edward] + x[Veggie,Edward] + x[Tuna,Edward] == 1.0"
      ]
     },
     "execution_count": 5,
     "metadata": {},
     "output_type": "execute_result"
    }
   ],
   "source": [
    "a"
   ]
  },
  {
   "cell_type": "code",
   "execution_count": 6,
   "id": "dc36ec11",
   "metadata": {},
   "outputs": [
    {
     "data": {
      "text/plain": [
       "1-dimensional DenseAxisArray{ConstraintRef{Model, MathOptInterface.ConstraintIndex{MathOptInterface.ScalarAffineFunction{Float64}, MathOptInterface.EqualTo{Float64}}, ScalarShape},1,...} with index sets:\n",
       "    Dimension 1, [:PBJ, :Turkey, :Ham, :Veggie, :Tuna]\n",
       "And data, a 5-element Vector{ConstraintRef{Model, MathOptInterface.ConstraintIndex{MathOptInterface.ScalarAffineFunction{Float64}, MathOptInterface.EqualTo{Float64}}, ScalarShape}}:\n",
       " b[PBJ] : x[PBJ,Akhil] + x[PBJ,Brianna] + x[PBJ,Carlos] + x[PBJ,Dinah] + x[PBJ,Edward] == 1.0\n",
       " b[Turkey] : x[Turkey,Akhil] + x[Turkey,Brianna] + x[Turkey,Carlos] + x[Turkey,Dinah] + x[Turkey,Edward] == 1.0\n",
       " b[Ham] : x[Ham,Akhil] + x[Ham,Brianna] + x[Ham,Carlos] + x[Ham,Dinah] + x[Ham,Edward] == 1.0\n",
       " b[Veggie] : x[Veggie,Akhil] + x[Veggie,Brianna] + x[Veggie,Carlos] + x[Veggie,Dinah] + x[Veggie,Edward] == 1.0\n",
       " b[Tuna] : x[Tuna,Akhil] + x[Tuna,Brianna] + x[Tuna,Carlos] + x[Tuna,Dinah] + x[Tuna,Edward] == 1.0"
      ]
     },
     "execution_count": 6,
     "metadata": {},
     "output_type": "execute_result"
    }
   ],
   "source": [
    "b"
   ]
  },
  {
   "cell_type": "markdown",
   "id": "32630fc8",
   "metadata": {},
   "source": [
    "Notice that even though we didn't tell the variable it had to be binary, it is in the solution! Hmm....\n",
    "\n",
    "Interesting side-note: Being near the middle on all the rankings caused Edward to end up with his least-favorite sandwich! Let's see what happens if he changes his ratings to be more extreme:"
   ]
  },
  {
   "cell_type": "code",
   "execution_count": 8,
   "id": "942a5bd7",
   "metadata": {},
   "outputs": [
    {
     "name": "stdout",
     "output_type": "stream",
     "text": [
      "Coin0506I Presolve 10 (0) rows, 25 (0) columns and 50 (0) elements\n",
      "Clp0006I 0  Obj 0 Primal inf 9.999999 (10) Dual inf 117 (21)\n",
      "Clp0006I 7  Obj 41\n",
      "Clp0000I Optimal - objective value 41\n",
      "Clp0032I Optimal objective 41 - 7 iterations time 0.002\n"
     ]
    },
    {
     "data": {
      "text/plain": [
       "5×5 Named Matrix{Float64}\n",
       "sandwich ╲ kid │   :Akhil  :Brianna   :Carlos    :Dinah   :Edward\n",
       "───────────────┼─────────────────────────────────────────────────\n",
       ":PBJ           │      0.0       0.0       0.0       1.0       0.0\n",
       ":Turkey        │      0.0       0.0       0.0       0.0       1.0\n",
       ":Ham           │      0.0       0.0       1.0       0.0       0.0\n",
       ":Veggie        │      0.0       1.0       0.0       0.0       0.0\n",
       ":Tuna          │      1.0       0.0       0.0       0.0       0.0"
      ]
     },
     "execution_count": 8,
     "metadata": {},
     "output_type": "execute_result"
    }
   ],
   "source": [
    "prefs = [ 2 9 1 9 6\n",
    "        9 0 5 5 9\n",
    "        7 0 10 2 6\n",
    "        0 9 8 1 7\n",
    "        4 1 4 0 3]\n",
    "\n",
    "preferences = NamedArray( prefs, (sandwiches,kids), (\"sandwich\",\"kid\"))\n",
    "\n",
    "m = Model(Clp.Optimizer)\n",
    "\n",
    "# NOTE: This is just a normal variable! We don't need to specify \"binary\"\n",
    "# in this case. We'll see why soon.\n",
    "@variable(m, x[sandwiches,kids] >= 0)\n",
    "\n",
    "# each kid gets exactly 1 sandwich\n",
    "@constraint(m, a[j in kids], sum(x[i,j] for i in sandwiches) == 1 )\n",
    "\n",
    "# each sandwich gets assigned to one kid\n",
    "@constraint(m, b[i in sandwiches], sum(x[i,j] for j in kids) == 1 )\n",
    "\n",
    "@objective(m, Max, sum( x[i,j]*preferences[i,j] for i in sandwiches, j in kids ) )\n",
    "\n",
    "optimize!(m)\n",
    "\n",
    "assignment = NamedArray( [ (value(x[i,j])) for i in sandwiches, j in kids ], (sandwiches, kids), (\"sandwich\",\"kid\"))"
   ]
  },
  {
   "cell_type": "code",
   "execution_count": null,
   "id": "854d6801",
   "metadata": {},
   "outputs": [],
   "source": []
  }
 ],
 "metadata": {
  "kernelspec": {
   "display_name": "Julia 1.6.1",
   "language": "julia",
   "name": "julia-1.6"
  },
  "language_info": {
   "file_extension": ".jl",
   "mimetype": "application/julia",
   "name": "julia",
   "version": "1.6.1"
  }
 },
 "nbformat": 4,
 "nbformat_minor": 5
}
