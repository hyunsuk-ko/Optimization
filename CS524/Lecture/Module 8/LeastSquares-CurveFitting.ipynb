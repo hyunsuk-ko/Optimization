{
 "cells": [
  {
   "cell_type": "markdown",
   "id": "a70b1874",
   "metadata": {},
   "source": [
    "### Least Squares Example: Polynomial Regression\n",
    "\n",
    "Suppose we've been given the following 9 input / output data pairs:"
   ]
  },
  {
   "cell_type": "code",
   "execution_count": 1,
   "id": "b56f3164",
   "metadata": {},
   "outputs": [
    {
     "data": {
      "image/png": "[encoded data removed]",
      "text/plain": [
       "Figure(PyObject <Figure size 800x400 with 1 Axes>)"
      ]
     },
     "metadata": {},
     "output_type": "display_data"
    }
   ],
   "source": [
    "# define (x,y) coordinates of the points\n",
    "x = [ 1, 2, 3, 4, 5, 6, 7, 8, 9 ]\n",
    "y = [ 1, 3, 0, 1, 2, 4, 6, 7, 5 ]\n",
    "\n",
    "# We can use the PyPlot package to graph these points\n",
    "\n",
    "using PyPlot\n",
    "figure(figsize=(8,4))\n",
    "plot(x,y,\"r.\",markersize=10)\n",
    "axis([0,10,-2,8])\n",
    "grid()"
   ]
  },
  {
   "cell_type": "markdown",
   "id": "40a546eb",
   "metadata": {},
   "source": [
    "These points look like they might fit a polynomial of degree 3 (highest order term is x3). Let's try fitting a polynomial to these points:"
   ]
  },
  {
   "cell_type": "code",
   "execution_count": 2,
   "id": "63a59090",
   "metadata": {},
   "outputs": [
    {
     "data": {
      "text/plain": [
       "9×4 Matrix{Float64}:\n",
       "   1.0   1.0  1.0  1.0\n",
       "   8.0   4.0  2.0  1.0\n",
       "  27.0   9.0  3.0  1.0\n",
       "  64.0  16.0  4.0  1.0\n",
       " 125.0  25.0  5.0  1.0\n",
       " 216.0  36.0  6.0  1.0\n",
       " 343.0  49.0  7.0  1.0\n",
       " 512.0  64.0  8.0  1.0\n",
       " 729.0  81.0  9.0  1.0"
      ]
     },
     "metadata": {},
     "output_type": "display_data"
    }
   ],
   "source": [
    "# order of polynomial to use\n",
    "k = 3\n",
    "\n",
    "# fit using a function of the form f(x) = p x^k + q x^(k-1) + ... + rk x + s\n",
    "\n",
    "# our matrix A will need to have m rows, where m is the number of data points\n",
    "m = length(x)\n",
    "\n",
    "# initialize A to be a matrix of zeros with m rows and k+1 columns\n",
    "# (there will be coefficients on x^3, x^2, x^1, and x^0, so 4 columns)\n",
    "A = zeros(m, k+1)\n",
    "\n",
    "# now loop over each row and each column\n",
    "# the ij'th entry of A will be x_i ^ (k+1 - j)\n",
    "# e.g., row 1 column 1: x_1 ^ (4-1) = x_1 ^ 3\n",
    "\n",
    "for i = 1:m\n",
    "    for j = 1:k+1\n",
    "        A[i,j] = x[i] ^ (k+1-j)\n",
    "    end\n",
    "end\n",
    "display(A)"
   ]
  },
  {
   "cell_type": "markdown",
   "id": "b1cf5eb4",
   "metadata": {},
   "source": [
    "Let's call our variables / polynomial coefficients \"u\" to avoid notation confusion. Now our goal is to try to solve Au = y to find the values of u that best match our data.\n",
    "\n",
    "We'll solve our least squares problem in a few different ways. First, we'll solve it as an optimization problem where we minimize the 2-norm of Au - y:"
   ]
  },
  {
   "cell_type": "code",
   "execution_count": 3,
   "id": "a6b75b9f",
   "metadata": {},
   "outputs": [
    {
     "name": "stdout",
     "output_type": "stream",
     "text": [
      "Academic license - for non-commercial use only - expires 2022-07-06\r\n",
      "Gurobi Optimizer version 9.1.2 build v9.1.2rc0 (win64)\r\n",
      "Thread count: 6 physical cores, 12 logical processors, using up to 12 threads\r\n",
      "Optimize a model with 0 rows, 4 columns and 0 nonzeros\r\n",
      "Model fingerprint: 0x95879da2\r\n",
      "Model has 10 quadratic objective terms\r\n",
      "Coefficient statistics:\r\n",
      "  Matrix range     [0e+00, 0e+00]\r\n",
      "  Objective range  [6e+01, 2e+04]\r\n",
      "  QObjective range [2e+01, 2e+06]\r\n",
      "  Bounds range     [0e+00, 0e+00]\r\n",
      "  RHS range        [0e+00, 0e+00]\r\n",
      "Presolve time: 0.00s\r\n",
      "Presolved: 0 rows, 4 columns, 0 nonzeros\r\n",
      "Presolved model has 10 quadratic objective terms\r\n",
      "Ordering time: 0.00s\r\n",
      "\r\n",
      "Barrier statistics:\r\n",
      " Free vars  : 7\r\n",
      " AA' NZ     : 3.000e+00\r\n",
      " Factor NZ  : 6.000e+00\r\n",
      " Factor Ops : 1.400e+01 (less than 1 second per iteration)\r\n",
      " Threads    : 1\r\n",
      "\r\n",
      "                  Objective                Residual\r\n",
      "Iter       Primal          Dual         Primal    Dual     Compl     Time\r\n",
      "   0   1.41000000e+02  1.41000000e+02  0.00e+00 2.10e+04  0.00e+00     0s\r\n",
      "   1   1.30820860e+02  1.40795460e+02  1.91e-08 2.02e+04  0.00e+00     0s\r\n",
      "   2   1.23702082e+02  1.40391765e+02  4.23e-08 1.96e+04  0.00e+00     0s\r\n",
      "   3   1.19316210e+02  1.40026218e+02  9.30e-08 1.92e+04  0.00e+00     0s\r\n",
      "   4   1.15162190e+02  1.39592107e+02  2.03e-07 1.88e+04  0.00e+00     0s\r\n",
      "   5   9.42277529e+01  1.35896198e+02  4.26e-07 1.69e+04  0.00e+00     0s\r\n",
      "   6   9.22687810e+00  9.22605616e+00  1.17e-07 1.69e-02  0.00e+00     0s\r\n",
      "   7   9.22582965e+00  9.22582973e+00  3.47e-12 1.69e-08  0.00e+00     0s\r\n",
      "\r\n",
      "Barrier solved model in 7 iterations and 0.00 seconds\r\n",
      "Optimal objective 9.22582965e+00\r\n",
      "\r\n",
      "\r\n",
      "User-callback calls 49, time in user-callback 0.00 sec\r\n",
      "[-0.06481481481100655, 1.0425685425632636, -4.083092833069389, 5.206349206321174]\n"
     ]
    }
   ],
   "source": [
    "using JuMP, Gurobi\n",
    "\n",
    "m = Model(Gurobi.Optimizer)\n",
    "\n",
    "@variable(m, u[1:k+1])\n",
    "@objective(m, Min, sum((y - A*u).^2))\n",
    "\n",
    "optimize!(m)\n",
    "uopt = value.(u)\n",
    "println(uopt)"
   ]
  },
  {
   "cell_type": "markdown",
   "id": "2c884520",
   "metadata": {},
   "source": [
    "Next, we'll solve it using the normal equations:"
   ]
  },
  {
   "cell_type": "code",
   "execution_count": 4,
   "id": "af4aef46",
   "metadata": {},
   "outputs": [
    {
     "data": {
      "text/plain": [
       "4-element Vector{Float64}:\n",
       " -0.0648148148148171\n",
       "  1.0425685425686062\n",
       " -4.083092833093076\n",
       "  5.2063492063495005"
      ]
     },
     "execution_count": 4,
     "metadata": {},
     "output_type": "execute_result"
    }
   ],
   "source": [
    "inv(A'*A)*(A'*y)"
   ]
  },
  {
   "cell_type": "markdown",
   "id": "57a3c2bb",
   "metadata": {},
   "source": [
    "Finally, we'll use the backslash operator:"
   ]
  },
  {
   "cell_type": "code",
   "execution_count": 5,
   "id": "a30392e9",
   "metadata": {},
   "outputs": [
    {
     "data": {
      "text/plain": [
       "4-element Vector{Float64}:\n",
       " -0.06481481481481505\n",
       "  1.0425685425685463\n",
       " -4.0830928330928495\n",
       "  5.206349206349228"
      ]
     },
     "execution_count": 5,
     "metadata": {},
     "output_type": "execute_result"
    }
   ],
   "source": [
    "A\\y"
   ]
  },
  {
   "cell_type": "markdown",
   "id": "36d6c301",
   "metadata": {},
   "source": [
    "As you can see, we got the same answer using all three approaches! Now let's plot our data versus our polynomial to see how we did. We can also calculate the 2-norm of Au - y to find the magnitude of the \"error\" between our data and polynomial."
   ]
  },
  {
   "cell_type": "code",
   "execution_count": 6,
   "id": "786967b8",
   "metadata": {},
   "outputs": [
    {
     "data": {
      "image/png": "[encoded data removed]",
      "text/plain": [
       "Figure(PyObject <Figure size 800x400 with 1 Axes>)"
      ]
     },
     "metadata": {},
     "output_type": "display_data"
    }
   ],
   "source": [
    "using PyPlot\n",
    "\n",
    "# we'll graph 100 points along our polynomial between x = 0 and x=10\n",
    "npts = 100\n",
    "x_poly = range(0, stop=10, length=npts)\n",
    "# initialize the output vector with all zeros\n",
    "y_poly = zeros(npts)\n",
    "\n",
    "# calculate what each output should be using our polynomial\n",
    "for j = 1:npts\n",
    "    y_poly[j] = uopt[1] * x_poly[j]^3 + uopt[2] * x_poly[j]^2 + uopt[3] * x_poly[j] + uopt[4]\n",
    "end\n",
    "\n",
    "# graph the observed data against the point\n",
    "figure(figsize=(8,4))\n",
    "plot( x, y, \"r.\", markersize=10)\n",
    "plot( x_poly, y_poly, \"b-\")\n",
    "axis([0,10,-2,8])\n",
    "grid()"
   ]
  },
  {
   "cell_type": "code",
   "execution_count": null,
   "id": "7716b919",
   "metadata": {},
   "outputs": [],
   "source": [
    "# total error ||Ax - y||\n",
    "y_calc = zeros(9)\n",
    "for j = 1:9\n",
    "    y_calc[j] = uopt[1] * x[j]^3 + uopt[2] * x[j]^2 + uopt[3] * x[j] + uopt[4]\n",
    "end\n",
    "\n",
    "using LinearAlgebra\n",
    "err = norm(y_calc - y)\n",
    "println(\"Total 2-norm error: \", err)"
   ]
  }
 ],
 "metadata": {
  "kernelspec": {
   "display_name": "Julia 1.6.1",
   "language": "julia",
   "name": "julia-1.6"
  },
  "language_info": {
   "file_extension": ".jl",
   "mimetype": "application/julia",
   "name": "julia",
   "version": "1.6.1"
  }
 },
 "nbformat": 4,
 "nbformat_minor": 5
}
