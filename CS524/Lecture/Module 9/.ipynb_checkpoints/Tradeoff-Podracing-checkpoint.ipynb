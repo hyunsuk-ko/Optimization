{
 "cells": [
  {
   "cell_type": "markdown",
   "id": "d13caf60",
   "metadata": {},
   "source": [
    "## Tradeoff Problem Example: Podracing\n",
    "\n",
    "\n",
    "We are entered in the race of the century! Just like Anakin Skywalker, we built our own podracer and are about to begin the race. The official informs us that there are certain “checkpoints” that we need to hit. Our goal is to save as much fuel as possible so we don’t run out during the race.\n",
    "\n",
    "Before we start the race, we must figure out the appropriate thruster burns at each instant.\n",
    "\n",
    "- We'll (approximately) model thrust as a 2D vector containing info on direction change\n",
    "\n",
    "- Amount of fuel we consume when we use thrusters is calculated as L2 norm of thrust vector\n",
    "\n",
    "- Suppose the officials aren’t watching the checkpoints very closely, so long as we “sort of” hit the checkpoints we’ll be okay"
   ]
  },
  {
   "cell_type": "code",
   "execution_count": 19,
   "id": "cbff9ff0",
   "metadata": {},
   "outputs": [
    {
     "data": {
      "text/plain": [
       "4-element Vector{Int64}:\n",
       "  1\n",
       " 20\n",
       " 50\n",
       " 60"
      ]
     },
     "execution_count": 19,
     "metadata": {},
     "output_type": "execute_result"
    }
   ],
   "source": [
    "T"
   ]
  },
  {
   "cell_type": "code",
   "execution_count": 13,
   "id": "8ca57111",
   "metadata": {},
   "outputs": [
    {
     "data": {
      "text/plain": [
       "2×60 Matrix{Float64}:\n",
       " 1.0  1.0  1.02459  1.07254  1.1426   1.23352  …  2.15805  1.60233   1.04237\n",
       " 1.0  1.0  1.02843  1.08229  1.15857  1.25428     0.71268  0.843225  0.976154"
      ]
     },
     "execution_count": 13,
     "metadata": {},
     "output_type": "execute_result"
    }
   ],
   "source": [
    "x"
   ]
  },
  {
   "cell_type": "code",
   "execution_count": 20,
   "id": "7a2e0b18",
   "metadata": {},
   "outputs": [
    {
     "name": "stdout",
     "output_type": "stream",
     "text": [
      "[1.024594039596167, 1.0284287016908094]\n",
      "\n",
      "[4.002456821817297, 2.9535144420725423]\n",
      "\n",
      "[5.9427531412311, 0.04032343523581149]\n",
      "\n",
      "[1.0423738971147334, 0.976153933347551]\n"
     ]
    }
   ],
   "source": [
    "println(x[:,3]) # location at 3 seconds\n",
    "println()\n",
    "println(x[:,20]) # location at 20 seconds\n",
    "println()\n",
    "println(x[:,50]) # location at 50 seconds\n",
    "println()\n",
    "println(x[:,60]) # location at 60 seconds"
   ]
  },
  {
   "cell_type": "code",
   "execution_count": 24,
   "id": "b8288a45",
   "metadata": {},
   "outputs": [
    {
     "ename": "LoadError",
     "evalue": "UndefVarError: v not defined",
     "output_type": "error",
     "traceback": [
      "UndefVarError: v not defined",
      "",
      "Stacktrace:",
      " [1] top-level scope",
      "   @ :0",
      " [2] eval",
      "   @ .\\boot.jl:360 [inlined]",
      " [3] include_string(mapexpr::typeof(REPL.softscope), mod::Module, code::String, filename::String)",
      "   @ Base .\\loading.jl:1094"
     ]
    }
   ],
   "source": [
    "v"
   ]
  },
  {
   "cell_type": "code",
   "execution_count": 32,
   "id": "ffcb3872",
   "metadata": {},
   "outputs": [],
   "source": [
    "using JuMP, Gurobi\n",
    "\n",
    "k = 4              # number of checkpoints\n",
    "T = zeros(Int,k)   # vector of timepoints\n",
    "xw = zeros(2,k)    # vector of checkpoint locations\n",
    "\n",
    "# times at which we must hit checkpoints\n",
    "T[1] = 1\n",
    "T[2] = 20\n",
    "T[3] = 50\n",
    "T[4] = 60\n",
    "\n",
    "# define checkpoints' x and y coords\n",
    "way_xy = [ 1   4   6   1\n",
    "           1   3   0   1 ]\n",
    "\n",
    "# create a function that takes a value for λ then solves and reports solution of tradeoff problem\n",
    "function solveOpt(λ)\n",
    "    \n",
    "    m = Model(Gurobi.Optimizer) # need Gurobi since it's nonlinear\n",
    "    set_optimizer_attribute(m,\"OutputFlag\",0)\n",
    "    @variable(m, x[1:2,1:T[k]])  # position at each time / 2 x 60 matrix\n",
    "    @variable(m, v[1:2,1:T[k]])  # velocity at each time / 2 x 60 matrix\n",
    "    @variable(m, u[1:2,1:T[k]])  # thruster input at each time / 2 x 60 matrix\n",
    "\n",
    "    # satisfy the dynamics (with zero initial velocity)\n",
    "    @constraint(m, v[:,1] .== [0;0]) # intial velocity\n",
    "    @constraint(m, x[:,1] .== [1;1]) # initial starting point\n",
    "    \n",
    "    # model system dynamics\n",
    "    for t in 1:T[k]-1 # 1 ~ 59\n",
    "        @constraint(m, x[:,t+1] .== x[:,t] + v[:,t])\n",
    "        @constraint(m, v[:,t+1] .== v[:,t] + u[:,t])\n",
    "    end\n",
    "\n",
    "    ### COMMENT AND UNCOMMENT(only when setting λ = 0 below) DEPENDING ON WHETHER CHECKPOINTS ARE CONSTRAINTS ###\n",
    "    # hit all the checkpoints\n",
    "#     for i in 1:k\n",
    "#         @constraint(m, x[:,T[i]] .== way_xy[:,i])\n",
    "#     end\n",
    "\n",
    "    # hit the first checkpoint only\n",
    "     for i in 1\n",
    "         @constraint(m, x[:,T[i]] .== way_xy[:,i])\n",
    "     end\n",
    "    \n",
    "    # minimize 2-norm (THIS IS LEAST-SQUARES)\n",
    "    @objective(m, Min, sum(u.^2) + λ*sum( (x[:,T]-way_xy).^2 ) )\n",
    "    optimize!(m)\n",
    "    y1 = value(sum(u.^2))\n",
    "    y2 = value(sum( (x[:,T]-way_xy).^2  ))\n",
    "    xopt = value.(x)\n",
    "    \n",
    "    return (y1,y2,xopt)\n",
    "end\n",
    ";"
   ]
  },
  {
   "cell_type": "markdown",
   "id": "30141376",
   "metadata": {},
   "source": [
    "### Plot Model Output\n",
    "\n",
    "We can visualize our solution by plotting the output below:"
   ]
  },
  {
   "cell_type": "code",
   "execution_count": 34,
   "id": "9a2c338f",
   "metadata": {},
   "outputs": [
    {
     "data": {
      "image/png": "[encoded data removed]",
      "text/plain": [
       "Figure(PyObject <Figure size 1200x400 with 1 Axes>)"
      ]
     },
     "metadata": {},
     "output_type": "display_data"
    },
    {
     "name": "stdout",
     "output_type": "stream",
     "text": [
      "Academic license - for non-commercial use only - expires 2022-07-06\r\n"
     ]
    }
   ],
   "source": [
    "λ = 0.5 # choose a value for λ\n",
    "(y1x,y2x,x) = solveOpt(λ) # solve model with given λ\n",
    "\n",
    "# plot the solution against the checkpoints\n",
    "using PyPlot\n",
    "figure(figsize=(12,4))\n",
    "plot(x[1,:], x[2,:], \"b.-\", markersize=4)\n",
    "plot(x[1,:][T], x[2,:][T], \"b.\", markersize=12)\n",
    "plot(way_xy[1,:], way_xy[2,:], \"r.\", markersize=12)\n",
    "axis(\"equal\")\n",
    "axis((1.,8.,-.5,3.5));"
   ]
  },
  {
   "cell_type": "code",
   "execution_count": null,
   "id": "4342da56",
   "metadata": {},
   "outputs": [],
   "source": []
  }
 ],
 "metadata": {
  "kernelspec": {
   "display_name": "Julia 1.6.1",
   "language": "julia",
   "name": "julia-1.6"
  },
  "language_info": {
   "file_extension": ".jl",
   "mimetype": "application/julia",
   "name": "julia",
   "version": "1.6.1"
  }
 },
 "nbformat": 4,
 "nbformat_minor": 5
}
