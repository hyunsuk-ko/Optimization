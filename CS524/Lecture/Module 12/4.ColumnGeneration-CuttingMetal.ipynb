{
 "cells": [
  {
   "cell_type": "markdown",
   "id": "e719c4bb",
   "metadata": {},
   "source": [
    "## A Column Generation Example -- Metal Cutting\n",
    "\n",
    "Suppose we stock standard-length solid metal blocks that are used to craft android robots. The stock length is 19 meters.\n",
    "\n",
    "We have an order for\n",
    "\n",
    "- 12 lengths of 4m\n",
    "- 15 lengths of 5m\n",
    "- 22 lengths of 6m\n",
    "\n",
    "\n",
    "How should we cut our standard length metal blocks to meet the demand and minimize the number of standard lengths we need to use?"
   ]
  },
  {
   "cell_type": "code",
   "execution_count": 3,
   "id": "c257d53d",
   "metadata": {},
   "outputs": [
    {
     "name": "stdout",
     "output_type": "stream",
     "text": [
      "Academic license - for non-commercial use only - expires 2022-07-06\n",
      "  1.582436 seconds (10.52 k allocations: 1.215 MiB)\n"
     ]
    }
   ],
   "source": [
    "using JuMP, Gurobi\n",
    "\n",
    "scale = 10 # factor to increase/decrease size of problem\n",
    "\n",
    "N = 16*scale  # upper bound on number of pipes needed\n",
    "\n",
    "m = Model(Gurobi.Optimizer)\n",
    "set_optimizer_attribute(m,\"OutputFlag\",0)\n",
    "\n",
    "# times to cut each pattern 1,2,3 from given block 1 ~ N\n",
    "@variable(m, x[1:3, 1:N] >= 0, Int)\n",
    "\n",
    "# use block 1 ~ N\n",
    "@variable(m, z[1:N], Bin)\n",
    "\n",
    "for j = 1:N\n",
    "    # only use patterns that fit on the block\n",
    "    @constraint(m, 4 * x[1,j] + 5 * x[2,j] + 6 * x[3,j] <= 19)\n",
    "end\n",
    "\n",
    "# met demand for pattern 1\n",
    "@constraint(m, sum(x[1,j] for j=1:N) >= 12 * scale)\n",
    "# met demand for pattern 2\n",
    "@constraint(m, sum(x[2,j] for j=1:N) >= 15 * scale)\n",
    "# met demand for pattern 3\n",
    "@constraint(m, sum(x[3,j] for j=1:N) >= 22 * scale)\n",
    "\n",
    "for j = 1:N\n",
    "    # upper bounds on how many of each pattern can be used (0 if z = 0)\n",
    "    @constraint(m, x[1,j] <= 4 * z[j])\n",
    "    @constraint(m, x[2,j] <= 3 * z[j])\n",
    "    @constraint(m, x[3,j] <= 3 * z[j])\n",
    "end\n",
    "\n",
    "# symmetry-breaking\n",
    "for j = 1:N-1\n",
    "    @constraint(m, z[j] >= z[j+1])\n",
    "end\n",
    "\n",
    "# minimize the total blocks used\n",
    "@objective(m, Min, sum(z[j] for j=1:N))\n",
    "\n",
    "@time(optimize!(m))"
   ]
  },
  {
   "cell_type": "code",
   "execution_count": 4,
   "id": "2f58a148",
   "metadata": {},
   "outputs": [
    {
     "data": {
      "text/plain": [
       "3×160 Matrix{VariableRef}:\n",
       " x[1,1]  x[1,2]  x[1,3]  x[1,4]  x[1,5]  …  x[1,158]  x[1,159]  x[1,160]\n",
       " x[2,1]  x[2,2]  x[2,3]  x[2,4]  x[2,5]     x[2,158]  x[2,159]  x[2,160]\n",
       " x[3,1]  x[3,2]  x[3,3]  x[3,4]  x[3,5]     x[3,158]  x[3,159]  x[3,160]"
      ]
     },
     "execution_count": 4,
     "metadata": {},
     "output_type": "execute_result"
    }
   ],
   "source": [
    "x"
   ]
  },
  {
   "cell_type": "code",
   "execution_count": 5,
   "id": "ec810cb2",
   "metadata": {},
   "outputs": [
    {
     "data": {
      "text/plain": [
       "3×160 Matrix{Float64}:\n",
       " -0.0   1.0  2.0  -0.0  -0.0  -0.0  …  0.0  0.0  0.0  0.0  0.0  0.0  0.0\n",
       " -0.0   3.0  1.0  -0.0  -0.0  -0.0     0.0  0.0  0.0  0.0  0.0  0.0  0.0\n",
       "  3.0  -0.0  1.0   3.0   3.0   3.0     0.0  0.0  0.0  0.0  0.0  0.0  0.0"
      ]
     },
     "execution_count": 5,
     "metadata": {},
     "output_type": "execute_result"
    }
   ],
   "source": [
    "value.(x)"
   ]
  },
  {
   "cell_type": "code",
   "execution_count": null,
   "id": "3d7ddf19",
   "metadata": {},
   "outputs": [],
   "source": [
    "4 * x[1,j]"
   ]
  },
  {
   "cell_type": "code",
   "execution_count": 6,
   "id": "ce6005a3",
   "metadata": {},
   "outputs": [
    {
     "data": {
      "text/plain": [
       "160-element Vector{VariableRef}:\n",
       " z[1]\n",
       " z[2]\n",
       " z[3]\n",
       " z[4]\n",
       " z[5]\n",
       " z[6]\n",
       " z[7]\n",
       " z[8]\n",
       " z[9]\n",
       " z[10]\n",
       " z[11]\n",
       " z[12]\n",
       " z[13]\n",
       " ⋮\n",
       " z[149]\n",
       " z[150]\n",
       " z[151]\n",
       " z[152]\n",
       " z[153]\n",
       " z[154]\n",
       " z[155]\n",
       " z[156]\n",
       " z[157]\n",
       " z[158]\n",
       " z[159]\n",
       " z[160]"
      ]
     },
     "execution_count": 6,
     "metadata": {},
     "output_type": "execute_result"
    }
   ],
   "source": [
    "z"
   ]
  },
  {
   "cell_type": "code",
   "execution_count": 7,
   "id": "424cb342",
   "metadata": {},
   "outputs": [
    {
     "data": {
      "text/plain": [
       "160-element Vector{Float64}:\n",
       " 1.0\n",
       " 1.0\n",
       " 1.0\n",
       " 1.0\n",
       " 1.0\n",
       " 1.0\n",
       " 1.0\n",
       " 1.0\n",
       " 1.0\n",
       " 1.0\n",
       " 1.0\n",
       " 1.0\n",
       " 1.0\n",
       " ⋮\n",
       " 0.0\n",
       " 0.0\n",
       " 0.0\n",
       " 0.0\n",
       " 0.0\n",
       " 0.0\n",
       " 0.0\n",
       " 0.0\n",
       " 0.0\n",
       " 0.0\n",
       " 0.0\n",
       " 0.0"
      ]
     },
     "execution_count": 7,
     "metadata": {},
     "output_type": "execute_result"
    }
   ],
   "source": [
    "value.(z)"
   ]
  },
  {
   "cell_type": "markdown",
   "id": "538b6f53",
   "metadata": {},
   "source": [
    "## Second Modeling Approach (Column Generation)"
   ]
  },
  {
   "cell_type": "code",
   "execution_count": 3,
   "id": "4c3a5858",
   "metadata": {},
   "outputs": [
    {
     "name": "stdout",
     "output_type": "stream",
     "text": [
      "Academic license - for non-commercial use only - expires 2022-07-06\r\n",
      "  0.003687 seconds (771 allocations: 61.883 KiB)\n"
     ]
    }
   ],
   "source": [
    "using JuMP, Gurobi\n",
    "\n",
    "# all the columns:\n",
    "A = [0 0 1 0 2 1 2 3 4\n",
    "     0 1 0 2 1 2 2 1 0\n",
    "     3 2 2 1 1 0 0 0 0]\n",
    "\n",
    "scale = 1000000000\n",
    "\n",
    "m = Model(Gurobi.Optimizer)\n",
    "set_optimizer_attribute(m, \"OutputFlag\", 0)\n",
    "\n",
    "@variable(m, x[1:9] >= 0, Int)\n",
    "\n",
    "@constraint(m, A*x .>= [12;15;22]*scale)\n",
    "\n",
    "@objective(m, Min, sum(x))\n",
    "\n",
    "@time(optimize!(m))"
   ]
  },
  {
   "cell_type": "code",
   "execution_count": null,
   "id": "5f165c5a",
   "metadata": {},
   "outputs": [],
   "source": []
  }
 ],
 "metadata": {
  "kernelspec": {
   "display_name": "Julia 1.6.1",
   "language": "julia",
   "name": "julia-1.6"
  },
  "language_info": {
   "file_extension": ".jl",
   "mimetype": "application/julia",
   "name": "julia",
   "version": "1.6.1"
  }
 },
 "nbformat": 4,
 "nbformat_minor": 5
}
