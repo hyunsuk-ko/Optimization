{
 "cells": [
  {
   "cell_type": "markdown",
   "id": "5b845a2e",
   "metadata": {},
   "source": [
    "## A TSP Example\n",
    "\n",
    "Find the closed tour that visits all ten cities and has the minimum total length. Distances between pairs of cities are given in the table below:\n",
    "\n",
    "         ATL\t ORD\tDEN\t IAH\t LAX\tMIA\t JFK\tSFO\t SEA\tDCA\n",
    "    ATL\t 0\t587\t1212\t701\t1936\t604\t748\t2139\t2182\t543\n",
    "    ORD\t587\t0\t920\t940\t1745\t1188\t713\t1858\t1737\t597\n",
    "    DEN1 212\t920\t0\t879\t831\t1726\t1631\t949\t1021\t1494\n",
    "    IAH\t701\t940\t879\t0\t1379\t968\t1420\t1645\t1891\t1220\n",
    "    LAX\t1936\t1745\t831\t1379\t0\t2339\t2451\t347\t959\t2300\n",
    "    MIA\t604\t1188\t1726\t968\t2339\t0\t1092\t2594\t2734\t923\n",
    "    JFK\t748\t713\t1631\t1420\t2451\t1092\t0\t2571\t2408\t205\n",
    "    SFO\t2139\t1858\t949\t1645\t347\t2594\t2571\t0\t678\t2442\n",
    "    SEA\t2182\t1737\t1021\t1891\t959\t2734\t2408\t678\t0\t2329\n",
    "    DCA\t543\t597\t1494\t1220\t2300\t923\t205\t2442\t2329\t0"
   ]
  },
  {
   "cell_type": "code",
   "execution_count": 1,
   "id": "84428c32",
   "metadata": {},
   "outputs": [],
   "source": [
    "# Define the problem data (cities and costs)\n",
    "using JuMP, NamedArrays, Gurobi\n",
    "\n",
    "cities = [:ATL, :ORD, :DEN, :IAH, :LAX, :MIA, :JFK, :SFO, :SEA, :DCA]\n",
    "\n",
    "distances = [     0   587  1212   701  1936   604   748  2139  2182   543\n",
    "                587     0   920   940  1745  1188   713  1858  1737   597\n",
    "               1212   920     0   879   831  1726  1631   949  1021  1494\n",
    "                701   940   879     0  1379   968  1420  1645  1891  1220\n",
    "               1936  1745   831  1379     0  2339  2451   347   959  2300\n",
    "                604  1188  1726   968  2339     0  1092  2594  2734   923\n",
    "                748   713  1631  1420  2451  1092     0  2571  2408   205\n",
    "               2139  1858   949  1645   347  2594  2571     0   678  2442\n",
    "               2182  1737  1021  1891   959  2734  2408   678     0  2329\n",
    "                543   597  1494  1220  2300   923   205  2442  2329     0  ]\n",
    "\n",
    "c = NamedArray(distances,(cities,cities))\n",
    "N = size(distances,1);"
   ]
  },
  {
   "cell_type": "markdown",
   "id": "5bbbfd14",
   "metadata": {},
   "source": [
    "## Solve TSP using min-cost flow relaxation"
   ]
  },
  {
   "cell_type": "code",
   "execution_count": 3,
   "id": "f5b8b715",
   "metadata": {},
   "outputs": [
    {
     "name": "stdout",
     "output_type": "stream",
     "text": [
      "Academic license - for non-commercial use only - expires 2022-07-06\n",
      "10×10 Named Matrix{Int64}\n",
      "A ╲ B │ :ATL  :ORD  :DEN  :IAH  :LAX  :MIA  :JFK  :SFO  :SEA  :DCA\n",
      "──────┼───────────────────────────────────────────────────────────\n",
      ":ATL  │    0     0     0     0     0     1     0     0     0     0\n",
      ":ORD  │    0     0     0     1     0     0     0     0     0     0\n",
      ":DEN  │    0     0     0     0     0     0     0     0     1     0\n",
      ":IAH  │    0     1     0     0     0     0     0     0     0     0\n",
      ":LAX  │    0     0     0     0     0     0     0     1     0     0\n",
      ":MIA  │    1     0     0     0     0     0     0     0     0     0\n",
      ":JFK  │    0     0     0     0     0     0     0     0     0     1\n",
      ":SFO  │    0     0     0     0     1     0     0     0     0     0\n",
      ":SEA  │    0     0     1     0     0     0     0     0     0     0\n",
      ":DCA  │    0     0     0     0     0     0     1     0     0     0\n"
     ]
    },
    {
     "data": {
      "text/plain": [
       "5-element Vector{Any}:\n",
       " [:ATL, :MIA, :ATL]\n",
       " [:ORD, :IAH, :ORD]\n",
       " [:DEN, :SEA, :DEN]\n",
       " [:LAX, :SFO, :LAX]\n",
       " [:JFK, :DCA, :JFK]"
      ]
     },
     "metadata": {},
     "output_type": "display_data"
    }
   ],
   "source": [
    "# solve the simplest version (min-cost flow version; it's an assignment problem)\n",
    "\n",
    "m = Model(Gurobi.Optimizer)\n",
    "set_optimizer_attribute(m, \"OutputFlag\", 0)\n",
    "\n",
    "# LP relaxation\n",
    "@variable(m, 0 <= x[cities,cities] <= 1)\n",
    "\n",
    "# exactly one edge out of each node\n",
    "@constraint(m, c1[j in cities], sum(x[i,j] for i in cities) == 1)\n",
    "\n",
    "# esactly one edge into each node\n",
    "@constraint(m, c2[i in cities], sum(x[i,j] for j in cities) == 1)\n",
    "\n",
    "# no self-loops\n",
    "@constraint(m, c3[i in cities], x[i,i] == 0)\n",
    "\n",
    "# minimized total cost\n",
    "@objective(m, Min, sum(x[i,j] * c[i,j] for i in cities, j in cities))\n",
    "\n",
    "optimize!(m)\n",
    "\n",
    "# pretty print the solution\n",
    "xx = value.(x)\n",
    "sol = NamedArray(zeros(Int,N,N), (cities,cities))\n",
    "\n",
    "for i in cities\n",
    "    for j in cities\n",
    "        sol[i,j] = Int(xx[i,j])\n",
    "    end\n",
    "end\n",
    "\n",
    "println(sol)\n",
    "sleep(1)\n",
    "display(getAllSubtours(sol))\n",
    ";"
   ]
  },
  {
   "cell_type": "code",
   "execution_count": 6,
   "id": "13e89a18",
   "metadata": {},
   "outputs": [
    {
     "data": {
      "text/plain": [
       "2-dimensional DenseAxisArray{Float64,2,...} with index sets:\n",
       "    Dimension 1, [:ATL, :ORD, :DEN, :IAH, :LAX, :MIA, :JFK, :SFO, :SEA, :DCA]\n",
       "    Dimension 2, [:ATL, :ORD, :DEN, :IAH, :LAX, :MIA, :JFK, :SFO, :SEA, :DCA]\n",
       "And data, a 10×10 Matrix{Float64}:\n",
       "  0.0  -0.0  -0.0  -0.0   0.0   1.0  -0.0   0.0   0.0  -0.0\n",
       "  0.0   0.0  -0.0  -0.0   0.0  -0.0   1.0   0.0   0.0   0.0\n",
       " -0.0   1.0   0.0  -0.0  -0.0   0.0   0.0  -0.0  -0.0   0.0\n",
       " -0.0  -0.0  -0.0   0.0   1.0  -0.0  -0.0   0.0   0.0  -0.0\n",
       "  0.0   0.0  -0.0  -0.0   0.0   0.0   0.0   1.0  -0.0   0.0\n",
       " -0.0  -0.0   0.0   1.0   0.0   0.0  -0.0   0.0   0.0  -0.0\n",
       " -0.0  -0.0   0.0  -0.0   0.0  -0.0   0.0   0.0   0.0   1.0\n",
       "  0.0   0.0  -0.0   0.0  -0.0   0.0   0.0   0.0   1.0   0.0\n",
       "  0.0   0.0   1.0   0.0  -0.0   0.0   0.0  -0.0   0.0   0.0\n",
       "  1.0  -0.0   0.0  -0.0   0.0  -0.0   0.0   0.0   0.0   0.0"
      ]
     },
     "execution_count": 6,
     "metadata": {},
     "output_type": "execute_result"
    }
   ],
   "source": [
    "xx"
   ]
  },
  {
   "cell_type": "markdown",
   "id": "7d297797",
   "metadata": {},
   "source": [
    "## Solve TSP using adaptive subtour elimination"
   ]
  },
  {
   "cell_type": "code",
   "execution_count": 5,
   "id": "ab100865",
   "metadata": {},
   "outputs": [
    {
     "data": {
      "text/plain": [
       "5-element Vector{Any}:\n",
       " [:ATL, :MIA, :ATL]\n",
       " [:ORD, :IAH, :ORD]\n",
       " [:DEN, :SEA, :DEN]\n",
       " [:LAX, :SFO, :LAX]\n",
       " [:JFK, :DCA, :JFK]"
      ]
     },
     "metadata": {},
     "output_type": "display_data"
    },
    {
     "name": "stdout",
     "output_type": "stream",
     "text": [
      "Academic license - for non-commercial use only - expires 2022-07-06\r\n",
      "Tour length: 6234.0\n"
     ]
    },
    {
     "data": {
      "text/plain": [
       "3-element Vector{Any}:\n",
       " [:ATL, :IAH, :MIA, :ATL]\n",
       " [:ORD, :DCA, :JFK, :ORD]\n",
       " [:DEN, :LAX, :SFO, :SEA, :DEN]"
      ]
     },
     "metadata": {},
     "output_type": "display_data"
    },
    {
     "name": "stdout",
     "output_type": "stream",
     "text": [
      "Tour length: 6665.0\n"
     ]
    },
    {
     "data": {
      "text/plain": [
       "3-element Vector{Any}:\n",
       " [:ATL, :MIA, :DCA, :JFK, :ORD, :ATL]\n",
       " [:DEN, :IAH, :DEN]\n",
       " [:LAX, :SEA, :SFO, :LAX]"
      ]
     },
     "metadata": {},
     "output_type": "display_data"
    },
    {
     "name": "stdout",
     "output_type": "stream",
     "text": [
      "Tour length: 6774.0\n"
     ]
    },
    {
     "data": {
      "text/plain": [
       "3-element Vector{Any}:\n",
       " [:ATL, :DCA, :JFK, :ORD, :IAH, :MIA, :ATL]\n",
       " [:DEN, :LAX, :DEN]\n",
       " [:SFO, :SEA, :SFO]"
      ]
     },
     "metadata": {},
     "output_type": "display_data"
    },
    {
     "name": "stdout",
     "output_type": "stream",
     "text": [
      "Tour length: 6991.0\n"
     ]
    },
    {
     "data": {
      "text/plain": [
       "3-element Vector{Any}:\n",
       " [:ATL, :ORD, :JFK, :DCA, :ATL]\n",
       " [:DEN, :SEA, :LAX, :SFO, :DEN]\n",
       " [:IAH, :MIA, :IAH]"
      ]
     },
     "metadata": {},
     "output_type": "display_data"
    },
    {
     "name": "stdout",
     "output_type": "stream",
     "text": [
      "Tour length: 7260.0\n"
     ]
    },
    {
     "data": {
      "text/plain": [
       "1-element Vector{Any}:\n",
       " [:ATL, :DCA, :JFK, :ORD, :DEN, :SEA, :SFO, :LAX, :IAH, :MIA, :ATL]"
      ]
     },
     "metadata": {},
     "output_type": "display_data"
    },
    {
     "name": "stdout",
     "output_type": "stream",
     "text": [
      "Tour length: 7378.0\n",
      "SOLVED!\n"
     ]
    }
   ],
   "source": [
    "m = Model(Gurobi.Optimizer)\n",
    "set_optimizer_attribute(m, \"OutputFlag\", 0)\n",
    "\n",
    "# must formulte as IP this time\n",
    "@variable(m, x[cities,cities], Bin)\n",
    "\n",
    "@constraint(m, c1[j in cities], sum( x[i,j] for i in cities ) == 1) \n",
    "\n",
    "@constraint(m, c2[i in cities], sum( x[i,j] for j in cities ) == 1)  \n",
    "\n",
    "@constraint(m, c3[i in cities], x[i,i] == 0 )                  \n",
    "\n",
    "@objective(m, Min, sum( x[i,j]*c[i,j] for i in cities, j in cities )) \n",
    "\n",
    "sols = []\n",
    "\n",
    "# we'll run the heuristic 30 times and hope we get an optimal solution\n",
    "\n",
    "for iters = 1:30\n",
    "    optimize!(m)\n",
    "    \n",
    "    # total length of curent tour\n",
    "    println(\"Tour length: \", objective_value(m))\n",
    "    \n",
    "    xx = value.(x) # save solution\n",
    "    push!(sols,xx) # save solution\n",
    "    \n",
    "    subtours = getAllSubtours(xx) # get all the subtours\n",
    "    display(subtours)\n",
    "    sleep(1)\n",
    "    \n",
    "    # get the length of subtour list\n",
    "    len = length(subtours)\n",
    "    \n",
    "    if len == 1\n",
    "        # solution is just a single tour!\n",
    "        println(\"SOLVED!\")\n",
    "        break\n",
    "        \n",
    "    else\n",
    "        for subtour in subtours\n",
    "            L = length(subtour)\n",
    "            # add constraints that cut off each subtour in the list (add two for each subtour)\n",
    "            @constraint(m, sum( x[subtour[k+1],subtour[k]] for k = 1:L-1 ) <= L-2)\n",
    "            \n",
    "            @constraint(m, sum( x[subtour[k],subtour[k+1]] for k = 1:L-1 ) <= L-2)\n",
    "        end\n",
    "    end\n",
    "end"
   ]
  },
  {
   "cell_type": "markdown",
   "id": "24e88168",
   "metadata": {},
   "source": [
    "## Miller-Tucker-Zemlin formulation"
   ]
  },
  {
   "cell_type": "markdown",
   "id": "1d99a63a",
   "metadata": {},
   "source": [
    "### Get all subtours helper function"
   ]
  },
  {
   "cell_type": "code",
   "execution_count": 2,
   "id": "bbf28bdf",
   "metadata": {},
   "outputs": [
    {
     "data": {
      "text/plain": [
       "Dict{Symbol, Float64} with 10 entries:\n",
       "  :ATL => -84.4279\n",
       "  :SFO => -122.375\n",
       "  :DEN => -104.673\n",
       "  :DCA => -77.0377\n",
       "  :SEA => -122.312\n",
       "  :ORD => -87.908\n",
       "  :IAH => -95.2789\n",
       "  :LAX => -118.408\n",
       "  :JFK => -73.7787\n",
       "  :MIA => -80.2901"
      ]
     },
     "execution_count": 2,
     "metadata": {},
     "output_type": "execute_result"
    }
   ],
   "source": [
    "# HELPER FUNCTION: returns the cycle containing the city START.\n",
    "function getSubtour(x,start)\n",
    "    subtour = [start]\n",
    "    while true\n",
    "        j = subtour[end]\n",
    "        for k in cities\n",
    "            if x[k,j] == 1\n",
    "                push!(subtour,k)\n",
    "                break\n",
    "            end\n",
    "        end\n",
    "        if subtour[end] == start\n",
    "            break\n",
    "        end\n",
    "    end\n",
    "    return subtour\n",
    "end\n",
    "\n",
    "# HELPER FUNCTION: returns a list of all cycles\n",
    "function getAllSubtours(x)\n",
    "    nodesRemaining = cities\n",
    "    subtours = []\n",
    "    while length(nodesRemaining) > 0\n",
    "        subtour = getSubtour(x,nodesRemaining[1])\n",
    "        push!(subtours, subtour)\n",
    "        nodesRemaining = setdiff(nodesRemaining,subtour)\n",
    "    end\n",
    "    return subtours\n",
    "end\n",
    "\n",
    "# HELPER FUNCTION FOR MAPPING AIRPORTS\n",
    "\n",
    "data = [ 33.636700  -84.427863 \n",
    "         41.977320  -87.908005\n",
    "         39.861667 -104.673166\n",
    "         29.645417  -95.278888\n",
    "         33.942437 -118.408121\n",
    "         25.795361  -80.290110\n",
    "         40.639926  -73.778694\n",
    "         37.618806 -122.375416\n",
    "         47.449889 -122.311777\n",
    "         38.851444  -77.037721 ]\n",
    "lat = Dict(zip(cities,data[:,1]))\n",
    "lon = Dict(zip(cities,data[:,2]))"
   ]
  },
  {
   "cell_type": "code",
   "execution_count": null,
   "id": "62e927ac",
   "metadata": {},
   "outputs": [],
   "source": []
  }
 ],
 "metadata": {
  "kernelspec": {
   "display_name": "Julia 1.6.1",
   "language": "julia",
   "name": "julia-1.6"
  },
  "language_info": {
   "file_extension": ".jl",
   "mimetype": "application/julia",
   "name": "julia",
   "version": "1.6.1"
  }
 },
 "nbformat": 4,
 "nbformat_minor": 5
}
