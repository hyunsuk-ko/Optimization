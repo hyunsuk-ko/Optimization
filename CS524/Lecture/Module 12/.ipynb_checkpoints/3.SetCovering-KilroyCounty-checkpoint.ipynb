{
 "cells": [
  {
   "cell_type": "markdown",
   "id": "80b285cf",
   "metadata": {},
   "source": [
    "### Kilroy County Fire Stations - A Set Covering Example\n",
    "\n",
    "Kilroy County has 6 cities. The county must determine where to build fire stations to serve these cities. They want to build the stations in some of the cities, and to build the minimum number of stations needed to ensure that at least one station is within 15 minutes driving time of each city. Can we formulate an integer program whose solution gives the minimum number of re stations and their locations?\n",
    "\n",
    "The distances are in the table below:\n",
    "\n",
    "    1\t2\t3\t4\t5\t6\n",
    "    \n",
    "\t0\t10\t20\t30\t30\t20\n",
    "\t10\t0\t25\t35\t20\t10\n",
    "\t20\t25\t0\t15\t30\t20\n",
    "\t30\t35\t15\t0\t15\t25\n",
    "\t30\t20\t30\t15\t0\t14\n",
    "\t20\t10\t20\t25\t14\t0"
   ]
  },
  {
   "cell_type": "code",
   "execution_count": 4,
   "id": "74bee4b7",
   "metadata": {},
   "outputs": [
    {
     "name": "stdout",
     "output_type": "stream",
     "text": [
      "Academic license - for non-commercial use only - expires 2022-07-06\r\n",
      "Where do we build stations?\n",
      "city 2\n",
      "city 4\n"
     ]
    }
   ],
   "source": [
    "using JuMP, Gurobi, NamedArrays\n",
    "\n",
    "# array of cities\n",
    "cities = [1,2,3,4,5,6]\n",
    "\n",
    "# NamedArray representing the distance between each pair of cities\n",
    "dist = NamedArray(\n",
    "[0 10 20 30 30 20\n",
    "10  0 25 35 20 10\n",
    "20 25  0 15 30 20\n",
    "30 35 15  0 15 25\n",
    "30 20 30 15  0 14\n",
    "20 10 20 25 14  0], (cities,cities), (\"city\", \"city\"))\n",
    "\n",
    "# A is a matrix with rows representing possible stations and columns representing\n",
    "# the cities covered by that station\n",
    "A = [1 1 0 0 0 0\n",
    "     1 1 0 0 0 1\n",
    "     0 0 1 1 0 0\n",
    "     0 0 1 1 1 0\n",
    "     0 0 0 1 1 1\n",
    "     0 1 0 0 1 1]\n",
    ";\n",
    "\n",
    "m = Model(Gurobi.Optimizer)\n",
    "set_optimizer_attribute(m, \"OutputFlag\", 0)\n",
    "\n",
    "# binary variable for whether we build a station in each city\n",
    "@variable(m, x[cities], Bin)\n",
    "\n",
    "# each city should be covered by at least one station\n",
    "for j in cities\n",
    "    @constraint(m, sum(A[i,j] * x[i] for i in cities) >= 1)\n",
    "end\n",
    "\n",
    "# We can directly write the constraints.\n",
    "#@constraint(m, x[1]+x[2] >= 1)\n",
    "#@constraint(m, x[1]+x[2]+x[6] >= 1)\n",
    "#@constraint(m, x[3]+x[4] >= 1)\n",
    "#@constraint(m, x[3]+x[4]+x[5] >= 1)\n",
    "#@constraint(m, x[4]+x[5]+x[6] >= 1)\n",
    "#@constraint(m, x[2]+x[5]+x[6] >= 1)\n",
    "\n",
    "# minimize the total number of stations\n",
    "@objective(m, Min, sum(x))\n",
    "\n",
    "optimize!(m)\n",
    "\n",
    "println(\"Where do we build stations?\")\n",
    "for i in cities\n",
    "    if value(x[i]) == 1\n",
    "        println(\"city \", i)\n",
    "    end\n",
    "end"
   ]
  },
  {
   "cell_type": "code",
   "execution_count": null,
   "id": "daf1b866",
   "metadata": {},
   "outputs": [],
   "source": []
  }
 ],
 "metadata": {
  "kernelspec": {
   "display_name": "Julia 1.6.1",
   "language": "julia",
   "name": "julia-1.6"
  },
  "language_info": {
   "file_extension": ".jl",
   "mimetype": "application/julia",
   "name": "julia",
   "version": "1.6.1"
  }
 },
 "nbformat": 4,
 "nbformat_minor": 5
}
