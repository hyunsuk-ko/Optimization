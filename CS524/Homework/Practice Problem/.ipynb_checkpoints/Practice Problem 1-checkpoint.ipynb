{
 "cells": [
  {
   "cell_type": "code",
   "execution_count": 5,
   "id": "70b89e7b",
   "metadata": {},
   "outputs": [
    {
     "name": "stdout",
     "output_type": "stream",
     "text": [
      "Wheat: 19.99999999999999, Corn: 20.000000000000007\n",
      "Coin0506I Presolve 3 (0) rows, 2 (0) columns and 6 (0) elements\n",
      "Clp0006I 0  Obj 0 Dual inf 500 (2)\n",
      "Clp0006I 3  Obj 10000\n",
      "Clp0000I Optimal - objective value 10000\n",
      "Clp0032I Optimal objective 10000 - 3 iterations time 0.002\n"
     ]
    }
   ],
   "source": [
    "using JuMP, Clp\n",
    "\n",
    "m = Model(Clp.Optimizer)\n",
    "\n",
    "@variable(m, xw >= 0)\n",
    "@variable(m, xc >= 0)\n",
    "\n",
    "@objective(m, Max, 200*xw + 300*xc)\n",
    "\n",
    "@constraints(m, \n",
    "    begin\n",
    "    3*xw + 2*xc <= 100\n",
    "    2*xw + 4*xc <= 120\n",
    "    xw + xc <= 45\n",
    "    end\n",
    "    )\n",
    "\n",
    "optimize!(m)\n",
    "\n",
    "println(\"Wheat: \", value(xw), \", Corn: \", value(xc))"
   ]
  },
  {
   "cell_type": "markdown",
   "id": "141f01fd",
   "metadata": {},
   "source": [
    "* For each of the three Top Brass implementations (Top Brass, Top Brass Modular, Top Brass Compact), re-implement the model to add a new trophy type: karate trophies. Karate trophies require 3 board feet of wood, 1 plaque, and 1 brass karate figure on top. Karate trophies are sold for \\\\$10 each. There are 750 brass karate figures available. Comment on how easy or hard it is to add a new trophy type in each case."
   ]
  },
  {
   "cell_type": "code",
   "execution_count": 1,
   "id": "eb1b126a",
   "metadata": {},
   "outputs": [],
   "source": [
    "### Original Top Brass ###\n",
    "using JuMP\n",
    "\n",
    "m = Model()\n",
    "\n",
    "@variable(m, ft >= 0)\n",
    "@variable(m, st >= 0)\n",
    "@variable(m, kt >= 0)\n",
    "\n",
    "# objective is to maximize profit\n",
    "# format is (<model name>, <Max or Min>, <algebraic function>)\n",
    "@objective(m, Max, 12*ft + 9*st + 10*kt)\n",
    "\n",
    "# constraint on the wood available\n",
    "# format is (<model name>, <constraint name>, <algebraic constraint>)\n",
    "@constraint(m, wood_con, 4ft + 2st + 3kt <= 4800)\n",
    "\n",
    "#constraint on the plaques available\n",
    "@constraint(m, plaque_con, ft + st + kt <= 1750)\n",
    "\n",
    "# constraints on brass footballs, soccerballs available\n",
    "@constraint(m, brass_football_con, ft <= 1000)\n",
    "@constraint(m, brass_soccerball_con, st <= 1500)\n",
    "@constraint(m, karate_fig_con, kt <= 750)\n",
    "; "
   ]
  },
  {
   "cell_type": "code",
   "execution_count": 4,
   "id": "60a9e9dc",
   "metadata": {},
   "outputs": [
    {
     "data": {
      "text/latex": [
       "$$ trophy_{karate} \\leq 740.0 $$"
      ],
      "text/plain": [
       "trophy[karate] <= 740.0"
      ]
     },
     "execution_count": 4,
     "metadata": {},
     "output_type": "execute_result"
    }
   ],
   "source": [
    "### Modular Top Brass ###\n",
    "\n",
    "# Data first \n",
    "trophy_types = [:football, :soccer, :karate] \n",
    "\n",
    "wood_req = Dict(:football => 4, :soccer => 2, :karate => 3) # how much wood each trophy type will use\n",
    "\n",
    "plaque_req = Dict(:football => 1, :soccer => 1, :karate => 1) # how many plaques each trophy type will use\n",
    "\n",
    "profit = Dict( :football => 12, :soccer => 9, :karate => 10) # profit produced by each trophy type\n",
    "\n",
    "# we are told the amount of each resource we have available\n",
    "wood_avail = 4800\n",
    "plaques_avail = 1750\n",
    "football_avail = 1000\n",
    "soccer_avail = 1500\n",
    "karate_avail = 740;\n",
    "\n",
    "# Now model:\n",
    "\n",
    "m = Model()\n",
    "\n",
    "# trophy variable object is now a Dictionary indexed over trophy types (elements are variables)\n",
    "@variable(m, trophy[trophy_types] >= 0)\n",
    "\n",
    "# maximize profit by summing (profit/trophy * # trophies) for each type\n",
    "@objective(m, Max, sum(profit[tr] * trophy[tr] for tr in trophy_types) )   \n",
    "\n",
    "@constraint(m, sum(wood_req[tr] * trophy[tr] for tr in trophy_types) <= wood_avail) # use only available wood\n",
    "@constraint(m, sum(plaque_req[tr] * trophy[tr] for tr in trophy_types) <= plaques_avail) # use only available plaques\n",
    "@constraint(m, trophy[:football] <= football_avail)  # use only available brass footballs\n",
    "@constraint(m, trophy[:soccer] <= soccer_avail)  # use only available brass soccer balls\n",
    "@constraint(m, trophy[:karate] <= karate_avail)  # use only available brass soccer balls"
   ]
  },
  {
   "cell_type": "code",
   "execution_count": 5,
   "id": "bdc9e8ed",
   "metadata": {},
   "outputs": [],
   "source": [
    "### Compact Top Brass ###\n",
    "trophy_types = [:football, :soccer, :karate]\n",
    "resources = [:wood, :plaques, :brass_football, :brass_soccer, :brass_karate]\n",
    "profit = Dict(zip(trophy_types, [12,9,10]))\n",
    "resource_avail = Dict(zip(resources, [4800,1750,1000,1500,750]));\n",
    "\n",
    "using NamedArrays\n",
    "trophy_resource_matrix = (\n",
    "                    [4 1 1 0 0\n",
    "                     2 1 0 1 0\n",
    "                     3 1 0 0 1])\n",
    "trophy_resource_NA = NamedArray(trophy_resource_matrix, (trophy_types, resources), (\"type\", \"resource\"));\n",
    "\n",
    "# Model:\n",
    "m = Model()\n",
    "\n",
    "@variable(m, trophy[trophy_types] >= 0)\n",
    "@expression(m, tot_profit, sum(profit[tr] * trophy[tr] for tr in trophy_types))\n",
    "\n",
    "@constraint(m, constr[resource in resources], sum(trophy_resource_NA[tr, resource] * trophy[tr] for tr in trophy_types) <= resource_avail[resource])\n",
    "\n",
    "@objective(m, Max, tot_profit);"
   ]
  },
  {
   "cell_type": "markdown",
   "id": "cd3133ef",
   "metadata": {},
   "source": [
    "* A very famous optimization problem is the so-called “Stigler Diet Problem,” which was created in 1945 by American economist and Nobel laureate George Stigler.  Stigler published a paper on his study of the optimal diet, which minimizes total annual cost while meeting the recommended daily allowance (RDA)  of  several  nutrients.   In  his  paper,  Stigler  created  a  table  of  77  different  foods  (although  if you  look  at  the  data,  you’ll  note  that  one  of  the  foods  is  “Plate”...not  sure  about  that  one)  and their nutrient content for 9 nutrients:  calories, protein, calcium, iron, vitamin A, thiamine, riboflavin, niacin,  and ascorbic acid.  To make the calculations easier,  Stigler normalized the data so that the nutrients shown are the content for \\\\$1-worth of the given food.  \\\\$1 could buy you a lot more in 1945! You can find a sample of the first few rows and columns of the table below. Stigler published this paper before linear programming algorithms had been invented, but Stigler was a very intelligent man and used “trial and error, mathematical insight, and agility,” to arrive at a diet costing only \\\\$39.93 per year.  Stigler stated there was no reason to believe he had found the cheapest diet, and other combinations could prove more cost-effective.\n",
    "    * Formulate  Stigler's  diet  problem  as  a  linear  program  and  solve  it  to  find  the  actual  optimal solution.   Stigler's  original  data  is  provided  as \"stigler.csv\" on Canvas. Use the code  snippet posted on Canvas as \"stigler.jl\" to import the data into arrays that will be much easier to work with. How does your cheapest  diet  compare  in  annual  cost  to  Stigler's?   For the purposes of this exercise, a year is 365.25 days.\n",
    "    * Now suppose you wanted a diet consisting only of foods you like to eat.  Modify the stigler.csv file  by  deleting  any  rows  you  want,  leaving  only  your  favorite  foods  as  options  for  your  diet. Solve the diet problem again and compare your total annual cost to the cost you got in the previous problem.  What foods make up your optimal diet now? \n",
    "\n",
    "Table from the diet problem:\n",
    "\n",
    "|                          | kCalories | Protein (g) | Calcium (g) | Iron (mg) | ...      |\n",
    "|--------------------------|-----------|-------------|-------------|-----------|----------|\n",
    "| Wheat Flour (Enriched)   | 44.7      | 1411        | 2           | 365       | ...      |\n",
    "| Macaroni                 | 11.6      | 418         | 0.7         | 54        | ...      |\n",
    "| Wheat Cereal (Enriched)  | 11.8      | 377         | 14.4        | 175       | ...      |\n",
    "| $\\vdots$                 | $\\vdots$  | $\\vdots$    | $\\vdots$    | $\\vdots$  | $\\ddots$ |\n"
   ]
  },
  {
   "cell_type": "code",
   "execution_count": 11,
   "id": "99f5a2ec",
   "metadata": {},
   "outputs": [
    {
     "name": "stdout",
     "output_type": "stream",
     "text": [
      "Annual cost of this diet $39.688897115017942\n",
      "How much of each food should Stigler eat every day? \n",
      "Wheat Flour (Enriched): 0.02951906167648827\n",
      "Liver (Beef): 0.0018925572907052643\n",
      "Cabbage: 0.011214435246144865\n",
      "Spinach: 0.005007660466725203\n",
      "Navy Beans, Dried: 0.061028563526693246\n",
      "Coin0506I Presolve 9 (0) rows, 76 (-1) columns and 569 (-1) elements\n",
      "Clp0006I 0  Obj 0 Primal inf 5.1310537 (9)\n",
      "Clp0006I 6  Obj 0.10866228\n",
      "Clp0000I Optimal - objective value 0.10866228\n",
      "Coin0511I After Postsolve, objective 0.10866228, infeasibilities - dual 0 (0), primal 0 (0)\n",
      "Clp0032I Optimal objective 0.1086622782 - 6 iterations time 0.002, Presolve 0.00\n"
     ]
    }
   ],
   "source": [
    "using DataFrames, CSV, NamedArrays\n",
    "\n",
    "#Note that the new syntax differs a bit from what is in stigler.jl. This is the non-deprecated version.\n",
    "df = CSV.read(\"stigler.csv\",DataFrame, delim =',');\n",
    "# the names of the DataFrame (header) are the nutrients\n",
    "nutrients = propertynames(df)[2:end]\n",
    "# create a list of foods from the diet array\n",
    "foods = convert(Array,df[2:end,1]) # turn dataframe into Array\n",
    "# create a dictionary of the min requirement of each nutrient\n",
    "min_daily_req = Dict(zip(nutrients,df[1,2:end]))\n",
    "\n",
    "# create a NamedArray that specifies how much of each nutrient each food provides\n",
    "using NamedArrays\n",
    "food_nutrient_matrix = Matrix(df[2:end,2:end]) # turn dataframe into Array\n",
    "# rows are foods, columns are nutrients\n",
    "food_nutrient_array = NamedArray(food_nutrient_matrix, (foods, nutrients), (\"foods\",\"nutrients\"))\n",
    "\n",
    "using JuMP,  Clp\n",
    "m = Model(Clp.Optimizer) # create model\n",
    "\n",
    "@variable(m, x[foods] >= 0)\n",
    "\n",
    "@objective(m, Min, sum(x))\n",
    "\n",
    "@constraint(m, meet_req[n in nutrients], sum(food_nutrient_array[i,n] * x[i] for i in foods) >= min_daily_req[n])\n",
    "\n",
    "optimize!(m)\n",
    "\n",
    "println(\"Annual cost of this diet \\$\", 365.25objective_value(m),2)\n",
    "println(\"How much of each food should Stigler eat every day? \")\n",
    "for i in foods\n",
    "    if value(x[i]) > 10e-5\n",
    "        println(i, \": \", value(x[i]))\n",
    "    end\n",
    "end"
   ]
  },
  {
   "cell_type": "code",
   "execution_count": 13,
   "id": "8fc6c5e9",
   "metadata": {},
   "outputs": [
    {
     "data": {
      "text/html": [
       "<table class=\"data-frame\"><thead><tr><th></th><th>Column1</th><th>Calories (1000)</th><th>Protein (g)</th><th>Calcium (g)</th><th>Iron (mg)</th><th>Vitamin A (1000 IU)</th></tr><tr><th></th><th>String</th><th>Float64</th><th>Int64</th><th>Float64</th><th>Int64</th><th>Float64</th></tr></thead><tbody><p>78 rows × 10 columns (omitted printing of 4 columns)</p><tr><th>1</th><td>MINIMUM REQUIRED</td><td>3.0</td><td>70</td><td>0.8</td><td>12</td><td>5.0</td></tr><tr><th>2</th><td>Wheat Flour (Enriched)</td><td>44.7</td><td>1411</td><td>2.0</td><td>365</td><td>0.0</td></tr><tr><th>3</th><td>Macaroni</td><td>11.6</td><td>418</td><td>0.7</td><td>54</td><td>0.0</td></tr><tr><th>4</th><td>Wheat Cereal (Enriched)</td><td>11.8</td><td>377</td><td>14.4</td><td>175</td><td>0.0</td></tr><tr><th>5</th><td>Corn Flakes</td><td>11.4</td><td>252</td><td>0.1</td><td>56</td><td>0.0</td></tr><tr><th>6</th><td>Corn Meal</td><td>36.0</td><td>897</td><td>1.7</td><td>99</td><td>30.9</td></tr><tr><th>7</th><td>Hominy Grits</td><td>28.6</td><td>680</td><td>0.8</td><td>80</td><td>0.0</td></tr><tr><th>8</th><td>Rice</td><td>21.2</td><td>460</td><td>0.6</td><td>41</td><td>0.0</td></tr><tr><th>9</th><td>Rolled Oats</td><td>25.3</td><td>907</td><td>5.1</td><td>341</td><td>0.0</td></tr><tr><th>10</th><td>White Bread (Enriched)</td><td>15.0</td><td>488</td><td>2.5</td><td>115</td><td>0.0</td></tr><tr><th>11</th><td>Whole Wheat Bread</td><td>12.2</td><td>484</td><td>2.7</td><td>125</td><td>0.0</td></tr><tr><th>12</th><td>Rye Bread</td><td>12.4</td><td>439</td><td>1.1</td><td>82</td><td>0.0</td></tr><tr><th>13</th><td>Pound Cake</td><td>8.0</td><td>130</td><td>0.4</td><td>31</td><td>18.9</td></tr><tr><th>14</th><td>Soda Crackers</td><td>12.5</td><td>288</td><td>0.5</td><td>50</td><td>0.0</td></tr><tr><th>15</th><td>Milk</td><td>6.1</td><td>310</td><td>10.5</td><td>18</td><td>16.8</td></tr><tr><th>16</th><td>Evaporated Milk (can)</td><td>8.4</td><td>422</td><td>15.1</td><td>9</td><td>26.0</td></tr><tr><th>17</th><td>Butter</td><td>10.8</td><td>9</td><td>0.2</td><td>3</td><td>44.2</td></tr><tr><th>18</th><td>Oleomargarine</td><td>20.6</td><td>17</td><td>0.6</td><td>6</td><td>55.8</td></tr><tr><th>19</th><td>Eggs</td><td>2.9</td><td>238</td><td>1.0</td><td>52</td><td>18.6</td></tr><tr><th>20</th><td>Cheese (Cheddar)</td><td>7.4</td><td>448</td><td>16.4</td><td>19</td><td>28.1</td></tr><tr><th>21</th><td>Cream</td><td>3.5</td><td>49</td><td>1.7</td><td>3</td><td>16.9</td></tr><tr><th>22</th><td>Peanut Butter</td><td>15.7</td><td>661</td><td>1.0</td><td>48</td><td>0.0</td></tr><tr><th>23</th><td>Mayonnaise</td><td>8.6</td><td>18</td><td>0.2</td><td>8</td><td>2.7</td></tr><tr><th>24</th><td>Crisco</td><td>20.1</td><td>0</td><td>0.0</td><td>0</td><td>0.0</td></tr><tr><th>25</th><td>Lard</td><td>41.7</td><td>0</td><td>0.0</td><td>0</td><td>0.2</td></tr><tr><th>26</th><td>Sirloin Steak</td><td>2.9</td><td>166</td><td>0.1</td><td>34</td><td>0.2</td></tr><tr><th>27</th><td>Round Steak</td><td>2.2</td><td>214</td><td>0.1</td><td>32</td><td>0.4</td></tr><tr><th>28</th><td>Rib Roast</td><td>3.4</td><td>213</td><td>0.1</td><td>33</td><td>0.0</td></tr><tr><th>29</th><td>Chuck Roast</td><td>3.6</td><td>309</td><td>0.2</td><td>46</td><td>0.4</td></tr><tr><th>30</th><td>Plate</td><td>8.5</td><td>404</td><td>0.2</td><td>62</td><td>0.0</td></tr><tr><th>&vellip;</th><td>&vellip;</td><td>&vellip;</td><td>&vellip;</td><td>&vellip;</td><td>&vellip;</td><td>&vellip;</td></tr></tbody></table>"
      ],
      "text/latex": [
       "\\begin{tabular}{r|ccccccc}\n",
       "\t& Column1 & Calories (1000) & Protein (g) & Calcium (g) & Iron (mg) & Vitamin A (1000 IU) & \\\\\n",
       "\t\\hline\n",
       "\t& String & Float64 & Int64 & Float64 & Int64 & Float64 & \\\\\n",
       "\t\\hline\n",
       "\t1 & MINIMUM REQUIRED & 3.0 & 70 & 0.8 & 12 & 5.0 & $\\dots$ \\\\\n",
       "\t2 & Wheat Flour (Enriched) & 44.7 & 1411 & 2.0 & 365 & 0.0 & $\\dots$ \\\\\n",
       "\t3 & Macaroni & 11.6 & 418 & 0.7 & 54 & 0.0 & $\\dots$ \\\\\n",
       "\t4 & Wheat Cereal (Enriched) & 11.8 & 377 & 14.4 & 175 & 0.0 & $\\dots$ \\\\\n",
       "\t5 & Corn Flakes & 11.4 & 252 & 0.1 & 56 & 0.0 & $\\dots$ \\\\\n",
       "\t6 & Corn Meal & 36.0 & 897 & 1.7 & 99 & 30.9 & $\\dots$ \\\\\n",
       "\t7 & Hominy Grits & 28.6 & 680 & 0.8 & 80 & 0.0 & $\\dots$ \\\\\n",
       "\t8 & Rice & 21.2 & 460 & 0.6 & 41 & 0.0 & $\\dots$ \\\\\n",
       "\t9 & Rolled Oats & 25.3 & 907 & 5.1 & 341 & 0.0 & $\\dots$ \\\\\n",
       "\t10 & White Bread (Enriched) & 15.0 & 488 & 2.5 & 115 & 0.0 & $\\dots$ \\\\\n",
       "\t11 & Whole Wheat Bread & 12.2 & 484 & 2.7 & 125 & 0.0 & $\\dots$ \\\\\n",
       "\t12 & Rye Bread & 12.4 & 439 & 1.1 & 82 & 0.0 & $\\dots$ \\\\\n",
       "\t13 & Pound Cake & 8.0 & 130 & 0.4 & 31 & 18.9 & $\\dots$ \\\\\n",
       "\t14 & Soda Crackers & 12.5 & 288 & 0.5 & 50 & 0.0 & $\\dots$ \\\\\n",
       "\t15 & Milk & 6.1 & 310 & 10.5 & 18 & 16.8 & $\\dots$ \\\\\n",
       "\t16 & Evaporated Milk (can) & 8.4 & 422 & 15.1 & 9 & 26.0 & $\\dots$ \\\\\n",
       "\t17 & Butter & 10.8 & 9 & 0.2 & 3 & 44.2 & $\\dots$ \\\\\n",
       "\t18 & Oleomargarine & 20.6 & 17 & 0.6 & 6 & 55.8 & $\\dots$ \\\\\n",
       "\t19 & Eggs & 2.9 & 238 & 1.0 & 52 & 18.6 & $\\dots$ \\\\\n",
       "\t20 & Cheese (Cheddar) & 7.4 & 448 & 16.4 & 19 & 28.1 & $\\dots$ \\\\\n",
       "\t21 & Cream & 3.5 & 49 & 1.7 & 3 & 16.9 & $\\dots$ \\\\\n",
       "\t22 & Peanut Butter & 15.7 & 661 & 1.0 & 48 & 0.0 & $\\dots$ \\\\\n",
       "\t23 & Mayonnaise & 8.6 & 18 & 0.2 & 8 & 2.7 & $\\dots$ \\\\\n",
       "\t24 & Crisco & 20.1 & 0 & 0.0 & 0 & 0.0 & $\\dots$ \\\\\n",
       "\t25 & Lard & 41.7 & 0 & 0.0 & 0 & 0.2 & $\\dots$ \\\\\n",
       "\t26 & Sirloin Steak & 2.9 & 166 & 0.1 & 34 & 0.2 & $\\dots$ \\\\\n",
       "\t27 & Round Steak & 2.2 & 214 & 0.1 & 32 & 0.4 & $\\dots$ \\\\\n",
       "\t28 & Rib Roast & 3.4 & 213 & 0.1 & 33 & 0.0 & $\\dots$ \\\\\n",
       "\t29 & Chuck Roast & 3.6 & 309 & 0.2 & 46 & 0.4 & $\\dots$ \\\\\n",
       "\t30 & Plate & 8.5 & 404 & 0.2 & 62 & 0.0 & $\\dots$ \\\\\n",
       "\t$\\dots$ & $\\dots$ & $\\dots$ & $\\dots$ & $\\dots$ & $\\dots$ & $\\dots$ &  \\\\\n",
       "\\end{tabular}\n"
      ],
      "text/plain": [
       "\u001b[1m78×10 DataFrame\u001b[0m\n",
       "\u001b[1m Row \u001b[0m│\u001b[1m Column1                 \u001b[0m\u001b[1m Calories (1000) \u001b[0m\u001b[1m Protein (g) \u001b[0m\u001b[1m Calcium (g) \u001b[0m\u001b[1m Iro\u001b[0m ⋯\n",
       "\u001b[1m     \u001b[0m│\u001b[90m String                  \u001b[0m\u001b[90m Float64         \u001b[0m\u001b[90m Int64       \u001b[0m\u001b[90m Float64     \u001b[0m\u001b[90m Int\u001b[0m ⋯\n",
       "─────┼──────────────────────────────────────────────────────────────────────────\n",
       "   1 │ MINIMUM REQUIRED                     3.0           70          0.8      ⋯\n",
       "   2 │ Wheat Flour (Enriched)              44.7         1411          2.0\n",
       "   3 │ Macaroni                            11.6          418          0.7\n",
       "   4 │ Wheat Cereal (Enriched)             11.8          377         14.4\n",
       "   5 │ Corn Flakes                         11.4          252          0.1      ⋯\n",
       "   6 │ Corn Meal                           36.0          897          1.7\n",
       "   7 │ Hominy Grits                        28.6          680          0.8\n",
       "   8 │ Rice                                21.2          460          0.6\n",
       "   9 │ Rolled Oats                         25.3          907          5.1      ⋯\n",
       "  10 │ White Bread (Enriched)              15.0          488          2.5\n",
       "  11 │ Whole Wheat Bread                   12.2          484          2.7\n",
       "  ⋮  │            ⋮                    ⋮              ⋮            ⋮           ⋱\n",
       "  69 │ Lima Beans, Dried                   17.4         1055          3.7\n",
       "  70 │ Navy Beans, Dried                   26.9         1691         11.4      ⋯\n",
       "  71 │ Coffee                               0.0            0          0.0\n",
       "  72 │ Tea                                  0.0            0          0.0\n",
       "  73 │ Cocoa                                8.7          237          3.0\n",
       "  74 │ Chocolate                            8.0           77          1.3      ⋯\n",
       "  75 │ Sugar                               34.9            0          0.0\n",
       "  76 │ Corn Syrup                          14.7            0          0.5\n",
       "  77 │ Molasses                             9.0            0         10.3\n",
       "  78 │ Strawberry Preserves                 6.4           11          0.4      ⋯\n",
       "\u001b[36m                                                   6 columns and 57 rows omitted\u001b[0m"
      ]
     },
     "execution_count": 13,
     "metadata": {},
     "output_type": "execute_result"
    }
   ],
   "source": [
    "df"
   ]
  },
  {
   "cell_type": "code",
   "execution_count": 19,
   "id": "306005fb",
   "metadata": {},
   "outputs": [
    {
     "data": {
      "text/plain": [
       "9-element Vector{Symbol}:\n",
       " Symbol(\"Calories (1000)\")\n",
       " Symbol(\"Protein (g)\")\n",
       " Symbol(\"Calcium (g)\")\n",
       " Symbol(\"Iron (mg)\")\n",
       " Symbol(\"Vitamin A (1000 IU)\")\n",
       " Symbol(\"Thiamine (mg)\")\n",
       " Symbol(\"Riboflavin (mg)\")\n",
       " Symbol(\"Niacin (mg)\")\n",
       " Symbol(\"Ascorbic Acid (mg)\")"
      ]
     },
     "execution_count": 19,
     "metadata": {},
     "output_type": "execute_result"
    }
   ],
   "source": [
    "nutrients = propertynames(df)[2:end]\n",
    "nutrients"
   ]
  },
  {
   "cell_type": "code",
   "execution_count": 21,
   "id": "da04fd0f",
   "metadata": {},
   "outputs": [
    {
     "data": {
      "text/plain": [
       "77-element Vector{String}:\n",
       " \"Wheat Flour (Enriched)\"\n",
       " \"Macaroni\"\n",
       " \"Wheat Cereal (Enriched)\"\n",
       " \"Corn Flakes\"\n",
       " \"Corn Meal\"\n",
       " \"Hominy Grits\"\n",
       " \"Rice\"\n",
       " \"Rolled Oats\"\n",
       " \"White Bread (Enriched)\"\n",
       " \"Whole Wheat Bread\"\n",
       " \"Rye Bread\"\n",
       " \"Pound Cake\"\n",
       " \"Soda Crackers\"\n",
       " ⋮\n",
       " \"Raisins, Dried\"\n",
       " \"Peas, Dried\"\n",
       " \"Lima Beans, Dried\"\n",
       " \"Navy Beans, Dried\"\n",
       " \"Coffee\"\n",
       " \"Tea\"\n",
       " \"Cocoa\"\n",
       " \"Chocolate\"\n",
       " \"Sugar\"\n",
       " \"Corn Syrup\"\n",
       " \"Molasses\"\n",
       " \"Strawberry Preserves\""
      ]
     },
     "execution_count": 21,
     "metadata": {},
     "output_type": "execute_result"
    }
   ],
   "source": [
    "foods = convert(Array,df[2:end,1])\n",
    "foods"
   ]
  },
  {
   "cell_type": "code",
   "execution_count": 23,
   "id": "d9cea88d",
   "metadata": {},
   "outputs": [
    {
     "data": {
      "text/plain": [
       "Dict{Symbol, Any} with 9 entries:\n",
       "  Symbol(\"Riboflavin (mg)\")     => 2.7\n",
       "  Symbol(\"Calcium (g)\")         => 0.8\n",
       "  Symbol(\"Niacin (mg)\")         => 18\n",
       "  Symbol(\"Ascorbic Acid (mg)\")  => 75\n",
       "  Symbol(\"Thiamine (mg)\")       => 1.8\n",
       "  Symbol(\"Vitamin A (1000 IU)\") => 5.0\n",
       "  Symbol(\"Protein (g)\")         => 70\n",
       "  Symbol(\"Calories (1000)\")     => 3.0\n",
       "  Symbol(\"Iron (mg)\")           => 12"
      ]
     },
     "execution_count": 23,
     "metadata": {},
     "output_type": "execute_result"
    }
   ],
   "source": [
    "min_daily_req = Dict(zip(nutrients,df[1,2:end]))\n",
    "min_daily_req"
   ]
  },
  {
   "cell_type": "code",
   "execution_count": 24,
   "id": "83e38dce",
   "metadata": {},
   "outputs": [
    {
     "data": {
      "text/plain": [
       "77×9 Matrix{Float64}:\n",
       " 44.7  1411.0   2.0  365.0   0.0  55.4  33.3  441.0    0.0\n",
       " 11.6   418.0   0.7   54.0   0.0   3.2   1.9   68.0    0.0\n",
       " 11.8   377.0  14.4  175.0   0.0  14.4   8.8  114.0    0.0\n",
       " 11.4   252.0   0.1   56.0   0.0  13.5   2.3   68.0    0.0\n",
       " 36.0   897.0   1.7   99.0  30.9  17.4   7.9  106.0    0.0\n",
       " 28.6   680.0   0.8   80.0   0.0  10.6   1.6  110.0    0.0\n",
       " 21.2   460.0   0.6   41.0   0.0   2.0   4.8   60.0    0.0\n",
       " 25.3   907.0   5.1  341.0   0.0  37.1   8.9   64.0    0.0\n",
       " 15.0   488.0   2.5  115.0   0.0  13.8   8.5  126.0    0.0\n",
       " 12.2   484.0   2.7  125.0   0.0  13.9   6.4  160.0    0.0\n",
       " 12.4   439.0   1.1   82.0   0.0   9.9   3.0   66.0    0.0\n",
       "  8.0   130.0   0.4   31.0  18.9   2.8   3.0   17.0    0.0\n",
       " 12.5   288.0   0.5   50.0   0.0   0.0   0.0    0.0    0.0\n",
       "  ⋮                                ⋮                 \n",
       " 13.5   104.0   2.5  136.0   4.5   6.3   1.4   24.0  136.0\n",
       " 20.0  1367.0   4.2  345.0   2.9  28.7  18.4  162.0    0.0\n",
       " 17.4  1055.0   3.7  459.0   5.1  26.9  38.2   93.0    0.0\n",
       " 26.9  1691.0  11.4  792.0   0.0  38.4  24.6  217.0    0.0\n",
       "  0.0     0.0   0.0    0.0   0.0   4.0   5.1   50.0    0.0\n",
       "  0.0     0.0   0.0    0.0   0.0   0.0   2.3   42.0    0.0\n",
       "  8.7   237.0   3.0   72.0   0.0   2.0  11.9   40.0    0.0\n",
       "  8.0    77.0   1.3   39.0   0.0   0.9   3.4   14.0    0.0\n",
       " 34.9     0.0   0.0    0.0   0.0   0.0   0.0    0.0    0.0\n",
       " 14.7     0.0   0.5   74.0   0.0   0.0   0.0    5.0    0.0\n",
       "  9.0     0.0  10.3  244.0   0.0   1.9   7.5  146.0    0.0\n",
       "  6.4    11.0   0.4    7.0   0.2   0.2   0.4    3.0    0.0"
      ]
     },
     "execution_count": 24,
     "metadata": {},
     "output_type": "execute_result"
    }
   ],
   "source": [
    "food_nutrient_matrix = Matrix(df[2:end,2:end])\n",
    "food_nutrient_matrix "
   ]
  },
  {
   "cell_type": "code",
   "execution_count": 25,
   "id": "21337c4c",
   "metadata": {},
   "outputs": [
    {
     "data": {
      "text/plain": [
       "77×9 Named Matrix{Float64}\n",
       "      foods ╲ nutrients │   …  \n",
       "────────────────────────┼──────\n",
       "Wheat Flour (Enriched)  │   …  \n",
       "Macaroni                │      \n",
       "Wheat Cereal (Enriched) │      \n",
       "Corn Flakes             │      \n",
       "Corn Meal               │      \n",
       "Hominy Grits            │      \n",
       "Rice                    │      \n",
       "Rolled Oats             │      \n",
       "White Bread (Enriched)  │      \n",
       "Whole Wheat Bread       │      \n",
       "Rye Bread               │      \n",
       "⋮                           ⋱  \n",
       "Peas, Dried             │      \n",
       "Lima Beans, Dried       │      \n",
       "Navy Beans, Dried       │      \n",
       "Coffee                  │      \n",
       "Tea                     │      \n",
       "Cocoa                   │      \n",
       "Chocolate               │      \n",
       "Sugar                   │      \n",
       "Corn Syrup              │      \n",
       "Molasses                │      \n",
       "Strawberry Preserves    │   …  "
      ]
     },
     "execution_count": 25,
     "metadata": {},
     "output_type": "execute_result"
    }
   ],
   "source": [
    "food_nutrient_array = NamedArray(food_nutrient_matrix, (foods, nutrients), (\"foods\",\"nutrients\"))\n",
    "food_nutrient_array"
   ]
  },
  {
   "cell_type": "markdown",
   "id": "b751caf1",
   "metadata": {},
   "source": [
    "\n",
    "\n",
    "* Convert the following LP into standard form:\n",
    "\n",
    "\\begin{align*}\n",
    "\\underset{x_1,x_2,x_3,x_4}{\\min} \\ & 3x_1 - x_2 & \\\\\n",
    "\\text{s.t.} \\ & -x_1 + 6x_2 - x_3 + x_4 \\geq  -3 &\\\\\n",
    "& 7x_2 + x_4 =  5 &\\\\\n",
    "& x_3 + x_4 \\leq 5 &\\\\\n",
    "& -1 \\leq x_2 \\leq 5, \\ -1 \\leq x_3 \\leq 5, \\ -2 \\leq x_4 \\leq 2 &\n",
    "\\end{align*}\n",
    "\n",
    "### Solutions\n",
    "\\begin{align*}\n",
    "\\underset{u,v,w,r,s}{-\\max} \\ & -3u + 3v + w -1 & \\\\\n",
    "\\text{s.t.} \\ & u - v - 6w + r -s \\leq -4&\\\\\n",
    "& 7w + s \\leq 14 &\\\\\n",
    "& -7w - s \\leq -14 &\\\\\n",
    "& r + s \\leq 8 &\\\\\n",
    "& r \\leq 6\\\\\n",
    "& w \\leq 6\\\\\n",
    "& s \\leq 4\\\\\n",
    "& u, v, w, r, s \\geq 0\n",
    "\\end{align*}\n",
    "\n",
    "Where $x_1 = u - v$, $x_2 = w-1$, $x_3 = r-1$, and $x_4 = s - 2$.\n",
    "\n",
    "\n",
    "## LP Solution Behavior \n",
    "\n",
    "* After modeling your LP and solving it, the solver unexpectedly returns “infeasible.” Which of the following modeling errors could have caused this?\n",
    "\n",
    "    (a) Incorrect objective function\n",
    "    \n",
    "    (b) Forgot to include a constraint\n",
    "    \n",
    "    (c) Added an extra constraint by mistake\n",
    "    \n",
    "    (d) Any of (a), (b), or (c) could have caused it\n",
    "    \n",
    "    (e) Either (a) or (b) could have caused it\n",
    " \n",
    "\n",
    "__(c) Is the correct answer. Feasible region is empty, so it is overconstrained.__\n",
    " \n",
    "*  After modeling your LP and solving it, the solver unexpectedly returns “unbounded.” Which of the following modeling errors could have caused this?\n",
    "\n",
    "    (a) Incorrect objective function\n",
    "    \n",
    "    (b) Forgot to include a constraint\n",
    "    \n",
    "    (c) Added an extra constraint by mistake\n",
    "    \n",
    "    (d) Any of (a), (b), or (c) could have caused it\n",
    "    \n",
    "    (e) Either (a) or (b) could have caused it\n",
    "    \n",
    "__(e) is the correct answer. The feasible region could be unbounded in the direction we are optimizing, indicating that we forgot part of the polyhedron (a constraint -- (b)). The objective could also be going the \"wrong way\" (maybe we forgot a negative sign) and be allowed to increase/decrease to infinity (objective wrong -- (a)).__\n",
    "\n",
    "*  Suppose you have a constrained minimization problem. You then add an extra linear constraint to the problem. What might the optimal objective value do?\n",
    "\n",
    "    (a) increase\n",
    "    \n",
    "    (b) decrease\n",
    "    \n",
    "    (c) stay the same\n",
    "    \n",
    "    (d) Any of (a), (b), or (c) could have caused it\n",
    "    \n",
    "    (e) Either (a) or (b) could have caused it\n",
    "   \n",
    " __There's a typo here -- the correct answers are (a) and (c). The new constraint can only REMOVE choices, not give new choices. Therefore, if it cuts off the previously optimal point, the objective will get worse (increase). Or, it could not affect the optimal point (e.g., the new constraint is satisfied by every point in the feasible set) so the objective doesn't change. It can never get better (decrease) by adding a new constraint.__"
   ]
  },
  {
   "cell_type": "code",
   "execution_count": 2,
   "id": "1f8fca02",
   "metadata": {},
   "outputs": [
    {
     "name": "stdout",
     "output_type": "stream",
     "text": [
      "Max -3 u + 3 v + w - 1\n",
      "Subject to\n",
      " u - v - 6 w + r - s <= -4.0\n",
      " 7 w + s <= 14.0\n",
      " -7 w - s <= -14.0\n",
      " r + s <= 8.0\n",
      " u >= 0.0\n",
      " v >= 0.0\n",
      " w >= 0.0\n",
      " r >= 0.0\n",
      " s >= 0.0\n",
      " w <= 6.0\n",
      " r <= 6.0\n",
      " s <= 2.0\n",
      "\n",
      "x1 = -9.78986545550759e10\n",
      "x2 = -1.0\n",
      "x3 = -1.0\n",
      "x4 = -2.0\n",
      "objective = -2.9369596366622766e11\n",
      "Coin0508I Presolve thinks problem is unbounded\n",
      "Clp3003W Analysis indicates model infeasible or unbounded\n",
      "Clp0006I 0  Obj -1 Primal inf 8.6627753 (2) Dual inf 6.1760409 (2)\n",
      "Clp0006I 1  Obj 5.8739193e+10\n",
      "Clp0006I 1  Obj 2.9369596e+11\n",
      "Clp0002I Dual infeasible - objective value 2.9369596e+11\n",
      "Clp0032I DualInfeasible objective 2.936959637e+11 - 1 iterations time 0.002\n"
     ]
    }
   ],
   "source": [
    "using JuMP, Clp\n",
    "m = Model(Clp.Optimizer)\n",
    "@variable(m, u >= 0)\n",
    "@variable(m, v >= 0)\n",
    "@variable(m, 0 <= w <= 6)\n",
    "@variable(m, 0 <= r <= 6)\n",
    "@variable(m, 0 <= s <= 2)\n",
    "\n",
    "@objective(m, Max, -3*u + 3*v + w - 1)\n",
    "@constraint(m, u-v-6*w+r-s <= -4)\n",
    "@constraint(m, 7*w + s <=14)\n",
    "@constraint(m, -7*w-s <= -14)\n",
    "@constraint(m, r+s <=8)\n",
    "\n",
    "optimize!(m)\n",
    "println(m)\n",
    "println(\"x1 = \", value(u-v))\n",
    "println(\"x2 = \", value(w-1))\n",
    "println(\"x3 = \", value(r-1))\n",
    "println(\"x4 = \", value(s-2))\n",
    "println(\"objective = \", -objective_value(m))"
   ]
  },
  {
   "cell_type": "code",
   "execution_count": null,
   "id": "04554190",
   "metadata": {},
   "outputs": [],
   "source": []
  }
 ],
 "metadata": {
  "kernelspec": {
   "display_name": "Julia 1.6.1",
   "language": "julia",
   "name": "julia-1.6"
  },
  "language_info": {
   "file_extension": ".jl",
   "mimetype": "application/julia",
   "name": "julia",
   "version": "1.6.1"
  }
 },
 "nbformat": 4,
 "nbformat_minor": 5
}
