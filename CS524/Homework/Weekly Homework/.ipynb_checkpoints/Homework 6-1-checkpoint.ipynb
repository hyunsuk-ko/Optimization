{
 "cells": [
  {
   "cell_type": "markdown",
   "metadata": {},
   "source": [
    "# Homework \\#6\n",
    "Due __Friday, August 6__ @ 11:59pm\n",
    "\n",
    "## Submission requirements\n",
    "Upload a **single PDF file** of your IJulia notebook for this entire assigment. Clearly denote which question each section of your PDF corresponds to."
   ]
  },
  {
   "cell_type": "markdown",
   "metadata": {},
   "source": [
    "## Problem 1 -- Bakeshop\n",
    "\n",
    "A bakery must complete three prep tasks before assembling a cake. These tasks can be done in any order.\n",
    "\n",
    "Task 1 (making the cake) has three steps that have to be done in any order:\n",
    "* Mix ingredients\n",
    "* Bake cake\n",
    "* Cool cake\n",
    "\n",
    "Task 2 (making the frosting) has two steps that can be done in any order:\n",
    "* Stir frosting\n",
    "* Taste test frosting\n",
    "\n",
    "Task 3 (make decorations) has three steps that can be done in any order:\n",
    "* Make fondant\n",
    "* Make chocolate sprinkles\n",
    "* Make rainbow sprinkles\n",
    "\n",
    "There are four cake assembly stations. The tasks can be done at any of the four stations.\n",
    "\n",
    "Our goal is to minimize the total completion time for assembling cakes.  Key issues to deal with are:\n",
    "- A station cannot handle multiple jobs simultaneously (e.g., cannot mix ingredients and stir frosting at the same time)\n",
    "- Each job must be completed at a single station (e.g., cannot start making fondant at one station and finish it at the other). \n",
    "- Tasks can be split across stations (e.g., chocolate sprinkles can be made at one station while rainbow sprinkles are made at another station).\n",
    "- All jobs must be completed in order to finish a cake assembly.\n",
    "\n",
    "Jobs are defined by pairs (task,step) that have to get done. Because of different levels of expertise of the bakers, it takes different amounts of time to complete each step at each of the four assembly stations. Processing times (in minutes) for each job at each station are given below:\n",
    "\n",
    "|Station|1|2|3|4|\n",
    "|:---|:-|:-|:-|:-|\n",
    "|(Task1,Step1)|17|18|12|16|\n",
    "|(Task1,Step2)|20|18|17|14|\n",
    "|(Task1,Step3)|17|21|9|21|\n",
    "|(Task2,Step1)|13|18|21|12|\n",
    "|(Task2,Step2)|19|21|17|15|\n",
    "|(Task3,Step1)|11|13|9|14|\n",
    "|(Task3,Step2)|13|9|9|12|\n",
    "|(Task3,Step3)|9|13|17|17|\n",
    "\n",
    "It takes 10 minutes to clean and prep an assembly station in order to use it. \n",
    "\n",
    "Each assembly station needs to be used for other tasks during the day so the stations have the following limited total availability (in minutes):\n",
    "\n",
    "|Station| Time available (min)|\n",
    "|:------|:-----|\n",
    "|1|41|\n",
    "|2|45|\n",
    "|3|50|\n",
    "|4|46|\n",
    "\n",
    "\n",
    "\n",
    "Formulate an integer program to help the bakeshop assign (task,step) pairs to assembly stations in order to minimize the total time to complete a cake assembly. (Hint: model the problem as a generalized assignment problem.)"
   ]
  },
  {
   "cell_type": "code",
   "execution_count": 3,
   "metadata": {},
   "outputs": [
    {
     "data": {
      "text/plain": [
       "8"
      ]
     },
     "execution_count": 3,
     "metadata": {},
     "output_type": "execute_result"
    }
   ],
   "source": [
    "using NamedArrays, JuMP, Gurobi\n",
    "\n",
    "tasks = [:1_1, :1_2, :1_3, :2_1, :2_2, :3_1, :3_2, :3_3]\n",
    "stations = [:1, :2, :3, :4]\n",
    "\n",
    "b = [41 45 50 46] # capacity of each station\n",
    "\n",
    "# cost matrix\n",
    "c = Matrix([\n",
    "17 18 12 16\n",
    "20 18 17 14\n",
    "17 21  9 21\n",
    "13 18 21 12\n",
    "19 21 17 15\n",
    "11 13  9 14\n",
    "13  9  9 12\n",
    "9  13 17 17])\n",
    "\n",
    "# fixed cost\n",
    "h = [10 10 10 10]\n",
    "\n",
    "m = length(stations) # number of stations = 4\n",
    "n = length(tasks) # number of tasks = 8"
   ]
  },
  {
   "cell_type": "code",
   "execution_count": 4,
   "metadata": {},
   "outputs": [
    {
     "name": "stdout",
     "output_type": "stream",
     "text": [
      "Academic license - for non-commercial use only - expires 2022-07-06\n",
      "4×8 Named Matrix{Float64}\n",
      "stations ╲ tasks │   11    12    13    21    22    31    32    33\n",
      "─────────────────┼───────────────────────────────────────────────\n",
      "1                │ -0.0  -0.0  -0.0  -0.0  -0.0  -0.0  -0.0   1.0\n",
      "2                │ -0.0  -0.0  -0.0  -0.0  -0.0  -0.0   0.0  -0.0\n",
      "3                │  1.0  -0.0   1.0  -0.0  -0.0   1.0   1.0  -0.0\n",
      "4                │ -0.0   1.0  -0.0   1.0   1.0  -0.0  -0.0  -0.0\n",
      "\n",
      "Total Assembly time: 89.0\n",
      "Total Fixed Cost time: 30.0\n",
      "Final Minimum Total Time: 119.0\n"
     ]
    }
   ],
   "source": [
    "mod = Model(Gurobi.Optimizer)\n",
    "set_optimizer_attribute(mod, \"OutputFlag\", 0)\n",
    "\n",
    "# x[i,j] = 1 : if task j is assigned to station i\n",
    "# z[i] = 1 : if station i is used\n",
    "\n",
    "# binary variables that assign tasks to stations\n",
    "@variable(mod, x[1:m, 1:n], Bin)\n",
    "\n",
    "# binary variables that tell us which stations to use\n",
    "@variable(mod, z[1:n], Bin)\n",
    "\n",
    "# objective is to minimize the total assembly time\n",
    "# m = 4, n = 8\n",
    "@objective(mod, Min, sum(c[j,i] * x[i,j] for i in 1:m for j in 1:n) + sum(h[i] * z[i] for i in 1:m))\n",
    "#@objective(mod, Min, sum(c * x) + sum(h[i] * z[i] for i in 1:m))\n",
    "\n",
    "# Each job must be completed at a single station\n",
    "@constraint(mod, jobassign[i in 1:n], sum(x[j,i] for j in 1:m) == 1)\n",
    "\n",
    "# station capacity\n",
    "@constraint(mod, capacity[i in 1:m], sum(c[j,i] * x[i,j] for j in 1:n) <= b[i])\n",
    "\n",
    "# A station cannot handle multiple jobs simulataneously\n",
    "@constraint(mod, logic[i in 1:m], sum(c[j,i] * x[i,j] for j in 1:n) <= b[i] * z[i])\n",
    "\n",
    "optimize!(mod)\n",
    "\n",
    "sol = NamedArray(zeros(m,n),(stations,tasks),(\"stations\",\"tasks\"))\n",
    "\n",
    "for i in 1:m\n",
    "    for j in 1:n\n",
    "        sol[i,j] = value(x[i,j])\n",
    "    end\n",
    "end\n",
    "println(sol)\n",
    "println()\n",
    "println(\"Total Assembly time: \", value.(sum(c[j,i] * x[i,j] for i in 1:m for j in 1:n)))\n",
    "println(\"Total Fixed Cost time: \", value.(sum(h[i] * z[i] for i in 1:m)))\n",
    "println(\"Final Minimum Total Time: \", objective_value(mod))"
   ]
  },
  {
   "cell_type": "code",
   "execution_count": null,
   "metadata": {},
   "outputs": [],
   "source": []
  }
 ],
 "metadata": {
  "kernelspec": {
   "display_name": "Julia 1.6.1",
   "language": "julia",
   "name": "julia-1.6"
  },
  "language_info": {
   "file_extension": ".jl",
   "mimetype": "application/julia",
   "name": "julia",
   "version": "1.6.1"
  }
 },
 "nbformat": 4,
 "nbformat_minor": 4
}
