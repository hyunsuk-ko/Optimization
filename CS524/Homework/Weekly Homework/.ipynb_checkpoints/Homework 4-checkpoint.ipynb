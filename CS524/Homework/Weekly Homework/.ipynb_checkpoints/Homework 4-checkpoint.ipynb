{
 "cells": [
  {
   "cell_type": "markdown",
   "metadata": {},
   "source": [
    "# Homework \\#4\n",
    "Due July 14 @ 11:59pm\n",
    "\n",
    "## Submission requirements\n",
    "Upload a **single PDF file** of your IJulia notebook for this entire assigment. Clearly denote which question each section of your PDF corresponds to."
   ]
  },
  {
   "cell_type": "markdown",
   "metadata": {},
   "source": [
    "## Problem 1 -- Least \"Squares\"\n",
    "\n",
    "### The small problem\n",
    "\n",
    "The following set of six equations in four variables does not have a unique solution. (Most six equations with four variables don't.) In other words, this is an _overdetermined_ system of linear equations.\n",
    "\n",
    "\\begin{align}\n",
    "8 x_1 - 2 x_2 + 4 x_3 - 9 x_4 & = & 17\\\\\n",
    "x_1 + 6 x_2 - x_3 - 5 x_4 & = & -16\\\\\n",
    "x_1 - x_2 + x_3 & = & 7\\\\\n",
    "x_1 + 2 x_2 - 7 x_3 + 4 x_4 & = & -15\\\\\n",
    "x_3 - x_4 & = & 6\\\\\n",
    "x_1 + x_3 - x_4 & = & 0 \n",
    "\\end{align}\n",
    "\n",
    "Suppose you are given values of the variables $x = (x^*_1, x^*_2, x^*_3, x^*_4)$. For each equation $i$, define $r_i$ (the residual for equation $i$) as the _absolute_ difference (error) between the left hand\n",
    "side and the right hand side. For example, for $i=2$ and $x=(-5,3,1,4)$, the residual is \n",
    "\\begin{align}\n",
    "r_2 = | (1)(-5) + 6(3) - (1)(1) - 5(4) - (-16)| = |8| = 8\n",
    "\\end{align}\n",
    "\n",
    "(a) Write a _linear_ programming instance that will minimize the total residual: \n",
    "\\begin{align}\n",
    "r_1 + r_2 + r_3 + r_4 + r_5 + r_6.\n",
    "\\end{align}\n",
    "Solve this problem instance in Julia.  Display both the (minimum) total residual and the values of $x$ that achieve this."
   ]
  },
  {
   "cell_type": "code",
   "execution_count": 1,
   "metadata": {},
   "outputs": [
    {
     "data": {
      "text/plain": [
       "6-element Vector{Int64}:\n",
       "  17\n",
       " -16\n",
       "   7\n",
       " -15\n",
       "   6\n",
       "   0"
      ]
     },
     "execution_count": 1,
     "metadata": {},
     "output_type": "execute_result"
    }
   ],
   "source": [
    "A = [8 -2 4 -9; 1 6 -1 -5; 1 -1 1 0; 1 2 -7 4; 0 0 1 -1; 1 0 1 -1]\n",
    "b = [17; -16; 7; -15; 6; 0]\n",
    "\n",
    "#display(A)"
   ]
  },
  {
   "cell_type": "code",
   "execution_count": 3,
   "metadata": {},
   "outputs": [
    {
     "name": "stdout",
     "output_type": "stream",
     "text": [
      "Academic license - for non-commercial use only - expires 2022-07-06\n",
      "Gurobi Optimizer version 9.1.2 build v9.1.2rc0 (win64)\n",
      "Thread count: 6 physical cores, 12 logical processors, using up to 12 threads\n",
      "Optimize a model with 12 rows, 10 columns and 52 nonzeros\n",
      "Model fingerprint: 0xca2fe0f1\n",
      "Coefficient statistics:\n",
      "  Matrix range     [1e+00, 9e+00]\n",
      "  Objective range  [1e+00, 1e+00]\n",
      "  Bounds range     [0e+00, 0e+00]\n",
      "  RHS range        [6e+00, 2e+01]\n",
      "Presolve removed 10 rows and 4 columns\n",
      "Presolve time: 0.01s\n",
      "Presolved: 2 rows, 6 columns, 12 nonzeros\n",
      "\n",
      "Iteration    Objective       Primal Inf.    Dual Inf.      Time\n",
      "       0   -1.1928571e+31   3.357143e+30   1.192857e+01      0s\n",
      "       2    8.7305389e+00   0.000000e+00   0.000000e+00      0s\n",
      "\n",
      "Solved in 2 iterations and 0.03 seconds\n",
      "Optimal objective  8.730538922e+00\n",
      "\n",
      "User-callback calls 47, time in user-callback 0.01 sec\n",
      "Minimum total residual: 8.730538922155688\n",
      "x[1] = 2.730538922155689\n",
      "x[2] = -0.586826347305389\n",
      "x[3] = 3.682634730538922\n",
      "x[4] = 2.3053892215568865\n"
     ]
    }
   ],
   "source": [
    "using JuMP, Gurobi\n",
    "\n",
    "m = Model(Gurobi.Optimizer)\n",
    "\n",
    "@variable(m, x[1:4])\n",
    "@variable(m, t[1:6])\n",
    "\n",
    "@objective(m, Min, sum(t))\n",
    "\n",
    "for i in 1:6\n",
    "    r = 0\n",
    "    for j in 1:4\n",
    "        r += A[i,j] * x[j]\n",
    "    end\n",
    "    r = r - b[i]\n",
    "    @constraint(m, r <= t[i])\n",
    "    @constraint(m, -t[i] <= r)\n",
    "end\n",
    "\n",
    "optimize!(m)\n",
    "\n",
    "println(\"Minimum total residual: \", objective_value(m))\n",
    "\n",
    "println(\"x[1] = \", value(x[1]))\n",
    "println(\"x[2] = \", value(x[2]))\n",
    "println(\"x[3] = \", value(x[3]))\n",
    "println(\"x[4] = \", value(x[4]))"
   ]
  },
  {
   "cell_type": "markdown",
   "metadata": {},
   "source": [
    "(b) Write a _linear_ programming instance that will minimize the _maximum_ residual in any one equation. In other words, find values of $x$ that will $\\min \\max\\{r_1, r_2, r_3, r_4, r_5, r_6\\}.$ Solve the problem in Julia. What is the minimum max-residual that can be achieved?"
   ]
  },
  {
   "cell_type": "code",
   "execution_count": 4,
   "metadata": {},
   "outputs": [
    {
     "name": "stdout",
     "output_type": "stream",
     "text": [
      "Academic license - for non-commercial use only - expires 2022-07-06\r\n",
      "Gurobi Optimizer version 9.1.2 build v9.1.2rc0 (win64)\r\n",
      "Thread count: 6 physical cores, 12 logical processors, using up to 12 threads\r\n",
      "Optimize a model with 12 rows, 5 columns and 52 nonzeros\r\n",
      "Model fingerprint: 0x2a991195\r\n",
      "Variable types: 1 continuous, 4 integer (0 binary)\r\n",
      "Coefficient statistics:\r\n",
      "  Matrix range     [1e+00, 9e+00]\r\n",
      "  Objective range  [1e+00, 1e+00]\r\n",
      "  Bounds range     [0e+00, 0e+00]\r\n",
      "  RHS range        [6e+00, 2e+01]\r\n",
      "Found heuristic solution: objective 17.0000000\r\n",
      "Presolve time: 0.01s\r\n",
      "Presolved: 12 rows, 5 columns, 52 nonzeros\r\n",
      "Variable types: 0 continuous, 5 integer (0 binary)\r\n",
      "\r\n",
      "Root relaxation: objective 3.615925e+00, 10 iterations, 0.00 seconds\r\n",
      "\r\n",
      "    Nodes    |    Current Node    |     Objective Bounds      |     Work\r\n",
      " Expl Unexpl |  Obj  Depth IntInf | Incumbent    BestBd   Gap | It/Node Time\r\n",
      "\r\n",
      "     0     0    3.61593    0    5   17.00000    3.61593  78.7%     -    0s\r\n",
      "H    0     0                       4.0000000    3.61593  9.60%     -    0s\r\n",
      "     0     0    3.61593    0    5    4.00000    3.61593  9.60%     -    0s\r\n",
      "\r\n",
      "Explored 1 nodes (10 simplex iterations) in 0.04 seconds\r\n",
      "Thread count was 12 (of 12 available processors)\r\n",
      "\r\n",
      "Solution count 2: 4 17 \r\n",
      "\r\n",
      "Optimal solution found (tolerance 1.00e-04)\r\n",
      "Best objective 4.000000000000e+00, best bound 4.000000000000e+00, gap 0.0000%\r\n",
      "\r\n",
      "User-callback calls 49, time in user-callback 0.00 sec\r\n",
      "Minimum max-residual: 4.0\n",
      "x[1] = 0.0\n",
      "x[2] = -3.0\n",
      "x[3] = 1.0\n",
      "x[4] = -1.0\n"
     ]
    }
   ],
   "source": [
    "using JuMP, Gurobi\n",
    "\n",
    "m = Model(Gurobi.Optimizer)\n",
    "\n",
    "@variable(m, x[1:4], Int)\n",
    "@variable(m, t) # epigraph trick variable\n",
    "\n",
    "@objective(m, Min, t) # minimize the largest component\n",
    "\n",
    "# a[i] * x[i] - b[i] <= t\n",
    "@constraint(m, right_r[i in 1:6], sum(A[i,:][j] * x[j]  for j in 1:4) - b[i] <= t)\n",
    "# -t <= a[i] * x[i] - b[i] \n",
    "@constraint(m, left_r[i in 1:6], -t <= sum(A[i,:][j] * x[j]  for j in 1:4) - b[i])\n",
    "\n",
    "optimize!(m)\n",
    "println(\"Minimum max-residual: \", objective_value(m))\n",
    "\n",
    "println(\"x[1] = \", value(x[1]))\n",
    "println(\"x[2] = \", value(x[2]))\n",
    "println(\"x[3] = \", value(x[3]))\n",
    "println(\"x[4] = \", value(x[4]))"
   ]
  },
  {
   "cell_type": "markdown",
   "metadata": {},
   "source": [
    "### The big problem\n",
    "\n",
    "Let $J = \\{1, 2, \\ldots, |J|\\}$ be a set representing the indices of your decision variables for some number of variables $|J|$. You are given a set of a total of $|I| > |J|$ equations containing these decision variables in the form:\n",
    "\\begin{align}\n",
    "\\sum_{j \\in J} a_{ij} x_j = b_i \\qquad \\forall i \\in I \n",
    "\\end{align}\n",
    "Define the absolute residual of each equation $i \\in I$ for a given choice of variable values $x^*$ as the quantity\n",
    "$r_i(x^*) = | \\sum_{j \\in J} (a_{ij} x_j) - b_i | \\qquad \\forall\n",
    "i \\in I.$\n",
    "\n",
    "\n",
    "Use the following code to randomly generate data for your problem:"
   ]
  },
  {
   "cell_type": "code",
   "execution_count": 9,
   "metadata": {},
   "outputs": [],
   "source": [
    "nr = 400 # number of rows of the coefficient matrix (number of equations)\n",
    "nc = 100 # number of columns of the coefficient matrix (number of decision variables)\n",
    "\n",
    "A = zeros(nr,nc) # initialize coefficient matrix\n",
    "b = zeros(nr) # initialize right-hand side of equations\n",
    "\n",
    "for i in 1:nr\n",
    "    b[i] = rand(-100:100) # generate random right-hand side\n",
    "    for j in 1:nc\n",
    "        A[i,j] = rand(-10:10) # generate random coefficient\n",
    "    end\n",
    "end"
   ]
  },
  {
   "cell_type": "markdown",
   "metadata": {},
   "source": [
    "(c) Write a _linear_ programming instance that will minimize the total residual: \n",
    "\\begin{align}\n",
    "\\sum_{i\\in I} r_i.\n",
    "\\end{align}\n",
    "Solve this problem instance in Julia.  Display the (minimum) total residual."
   ]
  },
  {
   "cell_type": "code",
   "execution_count": 10,
   "metadata": {},
   "outputs": [
    {
     "name": "stdout",
     "output_type": "stream",
     "text": [
      "Academic license - for non-commercial use only - expires 2022-07-06\r\n",
      "Gurobi Optimizer version 9.1.2 build v9.1.2rc0 (win64)\r\n",
      "Thread count: 6 physical cores, 12 logical processors, using up to 12 threads\r\n",
      "Optimize a model with 800 rows, 500 columns and 76954 nonzeros\r\n",
      "Model fingerprint: 0x549d69ea\r\n",
      "Coefficient statistics:\r\n",
      "  Matrix range     [1e+00, 1e+01]\r\n",
      "  Objective range  [1e+00, 1e+00]\r\n",
      "  Bounds range     [0e+00, 0e+00]\r\n",
      "  RHS range        [1e+00, 1e+02]\r\n",
      "\r\n",
      "Concurrent LP optimizer: primal simplex, dual simplex, and barrier\r\n",
      "Showing barrier log only...\r\n",
      "\r\n",
      "Presolve removed 400 rows and 0 columns\r\n",
      "Presolve time: 0.06s\r\n",
      "Presolved: 400 rows, 500 columns, 38477 nonzeros\r\n",
      "\r\n",
      "Ordering time: 0.00s\r\n",
      "\r\n",
      "Barrier statistics:\r\n",
      " Free vars  : 100\r\n",
      " AA' NZ     : 7.980e+04\r\n",
      " Factor NZ  : 8.020e+04 (roughly 1 MByte of memory)\r\n",
      " Factor Ops : 2.141e+07 (less than 1 second per iteration)\r\n",
      " Threads    : 4\r\n",
      "\r\n",
      "                  Objective                Residual\r\n",
      "Iter       Primal          Dual         Primal    Dual     Compl     Time\r\n",
      "   0   8.99181800e+04  1.64000000e+02  0.00e+00 7.45e+01  3.87e+02     0s\r\n",
      "   1   4.92090121e+04  7.25760143e+03  0.00e+00 4.00e-06  5.24e+01     0s\r\n",
      "\r\n",
      "Barrier performed 1 iterations in 0.13 seconds\r\n",
      "Barrier solve interrupted - model solved by another algorithm\r\n",
      "\r\n",
      "\r\n",
      "Solved with primal simplex\r\n",
      "Solved in 355 iterations and 0.13 seconds\r\n",
      "Optimal objective  1.578498414e+04\r\n",
      "\r\n",
      "User-callback calls 458, time in user-callback 0.00 sec\r\n",
      "Minimum total residual: 15784.984136717927\n"
     ]
    }
   ],
   "source": [
    "using JuMP, Gurobi\n",
    "\n",
    "m = Model(Gurobi.Optimizer)\n",
    "\n",
    "@variable(m, x[1:100])\n",
    "@variable(m, t[1:400]) \n",
    "\n",
    "@objective(m, Min, sum(t))\n",
    "\n",
    "@constraint(m, A*x .-b .<= t)\n",
    "@constraint(m, -t .<= A*x .-b)\n",
    "\n",
    "optimize!(m)\n",
    "println(\"Minimum total residual: \", objective_value(m))"
   ]
  },
  {
   "cell_type": "markdown",
   "metadata": {},
   "source": [
    "(d) Write a _linear_ programming instance that will minimize the _maximum_ residual in any one equation. In other words, find values of $x$ that will $\\min \\max_{i\\in I}\\{r_i\\}.$ Solve the problem in Julia. What is the minimum max-residual that can be achieved?"
   ]
  },
  {
   "cell_type": "code",
   "execution_count": 12,
   "metadata": {},
   "outputs": [
    {
     "name": "stdout",
     "output_type": "stream",
     "text": [
      "Academic license - for non-commercial use only - expires 2022-07-06\r\n",
      "Gurobi Optimizer version 9.1.2 build v9.1.2rc0 (win64)\r\n",
      "Thread count: 6 physical cores, 12 logical processors, using up to 12 threads\r\n",
      "Optimize a model with 800 rows, 101 columns and 76954 nonzeros\r\n",
      "Model fingerprint: 0xb6f8cfee\r\n",
      "Coefficient statistics:\r\n",
      "  Matrix range     [1e+00, 1e+01]\r\n",
      "  Objective range  [1e+00, 1e+00]\r\n",
      "  Bounds range     [0e+00, 0e+00]\r\n",
      "  RHS range        [1e+00, 1e+02]\r\n",
      "Presolve time: 0.06s\r\n",
      "Presolved: 800 rows, 101 columns, 76954 nonzeros\r\n",
      "\r\n",
      "Iteration    Objective       Primal Inf.    Dual Inf.      Time\r\n",
      "       0      handle free variables                          0s\r\n",
      "     383    8.0748869e+01   0.000000e+00   0.000000e+00      0s\r\n",
      "\r\n",
      "Solved in 383 iterations and 0.33 seconds\r\n",
      "Optimal objective  8.074886901e+01\r\n",
      "\r\n",
      "User-callback calls 413, time in user-callback 0.00 sec\r\n",
      "Minimum max-residual: 80.7488690111316\n"
     ]
    }
   ],
   "source": [
    "using JuMP, Gurobi\n",
    "\n",
    "m = Model(Gurobi.Optimizer)\n",
    "\n",
    "@variable(m, x[1:100])\n",
    "@variable(m, t) \n",
    "\n",
    "@objective(m, Min, t)\n",
    "\n",
    "@constraint(m, A*x .-b .<= t)\n",
    "@constraint(m, -t .<= A*x .-b)\n",
    "\n",
    "optimize!(m)\n",
    "println(\"Minimum max-residual: \", objective_value(m))"
   ]
  },
  {
   "cell_type": "markdown",
   "metadata": {},
   "source": [
    "## Problem 2 -- Does this curve make my data look big?\n",
    "\n",
    "Suppose Prof. Smith has handed you a magical black box. At first, you are excited, but then you realize this box is actually quite boring. The box has a numerical keypad on its side. If you type a number and hit \"enter,\" the box hums for a second before printing out a slip of paper with a different number printed on it. You've played with the box for a few minutes and ended up with the following sequence of inputs and outputs:\n",
    "\n",
    "|Input|0|11|1|13|20|7|11|14|15|0|\n",
    "|:----|:-|:-|:-|:-|:-|:-|:-|:-|:-|:-|\n",
    "|Output|7|-7|0|7|-6|-13|15|-12|-6|7|\n",
    "\n",
    "You are beginning to grow suspcicious that all this box is doing is plugging the input into a $k$th degree polynomial and displaying the result of the function evaluation. To prove your point, you decide to find a set of coefficients that give the best fit for the data. \n",
    "\n",
    "(a) Graph the data on a 2D plot (I recommend using the PyPlot package)."
   ]
  },
  {
   "cell_type": "code",
   "execution_count": 1,
   "metadata": {},
   "outputs": [
    {
     "data": {
      "image/png": "[encoded data removed]",
      "text/plain": [
       "Figure(PyObject <Figure size 800x400 with 1 Axes>)"
      ]
     },
     "metadata": {},
     "output_type": "display_data"
    },
    {
     "data": {
      "text/plain": [
       "(-3.0, 25.0, -20.0, 10.0)"
      ]
     },
     "execution_count": 1,
     "metadata": {},
     "output_type": "execute_result"
    }
   ],
   "source": [
    "x = [0, 11, 1, 13, 20, 7, 11, 14, 15, 0]\n",
    "y = [7, -7, 0, 7, -6, -13, 15, -12, -6, 7]\n",
    "\n",
    "using PyPlot\n",
    "figure(figsize=(8,4))\n",
    "plot(x,y,\"r.\",markersize=10)\n",
    "axis([-3,25,-20,10])"
   ]
  },
  {
   "cell_type": "markdown",
   "metadata": {},
   "source": [
    "(b) Guess a degree of polynomial that might fit the data. Using that degree of polynomial, use least squares to find the coefficients of the polynomial resulting in the smallest 2-norm error."
   ]
  },
  {
   "cell_type": "code",
   "execution_count": 9,
   "metadata": {},
   "outputs": [
    {
     "data": {
      "text/plain": [
       "10×4 Matrix{Float64}:\n",
       "    0.0    0.0   0.0  1.0\n",
       " 1331.0  121.0  11.0  1.0\n",
       "    1.0    1.0   1.0  1.0\n",
       " 2197.0  169.0  13.0  1.0\n",
       " 8000.0  400.0  20.0  1.0\n",
       "  343.0   49.0   7.0  1.0\n",
       " 1331.0  121.0  11.0  1.0\n",
       " 2744.0  196.0  14.0  1.0\n",
       " 3375.0  225.0  15.0  1.0\n",
       "    0.0    0.0   0.0  1.0"
      ]
     },
     "metadata": {},
     "output_type": "display_data"
    }
   ],
   "source": [
    "# order of polynomial to use\n",
    "k = 3\n",
    "\n",
    "# fit using a function of the form f(x) = p x^k + q x^(k-1) + ... + rk x + s\n",
    "\n",
    "m = length(x)\n",
    "\n",
    "# initialize A to be a matrix of zeros with m rows and k+1 columns\n",
    "# (there will be coefficients on x*4 ,x^3, x^2, x^1, and x^0, so 5 columns)\n",
    "P = zeros(m, k+1)\n",
    "\n",
    "# now loop over each row and each column\n",
    "# the ij'th entry of A will be x_i ^ (k+1 - j)\n",
    "# e.g., row 1 column 1: x_1 ^ (4-1) = x_1 ^ 4\n",
    "\n",
    "for i = 1:m\n",
    "    for j = 1:k+1\n",
    "        P[i,j] = x[i] ^ (k+1-j)\n",
    "    end\n",
    "end\n",
    "display(P)"
   ]
  },
  {
   "cell_type": "code",
   "execution_count": 10,
   "metadata": {},
   "outputs": [
    {
     "name": "stdout",
     "output_type": "stream",
     "text": [
      "[-0.015895670405122474, 0.5016357793270482, -4.366064500383657, 5.771700850579716]\n"
     ]
    }
   ],
   "source": [
    "uopt = P\\y\n",
    "println(uopt)"
   ]
  },
  {
   "cell_type": "markdown",
   "metadata": {},
   "source": [
    " According to above result, we can get the same coefficients for a polynomial of degree 3:  \n",
    " \n",
    "[-0.015895670405122474, 0.5016357793270482, -4.366064500383657, 5.771700850579716]."
   ]
  },
  {
   "cell_type": "code",
   "execution_count": 11,
   "metadata": {},
   "outputs": [
    {
     "name": "stdout",
     "output_type": "stream",
     "text": [
      "Total 2-norm error: 24.941241675066493\n"
     ]
    }
   ],
   "source": [
    "# total error ||Ax - y||\n",
    "y_calc = zeros(10)\n",
    "for j = 1:10\n",
    "    y_calc[j] = uopt[1] * x[j]^3 + uopt[2] * x[j]^2 + uopt[3] * x[j]^1 + uopt[4]\n",
    "end\n",
    "\n",
    "using LinearAlgebra\n",
    "err = norm(y_calc - y)\n",
    "println(\"Total 2-norm error: \", err)"
   ]
  },
  {
   "cell_type": "markdown",
   "metadata": {},
   "source": [
    "Also, we can get Total 2-norm error: 24.9412416750665"
   ]
  },
  {
   "cell_type": "markdown",
   "metadata": {},
   "source": [
    "(c) Repeat part (b) for polynomials of degree 2 through 8. Which degree polynomial results in the lowest total 2-norm error?\n",
    "\n",
    ": Polynomial of degree 7 & 8 had the lowest total 2-norm error (15.556349186104045)."
   ]
  },
  {
   "cell_type": "code",
   "execution_count": 19,
   "metadata": {},
   "outputs": [
    {
     "name": "stdout",
     "output_type": "stream",
     "text": [
      "Total 2-norm error for degree 2: 26.267484888072797\n"
     ]
    }
   ],
   "source": [
    "# Degree of 2: \n",
    "k = 2\n",
    "m = length(x)\n",
    "P = zeros(m, k+1)\n",
    "\n",
    "for i = 1:m\n",
    "    for j = 1:k+1\n",
    "        P[i,j] = x[i] ^ (k+1-j)\n",
    "    end\n",
    "end\n",
    "\n",
    "uopt = P\\y\n",
    "\n",
    "y_calc = zeros(10)\n",
    "for j = 1:10\n",
    "    y_calc[j] = uopt[1] * x[j]^2 + uopt[2] * x[j]^1 + uopt[3]\n",
    "end\n",
    "\n",
    "using LinearAlgebra\n",
    "err = norm(y_calc - y)\n",
    "println(\"Total 2-norm error for degree 2: \", err)"
   ]
  },
  {
   "cell_type": "code",
   "execution_count": 7,
   "metadata": {},
   "outputs": [
    {
     "name": "stdout",
     "output_type": "stream",
     "text": [
      "Total 2-norm error for degree 4: 21.185049318330144\n"
     ]
    }
   ],
   "source": [
    "# Degree of 4: \n",
    "k = 4\n",
    "m = length(x)\n",
    "P = zeros(m, k+1)\n",
    "\n",
    "for i = 1:m\n",
    "    for j = 1:k+1\n",
    "        P[i,j] = x[i] ^ (k+1-j)\n",
    "    end\n",
    "end\n",
    "\n",
    "uopt = P\\y\n",
    "\n",
    "y_calc = zeros(10)\n",
    "for j = 1:10\n",
    "    y_calc[j] = uopt[1] * x[j]^4 + uopt[2] * x[j]^3 + uopt[3] * x[j]^2 + uopt[4] * x[j] + uopt[5] \n",
    "end\n",
    "\n",
    "using LinearAlgebra\n",
    "err = norm(y_calc - y)\n",
    "println(\"Total 2-norm error for degree 4: \", err)"
   ]
  },
  {
   "cell_type": "code",
   "execution_count": 21,
   "metadata": {},
   "outputs": [
    {
     "name": "stdout",
     "output_type": "stream",
     "text": [
      "Total 2-norm error for degree 5: 19.10116278296226\n"
     ]
    }
   ],
   "source": [
    "# Degree of 5: \n",
    "k = 5\n",
    "m = length(x)\n",
    "P = zeros(m, k+1)\n",
    "\n",
    "for i = 1:m\n",
    "    for j = 1:k+1\n",
    "        P[i,j] = x[i] ^ (k+1-j)\n",
    "    end\n",
    "end\n",
    "\n",
    "uopt = P\\y\n",
    "\n",
    "y_calc = zeros(10)\n",
    "for j = 1:10\n",
    "    y_calc[j] = uopt[1] * x[j]^5 + uopt[2] * x[j]^4 + uopt[3] * x[j]^3 + uopt[4] * x[j]^2 + uopt[5] * x[j]^1 + uopt[6] \n",
    "end\n",
    "\n",
    "using LinearAlgebra\n",
    "err = norm(y_calc - y)\n",
    "println(\"Total 2-norm error for degree 5: \", err)"
   ]
  },
  {
   "cell_type": "code",
   "execution_count": 22,
   "metadata": {},
   "outputs": [
    {
     "name": "stdout",
     "output_type": "stream",
     "text": [
      "Total 2-norm error for degree 6: 18.86560552317932\n"
     ]
    }
   ],
   "source": [
    "# Degree of 6: \n",
    "k = 6\n",
    "m = length(x)\n",
    "P = zeros(m, k+1)\n",
    "\n",
    "for i = 1:m\n",
    "    for j = 1:k+1\n",
    "        P[i,j] = x[i] ^ (k+1-j)\n",
    "    end\n",
    "end\n",
    "\n",
    "uopt = P\\y\n",
    "\n",
    "y_calc = zeros(10)\n",
    "for j = 1:10\n",
    "    y_calc[j] = uopt[1] * x[j]^6 + uopt[2] * x[j]^5 + uopt[3] * x[j]^4 + uopt[4] * x[j]^3 + uopt[5] * x[j]^2 + uopt[6] * x[j]^1 + uopt[7]\n",
    "end\n",
    "\n",
    "using LinearAlgebra\n",
    "err = norm(y_calc - y)\n",
    "println(\"Total 2-norm error for degree 6: \", err)"
   ]
  },
  {
   "cell_type": "code",
   "execution_count": 13,
   "metadata": {},
   "outputs": [
    {
     "name": "stdout",
     "output_type": "stream",
     "text": [
      "[-0.0006435992126837324, 0.043246710648403, -1.1399571128289758, 14.824422592647222, -96.92899190385027, 278.5988256082056, -202.39690229632552, 7.0000000007065495]\n",
      "\n",
      "Total 2-norm error for degree 7: 15.556349186104045\n"
     ]
    }
   ],
   "source": [
    "# Degree of 7: \n",
    "k = 7\n",
    "m = length(x)\n",
    "P = zeros(m, k+1)\n",
    "\n",
    "for i = 1:m\n",
    "    for j = 1:k+1\n",
    "        P[i,j] = x[i] ^ (k+1-j)\n",
    "    end\n",
    "end\n",
    "\n",
    "uopt = P\\y\n",
    "println(uopt)\n",
    "println()\n",
    "\n",
    "y_calc = zeros(10)\n",
    "for j = 1:10\n",
    "    y_calc[j] = uopt[1] * x[j]^7 + uopt[2] * x[j]^6 + uopt[3] * x[j]^5 + uopt[4] * x[j]^4 + uopt[5] * x[j]^3 + uopt[6] * x[j]^2 + uopt[7] * x[j]^1 + uopt[8]\n",
    "end\n",
    "\n",
    "using LinearAlgebra\n",
    "err = norm(y_calc - y)\n",
    "println(\"Total 2-norm error for degree 7: \", err)"
   ]
  },
  {
   "cell_type": "code",
   "execution_count": 12,
   "metadata": {},
   "outputs": [
    {
     "name": "stdout",
     "output_type": "stream",
     "text": [
      "[-4.468002357585895e-5, 0.002975482696962074, -0.07738935300650035, 0.9845780082054003, -6.169335404949304, 15.75085527301793, -2.938492148573957, -14.553147177476312, 7.000000000083627]\n",
      "\n",
      "Total 2-norm error for degree 8: 15.556349186104045\n"
     ]
    }
   ],
   "source": [
    "# Degree of 8\n",
    "k = 8\n",
    "m = length(x)\n",
    "P = zeros(m, k+1)\n",
    "\n",
    "for i = 1:m\n",
    "    for j = 1:k+1\n",
    "        P[i,j] = x[i] ^ (k+1-j)\n",
    "    end\n",
    "end\n",
    "\n",
    "uopt = P\\y\n",
    "println(uopt)\n",
    "println()\n",
    "\n",
    "y_calc = zeros(10)\n",
    "for j = 1:10\n",
    "    y_calc[j] = uopt[1] * x[j]^8 + uopt[2] * x[j]^7 + uopt[3] * x[j]^6 + uopt[4] * x[j]^5 + uopt[5] * x[j]^4 + uopt[6] * x[j]^3 + uopt[7] * x[j]^2 + uopt[8] * x[j]^1 + uopt[9]\n",
    "end\n",
    "\n",
    "using LinearAlgebra\n",
    "err = norm(y_calc - y)\n",
    "println(\"Total 2-norm error for degree 8: \", err)"
   ]
  },
  {
   "cell_type": "markdown",
   "metadata": {},
   "source": [
    "(d) Graph the best fitting polynomial against your data. What value would you expect to get with an input of $x = 5$? \n",
    "\n",
    ": $x = 5$       =>        Expected output: 172.2089489472795\n",
    "\n",
    "The following code won't run as-is but may be helpful for you as you set up your graphs:"
   ]
  },
  {
   "cell_type": "code",
   "execution_count": 36,
   "metadata": {},
   "outputs": [
    {
     "data": {
      "image/png": "[encoded data removed]",
      "text/plain": [
       "Figure(PyObject <Figure size 800x400 with 1 Axes>)"
      ]
     },
     "metadata": {},
     "output_type": "display_data"
    },
    {
     "name": "stdout",
     "output_type": "stream",
     "text": [
      "172.2089489472795\n"
     ]
    }
   ],
   "source": [
    "### Graph a polynomial of degree k with given coefficient values of coef_opt ###\n",
    "\n",
    "k = 7\n",
    "\n",
    "using PyPlot \n",
    "\n",
    "# graph 100 points along our polynomial between x=0 and x=20\n",
    "npts = 100\n",
    "x_poly = range(0,stop=20,length=npts)\n",
    "\n",
    "# initialize the output vector with all zeros\n",
    "y_poly = zeros(npts)\n",
    "\n",
    "# coefficients for polynomial degree of 7\n",
    "coef_opt = [-0.0006435992126837324, 0.043246710648403, -1.1399571128289758, 14.824422592647222, -96.92899190385027, 278.5988256082056, -202.39690229632552, 7.0000000007065495]\n",
    "\n",
    "# calculate what each output should be using our polynomial (k is the degree of the polynomial)\n",
    "for j = 1:npts\n",
    "    y_poly[j] = sum(coef_opt[ℓ] * x_poly[j]^(k+1-ℓ) for ℓ in 1:k+1)\n",
    "end\n",
    "\n",
    "# graph the observed data against the point\n",
    "figure(figsize=(8,4))\n",
    "plot( x_poly, y_poly, \"b-\") # plot all x_poly, y_poly pairs using a blue (b) line (-)\n",
    "plot(x,y, \"r.\", markersize=10)\n",
    "axis([-1,21,-100,500]) # axis ranges\n",
    "grid()\n",
    "\n",
    "# Expected value when x= 5\n",
    "result = sum(coef_opt[ℓ] * 5^(k+1-ℓ) for ℓ in 1:k+1)\n",
    "println(result)"
   ]
  },
  {
   "cell_type": "code",
   "execution_count": null,
   "metadata": {},
   "outputs": [],
   "source": []
  }
 ],
 "metadata": {
  "kernelspec": {
   "display_name": "Julia 1.6.1",
   "language": "julia",
   "name": "julia-1.6"
  },
  "language_info": {
   "file_extension": ".jl",
   "mimetype": "application/julia",
   "name": "julia",
   "version": "1.6.1"
  }
 },
 "nbformat": 4,
 "nbformat_minor": 4
}
