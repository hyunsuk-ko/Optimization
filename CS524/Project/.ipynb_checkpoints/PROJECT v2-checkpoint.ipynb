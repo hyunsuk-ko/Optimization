{
 "cells": [
  {
   "cell_type": "code",
   "execution_count": 1,
   "id": "5decb85b",
   "metadata": {},
   "outputs": [],
   "source": [
    "teams = [:Atlanta, :Boston, :Brooklyn, :Charlotte, :Chicago, :Cleveland, :Dallas, :Denver, :Detroit, :GoldenState, :Houston, :Indiana, :LAClippers, :LALakers, :Memphis, :Miami, :Milwaukee, :Minnesota, :NewOrleans, :NewYork, :Oklahoma, :Orlando, :Philadelphia, :Phoenix, :Portland, :Sacramento, :SanAntonio, :Toronto, :Utah, :Washington]\n",
    "t = length(teams) # number of all NBA teams\n",
    "\n",
    "# number of 2018 draft picks each team had (1st round, 2nd round)\n",
    "picks = [(3,1), (1,0), (1,2), (1,1), (2,0), (1,0), (1,2), (1,2), (0,1), (1,0), (0,1), (1,1), (2,0), (1,1), (1,1), (0,0), (1,1), (1,1), (0,1), (1,1), (0,2), (1,2), (2,4), (2,2), (1,0), (1,1), (1,0), (0,0), (1,1), (1,1)]\n",
    "# average age per team\n",
    "age = [25.6, 25.3, 25.3, 25.9, 24.7, 27.3, 27.7, 24.4, 26.5, 27.4, 27.4, 25.1, 27.4, 24.6, 26.4, 27.7, 25.6, 26.6, 25.9, 24.6, 25.5, 25.0, 25.3, 24.8, 24.3, 25.1, 27.5, 26.7, 26.1, 27.2]\n",
    "\n",
    "salary = [79.2, 125.3, 118.8, 121.4, 112.5, 123.2, 86.9, 118.3, 126.5, 146.2, 126.4, 110.7, 118.0, 107.2, 126.1, 153.1, 130.9, 121.9, 116.0, 123.3, 144.9, 114.3, 115.1, 108.6, 130.2, 101.4, 121.5, 137.7, 113.8, 123.7]\n",
    "\n",
    "ranking_17 = [15, 2, 12, 10, 13, 4, 13, 9, 9, 2, 1, 5, 10, 11, 14, 6, 7, 8, 6, 11, 4, 14, 3, 15, 3, 12, 7, 1, 5, 8]\n",
    "ranking_16 = [5, 1, 15, 11, 8, 2, 11, 9, 10, 1, 3, 7, 4, 14, 7, 9, 6, 13, 10, 12, 6, 13, 14, 15, 8, 12, 2, 3, 5, 4]\n",
    "ranking_15 = [4, 5, 14, 6, 9, 1, 6, 11, 8, 1, 8, 7, 4, 15, 7, 3, 12, 13, 12, 13, 3, 11, 15, 14, 5, 10, 2, 2, 9, 10]\n",
    "\n",
    "avg_ranking = []\n",
    "for i in 1:30\n",
    "    avg_rank = (ranking_17[i] + ranking_16[i] + ranking_15[i]) / 3\n",
    "    push!(avg_ranking, avg_rank)\n",
    "end\n",
    "\n",
    "players = [:Deandre_Ayton, :Marvin_Bagley_III, :Luka_Doncic, :Jaren_Jackson_Jr, :Trae_Young, :Mo_Bamba, :Wendell_Carter_Jr, :Collin_Sexton, :Kevin_Knox_II, :Mikal_Bridges, :Shai_Gilgeous_Alexander, :Miles_Bridges,:Jerome_Robinson, :Michael_Porter_Jr, :Troy_Brown_Jr, :Zhaire_Smith, :Donte_DiVincenzo, :Lonnie_Walker_IV, :Kevin_Huerter, :Josh_Okogie, :Grayson_Allen, :Chandler_Hutchinson, :Aaron_Holiday, :Anfernee_Simons, :Moritz_Wagner, :Laundry_Shamet, :Robert_Williams_III, :Jacob_Evans, :Dzanan_Musa, :Omari_Spellman, :Elie_Okobo, :Jevon_Carter, :Jalen_Brunson, :Devonte_Graham, :Melvin_Frazier_Jr, :Mitchell_Robinson, :Gary_Trent_Jr, :Khyri_Thomas, :Isaac_Bonga, :Rodions_Kurucs, :Jarred_Vanderbilt, :Bruce_Brown, :Justin_Jackson, :Issuf_Sanon, :Hamidou_Diallo, :DeAnthony_Melton, :Svi_Mykhailiuk, :Keita_Bates_Diop, :Chimezie_Metu, :Alize_Johnson, :Tony_Carr, :Vincent_Edwards, :Devon_Hall, :Shake_Milton, :Arnoldas_Kulboka, :Ray_Spalding, :Kevin_Hervey, :Thomas_Welsh, :George_King, :Kostas_Antetokounmpo]\n",
    "order =[1:60]\n",
    "\n",
    "num_team_picks = Dict(zip(teams,picks))\n",
    "avg_team_age = Dict(zip(teams,age))\n",
    "avg_team_salary = Dict(zip(teams,salary))\n",
    "avg_team_ranking = Dict(zip(teams, avg_ranking))\n",
    "\n",
    "draft_order_1R = [:Phoenix, :Sacramento, :Atlanta, :Memphis, :Dallas, :Orlando, :Chicago, :Cleveland, :NewYork, :Philadelphia, :Charlotte, :LAClippers, :LAClippers, :Denver, :Washington, :Phoenix, :Milwaukee, :SanAntonio, :Atlanta, :Minnesota, :Utah, :Chicago, :Indiana, :Portland, :LALakers, :Philadelphia, :Boston, :GoldenState, :Brooklyn, :Atlanta]\n",
    "draft_order_2R = [:Phoenix, :Memphis, :Dallas, :Atlanta, :Orlando, :NewYork, :Sacramento, :Philadelphia, :Philadelphia, :Brooklyn, :Orlando, :Detroit, :Denver, :Washington, :Brooklyn, :Houston, :LALakers, :Minnesota, :Milwaukee, :Indiana, :NewOrleans, :Utah, :Oklahoma, :Dallas, :Charlotte, :Philadelphia, :Oklahoma, :Denver, :Phoenix, :Philadelphia]\n",
    "\n",
    "real_result = Dict()\n",
    "for i in 1:60\n",
    "    real_result[i] = players[i]\n",
    "end\n",
    "\n",
    "real_result_v2 = Dict()\n",
    "for i in 1:60\n",
    "    real_result_v2[players[i]] = i\n",
    "end"
   ]
  },
  {
   "cell_type": "markdown",
   "id": "c497bdaf",
   "metadata": {},
   "source": [
    "### Team lambda:\n",
    "\n",
    "λ(higher lambda -> higher risk & potential) = \n"
   ]
  },
  {
   "cell_type": "code",
   "execution_count": 3,
   "id": "4133cccd",
   "metadata": {},
   "outputs": [
    {
     "data": {
      "text/plain": [
       "30-element Vector{Pair{Any, Any}}:\n",
       "      :Toronto => 0.0749063670411985\n",
       "  :GoldenState => 0.0851581508515815\n",
       "    :Cleveland => 0.1221001221001221\n",
       "       :Boston => 0.14492753623188404\n",
       "   :SanAntonio => 0.16969696969696968\n",
       "      :Houston => 0.18248175182481752\n",
       "        :Miami => 0.21660649819494585\n",
       "     :Oklahoma => 0.2483660130718954\n",
       "     :Portland => 0.2606310013717421\n",
       "   :LAClippers => 0.29197080291970806\n",
       "         :Utah => 0.3192848020434227\n",
       "      :Indiana => 0.3320053120849933\n",
       "   :Washington => 0.34313725490196073\n",
       "               ⋮\n",
       "      :Atlanta => 0.46875\n",
       "       :Dallas => 0.4693140794223827\n",
       "      :Chicago => 0.4858299595141701\n",
       "    :Minnesota => 0.5012531328320802\n",
       "       :Denver => 0.5191256830601093\n",
       "   :Sacramento => 0.5312084993359893\n",
       "      :NewYork => 0.5691056910569106\n",
       "     :LALakers => 0.6233062330623306\n",
       "      :Orlando => 0.6266666666666666\n",
       " :Philadelphia => 0.6587615283267456\n",
       "     :Brooklyn => 0.6587615283267456\n",
       "      :Phoenix => 0.7526881720430106"
      ]
     },
     "execution_count": 3,
     "metadata": {},
     "output_type": "execute_result"
    }
   ],
   "source": [
    "lambda_data = Dict()\n",
    "\n",
    "# 람다가 높을수록 high risk high return에 더 투자할 용의가 있다고 보면 되겠죠...?\n",
    "# 최근 3년간 순위가 낮을수록 / 올해 드래프트 픽이 많을수록\n",
    "# 팀 로스터의 평군 연령이 낮을수록\n",
    "# 람다값은 증가!\n",
    "# 또 무엇을 또 추가할 수 있을까 고민중입니다...\n",
    "\n",
    "for team in teams\n",
    "    lambda = (avg_team_ranking[team] + sum(num_team_picks[team])) / avg_team_age[team]\n",
    "    lambda_data[team] = lambda\n",
    "    #println(\"Lambda of \", team, \": \", lambda)\n",
    "end\n",
    "sort(collect(lambda_data), by = x->x[2])"
   ]
  },
  {
   "cell_type": "markdown",
   "id": "c4716c6c",
   "metadata": {},
   "source": [
    "### Player lambda:\n",
    "\n",
    "λ(higher lambda -> higher risk & potential) = \n",
    "\n",
    "(no experience playing in USA: YES = 1, NO = 0) + injury record \n",
    "        /        \n",
    "        age + mock draft avg ranking"
   ]
  },
  {
   "cell_type": "code",
   "execution_count": 4,
   "id": "86ebd6fc",
   "metadata": {},
   "outputs": [],
   "source": [
    "player_return = Dict()\n",
    "\n",
    "# franchise-defining stars\n",
    "tier_1 = [:Luka_Doncic, :Trae_Young]\n",
    "\n",
    "# core pieces\n",
    "tier_2 = [:Deandre_Ayton, :Jaren_Jackson_Jr, :Shai_Gilgeous_Alexander, :Wendell_Carter_Jr]\n",
    "\n",
    "# Long-term quality starters\n",
    "tier_3 = [:Marvin_Bagley_III, :Kevin_Huerter, :Mitchell_Robinson, :Mikal_Bridges, :Laundry_Shamet]\n",
    "\n",
    "# Potential high-level rotation players\n",
    "tier_4 = [:Michael_Porter_Jr, :Devonte_Graham, :Donte_DiVincenzo, :Collin_Sexton, :Miles_Bridges, :DeAnthony_Melton, :Josh_Okogie]\n",
    "\n",
    "# Rotation players with long-term staying power\n",
    "tier_5 = [:Anfernee_Simons, :Jalen_Brunson, :Mo_Bamba, :Bruce_Brown, :Aaron_Holiday, :Robert_Williams_III, :Lonnie_Walker_IV, :Shake_Milton, :Troy_Brown_Jr, :Gary_Trent_Jr]\n",
    "\n",
    "# Rotation players with limited roles\n",
    "tier_6 = [:Kevin_Knox_II, :Svi_Mykhailiuk, :Elie_Okobo, :Isaac_Bonga, :Rodions_Kurucs, :Grayson_Allen, :Jevon_Carter, :Hamidou_Diallo, :Chandler_Hutchinson, :Moritz_Wagner, :Omari_Spellman]\n",
    "\n",
    "# End-of-bench players\n",
    "tier_7 = [:Zhaire_Smith, :Dzanan_Musa, :Keita_Bates_Diop]\n",
    "\n",
    "# G League, European and fringe players\n",
    "tier_8 = [:Jacob_Evans, :Jerome_Robinson, :Jarred_Vanderbilt, :Arnoldas_Kulboka, :Chimezie_Metu, :Khyri_Thomas]\n",
    "\n",
    "# Unranked\n",
    "tier_9 = [:Melvin_Frazier_Jr, :Vincent_Edwards, :Tony_Carr, :Justin_Jackson, :Issuf_Sanon, :Devon_Hall, :Alize_Johnson, :Ray_Spalding, :Kostas_Antetokounmpo, :George_King, :Kevin_Hervey, :Thomas_Welsh]\n",
    "\n",
    "for p in players\n",
    "    if p in tier_1\n",
    "        player_return[p] = 1 * real_result_v2[p] / 100\n",
    "    elseif p in tier_2\n",
    "        player_return[p] = 0.85 * real_result_v2[p] / 100\n",
    "    elseif p in tier_3\n",
    "        player_return[p] = 0.6 * real_result_v2[p] / 100\n",
    "    elseif p in tier_4\n",
    "        player_return[p] = 0.55 * real_result_v2[p] / 100\n",
    "    elseif p in tier_5\n",
    "        player_return[p] = 0.4 * real_result_v2[p] / 100\n",
    "    elseif p in tier_6\n",
    "        player_return[p] = 0.25 * real_result_v2[p] / 100\n",
    "    elseif p in tier_7\n",
    "        player_return[p] = 0.1 * real_result_v2[p] / 100\n",
    "    elseif p in tier_8\n",
    "        player_return[p] = -0.05 * real_result_v2[p] / 100\n",
    "    elseif p in tier_9\n",
    "        player_return[p] = -0.2 * real_result_v2[p] / 100\n",
    "    end\n",
    "end"
   ]
  },
  {
   "cell_type": "code",
   "execution_count": 5,
   "id": "9486fe6d",
   "metadata": {},
   "outputs": [
    {
     "data": {
      "text/plain": [
       "Dict{Any, Any} with 60 entries:\n",
       "  :Jaren_Jackson_Jr        => 0.034\n",
       "  :Thomas_Welsh            => -0.116\n",
       "  :Marvin_Bagley_III       => 0.012\n",
       "  :Gary_Trent_Jr           => 0.148\n",
       "  :Chandler_Hutchinson     => 0.055\n",
       "  :Wendell_Carter_Jr       => 0.0595\n",
       "  :Zhaire_Smith            => 0.016\n",
       "  :Collin_Sexton           => 0.044\n",
       "  :Jevon_Carter            => 0.08\n",
       "  :Isaac_Bonga             => 0.0975\n",
       "  :Arnoldas_Kulboka        => -0.0275\n",
       "  :Josh_Okogie             => 0.11\n",
       "  :Jalen_Brunson           => 0.132\n",
       "  :Robert_Williams_III     => 0.108\n",
       "  :Elie_Okobo              => 0.0775\n",
       "  :Omari_Spellman          => 0.075\n",
       "  :Kevin_Hervey            => -0.114\n",
       "  :Grayson_Allen           => 0.0525\n",
       "  :Donte_DiVincenzo        => 0.0935\n",
       "  :Laundry_Shamet          => 0.156\n",
       "  :Kevin_Knox_II           => 0.0225\n",
       "  :Rodions_Kurucs          => 0.1\n",
       "  :Trae_Young              => 0.05\n",
       "  :Shai_Gilgeous_Alexander => 0.0935\n",
       "  :Devon_Hall              => -0.106\n",
       "  ⋮                        => ⋮"
      ]
     },
     "execution_count": 5,
     "metadata": {},
     "output_type": "execute_result"
    }
   ],
   "source": [
    "player_return"
   ]
  },
  {
   "cell_type": "code",
   "execution_count": 6,
   "id": "043b0144",
   "metadata": {},
   "outputs": [
    {
     "data": {
      "text/plain": [
       "60-element Vector{Any}:\n",
       "  0.034\n",
       " -0.11600000000000002\n",
       "  0.012\n",
       "  0.14800000000000002\n",
       "  0.055\n",
       "  0.059500000000000004\n",
       "  0.016\n",
       "  0.044000000000000004\n",
       "  0.08\n",
       "  0.0975\n",
       " -0.0275\n",
       "  0.11\n",
       "  0.132\n",
       "  ⋮\n",
       "  0.03\n",
       " -0.12\n",
       " -0.07\n",
       "  0.07700000000000001\n",
       "  0.21600000000000003\n",
       "  0.07200000000000001\n",
       "  0.253\n",
       " -0.0245\n",
       "  0.04800000000000001\n",
       " -0.08800000000000001\n",
       "  0.114\n",
       "  0.029000000000000005"
      ]
     },
     "execution_count": 6,
     "metadata": {},
     "output_type": "execute_result"
    }
   ],
   "source": [
    "returns = []\n",
    "for r in player_return\n",
    "    push!(returns, r[2])\n",
    "end\n",
    "returns"
   ]
  },
  {
   "cell_type": "code",
   "execution_count": 15,
   "id": "6a42e8f9",
   "metadata": {},
   "outputs": [
    {
     "data": {
      "text/plain": [
       "60-element Vector{Any}:\n",
       "  0.036692077201688635\n",
       "  0.10929809874083732\n",
       " -0.04052745259955622\n",
       "  0.041519856951028604\n",
       "  0.05656696361430837\n",
       " -0.06177394647039405\n",
       " -0.0028930093438773643\n",
       " -0.036945842876762294\n",
       "  0.16861614873909925\n",
       " -0.01257789661403804\n",
       "  0.12664387571445382\n",
       "  0.11888152133992795\n",
       " -0.03557937701148847\n",
       "  ⋮\n",
       "  0.07798358965716637\n",
       " -0.05115536823244089\n",
       " -0.06123038347189512\n",
       " -0.021006281078749325\n",
       "  0.03238393139796982\n",
       "  0.03025027220939079\n",
       " -0.10488562833902587\n",
       " -0.03416415943771213\n",
       "  0.1802568709418587\n",
       "  0.04277998366168667\n",
       " -0.027559283211743942\n",
       "  0.07623931187542389"
      ]
     },
     "execution_count": 15,
     "metadata": {},
     "output_type": "execute_result"
    }
   ],
   "source": [
    "using Random, Distributions\n",
    "\n",
    "function get_samples()\n",
    "    mean_returns = []\n",
    "    Random.seed!(123)\n",
    "    for r in returns\n",
    "        d = Normal()\n",
    "        # Can I just pinpoint the standard deviation as one? Is it either too small or too big?\n",
    "        Normal(r, 1.0) \n",
    "        x = rand(d,100)\n",
    "        push!(mean_returns,mean(x))\n",
    "    end\n",
    "    return mean_returns\n",
    "end\n",
    "\n",
    "folio_mean = get_samples()\n",
    "folio_mean"
   ]
  },
  {
   "cell_type": "code",
   "execution_count": 46,
   "id": "130008f3",
   "metadata": {},
   "outputs": [
    {
     "ename": "LoadError",
     "evalue": "syntax: incomplete: \"for\" at In[46]:5 requires end",
     "output_type": "error",
     "traceback": [
      "syntax: incomplete: \"for\" at In[46]:5 requires end",
      "",
      "Stacktrace:",
      " [1] top-level scope",
      "   @ In[46]:5",
      " [2] eval",
      "   @ .\\boot.jl:360 [inlined]",
      " [3] include_string(mapexpr::typeof(REPL.softscope), mod::Module, code::String, filename::String)",
      "   @ Base .\\loading.jl:1094"
     ]
    }
   ],
   "source": [
    "using NamedArrays\n",
    "\n",
    "folio_cov = NamedArray(zeros(60,60), (1:60,1:60), (\"Returns\", \"Returns\"));\n",
    "\n",
    "for r in 1:60\n",
    "    for c in 1:60\n",
    "        X = [folio_mean[r]; folio_mean[c]]\n",
    "        if r != c\n",
    "            folio_cov[r,c] = cov(X)\n",
    "        else\n",
    "            folio_cov[r,c] = var([folio_mean[r]])\n",
    "    end\n",
    "end\n",
    "\n",
    "folio_cov"
   ]
  },
  {
   "cell_type": "code",
   "execution_count": 37,
   "id": "d292bcc7",
   "metadata": {},
   "outputs": [
    {
     "data": {
      "image/png": "[encoded data removed]",
      "text/plain": [
       "Figure(PyObject <Figure size 640x480 with 2 Axes>)"
      ]
     },
     "metadata": {},
     "output_type": "display_data"
    }
   ],
   "source": [
    "using DataFrames, CSV, LinearAlgebra, PyPlot\n",
    "\n",
    "# plot correlation matrix (shows which assets are correlated with which other assets)\n",
    "ix = sortperm(folio_mean)\n",
    "Σ = 10000 .*Matrix(folio_cov)\n",
    "\n",
    "corr = diagm(diag(Σ).^(-1/2))*Σ*diagm(diag(Σ).^(-1/2))\n",
    "imshow(corr[ix,ix]);colorbar();axis(\"image\")\n",
    "title(\"Correlation matrix for 60 assets\")\n",
    ";"
   ]
  },
  {
   "cell_type": "code",
   "execution_count": 38,
   "id": "24d06fab",
   "metadata": {},
   "outputs": [
    {
     "data": {
      "image/png": "[encoded data removed]",
      "text/plain": [
       "Figure(PyObject <Figure size 640x480 with 1 Axes>)"
      ]
     },
     "metadata": {},
     "output_type": "display_data"
    }
   ],
   "source": [
    "subplot(211)\n",
    "xlim(0,60)\n",
    "plot(sqrt.(diag(Σ))[ix],\"g\")\n",
    "ylabel(\"Standard deviation (%)\")\n",
    "title(\"Standard deviation and expected return of all 60 assets\")\n",
    "tight_layout()"
   ]
  },
  {
   "cell_type": "code",
   "execution_count": 39,
   "id": "d936f1a1",
   "metadata": {},
   "outputs": [
    {
     "ename": "LoadError",
     "evalue": "MethodError: no method matching var(::Float64, ::Float64)\n\u001b[0mClosest candidates are:\n\u001b[0m  var(::Any; corrected, mean) at C:\\buildbot\\worker\\package_win64\\build\\usr\\share\\julia\\stdlib\\v1.6\\Statistics\\src\\Statistics.jl:198",
     "output_type": "error",
     "traceback": [
      "MethodError: no method matching var(::Float64, ::Float64)\n\u001b[0mClosest candidates are:\n\u001b[0m  var(::Any; corrected, mean) at C:\\buildbot\\worker\\package_win64\\build\\usr\\share\\julia\\stdlib\\v1.6\\Statistics\\src\\Statistics.jl:198",
      "",
      "Stacktrace:",
      " [1] top-level scope",
      "   @ In[39]:1",
      " [2] eval",
      "   @ .\\boot.jl:360 [inlined]",
      " [3] include_string(mapexpr::typeof(REPL.softscope), mod::Module, code::String, filename::String)",
      "   @ Base .\\loading.jl:1094"
     ]
    }
   ],
   "source": [
    "var(folio_mean[1], folio_mean[1])"
   ]
  },
  {
   "cell_type": "code",
   "execution_count": 45,
   "id": "aff59f7a",
   "metadata": {},
   "outputs": [
    {
     "data": {
      "text/plain": [
       "0.0"
      ]
     },
     "execution_count": 45,
     "metadata": {},
     "output_type": "execute_result"
    }
   ],
   "source": [
    "var([1,1])"
   ]
  },
  {
   "cell_type": "code",
   "execution_count": null,
   "id": "d6938ccc",
   "metadata": {},
   "outputs": [],
   "source": []
  }
 ],
 "metadata": {
  "kernelspec": {
   "display_name": "Julia 1.6.1",
   "language": "julia",
   "name": "julia-1.6"
  },
  "language_info": {
   "file_extension": ".jl",
   "mimetype": "application/julia",
   "name": "julia",
   "version": "1.6.1"
  }
 },
 "nbformat": 4,
 "nbformat_minor": 5
}
