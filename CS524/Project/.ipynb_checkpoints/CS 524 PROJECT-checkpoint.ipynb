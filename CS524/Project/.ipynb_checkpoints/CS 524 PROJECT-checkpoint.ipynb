{
 "cells": [
  {
   "cell_type": "code",
   "execution_count": 1,
   "id": "2f72cbcd",
   "metadata": {},
   "outputs": [
    {
     "data": {
      "text/plain": [
       "30-element Vector{Symbol}:\n",
       " :Milwaukee\n",
       " :NewYork\n",
       " :Orlando\n",
       " :Oklahoma\n",
       " :NewOrleans\n",
       " :Oklahoma\n",
       " :Detroit\n",
       " :Chicago\n",
       " :Sacramento\n",
       " :NewOrleans\n",
       " :SanAntonio\n",
       " :Detroit\n",
       " :NewOrleans\n",
       " ⋮\n",
       " :Brooklyn\n",
       " :Philadelphia\n",
       " :Memphis\n",
       " :Detroit\n",
       " :NewOrleans\n",
       " :Indiana\n",
       " :Oklahoma\n",
       " :Charlotte\n",
       " :Charlotte\n",
       " :NewYork\n",
       " :Brooklyn\n",
       " :Indiana"
      ]
     },
     "execution_count": 1,
     "metadata": {},
     "output_type": "execute_result"
    }
   ],
   "source": [
    "### DATA ###\n",
    "\n",
    "teams = [:Atlanta, :Boston, :Brooklyn, :Charlotte, :Chicago, :Cleveland, :Dallas, :Denver, :Detroit, :GoldenState, :Houston, :Indiana, :LAClippers, :LALakers, :Memphis, :Miami, :Milwaukee, :Minnesota, :NewOrleans, :NewYork, :Oklahoma, :Orlando, :Philadelphia, :Phoenix, :Portland, :Sacramento, :SanAntonio, :Toronto, :Utah, :Washington]\n",
    "t = length(teams) # number of all NBA teams\n",
    "\n",
    "# number of draft picks each team has (1st round, 2nd round)\n",
    "picks = [(1,1), (0,1), (1,3), (1,2), (0,1), (1,0), (0,0), (1,0), (1,3), (2,0), (3,0), (1,2), (1,0), (1,0), (1,1), (0,0), (0,1), (0,0), (1,4), (2,2), (3,3), (2,1), (1,1), (1,0), (0,0), (1,1), (1,1), (1,2), (1,0), (1,0)]\n",
    "\n",
    "# average age per team\n",
    "age = [25.6, 24.9, 28.5, 24.9, 26.9, 25.7, 27.1, 26.5, 24.4, 26.5, 26.6, 26.3, 29.0, 29.1, 24.3, 28.8, 27.7, 23.9, 24.4, 25.9, 23.5, 24.3, 27.5, 27.1, 26.0, 24.9, 25.3, 26.7, 27.5, 26.2]\n",
    "\n",
    "# average salary per team (in million dollars)\n",
    "salary = [7.7, 8.5, 11.1, 6.6, 8.5, 6.1, 8.3, 8.4, 5.2, 11.3, 7.2, 8.4, 9.2, 8.8, 6.4, 8.5, 8.4, 9.2, 8.7, 5.5, 3.9, 6.9, 9.7, 8.5, 9.0, 6.3, 6.9, 8.1, 9.0, 8.4]\n",
    "\n",
    "# power ranking 2021 / 2020 / 2019\n",
    "# we don't differentiate the conference where the team belongs\n",
    "ranking_21 = [5, 7, 2, 10, 11, 13, 5, 3, 15, 9, 15, 9, 4, 7, 8, 6, 3, 13, 11, 4, 14, 14, 1, 2, 6, 12, 10, 12, 1, 8]\n",
    "ranking_20 = [14, 3, 7, 10, 11, 15, 7, 3, 13, 15, 4, 4, 2, 1, 9, 5, 1, 14, 13, 12, 5, 8, 6, 10, 8, 12, 11, 2, 6, 9]\n",
    "ranking_19 = [12, 4, 6, 9, 13, 14, 14, 2, 8, 1, 4, 5, 8, 10, 12, 10, 1, 11, 13, 15, 6, 7, 3, 15, 3, 9, 7, 2, 5, 11]\n",
    "\n",
    "avg_ranking = []\n",
    "for i in 1:30\n",
    "    avg_rank = (ranking_21[i] + ranking_20[i] + ranking_19[i]) / 3\n",
    "    push!(avg_ranking, avg_rank)\n",
    "end\n",
    "\n",
    "avg_team_ranking = Dict(zip(teams, avg_ranking))\n",
    "avg_team_salary = Dict(zip(teams, salary))\n",
    "avg_team_age = Dict(zip(teams, age))\n",
    "num_team_picks = Dict(zip(teams, picks))\n",
    "\n",
    "draft_order_1R = [:Detroit, :Houston, :Cleveland, :Toronto, :Orlando, :Oklahoma, :GoldenState, :Orlando, :Sacramento, :NewOrleans, :Charlotte, :SanAntonio, :Indiana, :GoldenState, :Washington, :Oklahoma, :Memphis, :Oklahoma, :NewYork, :Atlanta, :NewYork, :LALakers, :Houston, :Houston, :LAClippers, :Denver, :Brooklyn, :Philadelphia, :Phoenix, :Utah]\n",
    "draft_order_2R = [:Milwaukee, :NewYork, :Orlando, :Oklahoma, :NewOrleans, :Oklahoma, :Detroit, :Chicago, :Sacramento, :NewOrleans, :SanAntonio, :Detroit, :NewOrleans, :Brooklyn, :Boston, :Toronto, :Toronto, :Atlanta, :Brooklyn, :Philadelphia, :Memphis, :Detroit, :NewOrleans, :Indiana, :Oklahoma, :Charlotte, :Charlotte, :NewYork, :Brooklyn, :Indiana]"
   ]
  },
  {
   "cell_type": "code",
   "execution_count": 2,
   "id": "4a07b45a",
   "metadata": {},
   "outputs": [
    {
     "data": {
      "text/plain": [
       "30-element Vector{Pair{Any, Any}}:\n",
       "    :Milwaukee => 0.09626955475330928\n",
       "       :Denver => 0.13836477987421383\n",
       "         :Utah => 0.18181818181818182\n",
       " :Philadelphia => 0.19393939393939397\n",
       "   :LAClippers => 0.19540229885057472\n",
       "     :Portland => 0.21794871794871795\n",
       "       :Boston => 0.2275769745649264\n",
       "     :LALakers => 0.24054982817869414\n",
       "        :Miami => 0.24305555555555555\n",
       "      :Toronto => 0.3121098626716604\n",
       "     :Brooklyn => 0.3157894736842105\n",
       "       :Dallas => 0.31980319803198026\n",
       "      :Indiana => 0.34220532319391633\n",
       "               ⋮\n",
       "      :Chicago => 0.4708798017348203\n",
       "      :Memphis => 0.4801097393689986\n",
       "      :Atlanta => 0.4817708333333333\n",
       "    :Charlotte => 0.5087014725568942\n",
       "      :Orlando => 0.5212620027434842\n",
       "   :Sacramento => 0.5220883534136547\n",
       "    :Minnesota => 0.5299860529986054\n",
       "      :NewYork => 0.5534105534105535\n",
       "    :Cleveland => 0.5836575875486382\n",
       "     :Oklahoma => 0.6099290780141844\n",
       "      :Detroit => 0.6557377049180328\n",
       "   :NewOrleans => 0.7103825136612023"
      ]
     },
     "execution_count": 2,
     "metadata": {},
     "output_type": "execute_result"
    }
   ],
   "source": [
    "lambda_data = Dict()\n",
    "\n",
    "# 람다가 높을수록 high risk high return에 더 투자할 용의가 있다고 보면 되겠죠...?\n",
    "# 최근 3년간 순위가 낮을수록 / 올해 드래프트 픽이 많을수록\n",
    "# 팀 로스터의 평군 연령이 낮을수록\n",
    "# 람다값은 증가!\n",
    "# 또 무엇을 또 추가할 수 있을까 고민중입니다...\n",
    "for team in teams\n",
    "    lambda = (avg_team_ranking[team] + sum(num_team_picks[team])) / avg_team_age[team]\n",
    "    lambda_data[team] = lambda\n",
    "    #println(\"Lambda of \", team, \": \", lambda)\n",
    "end\n",
    "sort(collect(lambda_data), by = x->x[2])"
   ]
  },
  {
   "cell_type": "markdown",
   "id": "a9bc940c",
   "metadata": {},
   "source": [
    "### Player lambda:\n",
    "\n",
    "λ(higher lambda -> higher risk & potential) = \n",
    "\n",
    "(no experience playing in USA: YES = 1, NO = 0) + injury record \n",
    "        /        \n",
    "        age + mock draft avg ranking\n",
    "\n"
   ]
  },
  {
   "cell_type": "code",
   "execution_count": 3,
   "id": "1e0bf9ff",
   "metadata": {},
   "outputs": [
    {
     "name": "stdout",
     "output_type": "stream",
     "text": [
      "Academic license - for non-commercial use only - expires 2022-07-06\r\n"
     ]
    },
    {
     "ename": "LoadError",
     "evalue": "LoadError: UndefVarError: @constriant not defined\nin expression starting at In[3]:10",
     "output_type": "error",
     "traceback": [
      "LoadError: UndefVarError: @constriant not defined\nin expression starting at In[3]:10",
      "",
      "Stacktrace:",
      " [1] top-level scope",
      "   @ :0",
      " [2] eval",
      "   @ .\\boot.jl:360 [inlined]",
      " [3] include_string(mapexpr::typeof(REPL.softscope), mod::Module, code::String, filename::String)",
      "   @ Base .\\loading.jl:1094"
     ]
    }
   ],
   "source": [
    "using JuMP, Gurobi\n",
    "\n",
    "m = Model(Gurobi.Optimizer)\n",
    "\n",
    "@variable(m, x[i in teams])\n",
    "\n",
    "@constraint(m, team_quota[i in teams], x[i] == sum(num_team_picks[i]))\n",
    "@constriant(m, draft_quota, sum(x) == 60)\n",
    "\n",
    "#@objective(m, Min, -dot(rr,x) + λ*dot(x,Σ*x) )"
   ]
  },
  {
   "cell_type": "markdown",
   "id": "e5434bd4",
   "metadata": {},
   "source": [
    "<Player lambda>"
   ]
  },
  {
   "cell_type": "code",
   "execution_count": 15,
   "id": "de81b633",
   "metadata": {},
   "outputs": [
    {
     "data": {
      "text/html": [
       "<table class=\"data-frame\"><thead><tr><th></th><th>Player Name(nba draftroom)</th><th>Player Name(espn)</th></tr><tr><th></th><th>String</th><th>String</th></tr></thead><tbody><p>60 rows × 2 columns</p><tr><th>1</th><td>Cade Cunningham</td><td>Cade Cunningham</td></tr><tr><th>2</th><td>Jalen Green</td><td>Jalen Green</td></tr><tr><th>3</th><td>Evan Mobley</td><td>Evan Mobley</td></tr><tr><th>4</th><td>Jalen Suggs</td><td>Jalen Suggs</td></tr><tr><th>5</th><td>Scottie Barnes</td><td>Scottie Barnes</td></tr><tr><th>6</th><td>Jonathan Kuminga</td><td>James Bouknight</td></tr><tr><th>7</th><td>Moses Moody</td><td>Jonathan Kuminga</td></tr><tr><th>8</th><td>James Bouknight</td><td>Moses Moody</td></tr><tr><th>9</th><td>Alperen Sengün</td><td>Franz Wagner</td></tr><tr><th>10</th><td>Josh Giddey</td><td>Josh Giddey</td></tr><tr><th>11</th><td>Franz Wagner</td><td>Corey Kispert</td></tr><tr><th>12</th><td>Usman Garuba </td><td>Alperen Sengün</td></tr><tr><th>13</th><td>Chris Duarte</td><td>Davion Mitchell</td></tr><tr><th>14</th><td>Davion Mitchell</td><td>Chris Duarte</td></tr><tr><th>15</th><td>Keon Johnson</td><td>Trey Murphy III</td></tr><tr><th>16</th><td>Isaiah Jackson</td><td>Keon Johnson</td></tr><tr><th>17</th><td>Jalen Johnson</td><td>Jalen Johnson</td></tr><tr><th>18</th><td>Cam Thomas</td><td>Usman Garuba </td></tr><tr><th>19</th><td>Corey Kispert</td><td>Ziaire Williams</td></tr><tr><th>20</th><td>Kai Jones</td><td>Cameron Thomas</td></tr><tr><th>21</th><td>Jared Butler</td><td>Kai Jones</td></tr><tr><th>22</th><td>Nah’Shon “Bones” Hyland</td><td>Jared Butler</td></tr><tr><th>23</th><td>Trey Murphy III</td><td>Sharife Cooper</td></tr><tr><th>24</th><td>Jaden Springer</td><td>Isaiah Jackson</td></tr><tr><th>25</th><td>Tre Mann</td><td>Day-Ron Sharpe</td></tr><tr><th>26</th><td>Ziaire Williams</td><td>Josh Primo</td></tr><tr><th>27</th><td>Sharife Cooper</td><td>Tre Mann</td></tr><tr><th>28</th><td>Isaiah Todd</td><td>Quentin Grimes</td></tr><tr><th>29</th><td>Josh Primo</td><td>Nah’Shon “Bones” Hyland</td></tr><tr><th>30</th><td>JT Thor</td><td>Jaden Springer</td></tr><tr><th>&vellip;</th><td>&vellip;</td><td>&vellip;</td></tr></tbody></table>"
      ],
      "text/latex": [
       "\\begin{tabular}{r|cc}\n",
       "\t& Player Name(nba draftroom) & Player Name(espn)\\\\\n",
       "\t\\hline\n",
       "\t& String & String\\\\\n",
       "\t\\hline\n",
       "\t1 & Cade Cunningham & Cade Cunningham \\\\\n",
       "\t2 & Jalen Green & Jalen Green \\\\\n",
       "\t3 & Evan Mobley & Evan Mobley \\\\\n",
       "\t4 & Jalen Suggs & Jalen Suggs \\\\\n",
       "\t5 & Scottie Barnes & Scottie Barnes \\\\\n",
       "\t6 & Jonathan Kuminga & James Bouknight \\\\\n",
       "\t7 & Moses Moody & Jonathan Kuminga \\\\\n",
       "\t8 & James Bouknight & Moses Moody \\\\\n",
       "\t9 & Alperen Sengün & Franz Wagner \\\\\n",
       "\t10 & Josh Giddey & Josh Giddey \\\\\n",
       "\t11 & Franz Wagner & Corey Kispert \\\\\n",
       "\t12 & Usman Garuba  & Alperen Sengün \\\\\n",
       "\t13 & Chris Duarte & Davion Mitchell \\\\\n",
       "\t14 & Davion Mitchell & Chris Duarte \\\\\n",
       "\t15 & Keon Johnson & Trey Murphy III \\\\\n",
       "\t16 & Isaiah Jackson & Keon Johnson \\\\\n",
       "\t17 & Jalen Johnson & Jalen Johnson \\\\\n",
       "\t18 & Cam Thomas & Usman Garuba  \\\\\n",
       "\t19 & Corey Kispert & Ziaire Williams \\\\\n",
       "\t20 & Kai Jones & Cameron Thomas \\\\\n",
       "\t21 & Jared Butler & Kai Jones \\\\\n",
       "\t22 & Nah’Shon “Bones” Hyland & Jared Butler \\\\\n",
       "\t23 & Trey Murphy III & Sharife Cooper \\\\\n",
       "\t24 & Jaden Springer & Isaiah Jackson \\\\\n",
       "\t25 & Tre Mann & Day-Ron Sharpe \\\\\n",
       "\t26 & Ziaire Williams & Josh Primo \\\\\n",
       "\t27 & Sharife Cooper & Tre Mann \\\\\n",
       "\t28 & Isaiah Todd & Quentin Grimes \\\\\n",
       "\t29 & Josh Primo & Nah’Shon “Bones” Hyland \\\\\n",
       "\t30 & JT Thor & Jaden Springer \\\\\n",
       "\t$\\dots$ & $\\dots$ & $\\dots$ \\\\\n",
       "\\end{tabular}\n"
      ],
      "text/plain": [
       "\u001b[1m60×2 DataFrame\u001b[0m\n",
       "\u001b[1m Row \u001b[0m│\u001b[1m Player Name(nba draftroom) \u001b[0m\u001b[1m Player Name(espn)      \u001b[0m\n",
       "\u001b[1m     \u001b[0m│\u001b[90m String                     \u001b[0m\u001b[90m String                 \u001b[0m\n",
       "─────┼────────────────────────────────────────────────────\n",
       "   1 │ Cade Cunningham             Cade Cunningham\n",
       "   2 │ Jalen Green                 Jalen Green\n",
       "   3 │ Evan Mobley                 Evan Mobley\n",
       "   4 │ Jalen Suggs                 Jalen Suggs\n",
       "   5 │ Scottie Barnes              Scottie Barnes\n",
       "   6 │ Jonathan Kuminga            James Bouknight\n",
       "   7 │ Moses Moody                 Jonathan Kuminga\n",
       "   8 │ James Bouknight             Moses Moody\n",
       "   9 │ Alperen Sengün              Franz Wagner\n",
       "  10 │ Josh Giddey                 Josh Giddey\n",
       "  11 │ Franz Wagner                Corey Kispert\n",
       "  ⋮  │             ⋮                         ⋮\n",
       "  51 │ Feron Hunt                  Greg Brown\n",
       "  52 │ Duane Washington Jr.        Vrena Bleijenbergh\n",
       "  53 │ Jericho Sims                Joe Wieskamp\n",
       "  54 │ RaiQuan Gray                Luka Garza\n",
       "  55 │ Sandro Mamukela-shvili      Santi Aldama\n",
       "  56 │ Greg Brown                  Daishen Nix\n",
       "  57 │ A.J. Lawson                 Mckinley Wright\n",
       "  58 │ Dalano Banton               Jeremiah Robinson-Earl\n",
       "  59 │ Luka Garza                  Sandro Mamukela-shvili\n",
       "  60 │ Aaron Wiggins               Neemias Queta\n",
       "\u001b[36m                                           39 rows omitted\u001b[0m"
      ]
     },
     "execution_count": 15,
     "metadata": {},
     "output_type": "execute_result"
    }
   ],
   "source": [
    "using CSV, DataFrames\n",
    "mock_draft = CSV.read(\"mock_draft.csv\",DataFrame);\n",
    "mock_draft"
   ]
  },
  {
   "cell_type": "code",
   "execution_count": 14,
   "id": "e112c924",
   "metadata": {},
   "outputs": [
    {
     "data": {
      "text/plain": [
       "60-element Vector{String}:\n",
       " \"Cade Cunningham\"\n",
       " \"Jalen Green\"\n",
       " \"Evan Mobley\"\n",
       " \"Jalen Suggs\"\n",
       " \"Scottie Barnes\"\n",
       " \"James Bouknight\"\n",
       " \"Jonathan Kuminga\"\n",
       " \"Moses Moody\"\n",
       " \"Franz Wagner\"\n",
       " \"Josh Giddey\"\n",
       " \"Corey Kispert\"\n",
       " \"Alperen Sengün\"\n",
       " \"Davion Mitchell\"\n",
       " ⋮\n",
       " \"Aaron Henry\"\n",
       " \"Isaiah Livers\"\n",
       " \"Greg Brown\"\n",
       " \"Vrena Bleijenbergh\"\n",
       " \"Joe Wieskamp\"\n",
       " \"Luka Garza\"\n",
       " \"Santi Aldama\"\n",
       " \"Daishen Nix\"\n",
       " \"Mckinley Wright \"\n",
       " \"Jeremiah Robinson-Earl\"\n",
       " \"Sandro Mamukela-shvili\"\n",
       " \"Neemias Queta\""
      ]
     },
     "execution_count": 14,
     "metadata": {},
     "output_type": "execute_result"
    }
   ],
   "source": [
    "mock_draft[:,2]"
   ]
  },
  {
   "cell_type": "code",
   "execution_count": null,
   "id": "9072e092",
   "metadata": {},
   "outputs": [],
   "source": []
  }
 ],
 "metadata": {
  "kernelspec": {
   "display_name": "Julia 1.6.1",
   "language": "julia",
   "name": "julia-1.6"
  },
  "language_info": {
   "file_extension": ".jl",
   "mimetype": "application/julia",
   "name": "julia",
   "version": "1.6.1"
  }
 },
 "nbformat": 4,
 "nbformat_minor": 5
}
