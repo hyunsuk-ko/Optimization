{
 "cells": [
  {
   "cell_type": "code",
   "execution_count": 10,
   "id": "fa5445f7",
   "metadata": {},
   "outputs": [
    {
     "data": {
      "text/plain": [
       "Dict{Int64, Int64} with 2 entries:\n",
       "  2 => 6\n",
       "  3 => 6"
      ]
     },
     "execution_count": 10,
     "metadata": {},
     "output_type": "execute_result"
    }
   ],
   "source": [
    "using JuMP, Cbc\n",
    "\n",
    "nodes= 1:4\n",
    "arcs=[(1,2), (1,3), \n",
    "    (2,3), (2,4), \n",
    "    (3,4)]\n",
    "transsihpment = 2:3\n",
    "\n",
    "b = [10,0,0,-10]\n",
    "c = Dict(zip(arcs,[3,2,2,5,1]))\n",
    "U = Dict(zip(arcs, [1000, 1000, 1000, 1000, 1000]))\n",
    "L = Dict(zip(arcs, [0, 0, 0, 0, 0]))\n",
    "u = Dict(zip(transsihpment, [6,6]))"
   ]
  },
  {
   "cell_type": "code",
   "execution_count": 13,
   "id": "0280a44f",
   "metadata": {},
   "outputs": [
    {
     "name": "stdout",
     "output_type": "stream",
     "text": [
      "Mininum cost = 50.0\n",
      "flow on arc (1, 2)= 4.0\n",
      "flow on arc (1, 3)= 6.0\n",
      "flow on arc (2, 3)= 0.0\n",
      "flow on arc (2, 4)= 4.0\n",
      "flow on arc (3, 4)= 6.0\n",
      "Presolve 3 (-3) rows, 3 (-2) columns and 8 (-5) elements\n",
      "0  Obj 41.499999 Primal inf 4.0999973 (3)\n",
      "3  Obj 50\n",
      "Optimal - objective value 50\n",
      "After Postsolve, objective 50, infeasibilities - dual 0 (0), primal 0 (0)\n",
      "Optimal objective 50 - 3 iterations time 0.002, Presolve 0.00\n"
     ]
    }
   ],
   "source": [
    "m = Model()\n",
    "\n",
    "@variable(m, L[a] <= x[a in arcs] <= U[a])\n",
    "\n",
    "@objective(m, Min, sum(c[a]x[a] for a in arcs))\n",
    "\n",
    "@constraint(m, flowbalance[i in nodes],\n",
    "    sum(x[(i,j)] for j in nodes if (i,j) in arcs) - \n",
    "    sum(x[(j,i)] for j in nodes if (j,i) in arcs) \n",
    "    == b[i])\n",
    "\n",
    "@constraint(m, transship_balance[i in transsihpment],\n",
    "    sum(x[(j,i)] for j in nodes if (j,i) in arcs) \n",
    "    <= u[i])\n",
    "\n",
    "set_optimizer(m, Cbc.Optimizer)\n",
    "optimize!(m)\n",
    "\n",
    "println(\"Mininum cost = \", round(objective_value(m),digits=1))\n",
    "for a in arcs\n",
    "    println(\"flow on arc \", a, \"= \", round(value(x[a]),digits=1))\n",
    "end"
   ]
  },
  {
   "cell_type": "code",
   "execution_count": 23,
   "id": "bc1a144f",
   "metadata": {},
   "outputs": [
    {
     "name": "stdout",
     "output_type": "stream",
     "text": [
      "Presolve 6 (-1) rows, 11 (-1) columns and 16 (-2) elements\n",
      "0  Obj 1506.7 Primal inf 666.09999 (6)\n",
      "7  Obj 12806\n",
      "Optimal - objective value 12806\n",
      "After Postsolve, objective 12806, infeasibilities - dual 0 (0), primal 0 (0)\n",
      "Optimal objective 12806 - 7 iterations time 0.002, Presolve 0.00\n"
     ]
    },
    {
     "data": {
      "text/plain": [
       "* Solver : COIN Branch-and-Cut (Cbc)\n",
       "\n",
       "* Status\n",
       "  Termination status : OPTIMAL\n",
       "  Primal status      : FEASIBLE_POINT\n",
       "  Dual status        : NO_SOLUTION\n",
       "  Result count       : 1\n",
       "  Has duals          : false\n",
       "  Message from the solver:\n",
       "  \"Cbc_status          = finished - check isProvenOptimal or isProvenInfeasible to see if solution found (or check value of best solution)\n",
       "Cbc_secondaryStatus = unset (status_ will also be -1)\n",
       "\"\n",
       "\n",
       "* Candidate solution\n",
       "  Objective value      : 12806.0\n",
       "  Objective bound      : 12806.0\n",
       "  Primal solution :\n",
       "    b[1] : 0.0\n",
       "    b[2] : 0.0\n",
       "    b[3] : 0.0\n",
       "    b[4] : 153.0\n",
       "    b[5] : 0.0\n",
       "    b[6] : 0.0\n",
       "    x[1] : 100.0\n",
       "    x[2] : 132.0\n",
       "    x[3] : 137.0\n",
       "    x[4] : 0.0\n",
       "    x[5] : 297.0\n",
       "    x[6] : 116.0\n",
       "\n",
       "* Work counters\n",
       "  Solve time (sec)   : 0.00000\n"
      ]
     },
     "execution_count": 23,
     "metadata": {},
     "output_type": "execute_result"
    }
   ],
   "source": [
    "nmonths = 6\n",
    "cost = [12, 14, 21, 22, 15, 13]\n",
    "backlogcost = 6\n",
    "demand = [100, 132, 137, 153, 144, 116]\n",
    "\n",
    "m = Model()\n",
    "\n",
    "@variable(m, x[1:nmonths] >= 0)\n",
    "@variable(m, b[1:nmonths] >= 0)\n",
    "\n",
    "@objective(m, Min, sum(cost[t] * x[t] + backlogcost * b[t] for t in 1:nmonths))\n",
    "\n",
    "@constraint(m, initial_demand, x[1] + b[1] >= demand[1])\n",
    "@constraint(m, inventory_balance[t in 2:nmonths], x[t] + b[t] >= b[t-1] + demand[t])\n",
    "@constraint(m, final_inventory, b[nmonths] == 0)\n",
    "\n",
    "set_optimizer(m, Cbc.Optimizer)\n",
    "optimize!(m)\n",
    "solution_summary(m, verbose=true)"
   ]
  },
  {
   "cell_type": "code",
   "execution_count": null,
   "id": "620feb67",
   "metadata": {},
   "outputs": [],
   "source": []
  }
 ],
 "metadata": {
  "kernelspec": {
   "display_name": "Julia 1.7.1",
   "language": "julia",
   "name": "julia-1.7"
  },
  "language_info": {
   "file_extension": ".jl",
   "mimetype": "application/julia",
   "name": "julia",
   "version": "1.7.1"
  }
 },
 "nbformat": 4,
 "nbformat_minor": 5
}
