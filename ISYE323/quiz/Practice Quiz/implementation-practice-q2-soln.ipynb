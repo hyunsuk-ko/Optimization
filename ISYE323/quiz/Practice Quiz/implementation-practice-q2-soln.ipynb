{
 "cells": [
  {
   "cell_type": "code",
   "execution_count": 4,
   "metadata": {},
   "outputs": [
    {
     "name": "stdout",
     "output_type": "stream",
     "text": [
      "Minimum total cost: 12806.0\n",
      "Plan\n",
      "Month 1:\n",
      "  Units of product to make: 100.0\n",
      "  Units backlogged: 0.0\n",
      "Month 2:\n",
      "  Units of product to make: 132.0\n",
      "  Units backlogged: 0.0\n",
      "Month 3:\n",
      "  Units of product to make: 137.0\n",
      "  Units backlogged: 0.0\n",
      "Month 4:\n",
      "  Units of product to make: 0.0\n",
      "  Units backlogged: 153.0\n",
      "Month 5:\n",
      "  Units of product to make: 297.0\n",
      "  Units backlogged: 0.0\n",
      "Month 6:\n",
      "  Units of product to make: 116.0\n",
      "  Units backlogged: 0.0\n",
      "Presolve 6 (-1) rows, 11 (-1) columns and 16 (-2) elements\n",
      "0  Obj 1506.7 Primal inf 666.09999 (6)\n",
      "7  Obj 12806\n",
      "Optimal - objective value 12806\n",
      "After Postsolve, objective 12806, infeasibilities - dual 0 (0), primal 0 (0)\n",
      "Optimal objective 12806 - 7 iterations time 0.002, Presolve 0.00\n"
     ]
    }
   ],
   "source": [
    "using JuMP, Cbc\n",
    "\n",
    "nmonths = 6\n",
    "cost = [12, 14, 21, 22, 15, 13]\n",
    "backlogcost = 6\n",
    "demand = [100, 132, 137, 153, 144, 116]\n",
    "\n",
    "m = Model()\n",
    "\n",
    "@variable(m, x[1:nmonths] >= 0)\n",
    "@variable(m, b[1:nmonths] >= 0)\n",
    "\n",
    "@objective(m, Min, sum(cost[t]x[t] for t in 1:nmonths) + backlogcost*sum(b[t] for t in 1:nmonths))\n",
    "\n",
    "@constraint(m, initinvbalance,\n",
    "    x[1] + b[1] >= demand[1])\n",
    "@constraint(m, invbalance[t in 2:nmonths],\n",
    "    x[t] + b[t] >= b[t-1] + demand[t])\n",
    "@constraint(m, zerobacklogatend,\n",
    "    b[nmonths] == 0)\n",
    "\n",
    "set_optimizer(m, Cbc.Optimizer)\n",
    "optimize!(m)\n",
    "\n",
    "println(\"Minimum total cost: \", round(objective_value(m),digits=1))\n",
    "\n",
    "println(\"Plan\")\n",
    "for t in 1:nmonths\n",
    "    println(\"Month \", t, \":\")\n",
    "    println(\"  Units of product to make: \", round(value(x[t]),digits=1))\n",
    "    println(\"  Units backlogged: \", round(value(b[t]),digits=1))\n",
    "end"
   ]
  },
  {
   "cell_type": "code",
   "execution_count": null,
   "metadata": {},
   "outputs": [],
   "source": []
  }
 ],
 "metadata": {
  "kernelspec": {
   "display_name": "Julia 1.6.2",
   "language": "julia",
   "name": "julia-1.6"
  },
  "language_info": {
   "file_extension": ".jl",
   "mimetype": "application/julia",
   "name": "julia",
   "version": "1.6.2"
  }
 },
 "nbformat": 4,
 "nbformat_minor": 4
}
