{
 "cells": [
  {
   "cell_type": "code",
   "execution_count": 1,
   "metadata": {},
   "outputs": [
    {
     "name": "stdout",
     "output_type": "stream",
     "text": [
      "Mininum cost = 50.0\n",
      "flow on arc (1, 2)= 4.0\n",
      "flow on arc (1, 3)= 6.0\n",
      "flow on arc (2, 3)= 0.0\n",
      "flow on arc (2, 4)= 4.0\n",
      "flow on arc (3, 4)= 6.0\n",
      "Presolve 3 (-3) rows, 3 (-2) columns and 8 (-5) elements\n",
      "0  Obj 41.499999 Primal inf 4.0999973 (3)\n",
      "3  Obj 50\n",
      "Optimal - objective value 50\n",
      "After Postsolve, objective 50, infeasibilities - dual 0 (0), primal 0 (0)\n",
      "Optimal objective 50 - 3 iterations time 0.002, Presolve 0.00\n"
     ]
    }
   ],
   "source": [
    "using JuMP, Cbc\n",
    "\n",
    "nodes = 1:4\n",
    "transshipment_nodes = 2:3\n",
    "arcs = [(1,2), (1,3), (2,3), (2,4), (3,4)]\n",
    "U = Dict()\n",
    "for (i,j) in arcs\n",
    "    U[i,j]=Inf\n",
    "end\n",
    "b = [10, 0, 0, -10]\n",
    "c = Dict(zip(arcs, [3, 2, 2, 5, 1]))\n",
    "u = [0, 6, 6, 0]\n",
    "\n",
    "m = Model()\n",
    "\n",
    "@variable(m, 0 <= x[a in arcs] <= U[a])\n",
    "\n",
    "@objective(m, Min, sum(c[a]x[a] for a in arcs))\n",
    "\n",
    "@constraint(m, flowbalance[i in nodes],\n",
    "    sum(x[(i,j)] for j in nodes if (i,j) in arcs) - \n",
    "    sum(x[(j,i)] for j in nodes if (j,i) in arcs) \n",
    "    == b[i])\n",
    "@constraint(m, nodecapacity[i in transshipment_nodes],\n",
    "    sum(x[(j,i)] for j in nodes if (j,i) in arcs) \n",
    "    <= u[i])\n",
    "\n",
    "set_optimizer(m, Cbc.Optimizer)\n",
    "optimize!(m)\n",
    "\n",
    "println(\"Mininum cost = \", round(objective_value(m),digits=1))\n",
    "for a in arcs\n",
    "    println(\"flow on arc \", a, \"= \", round(value(x[a]),digits=1))\n",
    "end"
   ]
  },
  {
   "cell_type": "code",
   "execution_count": null,
   "metadata": {},
   "outputs": [],
   "source": []
  }
 ],
 "metadata": {
  "kernelspec": {
   "display_name": "Julia 1.6.2",
   "language": "julia",
   "name": "julia-1.6"
  },
  "language_info": {
   "file_extension": ".jl",
   "mimetype": "application/julia",
   "name": "julia",
   "version": "1.6.2"
  }
 },
 "nbformat": 4,
 "nbformat_minor": 4
}
