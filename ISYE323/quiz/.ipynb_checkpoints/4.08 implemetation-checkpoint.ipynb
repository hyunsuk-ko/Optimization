{
 "cells": [
  {
   "cell_type": "code",
   "execution_count": 45,
   "id": "69a88eaa",
   "metadata": {},
   "outputs": [
    {
     "data": {
      "text/plain": [
       "Dict{Tuple{Any, Any}, Float64} with 10 entries:\n",
       "  (4, :T) => 1.0\n",
       "  (2, 4)  => 1.0\n",
       "  (:S, 2) => 1.0\n",
       "  (5, :T) => 1.0\n",
       "  (1, 3)  => 1.0\n",
       "  (:S, 1) => 1.0\n",
       "  (3, :T) => 1.0\n",
       "  (2, 3)  => 1.0\n",
       "  (1, 5)  => 1.0\n",
       "  (3, 5)  => 1.0"
      ]
     },
     "execution_count": 45,
     "metadata": {},
     "output_type": "execute_result"
    }
   ],
   "source": [
    "using JuMP, Cbc\n",
    "\n",
    "nodes= [:S, 1, 2, 3, 4, 5, :T]\n",
    "arcs=[(:S,1), (:S,2), \n",
    "    (1,3), (1,5), \n",
    "    (2,3), (2,4),\n",
    "    (3,5), (3,:T),\n",
    "    (4,:T),\n",
    "    (5,:T)]\n",
    "bus_route = [(:S,2), (1,5), (3,:T)]\n",
    "\n",
    "b = Dict(zip(nodes, [1,0,0, 0, 0, 0, -1]))\n",
    "c = Dict(zip(arcs,[10, 5, 12, 4, 6, 9, 6, 3, 8, 7]))\n",
    "u = Dict(zip(arcs, ones(10)))"
   ]
  },
  {
   "cell_type": "code",
   "execution_count": 48,
   "id": "b74c33f5",
   "metadata": {},
   "outputs": [
    {
     "name": "stdout",
     "output_type": "stream",
     "text": [
      "Mininum cost = 21.0\n",
      "flow on arc (:S, 1)= 1.0\n",
      "flow on arc (:S, 2)= 0.0\n",
      "flow on arc (1, 3)= 0.0\n",
      "flow on arc (1, 5)= 1.0\n",
      "flow on arc (2, 3)= -0.0\n",
      "flow on arc (2, 4)= 0.0\n",
      "flow on arc (3, 5)= -0.0\n",
      "flow on arc (3, :T)= 0.0\n",
      "flow on arc (4, :T)= 0.0\n",
      "flow on arc (5, :T)= 1.0\n",
      "Presolve 0 (-8) rows, 0 (-10) columns and 0 (-23) elements\n",
      "Optimal - objective value 21\n",
      "After Postsolve, objective 21, infeasibilities - dual 1.9999999 (1), primal 0 (0)\n",
      "Presolved model was optimal, full model needs cleaning up\n",
      "0  Obj 21 Dual inf 1.9999999 (1)\n",
      "1  Obj 21\n",
      "Optimal - objective value 21\n",
      "Optimal objective 21 - 1 iterations time 0.022, Presolve 0.01\n"
     ]
    }
   ],
   "source": [
    "m = Model()\n",
    "\n",
    "@variable(m,  0 <= x[a in arcs] <= u[a])\n",
    "\n",
    "@objective(m, Min, sum(c[a] * x[a] for a in arcs))\n",
    "\n",
    "@constraint(m, max_bus_route, sum(x[b] for b in bus_route) <= 1)\n",
    "    \n",
    "@constraint(m, flowbalance[i in nodes],\n",
    "    sum(x[(i,j)] for j in nodes if (i,j) in arcs) - \n",
    "    sum(x[(j,i)] for j in nodes if (j,i) in arcs) \n",
    "    == b[i])\n",
    "\n",
    "set_optimizer(m, Cbc.Optimizer)\n",
    "optimize!(m)\n",
    "\n",
    "println(\"Mininum cost = \", round(objective_value(m),digits=1))\n",
    "for a in arcs\n",
    "    println(\"flow on arc \", a, \"= \", round(value(x[a]),digits=1))\n",
    "end"
   ]
  },
  {
   "cell_type": "code",
   "execution_count": 35,
   "id": "bd20ce18",
   "metadata": {},
   "outputs": [
    {
     "name": "stdout",
     "output_type": "stream",
     "text": [
      "Presolve 1 (-14) rows, 2 (-7) columns and 2 (-25) elements\n",
      "0  Obj 3150 Primal inf 1.999999 (1)\n",
      "1  Obj 3270\n",
      "Optimal - objective value 3270\n",
      "After Postsolve, objective 3270, infeasibilities - dual 0 (0), primal 0 (0)\n",
      "Optimal objective 3270 - 1 iterations time 0.002, Presolve 0.00\n"
     ]
    },
    {
     "data": {
      "text/plain": [
       "* Solver : COIN Branch-and-Cut (Cbc)\n",
       "\n",
       "* Status\n",
       "  Termination status : OPTIMAL\n",
       "  Primal status      : FEASIBLE_POINT\n",
       "  Dual status        : NO_SOLUTION\n",
       "  Result count       : 1\n",
       "  Has duals          : false\n",
       "  Message from the solver:\n",
       "  \"Cbc_status          = finished - check isProvenOptimal or isProvenInfeasible to see if solution found (or check value of best solution)\n",
       "Cbc_secondaryStatus = unset (status_ will also be -1)\n",
       "\"\n",
       "\n",
       "* Candidate solution\n",
       "  Objective value      : 3270.0\n",
       "  Objective bound      : 3270.0\n",
       "  Primal solution :\n",
       "    x[chef,1] : 8.0\n",
       "    x[chef,2] : 0.0\n",
       "    x[chef,3] : 9.0\n",
       "    x[dishwasher,1] : 4.0\n",
       "    x[dishwasher,2] : 0.0\n",
       "    x[dishwasher,3] : 7.0\n",
       "    x[waitstaff,1] : 5.0\n",
       "    x[waitstaff,2] : 0.0\n",
       "    x[waitstaff,3] : 8.0\n",
       "\n",
       "* Work counters\n",
       "  Solve time (sec)   : 0.00100\n"
      ]
     },
     "execution_count": 35,
     "metadata": {},
     "output_type": "execute_result"
    }
   ],
   "source": [
    "using NamedArrays\n",
    "\n",
    "shift = 1:3\n",
    "time = 1:5\n",
    "job = [:chef, :waitstaff, :dishwasher]\n",
    "\n",
    "a = [\n",
    " 1 1 1 0 0 ;\n",
    " 0 1 1 1 0;\n",
    " 0 0 1 1 1;\n",
    " ]\n",
    "\n",
    "a_NA = NamedArray(a, (shift,time),(\"shift\",\"time\"))\n",
    "\n",
    "c = [\n",
    "    100 90 120;\n",
    "    50 70 60;\n",
    "    60 60 60;\n",
    "]\n",
    "\n",
    "c_NA = NamedArray(c, (job, shift),(\"job\",\"shift\"))\n",
    "\n",
    "b = [\n",
    "    8 5 7 6 9;\n",
    "    5 5 8 7 8;\n",
    "    2 4 5 7 7;\n",
    "]\n",
    "\n",
    "b_NA = NamedArray(b, (job, time),(\"job\",\"time\"))\n",
    "\n",
    "m = Model()\n",
    "\n",
    "@variable(m,  x[job, shift] >= 0)\n",
    "\n",
    "@objective(m, Min, sum(c_NA[j,s] * x[j,s] for j in job for s in shift))\n",
    "\n",
    "@constraint(m, min_demand[j in job, t in time], sum(a_NA[s,t] * x[j,s] for s in shift) >= b_NA[j,t])\n",
    "\n",
    "set_optimizer(m, Cbc.Optimizer)\n",
    "\n",
    "optimize!(m)\n",
    "\n",
    "solution_summary(m, verbose=true)"
   ]
  },
  {
   "cell_type": "code",
   "execution_count": null,
   "id": "7f01f752",
   "metadata": {},
   "outputs": [],
   "source": []
  }
 ],
 "metadata": {
  "kernelspec": {
   "display_name": "Julia 1.7.1",
   "language": "julia",
   "name": "julia-1.7"
  },
  "language_info": {
   "file_extension": ".jl",
   "mimetype": "application/julia",
   "name": "julia",
   "version": "1.7.1"
  }
 },
 "nbformat": 4,
 "nbformat_minor": 5
}
