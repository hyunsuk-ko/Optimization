{
 "cells": [
  {
   "cell_type": "code",
   "execution_count": 11,
   "id": "fce3e787",
   "metadata": {},
   "outputs": [
    {
     "name": "stdout",
     "output_type": "stream",
     "text": [
      "600\n",
      "672\n",
      "748\n",
      "828\n",
      "912\n",
      "1000\n"
     ]
    }
   ],
   "source": [
    "for i in range(0,6):\n",
    "    val = 2*(20+i)**2 - 10*(20+i)\n",
    "    print(val)"
   ]
  },
  {
   "cell_type": "code",
   "execution_count": 12,
   "id": "a64d7bd8",
   "metadata": {},
   "outputs": [
    {
     "name": "stdout",
     "output_type": "stream",
     "text": [
      "0\n",
      "18\n",
      "42\n",
      "72\n",
      "108\n",
      "150\n"
     ]
    }
   ],
   "source": [
    "for i in range(0,6):\n",
    "    val = 3*(5+i)**2 - 15*(5+i)\n",
    "    print(val)"
   ]
  },
  {
   "cell_type": "code",
   "execution_count": 13,
   "id": "8622a594",
   "metadata": {},
   "outputs": [
    {
     "name": "stdout",
     "output_type": "stream",
     "text": [
      "0\n",
      "25\n",
      "60\n",
      "105\n",
      "160\n",
      "225\n"
     ]
    }
   ],
   "source": [
    "for i in range(0,6):\n",
    "    val = 5*(4+i)**2 - 20*(4+i)\n",
    "    print(val)"
   ]
  },
  {
   "cell_type": "code",
   "execution_count": 14,
   "id": "b0a4d9c3",
   "metadata": {},
   "outputs": [
    {
     "name": "stdout",
     "output_type": "stream",
     "text": [
      "1100\n",
      "1218\n",
      "1342\n",
      "1472\n",
      "1608\n",
      "1750\n"
     ]
    }
   ],
   "source": [
    "for i in range(0,6):\n",
    "    val = 3*(20+i)**2 - 5*(20+i)\n",
    "    print(val)"
   ]
  },
  {
   "cell_type": "code",
   "execution_count": 18,
   "id": "9afd0e22",
   "metadata": {},
   "outputs": [
    {
     "name": "stdout",
     "output_type": "stream",
     "text": [
      "-150\n",
      "-154\n",
      "-156\n",
      "-156\n",
      "-154\n",
      "-150\n"
     ]
    }
   ],
   "source": [
    "for i in range(0,6):\n",
    "    val = (10+i)**2 - 25*(10+i)\n",
    "    print(val)"
   ]
  },
  {
   "cell_type": "code",
   "execution_count": 17,
   "id": "e399bd55",
   "metadata": {},
   "outputs": [
    {
     "name": "stdout",
     "output_type": "stream",
     "text": [
      "675\n",
      "784\n",
      "901\n",
      "1026\n",
      "1159\n",
      "1300\n"
     ]
    }
   ],
   "source": [
    "for i in range(0,6):\n",
    "    val = 4*(15+i)**2 - 15*(15+i)\n",
    "    print(val)"
   ]
  },
  {
   "cell_type": "code",
   "execution_count": null,
   "id": "b732aa3b",
   "metadata": {},
   "outputs": [],
   "source": []
  }
 ],
 "metadata": {
  "kernelspec": {
   "display_name": "Python 3",
   "language": "python",
   "name": "python3"
  },
  "language_info": {
   "codemirror_mode": {
    "name": "ipython",
    "version": 3
   },
   "file_extension": ".py",
   "mimetype": "text/x-python",
   "name": "python",
   "nbconvert_exporter": "python",
   "pygments_lexer": "ipython3",
   "version": "3.8.8"
  }
 },
 "nbformat": 4,
 "nbformat_minor": 5
}
