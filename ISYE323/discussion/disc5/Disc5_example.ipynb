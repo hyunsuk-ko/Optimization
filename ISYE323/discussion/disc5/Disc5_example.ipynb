{
 "cells": [
  {
   "cell_type": "markdown",
   "metadata": {},
   "source": [
    "The the general LP that solves the problem is formulated as such:\n",
    "\n",
    "Let $x_{t}$ denote the hours of our process ran in month $t$\n",
    "\n",
    "Let $n_{t}$ denote the total amount of nitrate leftover after month $t$\n",
    "\n",
    "Let $h_{t}$ denote the total amount of hydronium leftover after month $t$\n",
    "\n",
    "Let $p_{t}$ denote the total amount of hydronium dumped at the end of month $t$\n",
    "\n",
    "min $\\sum_{t \\in T} (c x_t + r (n_t + h_t) + f p_t)$\n",
    "\n",
    "s.t. $n_t = n_{t-1} + a x_t - d_t \\hspace{42pt} \\forall t \\in T$\n",
    "\n",
    "$\\hspace{13pt} h_t + p_t = h_{t-1} + b x_t - e_t  \\hspace{24pt} \\forall t \\in T$\n",
    "\n",
    "$\\hspace{13pt} x_t \\leq l \\hspace{92pt} \\forall t \\in T$\n",
    "\n",
    "$\\hspace{13pt} h_t \\leq u \\hspace{91pt} \\forall t \\in T$\n",
    "\n",
    "$\\hspace{13pt} n_0 = 0$\n",
    "\n",
    "$\\hspace{13pt} h_0 = 0$\n",
    "\n",
    "$\\hspace{13pt} x_t, n_t, h_t, p_t \\geq 0 \\hspace{60pt} \\forall t \\in T$"
   ]
  },
  {
   "cell_type": "code",
   "execution_count": 1,
   "metadata": {},
   "outputs": [
    {
     "data": {
      "text/plain": [
       "1"
      ]
     },
     "execution_count": 1,
     "metadata": {},
     "output_type": "execute_result"
    }
   ],
   "source": [
    "# Sets\n",
    "T = [1, 2, 3, 4, 5, 6]\n",
    "T0 = [0, 1, 2, 3, 4, 5, 6]\n",
    "\n",
    "# Parameters\n",
    "c = 50\n",
    "a = 100\n",
    "b = 31\n",
    "d = Dict(zip(T, [15000, 18000, 22000, 21000, 16000, 14000, 23000]))\n",
    "e = Dict(zip(T, [4000, 5000, 6000, 4400, 2000, 2500, 3700]))\n",
    "#e = Dict(zip(T, [4000, 5000, 8000, 4400, 2000, 2500, 3700]))\n",
    "l = 200\n",
    "r = 0.2\n",
    "u = 5000\n",
    "f = 1"
   ]
  },
  {
   "cell_type": "code",
   "execution_count": 5,
   "metadata": {},
   "outputs": [
    {
     "data": {
      "text/plain": [
       "1-dimensional DenseAxisArray{VariableRef,1,...} with index sets:\n",
       "    Dimension 1, [1, 2, 3, 4, 5, 6]\n",
       "And data, a 6-element Vector{VariableRef}:\n",
       " p[1]\n",
       " p[2]\n",
       " p[3]\n",
       " p[4]\n",
       " p[5]\n",
       " p[6]"
      ]
     },
     "execution_count": 5,
     "metadata": {},
     "output_type": "execute_result"
    }
   ],
   "source": [
    "using Cbc, JuMP\n",
    "\n",
    "m = Model()\n",
    "\n",
    "@variable(m, l >= x[T] >= 0)\n",
    "@variable(m, n[T0] >= 0)\n",
    "@variable(m, u >= h[T0] >= 0)\n",
    "@variable(m, p[T] >= 0)\n",
    "\n",
    "#@objective(m, Min, sum(c*x[t] + r*(n[t] + h[t]) + f*p[t] for t in T))\n",
    "\n",
    "#@constraint(m, nitrate[t in T], n[t] == n[t-1] + a*x[t] - d[t])\n",
    "#@constraint(m, hydronium[t in T], h[t] + p[t] == h[t-1] + b*x[t] - e[t])\n",
    "#@constraint(m, startingnitrate, n[0] == 0)\n",
    "#@constraint(m, startinghydro, h[0] == 0)"
   ]
  },
  {
   "cell_type": "code",
   "execution_count": null,
   "metadata": {},
   "outputs": [],
   "source": [
    "set_optimizer(m, Cbc.Optimizer)\n",
    "\n",
    "optimize!(m)\n",
    "\n",
    "solution_summary(m, verbose=true)"
   ]
  },
  {
   "cell_type": "code",
   "execution_count": null,
   "metadata": {},
   "outputs": [],
   "source": []
  },
  {
   "cell_type": "code",
   "execution_count": null,
   "metadata": {},
   "outputs": [],
   "source": []
  }
 ],
 "metadata": {
  "kernelspec": {
   "display_name": "Julia 1.7.1",
   "language": "julia",
   "name": "julia-1.7"
  },
  "language_info": {
   "file_extension": ".jl",
   "mimetype": "application/julia",
   "name": "julia",
   "version": "1.7.1"
  }
 },
 "nbformat": 4,
 "nbformat_minor": 2
}
