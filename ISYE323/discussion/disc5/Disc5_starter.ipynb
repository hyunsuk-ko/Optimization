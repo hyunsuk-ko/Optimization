{
 "cells": [
  {
   "cell_type": "markdown",
   "metadata": {},
   "source": [
    "We manage 2 bakeries that produce, store, and sell loaves of fresh bread on site. A given\n",
    "location lcan produce up to loaves of bread every day, and experiences different demand𝑏𝑙𝑑𝑙𝑡\n",
    "on a daily basis. We are able to store leftover bread to be sold the next day, but only if we sell the\n",
    "day-old loaves at a discount (with linearly increasing discounts if a loaf is stored for multiple\n",
    "days), so we effectively incur an opportunity cost of sper loaf that is stored overnight.\n",
    "Additionally, between one day’s closing and the next day’s opening, we can transport the stored\n",
    "loaves between the two locations, at a cost of mper loaf.\n",
    "Our goal is to minimize our costs over a seven day period, while meeting demand at each\n",
    "location for every day. Assume that we start with 0 loaves of leftover bread on the first day at\n",
    "both locations."
   ]
  },
  {
   "cell_type": "code",
   "execution_count": 19,
   "metadata": {},
   "outputs": [
    {
     "ename": "LoadError",
     "evalue": "MethodError: no method matching -(::Base.Generator{Vector{Int64}, var\"#140#143\"{Int64}}, ::Base.Generator{Vector{Int64}, var\"#141#144\"{Int64}})\n\u001b[0mClosest candidates are:\n\u001b[0m  -(\u001b[91m::Union{MathOptInterface.ScalarAffineFunction{T}, MathOptInterface.ScalarQuadraticFunction{T}}\u001b[39m, ::T) where T at C:\\Users\\peren\\.julia\\packages\\MathOptInterface\\QxT5e\\src\\Utilities\\functions.jl:1764\n\u001b[0m  -(\u001b[91m::ChainRulesCore.AbstractThunk\u001b[39m, ::Any) at C:\\Users\\peren\\.julia\\packages\\ChainRulesCore\\uxrij\\src\\tangent_types\\thunks.jl:32\n\u001b[0m  -(\u001b[91m::ChainRulesCore.ZeroTangent\u001b[39m, ::Any) at C:\\Users\\peren\\.julia\\packages\\ChainRulesCore\\uxrij\\src\\tangent_arithmetic.jl:101\n\u001b[0m  ...",
     "output_type": "error",
     "traceback": [
      "MethodError: no method matching -(::Base.Generator{Vector{Int64}, var\"#140#143\"{Int64}}, ::Base.Generator{Vector{Int64}, var\"#141#144\"{Int64}})\n\u001b[0mClosest candidates are:\n\u001b[0m  -(\u001b[91m::Union{MathOptInterface.ScalarAffineFunction{T}, MathOptInterface.ScalarQuadraticFunction{T}}\u001b[39m, ::T) where T at C:\\Users\\peren\\.julia\\packages\\MathOptInterface\\QxT5e\\src\\Utilities\\functions.jl:1764\n\u001b[0m  -(\u001b[91m::ChainRulesCore.AbstractThunk\u001b[39m, ::Any) at C:\\Users\\peren\\.julia\\packages\\ChainRulesCore\\uxrij\\src\\tangent_types\\thunks.jl:32\n\u001b[0m  -(\u001b[91m::ChainRulesCore.ZeroTangent\u001b[39m, ::Any) at C:\\Users\\peren\\.julia\\packages\\ChainRulesCore\\uxrij\\src\\tangent_arithmetic.jl:101\n\u001b[0m  ...",
      "",
      "Stacktrace:",
      "  [1] sub_mul(a::Base.Generator{Vector{Int64}, var\"#140#143\"{Int64}}, b::Base.Generator{Vector{Int64}, var\"#141#144\"{Int64}})",
      "    @ MutableArithmetics C:\\Users\\peren\\.julia\\packages\\MutableArithmetics\\UtY4H\\src\\MutableArithmetics.jl:33",
      "  [2] operate(::typeof(MutableArithmetics.sub_mul), ::Base.Generator{Vector{Int64}, var\"#140#143\"{Int64}}, ::Base.Generator{Vector{Int64}, var\"#141#144\"{Int64}})",
      "    @ MutableArithmetics C:\\Users\\peren\\.julia\\packages\\MutableArithmetics\\UtY4H\\src\\interface.jl:131",
      "  [3] operate_fallback!!(::MutableArithmetics.IsNotMutable, ::typeof(MutableArithmetics.sub_mul), ::Base.Generator{Vector{Int64}, var\"#140#143\"{Int64}}, ::Base.Generator{Vector{Int64}, var\"#141#144\"{Int64}})",
      "    @ MutableArithmetics C:\\Users\\peren\\.julia\\packages\\MutableArithmetics\\UtY4H\\src\\interface.jl:433",
      "  [4] operate!!(op::typeof(MutableArithmetics.sub_mul), x::Base.Generator{Vector{Int64}, var\"#140#143\"{Int64}}, args::Base.Generator{Vector{Int64}, var\"#141#144\"{Int64}})",
      "    @ MutableArithmetics C:\\Users\\peren\\.julia\\packages\\MutableArithmetics\\UtY4H\\src\\rewrite.jl:85",
      "  [5] macro expansion",
      "    @ C:\\Users\\peren\\.julia\\packages\\MutableArithmetics\\UtY4H\\src\\rewrite.jl:281 [inlined]",
      "  [6] macro expansion",
      "    @ C:\\Users\\peren\\.julia\\packages\\JuMP\\lnUbA\\src\\macros.jl:813 [inlined]",
      "  [7] (::var\"#139#142\")(j::Int64)",
      "    @ Main C:\\Users\\peren\\.julia\\packages\\JuMP\\lnUbA\\src\\Containers\\macro.jl:309",
      "  [8] (::JuMP.Containers.var\"#39#40\"{var\"#139#142\"})(I::Tuple{Int64})",
      "    @ JuMP.Containers C:\\Users\\peren\\.julia\\packages\\JuMP\\lnUbA\\src\\Containers\\container.jl:105",
      "  [9] iterate",
      "    @ .\\generator.jl:47 [inlined]",
      " [10] collect(itr::Base.Generator{JuMP.Containers.VectorizedProductIterator{Tuple{Vector{Int64}}}, JuMP.Containers.var\"#39#40\"{var\"#139#142\"}})",
      "    @ Base .\\array.jl:724",
      " [11] map(f::Function, A::JuMP.Containers.VectorizedProductIterator{Tuple{Vector{Int64}}})",
      "    @ Base .\\abstractarray.jl:2878",
      " [12] container(f::Function, indices::JuMP.Containers.VectorizedProductIterator{Tuple{Vector{Int64}}}, #unused#::Type{JuMP.Containers.DenseAxisArray})",
      "    @ JuMP.Containers C:\\Users\\peren\\.julia\\packages\\JuMP\\lnUbA\\src\\Containers\\container.jl:105",
      " [13] container(f::Function, indices::JuMP.Containers.VectorizedProductIterator{Tuple{Vector{Int64}}})",
      "    @ JuMP.Containers C:\\Users\\peren\\.julia\\packages\\JuMP\\lnUbA\\src\\Containers\\container.jl:66",
      " [14] macro expansion",
      "    @ C:\\Users\\peren\\.julia\\packages\\JuMP\\lnUbA\\src\\macros.jl:142 [inlined]",
      " [15] top-level scope",
      "    @ In[19]:32",
      " [16] eval",
      "    @ .\\boot.jl:373 [inlined]",
      " [17] include_string(mapexpr::typeof(REPL.softscope), mod::Module, code::String, filename::String)",
      "    @ Base .\\loading.jl:1196"
     ]
    }
   ],
   "source": [
    "using Cbc, JuMP, NamedArrays\n",
    "\n",
    "# Sets\n",
    "T = [1, 2, 3, 4, 5, 6, 7] # our set of days \n",
    "T0 = [0, 1, 2, 3, 4, 5, 6, 7]\n",
    "L = [1, 2] # bakery locations\n",
    "\n",
    "# Parameters\n",
    "c = 0.5 # production cost\n",
    "s = 0.2 # incurred cost of selling old bread\n",
    "b = Dict(zip(L, [150, 260])) # maximum # of bread produced in location\n",
    "# deamnd for bread at location l at day t\n",
    "d = NamedArray([100 130 150 120 140 220 150; 150 230 200 190 280 140 320], (L, T), (\"location\", \"day\")) \n",
    "h = 0.1 # transportation cost\n",
    "\n",
    "########################################\n",
    "# TODO: create and solve general model #\n",
    "########################################\n",
    "using JuMP, Cbc\n",
    "\n",
    "m = Model()\n",
    "\n",
    "@variable(m, x[L,T] >= 0) # of bread produced at location L in day T\n",
    "@variable(m, y[L,T] >= 0) # of leftover bread at location L in day T\n",
    "@variable(m, z[L,T] >= 0) # of transporated bread from location 1 to 2 in day T\n",
    "\n",
    "@objective(m, Min, sum(c * x) + sum(s * y) + sum(h * z))\n",
    "\n",
    "@constraint(m, max_produce[i in L], sum(x[i,j] for j in T) <= b[i]) \n",
    "@constraint(m, initial_leftover[i in L], y[i,1] == 0)\n",
    "#@constraint(m, carryover_1_2, y[1,2] == y[1,1] + x[1,1] - z[1,1])\n",
    "@constraint(m, carryover_equality[j in T], (y[i,j] for i in L) == (y[i-1,j] + x[i,j] - z[i,j] for i in L))"
   ]
  },
  {
   "cell_type": "code",
   "execution_count": 3,
   "metadata": {},
   "outputs": [
    {
     "data": {
      "text/plain": [
       "2×7 Named Matrix{Int64}\n",
       "location ╲ day │   1    2    3    4    5    6    7\n",
       "───────────────┼──────────────────────────────────\n",
       "1              │ 100  130  150  120  140  220  150\n",
       "2              │ 150  230  200  190  280  140  320"
      ]
     },
     "execution_count": 3,
     "metadata": {},
     "output_type": "execute_result"
    }
   ],
   "source": [
    "d"
   ]
  },
  {
   "cell_type": "code",
   "execution_count": 6,
   "metadata": {},
   "outputs": [
    {
     "data": {
      "text/plain": [
       "2-dimensional DenseAxisArray{VariableRef,2,...} with index sets:\n",
       "    Dimension 1, [1, 2]\n",
       "    Dimension 2, [1, 2, 3, 4, 5, 6, 7]\n",
       "And data, a 2×7 Matrix{VariableRef}:\n",
       " x[1,1]  x[1,2]  x[1,3]  x[1,4]  x[1,5]  x[1,6]  x[1,7]\n",
       " x[2,1]  x[2,2]  x[2,3]  x[2,4]  x[2,5]  x[2,6]  x[2,7]"
      ]
     },
     "execution_count": 6,
     "metadata": {},
     "output_type": "execute_result"
    }
   ],
   "source": [
    "x"
   ]
  },
  {
   "cell_type": "code",
   "execution_count": null,
   "metadata": {},
   "outputs": [],
   "source": []
  }
 ],
 "metadata": {
  "kernelspec": {
   "display_name": "Julia 1.7.1",
   "language": "julia",
   "name": "julia-1.7"
  },
  "language_info": {
   "file_extension": ".jl",
   "mimetype": "application/julia",
   "name": "julia",
   "version": "1.7.1"
  }
 },
 "nbformat": 4,
 "nbformat_minor": 2
}
