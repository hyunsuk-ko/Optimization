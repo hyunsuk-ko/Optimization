{
 "cells": [
  {
   "cell_type": "code",
   "execution_count": 2,
   "metadata": {},
   "outputs": [
    {
     "name": "stdout",
     "output_type": "stream",
     "text": [
      "Presolve 14 (0) rows, 17 (0) columns and 44 (0) elements\n",
      "Perturbing problem by 0.001% of 60 - largest nonzero change 0.00035269088 ( 0.00083974018%) - largest zero change 0\n",
      "0  Obj 0 Primal inf 125 (14)\n",
      "19  Obj 2748.0065\n",
      "Optimal - objective value 2748\n",
      "Optimal objective 2748 - 19 iterations time 0.022\n"
     ]
    },
    {
     "data": {
      "text/plain": [
       "* Solver : COIN Branch-and-Cut (Cbc)\n",
       "\n",
       "* Status\n",
       "  Termination status : OPTIMAL\n",
       "  Primal status      : FEASIBLE_POINT\n",
       "  Dual status        : NO_SOLUTION\n",
       "  Result count       : 1\n",
       "  Has duals          : false\n",
       "  Message from the solver:\n",
       "  \"Cbc_status          = finished - check isProvenOptimal or isProvenInfeasible to see if solution found (or check value of best solution)\n",
       "Cbc_secondaryStatus = unset (status_ will also be -1)\n",
       "\"\n",
       "\n",
       "* Candidate solution\n",
       "  Objective value      : 2748.0\n",
       "  Objective bound      : 2748.0\n",
       "  Primal solution :\n",
       "    x[1] : 10.0\n",
       "    x[2] : 0.0\n",
       "    x[3] : 14.0\n",
       "    x[4] : 0.0\n",
       "    x[5] : 12.0\n",
       "    y[1] : 6.0\n",
       "    y[2] : 4.0\n",
       "    y[3] : 1.0\n",
       "    y[4] : 0.0\n",
       "    y[5] : 8.0\n",
       "    z[1] : 0.0\n",
       "    z[2] : 0.0\n",
       "    z[3] : 0.0\n",
       "    z[4] : 4.0\n",
       "    z[5] : 0.0\n",
       "    z[6] : 0.0\n",
       "    z[7] : 2.0\n",
       "\n",
       "* Work counters\n",
       "  Solve time (sec)   : 0.02400\n"
      ]
     },
     "execution_count": 2,
     "metadata": {},
     "output_type": "execute_result"
    }
   ],
   "source": [
    "using JuMP, Cbc, NamedArrays\n",
    "\n",
    "# Sets\n",
    "T = [1, 2, 3, 4, 5, 6, 7]\n",
    "S = [1, 2, 3, 4, 5]\n",
    "\n",
    "# Parameters\n",
    "w = Dict(zip(T, [10, 8, 12, 10, 6, 12, 10]))\n",
    "b = Dict(zip(T, [6, 10, 6, 9, 9, 7, 10]))\n",
    "a = NamedArray([1 1 1 0 0 0 0; 0 1 1 1 0 0 0; 0 0 1 1 1 0 0; 0 0 0 1 1 1 0; 0 0 0 0 1 1 1], (S,T), (\"shift\",\"time\"))\n",
    "\n",
    "# General model\n",
    "m = Model()\n",
    "\n",
    "@variable(m, x[S] >= 0)\n",
    "@variable(m, y[S] >= 0)\n",
    "@variable(m, z[T] >= 0)\n",
    "\n",
    "@objective(m, Min, sum(42*x[i] + 60*y[i] for i in S) + sum(16*z[j] for j in T))\n",
    "\n",
    "@constraint(m, waiters[j in T], sum(a[i,j]x[i] for i in S) - z[j] >= w[j])\n",
    "@constraint(m, bussers[j in T], sum(a[i,j]y[i] for i in S) + z[j] >= b[j])\n",
    "\n",
    "set_optimizer(m, Cbc.Optimizer)\n",
    "\n",
    "optimize!(m)\n",
    "\n",
    "solution_summary(m, verbose=true)"
   ]
  },
  {
   "cell_type": "code",
   "execution_count": 4,
   "metadata": {},
   "outputs": [
    {
     "name": "stdout",
     "output_type": "stream",
     "text": [
      "Presolve 5 (-9) rows, 7 (-3) columns and 10 (-20) elements\n",
      "0  Obj 1800 Primal inf 26.999995 (5)\n",
      "3  Obj 2760\n",
      "Optimal - objective value 2760\n",
      "After Postsolve, objective 2760, infeasibilities - dual 0 (0), primal 0 (0)\n",
      "Optimal objective 2760 - 3 iterations time 0.012, Presolve 0.01\n"
     ]
    },
    {
     "data": {
      "text/plain": [
       "* Solver : COIN Branch-and-Cut (Cbc)\n",
       "\n",
       "* Status\n",
       "  Termination status : OPTIMAL\n",
       "  Primal status      : FEASIBLE_POINT\n",
       "  Dual status        : NO_SOLUTION\n",
       "  Result count       : 1\n",
       "  Has duals          : false\n",
       "  Message from the solver:\n",
       "  \"Cbc_status          = finished - check isProvenOptimal or isProvenInfeasible to see if solution found (or check value of best solution)\n",
       "Cbc_secondaryStatus = unset (status_ will also be -1)\n",
       "\"\n",
       "\n",
       "* Candidate solution\n",
       "  Objective value      : 2760.0\n",
       "  Objective bound      : 2760.0\n",
       "  Primal solution :\n",
       "    x[1] : 10.0\n",
       "    x[2] : 8.0\n",
       "    x[3] : 0.0\n",
       "    x[4] : 2.0\n",
       "    x[5] : 10.0\n",
       "    y[1] : 6.0\n",
       "    y[2] : 9.0\n",
       "    y[3] : 0.0\n",
       "    y[4] : 0.0\n",
       "    y[5] : 10.0\n",
       "\n",
       "* Work counters\n",
       "  Solve time (sec)   : 0.00500\n"
      ]
     },
     "execution_count": 4,
     "metadata": {},
     "output_type": "execute_result"
    }
   ],
   "source": [
    "# Just for fun, we will see how different the cost is if we don't allow waiters to bus tables.\n",
    "# We can effectively achieve this here by getting rid of our z variable, and leaving everything else the same\n",
    "\n",
    "using JuMP, Cbc, NamedArrays\n",
    "\n",
    "# Sets\n",
    "T = [1, 2, 3, 4, 5, 6, 7]\n",
    "S = [1, 2, 3, 4, 5]\n",
    "\n",
    "# Parameters\n",
    "w = Dict(zip(T, [10, 8, 12, 10, 6, 12, 10]))\n",
    "b = Dict(zip(T, [6, 10, 6, 9, 9, 7, 10]))\n",
    "a = NamedArray([1 1 1 0 0 0 0; 0 1 1 1 0 0 0; 0 0 1 1 1 0 0; 0 0 0 1 1 1 0; 0 0 0 0 1 1 1], (S,T), (\"shift\",\"time\"))\n",
    "\n",
    "# General model\n",
    "m = Model()\n",
    "\n",
    "@variable(m, x[S] >= 0)\n",
    "@variable(m, y[S] >= 0)\n",
    "#@variable(m, z[T] >= 0)\n",
    "\n",
    "@objective(m, Min, sum(42*x[i] + 60*y[i] for i in S))\n",
    "\n",
    "#@constraint(m, waiters[j in T], sum(a[i,j]x[i] for i in S) - z[j] >= w[j])\n",
    "#@constraint(m, bussers[j in T], sum(a[i,j]y[i] for i in S) + z[j] >= b[j])\n",
    "@constraint(m, waiters[j in T], sum(a[i,j]x[i] for i in S) >= w[j])\n",
    "@constraint(m, bussers[j in T], sum(a[i,j]y[i] for i in S) >= b[j])\n",
    "\n",
    "set_optimizer(m, Cbc.Optimizer)\n",
    "\n",
    "optimize!(m)\n",
    "\n",
    "solution_summary(m, verbose=true)"
   ]
  },
  {
   "cell_type": "code",
   "execution_count": null,
   "metadata": {},
   "outputs": [],
   "source": [
    "#looks like we save $12 if we let waiters bus tables when needed, adjusting their pay as necessary"
   ]
  }
 ],
 "metadata": {
  "kernelspec": {
   "display_name": "Julia 1.7.1",
   "language": "julia",
   "name": "julia-1.7"
  },
  "language_info": {
   "file_extension": ".jl",
   "mimetype": "application/julia",
   "name": "julia",
   "version": "1.7.1"
  }
 },
 "nbformat": 4,
 "nbformat_minor": 2
}
