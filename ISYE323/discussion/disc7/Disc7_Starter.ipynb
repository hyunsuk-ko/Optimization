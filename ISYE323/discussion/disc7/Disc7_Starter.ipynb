{
 "cells": [
  {
   "cell_type": "markdown",
   "id": "d38fd4ff",
   "metadata": {},
   "source": [
    "Below is the max flow formulation from the example. We need to alter the network such that solving max flow over gives us a solution to the problem stated in the exercise.\n",
    "\n",
    "Namely, the total number of people that can enter/exit the following countries are:\n",
    "\n",
    "Country 2: 550\n",
    "\n",
    "Country 3: 500\n",
    "\n",
    "In the markdown cell below, describe how you are modifying the network\n",
    "\n",
    "If you cannot figure out how to modify the network accordingly, you may solve the problem by modifying the LP formulation instead."
   ]
  },
  {
   "cell_type": "markdown",
   "id": "949b9361",
   "metadata": {},
   "source": [
    "Modification:"
   ]
  },
  {
   "cell_type": "code",
   "execution_count": 8,
   "id": "67a6d4d7",
   "metadata": {},
   "outputs": [
    {
     "name": "stdout",
     "output_type": "stream",
     "text": [
      "Presolve 9 (-21) rows, 19 (-1) columns and 49 (-22) elements\n",
      "Perturbing problem by 0.001% of 1 - largest nonzero change 4.7050271e-05 ( 0.0047050271%) - largest zero change 4.6564243e-05\n",
      "0  Obj -0 Dual inf 1.9999216 (2)\n",
      "7  Obj 759.9092\n",
      "Optimal - objective value 760\n",
      "After Postsolve, objective 760, infeasibilities - dual 0 (0), primal 0 (0)\n",
      "Optimal objective 760 - 7 iterations time 0.002, Presolve 0.00\n"
     ]
    },
    {
     "data": {
      "text/plain": [
       "* Solver : COIN Branch-and-Cut (Cbc)\n",
       "\n",
       "* Status\n",
       "  Termination status : OPTIMAL\n",
       "  Primal status      : FEASIBLE_POINT\n",
       "  Dual status        : NO_SOLUTION\n",
       "  Result count       : 1\n",
       "  Has duals          : false\n",
       "  Message from the solver:\n",
       "  \"Cbc_status          = finished - check isProvenOptimal or isProvenInfeasible to see if solution found (or check value of best solution)\n",
       "Cbc_secondaryStatus = unset (status_ will also be -1)\n",
       "\"\n",
       "\n",
       "* Candidate solution\n",
       "  Objective value      : 760.0\n",
       "  Objective bound      : 760.0\n",
       "  Primal solution :\n",
       "    f[(1, 2)] : 150.0\n",
       "    f[(1, 3)] : 210.0\n",
       "    f[(2, 1)] : 0.0\n",
       "    f[(2, 3)] : 0.0\n",
       "    f[(2, 4)] : 0.0\n",
       "    f[(2, 5)] : 290.0\n",
       "    f[(2, :T)] : 260.0\n",
       "    f[(3, 1)] : 0.0\n",
       "    f[(3, 2)] : 0.0\n",
       "    f[(3, 4)] : 210.0\n",
       "    f[(4, 2)] : 0.0\n",
       "    f[(4, 3)] : 0.0\n",
       "    f[(4, 5)] : 30.0\n",
       "    f[(4, :T)] : 180.0\n",
       "    f[(5, 2)] : 0.0\n",
       "    f[(5, 4)] : 0.0\n",
       "    f[(5, :T)] : 320.0\n",
       "    f[(:S, 1)] : 360.0\n",
       "    f[(:S, 2)] : 400.0\n",
       "    f[(:T, :S)] : 760.0\n",
       "\n",
       "* Work counters\n",
       "  Solve time (sec)   : 0.00100\n"
      ]
     },
     "execution_count": 8,
     "metadata": {},
     "output_type": "execute_result"
    }
   ],
   "source": [
    "using Cbc, JuMP, NamedArrays\n",
    "\n",
    "#################################################\n",
    "# Make alterations to the sets/parameters below #\n",
    "#################################################\n",
    "\n",
    "# Sets\n",
    "C = [:S,1,2,3,4,5,:T]\n",
    "A = [(:S, 1),(:S, 2),(1, 2),(2, 1),(1, 3),(3, 1),(2, 3),(3, 2),(3, 4),(4, 3),(2, 4),(4, 2),(4, 5),(5,4),(2, 5),(5, 2),(2, :T),(4, :T),(5, :T)]\n",
    "\n",
    "# Parameters\n",
    "q = Dict(zip(A, [500, 400, 200, 230, 210, 400, 180, 270, 600, 200, 410, 200, 340, 210, 520, 480, 260, 180, 420]))\n",
    "\n",
    "################################################\n",
    "# general model, should not need to be changed #\n",
    "################################################\n",
    "\n",
    "m = Model()\n",
    "\n",
    "@variable(m, 0 <= f[union(A,[(:T, :S)])])\n",
    "\n",
    "@objective(m, Max, f[(:T, :S)])\n",
    "\n",
    "@constraint(m, flowconserve[i in C], sum(f[(j, i)] for j in C if (j, i) in union(A,[(:T, :S)])) == sum(f[(i, j)] for j in C if (i, j) in union(A,[(:T, :S)])))\n",
    "@constraint(m, capacity[a in A], f[a] <= q[a])\n",
    "@constraint(m, maxinput_2, f[(:S,2)] <= 550)\n",
    "@constraint(m, maxoutput_2, f[(2,1)] +  f[(2,3)] + f[(2,4)] + f[(2,5)] + + f[(2,:T)] <= 550)\n",
    "@constraint(m, maxinput_3, f[(1,3)] + f[(2,3)] + f[(4,3)] <= 500)\n",
    "@constraint(m, maxoutput_3, f[(3,1)] +  f[(3,2)] + f[(3,4)] <= 500)\n",
    "\n",
    "set_optimizer(m, Cbc.Optimizer)\n",
    "\n",
    "optimize!(m)\n",
    "\n",
    "solution_summary(m, verbose=true)"
   ]
  },
  {
   "cell_type": "code",
   "execution_count": null,
   "id": "6e437107",
   "metadata": {},
   "outputs": [],
   "source": []
  }
 ],
 "metadata": {
  "kernelspec": {
   "display_name": "Julia 1.7.1",
   "language": "julia",
   "name": "julia-1.7"
  },
  "language_info": {
   "file_extension": ".jl",
   "mimetype": "application/julia",
   "name": "julia",
   "version": "1.7.1"
  }
 },
 "nbformat": 4,
 "nbformat_minor": 5
}
