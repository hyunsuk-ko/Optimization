{
 "cells": [
  {
   "cell_type": "code",
   "execution_count": null,
   "id": "0886b372",
   "metadata": {},
   "outputs": [],
   "source": [
    "using Cbc, JuMP, NamedArrays\n",
    "\n",
    "# Sets\n",
    "T = 1:9\n",
    "H = 1:4\n",
    "C = 7:9\n",
    "\n",
    "# Parameters\n",
    "p = Dict(zip(T, [10, 7, 12, 8, 5, 14, 28, 17, 11]))\n",
    "f = Dict(zip(T, [17, 52, 42, 22, 75, 42, 13, 36, 80]))\n",
    "r = 30 \n",
    "#M =         #write in a suitable M value here as well\n",
    "\n",
    "########################################\n",
    "# TODO: create and solve general model #\n",
    "########################################"
   ]
  },
  {
   "cell_type": "code",
   "execution_count": null,
   "id": "0183078c",
   "metadata": {},
   "outputs": [],
   "source": [
    "# Bonus Problem Starter\n",
    "\n",
    "# Sets\n",
    "T = 1:9\n",
    "A = 1:4\n",
    "B = 5:9\n",
    "\n",
    "# Parameters\n",
    "p = Dict(zip(T, [10, 7, 12, 8, 5, 14, 28, 17, 11]))\n",
    "f = Dict(zip(T, [17, 52, 42, 22, 75, 42, 13, 36, 80]))\n",
    "a = 5\n",
    "b = 7\n",
    "#M =         #write in a suitable M value here as well\n",
    "\n",
    "########################################\n",
    "# TODO: create and solve general model #\n",
    "########################################"
   ]
  }
 ],
 "metadata": {
  "kernelspec": {
   "display_name": "Julia 1.7.1",
   "language": "julia",
   "name": "julia-1.7"
  },
  "language_info": {
   "file_extension": ".jl",
   "mimetype": "application/julia",
   "name": "julia",
   "version": "1.7.1"
  }
 },
 "nbformat": 4,
 "nbformat_minor": 5
}
