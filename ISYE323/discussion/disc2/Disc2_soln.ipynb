{
 "cells": [
  {
   "cell_type": "code",
   "execution_count": 5,
   "metadata": {},
   "outputs": [
    {
     "name": "stdout",
     "output_type": "stream",
     "text": [
      "Presolve 4 (-3) rows, 7 (0) columns and 19 (-3) elements\n",
      "0  Obj -0 Dual inf 1200 (4)\n",
      "4  Obj 30517.241\n",
      "Optimal - objective value 30517.241\n",
      "After Postsolve, objective 30517.241, infeasibilities - dual 0 (0), primal 0 (0)\n",
      "Optimal objective 30517.24138 - 4 iterations time 0.012, Presolve 0.00\n"
     ]
    },
    {
     "data": {
      "text/plain": [
       "* Solver : COIN Branch-and-Cut (Cbc)\n",
       "\n",
       "* Status\n",
       "  Termination status : OPTIMAL\n",
       "  Primal status      : FEASIBLE_POINT\n",
       "  Dual status        : NO_SOLUTION\n",
       "  Result count       : 1\n",
       "  Has duals          : false\n",
       "  Message from the solver:\n",
       "  \"Cbc_status          = finished - check isProvenOptimal or isProvenInfeasible to see if solution found (or check value of best solution)\n",
       "Cbc_secondaryStatus = unset (status_ will also be -1)\n",
       "\"\n",
       "\n",
       "* Candidate solution\n",
       "  Objective value      : 30517.241379310348\n",
       "  Objective bound      : 30517.241379310348\n",
       "  Primal solution :\n",
       "    x[corn] : 0.0\n",
       "    x[onions] : 120.68965517241381\n",
       "    x[potatoes] : 0.0\n",
       "    x[wheat] : 51.72413793103448\n",
       "    y[fertilizer] : 1000.0\n",
       "    y[water] : 275.8620689655172\n",
       "    y[workers] : 500.0\n",
       "\n",
       "* Work counters\n",
       "  Solve time (sec)   : 0.01500\n"
      ]
     },
     "execution_count": 5,
     "metadata": {},
     "output_type": "execute_result"
    }
   ],
   "source": [
    "using JuMP, Cbc, NamedArrays\n",
    "\n",
    "# Sets\n",
    "C = [:potatoes, :onions, :corn, :wheat]\n",
    "R = [:workers, :water, :fertilizer]\n",
    "\n",
    "# Parameters\n",
    "b = 250\n",
    "p = Dict(zip(C, [150, 300, 350, 400]))\n",
    "r = Dict(zip(R, [500, 2000, 1000]))\n",
    "q = Dict(zip(R, [20, 5, 15]))\n",
    "a = NamedArray([3 2 4 5; 2 1 4 3; 1 7 4 3], (R,C), (\"resource\",\"crop\"))\n",
    "\n",
    "# General model\n",
    "m = Model()\n",
    "\n",
    "@variable(m, x[C] >= 0)\n",
    "@variable(m, y[R] >= 0)\n",
    "\n",
    "@objective(m, Max, sum(p[j] * x[j] for j in C) - sum(q[i] * y[i] for i in R))\n",
    "\n",
    "@constraint(m, land_req, sum(x) <= b)\n",
    "@constraint(m, resource_req[i in R], y[i] <= r[i])\n",
    "@constraint(m, resource_usage[i in R], sum(a[i,j] * x[j] for j in C) <= y[i])\n",
    "\n",
    "set_optimizer(m, Cbc.Optimizer)\n",
    "\n",
    "optimize!(m)\n",
    "\n",
    "solution_summary(m, verbose=true)"
   ]
  },
  {
   "cell_type": "code",
   "execution_count": null,
   "metadata": {},
   "outputs": [],
   "source": []
  }
 ],
 "metadata": {
  "kernelspec": {
   "display_name": "Julia 1.7.1",
   "language": "julia",
   "name": "julia-1.7"
  },
  "language_info": {
   "file_extension": ".jl",
   "mimetype": "application/julia",
   "name": "julia",
   "version": "1.7.1"
  }
 },
 "nbformat": 4,
 "nbformat_minor": 4
}
