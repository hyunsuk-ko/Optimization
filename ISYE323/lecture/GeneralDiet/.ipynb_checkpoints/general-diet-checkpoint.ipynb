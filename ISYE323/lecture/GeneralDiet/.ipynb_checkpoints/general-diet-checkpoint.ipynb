{
 "cells": [
  {
   "cell_type": "code",
   "execution_count": 1,
   "metadata": {},
   "outputs": [
    {
     "name": "stdout",
     "output_type": "stream",
     "text": [
      "Cost of the selected foods: $14.855737704918031\n",
      "number of each food to eat: \n",
      "QuarterPounder: 4.385245901639344\n",
      "McLeanDeluxe: 0.0\n",
      "BigMac: 0.0\n",
      "FiletFish: 0.0\n",
      "McGrilledChick: 0.0\n",
      "SmFries: 6.1475409836065555\n",
      "SausMcMuffin: 0.0\n",
      "Milk: 3.4221311475409846\n",
      "OJ: 0.0\n",
      "Presolve 7 (0) rows, 9 (0) columns and 58 (0) elements\n",
      "0  Obj 0 Primal inf 29.862428 (7)\n",
      "3  Obj 14.855738\n",
      "Optimal - objective value 14.855738\n",
      "Optimal objective 14.8557377 - 3 iterations time 0.002\n"
     ]
    }
   ],
   "source": [
    "using JuMP, Cbc, NamedArrays\n",
    "\n",
    "# declare the sets\n",
    "foods = [:QuarterPounder,:McLeanDeluxe,:BigMac,:FiletFish,:McGrilledChick,:SmFries,:SausMcMuffin,:Milk,:OJ]\n",
    "nutrients = [:Protein,:VitA,:VitC,:Calcium,:Iron,:Calories,:Carbs]\n",
    "\n",
    "# define the data\n",
    "costs = Dict(zip(foods,[1.84, 2.19, 1.84, 1.44, 2.29, 0.77, 1.29, 0.6, 0.72])) ## 'costs' now maps foods to the given numbers\n",
    "minreq = Dict(zip(nutrients,[55, 100, 100, 100, 100, 2000, 350]))\n",
    "\n",
    "# create a Named Array of the nutrients provided by each food\n",
    "nutrient_food_matrix = [\n",
    " 28   24  25  14  31  3   15  9   1 ;\n",
    " 15   15  6   2   8   0   4   10  2 ;\n",
    " 6    10  2   0   15  15  0   4  120 ;\n",
    " 30   20  25  15  15  0   20  30  2 ;\n",
    " 20   20  20  10  8   2   15  0   2 ;\n",
    " 510  370 500 370 400 220 345 110 80 ;\n",
    " 34   33  42  38  42  26  27  12  20 ]\n",
    "nutrient_food_NA = NamedArray(nutrient_food_matrix,\n",
    "    (nutrients,foods),(\"nutrient\",\"food\"))\n",
    "\n",
    "# create the model\n",
    "m = Model()\n",
    "\n",
    "# declare all the decision variables\n",
    "@variable(m, x[foods] >= 0)\n",
    "\n",
    "# Define the objective\n",
    "@objective(m, Min, sum(costs[j]x[j] for j in foods))\n",
    "\n",
    "# write all the constraints\n",
    "@constraint(m, minreqc[i in nutrients], \n",
    "    sum(x[j]nutrient_food_NA[i,j] for j in foods) >= minreq[i])\n",
    "\n",
    "set_optimizer(m, Cbc.Optimizer)\n",
    "optimize!(m)\n",
    "\n",
    "# print total cost\n",
    "println(\"Cost of the selected foods: \\$\", objective_value(m))\n",
    "\n",
    "println(\"number of each food to eat: \")\n",
    "for j in foods\n",
    "    println(j, \": \", value(x[j]))\n",
    "end\n"
   ]
  },
  {
   "cell_type": "code",
   "execution_count": null,
   "metadata": {},
   "outputs": [],
   "source": []
  }
 ],
 "metadata": {
  "kernelspec": {
   "display_name": "Julia 1.6.1",
   "language": "julia",
   "name": "julia-1.6"
  },
  "language_info": {
   "file_extension": ".jl",
   "mimetype": "application/julia",
   "name": "julia",
   "version": "1.6.1"
  }
 },
 "nbformat": 4,
 "nbformat_minor": 4
}
