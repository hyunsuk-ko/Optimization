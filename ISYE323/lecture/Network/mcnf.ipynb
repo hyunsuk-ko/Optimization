{
 "cells": [
  {
   "cell_type": "code",
   "execution_count": 11,
   "metadata": {},
   "outputs": [
    {
     "name": "stdout",
     "output_type": "stream",
     "text": [
      "Mininum cost = 490.0\n",
      "flow on arc (1, 2)= 0.0\n",
      "flow on arc (1, 3)= 40.0\n",
      "flow on arc (2, 3)= 40.0\n",
      "flow on arc (1, 4)= 10.0\n",
      "flow on arc (3, 5)= 80.0\n",
      "flow on arc (4, 5)= 0.0\n",
      "flow on arc (5, 4)= 20.0\n",
      "Presolve 2 (-3) rows, 3 (-4) columns and 6 (-8) elements\n",
      "0  Obj 610 Primal inf 39.999998 (2) Dual inf 3.999999 (1)\n",
      "1  Obj 490\n",
      "Optimal - objective value 490\n",
      "After Postsolve, objective 490, infeasibilities - dual 0 (0), primal 0 (0)\n",
      "Optimal objective 490 - 1 iterations time 0.002, Presolve 0.00\n"
     ]
    }
   ],
   "source": [
    "using JuMP, Cbc\n",
    "\n",
    "nodes= 1:5\n",
    "arcs=[(1,2), (1,3), \n",
    "      (2,3), (1,4), \n",
    "      (3,5), (4,5), (5,4)]\n",
    "u=Dict()\n",
    "for (i,j) in arcs\n",
    "    u[i,j]=Inf\n",
    "end\n",
    "l = Dict()\n",
    "for (i,j) in arcs\n",
    "    l[i,j] = 0\n",
    "end\n",
    "u[1,2]=10\n",
    "u[3,5]=80\n",
    "\n",
    "b = [50, 40, 0, -30, -60]\n",
    "c = Dict(zip(arcs,[2, 4, 3, 9, 1, 3, 2]))\n",
    "\n",
    "m = Model()\n",
    "\n",
    "@variable(m, l[a] <= x[a in arcs] <= u[a])\n",
    "\n",
    "@objective(m, Min, sum(c[a]x[a] for a in arcs))\n",
    "\n",
    "@constraint(m, flowbalance[i in nodes],\n",
    "    sum(x[(i,j)] for j in nodes if (i,j) in arcs) - \n",
    "    sum(x[(j,i)] for j in nodes if (j,i) in arcs) \n",
    "    == b[i])\n",
    "\n",
    "set_optimizer(m, Cbc.Optimizer)\n",
    "optimize!(m)\n",
    "\n",
    "println(\"Mininum cost = \", round(objective_value(m),digits=1))\n",
    "for a in arcs\n",
    "    println(\"flow on arc \", a, \"= \", round(value(x[a]),digits=1))\n",
    "end\n"
   ]
  },
  {
   "cell_type": "code",
   "execution_count": null,
   "metadata": {},
   "outputs": [],
   "source": []
  }
 ],
 "metadata": {
  "kernelspec": {
   "display_name": "Julia 1.7.1",
   "language": "julia",
   "name": "julia-1.7"
  },
  "language_info": {
   "file_extension": ".jl",
   "mimetype": "application/julia",
   "name": "julia",
   "version": "1.7.1"
  }
 },
 "nbformat": 4,
 "nbformat_minor": 4
}
