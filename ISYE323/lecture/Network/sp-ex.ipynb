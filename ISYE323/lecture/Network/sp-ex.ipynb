{
 "cells": [
  {
   "cell_type": "code",
   "execution_count": 5,
   "metadata": {},
   "outputs": [
    {
     "name": "stdout",
     "output_type": "stream",
     "text": [
      "Mininum cost = 17.0\n",
      "flow on arc (1, 2)= 0.0\n",
      "flow on arc (1, 3)= 1.0\n",
      "flow on arc (2, 4)= 1.0\n",
      "flow on arc (2, 5)= 0.0\n",
      "flow on arc (3, 2)= 1.0\n",
      "flow on arc (3, 4)= -0.0\n",
      "flow on arc (3, 5)= 0.0\n",
      "flow on arc (4, 5)= 0.0\n",
      "flow on arc (4, 6)= 1.0\n",
      "flow on arc (5, 4)= 0.0\n",
      "flow on arc (5, 6)= 0.0\n",
      "Presolve 2 (-15) rows, 3 (-8) columns and 6 (-27) elements\n",
      "0  Obj 25 Primal inf 1.999998 (2) Dual inf 9.999998 (2)\n",
      "1  Obj 17\n",
      "Optimal - objective value 17\n",
      "After Postsolve, objective 17, infeasibilities - dual 0.9999999 (1), primal 0 (0)\n",
      "Presolved model was optimal, full model needs cleaning up\n",
      "0  Obj 17 Dual inf 0.9999999 (1)\n",
      "1  Obj 17\n",
      "Optimal - objective value 17\n",
      "Optimal objective 17 - 2 iterations time 0.002, Presolve 0.00\n"
     ]
    }
   ],
   "source": [
    "using JuMP, Cbc\n",
    "\n",
    "nodes= 1:6\n",
    "arcs=[(1,2), (1,3), \n",
    "    (2,4), (2,5), \n",
    "    (3,2), (3,4), (3,5), \n",
    "    (4,5), (4,6), \n",
    "    (5,4), (5,6)]\n",
    "\n",
    "b = [1,0,0,0,0,-1]\n",
    "c = Dict(zip(arcs,[9,3,8,3,2,12,12,5,4,6,10]))\n",
    "u = Dict(zip(arcs,ones(11)))\n",
    "\n",
    "m = Model()\n",
    "\n",
    "@variable(m, 0 <= x[a in arcs] <= u[a])\n",
    "\n",
    "@objective(m, Min, sum(c[a]x[a] for a in arcs))\n",
    "\n",
    "@constraint(m, arcub[a in ubarcs], x[a] <= u[a])\n",
    "@constraint(m, flowbalance[i in nodes],\n",
    "    sum(x[(i,j)] for j in nodes if (i,j) in arcs) - \n",
    "    sum(x[(j,i)] for j in nodes if (j,i) in arcs) \n",
    "    == b[i])\n",
    "\n",
    "set_optimizer(m, Cbc.Optimizer)\n",
    "optimize!(m)\n",
    "\n",
    "println(\"Mininum cost = \", round(objective_value(m),digits=1))\n",
    "for a in arcs\n",
    "    println(\"flow on arc \", a, \"= \", round(value(x[a]),digits=1))\n",
    "end\n"
   ]
  },
  {
   "cell_type": "code",
   "execution_count": null,
   "metadata": {},
   "outputs": [],
   "source": []
  }
 ],
 "metadata": {
  "kernelspec": {
   "display_name": "Julia 1.7.1",
   "language": "julia",
   "name": "julia-1.7"
  },
  "language_info": {
   "file_extension": ".jl",
   "mimetype": "application/julia",
   "name": "julia",
   "version": "1.7.1"
  }
 },
 "nbformat": 4,
 "nbformat_minor": 4
}
