{
 "cells": [
  {
   "cell_type": "code",
   "execution_count": 7,
   "id": "f05c88fc",
   "metadata": {},
   "outputs": [
    {
     "name": "stdout",
     "output_type": "stream",
     "text": [
      "Presolve 3 (-17) rows, 5 (-8) columns and 10 (-29) elements\n",
      "0  Obj 4 Dual inf 1.999998 (2)\n",
      "3  Obj 15\n",
      "Optimal - objective value 15\n",
      "After Postsolve, objective 15, infeasibilities - dual 0 (0), primal 0 (0)\n",
      "Optimal objective 15 - 3 iterations time 0.002, Presolve 0.00\n"
     ]
    },
    {
     "data": {
      "text/plain": [
       "* Solver : COIN Branch-and-Cut (Cbc)\n",
       "\n",
       "* Status\n",
       "  Termination status : OPTIMAL\n",
       "  Primal status      : FEASIBLE_POINT\n",
       "  Dual status        : NO_SOLUTION\n",
       "  Result count       : 1\n",
       "  Has duals          : false\n",
       "  Message from the solver:\n",
       "  \"Cbc_status          = finished - check isProvenOptimal or isProvenInfeasible to see if solution found (or check value of best solution)\n",
       "Cbc_secondaryStatus = unset (status_ will also be -1)\n",
       "\"\n",
       "\n",
       "* Candidate solution\n",
       "  Objective value      : 15.0\n",
       "  Objective bound      : 15.0\n",
       "  Primal solution :\n",
       "    x[(2, 4)] : 0.0\n",
       "    x[(2, 5)] : 4.0\n",
       "    x[(3, 6)] : 4.0\n",
       "    x[(4, 3)] : 0.0\n",
       "    x[(4, 5)] : 4.0\n",
       "    x[(4, 6)] : 3.0\n",
       "    x[(5, :T)] : 9.0\n",
       "    x[(6, 5)] : 1.0\n",
       "    x[(6, :T)] : 6.0\n",
       "    x[(:S, 2)] : 4.0\n",
       "    x[(:S, 3)] : 4.0\n",
       "    x[(:S, 4)] : 7.0\n",
       "    x[(:T, :S)] : 15.0\n",
       "\n",
       "* Work counters\n",
       "  Solve time (sec)   : 0.00100\n"
      ]
     },
     "execution_count": 7,
     "metadata": {},
     "output_type": "execute_result"
    }
   ],
   "source": [
    "using Cbc, JuMP\n",
    "\n",
    "\n",
    "# Sets\n",
    "C = [:S,2,3,4,5,6,:T]\n",
    "arc = [(:S,2), (:S,3), (:S,4), (2,4), (2,5), (3,6),(4,3), (4,5), (4,6), (5,:T), (6,5), (6,:T), (:T,:S)]\n",
    "cap = Dict(zip(arc, [5, 4, 7, 1, 4, 6, 2, 4, 5, 9, 1, 6, 10000]))\n",
    "\n",
    "m = Model()\n",
    "\n",
    "@variable(m, x[arc] >= 0)\n",
    "\n",
    "@objective(m, Max, x[(:T, :S)])\n",
    "\n",
    "@constraint(m, capactiy[a in arc], x[a] <= cap[a])\n",
    "\n",
    "@constraint(m, flowbalance[i in C], sum(x[a] for a in arc if a[1] == i)\n",
    "            == sum(x[a] for a in arc if a[2] == i))\n",
    "\n",
    "#@constraint(m, flowbalance_S, x[(:S, 2)] + x[(:S, 3)] + x[(:S, 4)] == x[(:T,:S)])\n",
    "#@constraint(m, flowbalance_2, -x[(:S, 2)] + x[(2, 4)] + x[(2, 5)] == 0.0)\n",
    "#@constraint(m, flowbalance_3, -x[(:S, 3)] + x[(3, 6)] - x[(4, 3)] == 0.0)\n",
    "#@constraint(m, flowbalance_4, -x[(:S, 4)] - x[(2, 4)] + x[(4, 3)] + x[(4, 5)] + x[(4, 6)] == 0.0)\n",
    "#@constraint(m, flowbalance_5, -x[(2, 5)] - x[(4, 5)] + x[(5, :T)] - x[(6, 5)] == 0.0)\n",
    "#@constraint(m, flowbalance_6, -x[(4, 6)] + x[(6, 5)] + x[(6, :T)] == 0.0)\n",
    "\n",
    "set_optimizer(m, Cbc.Optimizer)\n",
    "\n",
    "optimize!(m)\n",
    "\n",
    "solution_summary(m, verbose=true)"
   ]
  },
  {
   "cell_type": "code",
   "execution_count": 9,
   "id": "1a1667ba",
   "metadata": {},
   "outputs": [
    {
     "name": "stdout",
     "output_type": "stream",
     "text": [
      "Presolve 4 (-9) rows, 7 (-1) columns and 14 (-10) elements\n",
      "0  Obj -0 Dual inf 1.999998 (2)\n",
      "6  Obj 15\n",
      "Optimal - objective value 15\n",
      "After Postsolve, objective 15, infeasibilities - dual 0 (0), primal 0 (0)\n",
      "Optimal objective 15 - 6 iterations time 0.002, Presolve 0.00\n"
     ]
    },
    {
     "data": {
      "text/plain": [
       "* Solver : COIN Branch-and-Cut (Cbc)\n",
       "\n",
       "* Status\n",
       "  Termination status : OPTIMAL\n",
       "  Primal status      : FEASIBLE_POINT\n",
       "  Dual status        : NO_SOLUTION\n",
       "  Result count       : 1\n",
       "  Has duals          : false\n",
       "  Message from the solver:\n",
       "  \"Cbc_status          = finished - check isProvenOptimal or isProvenInfeasible to see if solution found (or check value of best solution)\n",
       "Cbc_secondaryStatus = unset (status_ will also be -1)\n",
       "\"\n",
       "\n",
       "* Candidate solution\n",
       "  Objective value      : 15.0\n",
       "  Objective bound      : 15.0\n",
       "  Primal solution :\n",
       "    x[(2, 3)] : 4.0\n",
       "    x[(2, 4)] : 6.0\n",
       "    x[(3, 4)] : 0.0\n",
       "    x[(3, :T)] : 9.0\n",
       "    x[(4, :T)] : 6.0\n",
       "    x[(:S, 2)] : 10.0\n",
       "    x[(:S, 3)] : 5.0\n",
       "    x[(:T, :S)] : 15.0\n",
       "\n",
       "* Work counters\n",
       "  Solve time (sec)   : 0.00200\n"
      ]
     },
     "execution_count": 9,
     "metadata": {},
     "output_type": "execute_result"
    }
   ],
   "source": [
    "using Cbc, JuMP\n",
    "\n",
    "\n",
    "# Sets\n",
    "C = [:S,2,3,4,:T]\n",
    "arc = [(:S,2), (:S,3), (2,3), (2,4), (3,4),(3,:T), (4,:T), (:T,:S)]\n",
    "cap = Dict(zip(arc, [12, 5, 4, 10, 9, 11, 6, 10000]))\n",
    "\n",
    "m = Model()\n",
    "\n",
    "@variable(m, x[arc] >= 0)\n",
    "\n",
    "@objective(m, Max, x[(:T, :S)])\n",
    "\n",
    "@constraint(m, capactiy[a in arc], x[a] <= cap[a])\n",
    "\n",
    "@constraint(m, flowbalance[i in C], sum(x[a] for a in arc if a[1] == i)\n",
    "            == sum(x[a] for a in arc if a[2] == i))\n",
    "\n",
    "set_optimizer(m, Cbc.Optimizer)\n",
    "\n",
    "optimize!(m)\n",
    "\n",
    "solution_summary(m, verbose=true)"
   ]
  },
  {
   "cell_type": "code",
   "execution_count": null,
   "id": "296f5211",
   "metadata": {},
   "outputs": [],
   "source": []
  }
 ],
 "metadata": {
  "kernelspec": {
   "display_name": "Julia 1.7.1",
   "language": "julia",
   "name": "julia-1.7"
  },
  "language_info": {
   "file_extension": ".jl",
   "mimetype": "application/julia",
   "name": "julia",
   "version": "1.7.1"
  }
 },
 "nbformat": 4,
 "nbformat_minor": 5
}
