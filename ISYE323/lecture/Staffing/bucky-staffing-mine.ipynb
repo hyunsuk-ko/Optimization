{
 "cells": [
  {
   "cell_type": "code",
   "execution_count": 7,
   "id": "b42a9e84",
   "metadata": {},
   "outputs": [
    {
     "name": "stdout",
     "output_type": "stream",
     "text": [
      "Welcome to the CBC MILP Solver \n",
      "Version: 2.10.5 \n",
      "Build Date: Jan  1 1970 \n",
      "\n",
      "command line - Cbc_C_Interface -solve -quit (default strategy 1)\n",
      "Continuous objective value is 6275 - 0.00 seconds\n",
      "Cgl0003I 0 fixed, 7 tightened bounds, 0 strengthened rows, 0 substitutions\n",
      "Cgl0004I processed model has 6 rows, 7 columns (7 integer (0 of which binary)) and 24 elements\n",
      "Cutoff increment increased from 1e-05 to 4.9999\n",
      "Cbc0012I Integer solution of 6275 found by greedy cover after 0 iterations and 0 nodes (0.01 seconds)\n",
      "Cbc0001I Search completed - best objective 6275, took 0 iterations and 0 nodes (0.01 seconds)\n",
      "Cbc0035I Maximum depth 0, 0 variables fixed on reduced cost\n",
      "Cuts at root node changed objective from 6275 to 6275\n",
      "Probing was tried 0 times and created 0 cuts of which 0 were active after adding rounds of cuts (0.000 seconds)\n",
      "Gomory was tried 0 times and created 0 cuts of which 0 were active after adding rounds of cuts (0.000 seconds)\n",
      "Knapsack was tried 0 times and created 0 cuts of which 0 were active after adding rounds of cuts (0.000 seconds)\n",
      "Clique was tried 0 times and created 0 cuts of which 0 were active after adding rounds of cuts (0.000 seconds)\n",
      "MixedIntegerRounding2 was tried 0 times and created 0 cuts of which 0 were active after adding rounds of cuts (0.000 seconds)\n",
      "FlowCover was tried 0 times and created 0 cuts of which 0 were active after adding rounds of cuts (0.000 seconds)\n",
      "TwoMirCuts was tried 0 times and created 0 cuts of which 0 were active after adding rounds of cuts (0.000 seconds)\n",
      "ZeroHalf was tried 0 times and created 0 cuts of which 0 were active after adding rounds of cuts (0.000 seconds)\n",
      "\n",
      "Result - Optimal solution found\n",
      "\n",
      "Objective value:                6275.00000000\n",
      "Enumerated nodes:               0\n",
      "Total iterations:               0\n",
      "Time (CPU seconds):             0.01\n",
      "Time (Wallclock seconds):       0.01\n",
      "\n",
      "Total time (CPU seconds):       0.01   (Wallclock seconds):       0.01\n",
      "\n"
     ]
    },
    {
     "data": {
      "text/plain": [
       "* Solver : COIN Branch-and-Cut (Cbc)\n",
       "\n",
       "* Status\n",
       "  Termination status : OPTIMAL\n",
       "  Primal status      : FEASIBLE_POINT\n",
       "  Dual status        : NO_SOLUTION\n",
       "  Result count       : 1\n",
       "  Has duals          : false\n",
       "  Message from the solver:\n",
       "  \"Cbc_status          = finished - check isProvenOptimal or isProvenInfeasible to see if solution found (or check value of best solution)\n",
       "Cbc_secondaryStatus = search completed with solution\n",
       "\"\n",
       "\n",
       "* Candidate solution\n",
       "  Objective value      : 6275.0\n",
       "  Objective bound      : 6275.0\n",
       "  Primal solution :\n",
       "    x[1] : 50.0\n",
       "    x[2] : 15.0\n",
       "    x[3] : 0.0\n",
       "    x[4] : 30.0\n",
       "    y[1] : 0.0\n",
       "    y[2] : 15.0\n",
       "    y[3] : 0.0\n",
       "\n",
       "* Work counters\n",
       "  Solve time (sec)   : 0.01100\n"
      ]
     },
     "execution_count": 7,
     "metadata": {},
     "output_type": "execute_result"
    }
   ],
   "source": [
    "using JuMP, Cbc\n",
    "\n",
    "shifts = 1:7\n",
    "periods = 1:6\n",
    "\n",
    "a = [\n",
    "1 1 1 0 0 0\n",
    "0 1 1 1 0 0\n",
    "0 0 1 1 1 0\n",
    "0 0 0 1 1 1\n",
    "1 1 1 1 0 0\n",
    "0 1 1 1 1 0\n",
    "0 0 1 1 1 1\n",
    "]\n",
    "\n",
    "b = [45, 80, 65, 60, 45, 30]\n",
    "\n",
    "c3 = 55\n",
    "c4 = 70\n",
    "\n",
    "m = Model()\n",
    "\n",
    "@variable(m, x[1:4]>= 0, Int)\n",
    "@variable(m, y[1:3] >= 0, Int)\n",
    "\n",
    "@objective(m, Min, sum(c3 * x[j] for j in 1:4) + sum(c4 * y[j] for j in 1:3))\n",
    "\n",
    "@constraint(m, min_period_req[j in periods], sum(a[i,j] * x[i] for i in 1:4) + sum(a[i+4,j] * y[i] for i in 1:3) >= b[j])\n",
    "\n",
    "set_optimizer(m, Cbc.Optimizer)\n",
    "optimize!(m)\n",
    "solution_summary(m, verbose=true)"
   ]
  },
  {
   "cell_type": "code",
   "execution_count": null,
   "id": "50597e12",
   "metadata": {},
   "outputs": [],
   "source": []
  }
 ],
 "metadata": {
  "kernelspec": {
   "display_name": "Julia 1.7.1",
   "language": "julia",
   "name": "julia-1.7"
  },
  "language_info": {
   "file_extension": ".jl",
   "mimetype": "application/julia",
   "name": "julia",
   "version": "1.7.1"
  }
 },
 "nbformat": 4,
 "nbformat_minor": 5
}
