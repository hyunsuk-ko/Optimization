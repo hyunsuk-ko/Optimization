{
 "cells": [
  {
   "cell_type": "code",
   "execution_count": 1,
   "metadata": {},
   "outputs": [
    {
     "ename": "LoadError",
     "evalue": "ArgumentError: Package Cbc not found in current path:\n- Run `import Pkg; Pkg.add(\"Cbc\")` to install the Cbc package.\n",
     "output_type": "error",
     "traceback": [
      "ArgumentError: Package Cbc not found in current path:\n- Run `import Pkg; Pkg.add(\"Cbc\")` to install the Cbc package.\n",
      "",
      "Stacktrace:",
      " [1] require(into::Module, mod::Symbol)",
      "   @ Base .\\loading.jl:871",
      " [2] eval",
      "   @ .\\boot.jl:360 [inlined]",
      " [3] include_string(mapexpr::typeof(REPL.softscope), mod::Module, code::String, filename::String)",
      "   @ Base .\\loading.jl:1094"
     ]
    }
   ],
   "source": [
    "using JuMP, Cbc\n",
    "\n",
    "shifts = 1:7\n",
    "periods = 1:6\n",
    "\n",
    "a = [\n",
    "1 1 1 0 0 0\n",
    "0 1 1 1 0 0\n",
    "0 0 0 1 1 1\n",
    "1 1 1 1 0 0\n",
    "0 1 1 1 1 0\n",
    "0 0 1 1 1 1\n",
    "]\n",
    "\n",
    "b = [45, 80, 65, 60, 45, 30]\n",
    "\n",
    "c = [55, 55, 55, 55, 70, 70, 70]\n",
    "\n",
    "m = Model()\n",
    "\n",
    "@variable(m, x[1:4]>= 0, Int)\n",
    "@variable(m, y[1:3] >= 0, Int)"
   ]
  },
  {
   "cell_type": "code",
   "execution_count": 1,
   "metadata": {},
   "outputs": [
    {
     "name": "stdout",
     "output_type": "stream",
     "text": [
      "Optimal cost: $6275.0\n",
      "number of employees starting work each shift: \n",
      "1: 50.0\n",
      "2: 15.0\n",
      "3: 0.0\n",
      "4: 30.0\n",
      "5: 0.0\n",
      "6: 15.0\n",
      "7: 0.0\n",
      "Welcome to the CBC MILP Solver \n",
      "Version: 2.10.3 \n",
      "Build Date: Oct  7 2019 \n",
      "\n",
      "command line - Cbc_C_Interface -solve -quit (default strategy 1)\n",
      "Presolve 6 (0) rows, 7 (0) columns and 24 (0) elements\n",
      "0  Obj 0 Primal inf 325 (6)\n",
      "4  Obj 6275\n",
      "Optimal - objective value 6275\n",
      "Optimal objective 6275 - 4 iterations time 0.012\n",
      "Total time (CPU seconds):       0.03   (Wallclock seconds):       0.03\n",
      "\n"
     ]
    }
   ],
   "source": [
    "using JuMP, Cbc\n",
    "\n",
    "# shift definitions defined in\n",
    "# hand-written solution\n",
    "shifts = 1:7\n",
    "\n",
    "# period 1: 10-11am, period 2: 11am-noon, etc.\n",
    "periods = 1:6\n",
    "\n",
    "# rows (first index) are shifts, columns (2nd index) are periods\n",
    "# 1 means the shift covers that period\n",
    "coverage = \n",
    "[1 1 1 0 0 0;\n",
    " 0 1 1 1 0 0;\n",
    " 0 0 1 1 1 0;\n",
    " 0 0 0 1 1 1;\n",
    " 1 1 1 1 0 0;\n",
    " 0 1 1 1 1 0;\n",
    " 0 0 1 1 1 1]\n",
    "\n",
    "shiftcost = [55, 55, 55, 55, 70, 70, 70]\n",
    "\n",
    "periodreq = [45, 80, 65, 60, 45, 30]\n",
    "\n",
    "m = Model()\n",
    "\n",
    "@variable(m, nwork[shifts]>= 0)\n",
    "\n",
    "@objective(m, Min, \n",
    "    sum(shiftcost[j]*nwork[j] for j in shifts))\n",
    "\n",
    "@constraint(m, period_coverage[i in periods],\n",
    "    sum(coverage[j,i]*nwork[j] for j in shifts)\n",
    "            >= periodreq[i])\n",
    "\n",
    "set_optimizer(m, Cbc.Optimizer)\n",
    "optimize!(m)\n",
    "\n",
    "println(\"Optimal cost: \\$\", objective_value(m))\n",
    "\n",
    "println(\"number of employees starting work each shift: \")\n",
    "for j in shifts\n",
    "    println(j, \": \", value(nwork[j]))\n",
    "end\n"
   ]
  },
  {
   "cell_type": "code",
   "execution_count": null,
   "metadata": {},
   "outputs": [],
   "source": []
  },
  {
   "cell_type": "code",
   "execution_count": null,
   "metadata": {},
   "outputs": [],
   "source": []
  }
 ],
 "metadata": {
  "kernelspec": {
   "display_name": "Julia 1.6.1",
   "language": "julia",
   "name": "julia-1.6"
  },
  "language_info": {
   "file_extension": ".jl",
   "mimetype": "application/julia",
   "name": "julia",
   "version": "1.6.1"
  }
 },
 "nbformat": 4,
 "nbformat_minor": 4
}
