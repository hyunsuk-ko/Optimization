{
 "cells": [
  {
   "cell_type": "code",
   "execution_count": 6,
   "id": "cd35c01d",
   "metadata": {},
   "outputs": [
    {
     "data": {
      "text/plain": [
       "7-element Vector{Int64}:\n",
       " 17\n",
       " 13\n",
       " 15\n",
       " 19\n",
       " 14\n",
       " 16\n",
       " 11"
      ]
     },
     "execution_count": 6,
     "metadata": {},
     "output_type": "execute_result"
    }
   ],
   "source": [
    "using JuMP, Cbc\n",
    "\n",
    "shifts = 1:7\n",
    "days = 1:7\n",
    "\n",
    "a = [\n",
    "1 1 1 1 1 0 0\n",
    "0 1 1 1 1 1 0\n",
    "0 0 1 1 1 1 1\n",
    "1 0 0 1 1 1 1\n",
    "1 1 0 0 1 1 1\n",
    "1 1 1 0 0 1 1\n",
    "1 1 1 1 0 0 1\n",
    "]\n",
    "\n",
    "b = [17, 13, 15, 19, 14, 16, 11]"
   ]
  },
  {
   "cell_type": "code",
   "execution_count": 8,
   "id": "0cff8a4c",
   "metadata": {},
   "outputs": [
    {
     "data": {
      "text/plain": [
       "1-dimensional DenseAxisArray{ConstraintRef{Model, MathOptInterface.ConstraintIndex{MathOptInterface.ScalarAffineFunction{Float64}, MathOptInterface.GreaterThan{Float64}}, ScalarShape},1,...} with index sets:\n",
       "    Dimension 1, 1:7\n",
       "And data, a 7-element Vector{ConstraintRef{Model, MathOptInterface.ConstraintIndex{MathOptInterface.ScalarAffineFunction{Float64}, MathOptInterface.GreaterThan{Float64}}, ScalarShape}}:\n",
       " min_day_req[1] : x[1] + x[4] + x[5] + x[6] + x[7] >= 17.0\n",
       " min_day_req[2] : x[1] + x[2] + x[5] + x[6] + x[7] >= 13.0\n",
       " min_day_req[3] : x[1] + x[2] + x[3] + x[6] + x[7] >= 15.0\n",
       " min_day_req[4] : x[1] + x[2] + x[3] + x[4] + x[7] >= 19.0\n",
       " min_day_req[5] : x[1] + x[2] + x[3] + x[4] + x[5] >= 14.0\n",
       " min_day_req[6] : x[2] + x[3] + x[4] + x[5] + x[6] >= 16.0\n",
       " min_day_req[7] : x[3] + x[4] + x[5] + x[6] + x[7] >= 11.0"
      ]
     },
     "execution_count": 8,
     "metadata": {},
     "output_type": "execute_result"
    }
   ],
   "source": [
    "m = Model()\n",
    "\n",
    "@variable(m, x[days]>= 0)\n",
    "\n",
    "@objective(m, Min, sum(x))\n",
    "\n",
    "@constraint(m, min_day_req[j in days], sum(a[i,j] * x[i] for i in shifts) >= b[j])"
   ]
  },
  {
   "cell_type": "code",
   "execution_count": null,
   "id": "07409ece",
   "metadata": {},
   "outputs": [],
   "source": []
  }
 ],
 "metadata": {
  "kernelspec": {
   "display_name": "Julia 1.7.1",
   "language": "julia",
   "name": "julia-1.7"
  },
  "language_info": {
   "file_extension": ".jl",
   "mimetype": "application/julia",
   "name": "julia",
   "version": "1.7.1"
  }
 },
 "nbformat": 4,
 "nbformat_minor": 5
}
