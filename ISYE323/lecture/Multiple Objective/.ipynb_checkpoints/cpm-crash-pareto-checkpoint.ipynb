{
 "cells": [
  {
   "cell_type": "code",
   "execution_count": null,
   "metadata": {},
   "outputs": [],
   "source": [
    "using Pkg\n",
    "\n",
    "Pkg.add(\"Plots\")"
   ]
  },
  {
   "cell_type": "code",
   "execution_count": 1,
   "metadata": {
    "scrolled": false
   },
   "outputs": [
    {
     "ename": "LoadError",
     "evalue": "ArgumentError: Package Plots not found in current path:\n- Run `import Pkg; Pkg.add(\"Plots\")` to install the Plots package.\n",
     "output_type": "error",
     "traceback": [
      "ArgumentError: Package Plots not found in current path:\n- Run `import Pkg; Pkg.add(\"Plots\")` to install the Plots package.\n",
      "",
      "Stacktrace:",
      " [1] require(into::Module, mod::Symbol)",
      "   @ Base .\\loading.jl:967",
      " [2] eval",
      "   @ .\\boot.jl:373 [inlined]",
      " [3] include_string(mapexpr::typeof(REPL.softscope), mod::Module, code::String, filename::String)",
      "   @ Base .\\loading.jl:1196"
     ]
    }
   ],
   "source": [
    "using JuMP, Cbc, Plots\n",
    "\n",
    "activities = [:TW, :PRM, :SA1, :SA2, :ISA, :AS]\n",
    "precedences = [(:TW,:SA1), (:TW,:SA2), (:PRM,:SA1), \n",
    "    (:PRM,:SA2), (:SA2,:ISA), (:SA1,:AS), (:ISA,:AS)]\n",
    "\n",
    "duration = Dict(zip(activities, [6,9,8,7,10,12]))\n",
    "redcost = Dict(zip(activities, [4,5,3,12,4,9]))\n",
    "\n",
    "m = Model()\n",
    "\n",
    "@variable(m, starttime[activities] >= 0)\n",
    "@variable(m, 0 <= redamt[i in activities] <= duration[i])\n",
    "@variable(m, totalcost)\n",
    "@variable(m, finishtime >= 0)\n",
    "\n",
    "@objective(m, Min, finishtime)\n",
    "\n",
    "@constraint(m, minimax[i in activities], \n",
    "    finishtime >= starttime[i] + duration[i]- redamt[i])\n",
    "@constraint(m, \n",
    "    precedence_relationships[(i,j) in precedences], \n",
    "    starttime[j] >= starttime[i] + duration[i]-redamt[i])\n",
    "\n",
    "## define totalcost variable, \n",
    "## but for now there is no constraint on it\n",
    "@constraint(m, totalcostdef,\n",
    "    totalcost == \n",
    "    sum(redamt[i]*redcost[i] for i in activities))\n",
    "\n",
    "set_optimizer(m, Cbc.Optimizer)\n",
    "\n",
    "## First solve the model with no budget (in this case we\n",
    "## know finish time will go to zero, but let's us\n",
    "## calculate the cost, which is maximum we need to consider)\n",
    "set_silent(m)\n",
    "optimize!(m)\n",
    "\n",
    "maxcost = value(totalcost)\n",
    "\n",
    "## now add budget constraint\n",
    "@constraint(m, budgetcon, totalcost <= 0.0)\n",
    "\n",
    "## we'll divide budget range (0 to maxcost) into\n",
    "## 21 values: [0,1/20*maxcost,...,19/20*maxcost,maxcost]\n",
    "## and solve model with budget at each value\n",
    "costs = Vector{Float64}(undef,21)\n",
    "fintimes = Vector{Float64}(undef,21)\n",
    "for i in 1:21\n",
    "    B = (i-1)/20*maxcost\n",
    "    \n",
    "    ## following command updates the RHS of constraint\n",
    "    set_normalized_rhs(budgetcon, B)\n",
    "    \n",
    "    ## re-solve the model\n",
    "    set_silent(m)\n",
    "    optimize!(m)\n",
    "    \n",
    "    ## store the outputs \n",
    "    ##  (note: don't use curbudget for cost\n",
    "    ##        just in case budget not all used)\n",
    "    costs[i] = value(totalcost)\n",
    "    fintimes[i] = value(finishtime)\n",
    "end\n",
    "\n",
    "## create a scatter plot showing the pairs of objective values\n",
    "scatter(costs,fintimes,\n",
    "    title=\"Trade-off curve of cost vs finish time\",\n",
    "    xlabel=\"Cost\",\n",
    "    ylabel=\"Finish time\",\n",
    "    legend=false)\n",
    "\n",
    "## use this command to store plot in a file \n",
    "## comment out the command and plot will be displayed in cell below\n",
    "#savefig(\"tradeoffcurve.pdf\")"
   ]
  },
  {
   "cell_type": "code",
   "execution_count": null,
   "metadata": {},
   "outputs": [],
   "source": []
  },
  {
   "cell_type": "code",
   "execution_count": null,
   "metadata": {},
   "outputs": [],
   "source": []
  }
 ],
 "metadata": {
  "kernelspec": {
   "display_name": "Julia 1.7.1",
   "language": "julia",
   "name": "julia-1.7"
  },
  "language_info": {
   "file_extension": ".jl",
   "mimetype": "application/julia",
   "name": "julia",
   "version": "1.7.1"
  }
 },
 "nbformat": 4,
 "nbformat_minor": 4
}
