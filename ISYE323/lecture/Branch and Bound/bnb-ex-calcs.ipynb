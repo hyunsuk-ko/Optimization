{
 "cells": [
  {
   "cell_type": "code",
   "execution_count": 19,
   "metadata": {
    "scrolled": true
   },
   "outputs": [
    {
     "name": "stdout",
     "output_type": "stream",
     "text": [
      "Presolve 3 (0) rows, 4 (-1) columns and 12 (-3) elements\n",
      "0  Obj 17 Dual inf 8.6666637 (3)\n",
      "4  Obj 33\n",
      "Optimal - objective value 33\n",
      "After Postsolve, objective 33, infeasibilities - dual 0 (0), primal 0 (0)\n",
      "Optimal objective 33 - 4 iterations time 0.002, Presolve 0.00\n"
     ]
    },
    {
     "data": {
      "text/plain": [
       "* Solver : COIN Branch-and-Cut (Cbc)\n",
       "\n",
       "* Status\n",
       "  Termination status : OPTIMAL\n",
       "  Primal status      : FEASIBLE_POINT\n",
       "  Dual status        : NO_SOLUTION\n",
       "  Result count       : 1\n",
       "  Has duals          : false\n",
       "  Message from the solver:\n",
       "  \"Cbc_status          = finished - check isProvenOptimal or isProvenInfeasible to see if solution found (or check value of best solution)\n",
       "Cbc_secondaryStatus = unset (status_ will also be -1)\n",
       "\"\n",
       "\n",
       "* Candidate solution\n",
       "  Objective value      : 33.0\n",
       "  Objective bound      : 33.0\n",
       "  Primal solution :\n",
       "    x[1] : 0.0\n",
       "    x[2] : 2.6666666666666665\n",
       "    x[3] : 4.0\n",
       "    x[4] : 3.0\n",
       "    x[5] : 3.333333333333333\n",
       "\n",
       "* Work counters\n",
       "  Solve time (sec)   : 0.00100\n"
      ]
     },
     "execution_count": 19,
     "metadata": {},
     "output_type": "execute_result"
    }
   ],
   "source": [
    "# load the JuMP package and Cbc solver package\n",
    "using JuMP, Cbc\n",
    "\n",
    "# create the model object\n",
    "m = Model()\n",
    "\n",
    "lb = [0,0,4,3,0]\n",
    "ub = [4,4,4,4,4]\n",
    "\n",
    "@variable(m, lb[j] <= x[j in 1:5] <= ub[j])\n",
    "\n",
    "\n",
    "@objective(m, Max, \n",
    "    x[1]+x[2]+5x[3]-x[4]+4x[5])\n",
    "\n",
    "# Constraint on each nutrient\n",
    "@constraint(m,c1,\n",
    "    3x[1]-2x[2]+2x[3]-5x[4]+4x[5]<=6)\n",
    "@constraint(m,c2,\n",
    "    x[1]-x[2]+2x[3]-4x[4]+2x[5]<=0)\n",
    "@constraint(m,c3,\n",
    "    x[1]+x[2]+2x[3]+2x[4]+x[5]<=20)\n",
    "\n",
    "    \n",
    "# specify the solver you want to use to solve Model m\n",
    "set_optimizer(m, Cbc.Optimizer)\n",
    "\n",
    "# solve it\n",
    "optimize!(m)\n",
    "\n",
    "# display the solution\n",
    "solution_summary(m,verbose=true)"
   ]
  },
  {
   "cell_type": "code",
   "execution_count": null,
   "metadata": {},
   "outputs": [],
   "source": []
  }
 ],
 "metadata": {
  "kernelspec": {
   "display_name": "Julia 1.7.1",
   "language": "julia",
   "name": "julia-1.7"
  },
  "language_info": {
   "file_extension": ".jl",
   "mimetype": "application/julia",
   "name": "julia",
   "version": "1.7.1"
  }
 },
 "nbformat": 4,
 "nbformat_minor": 4
}
