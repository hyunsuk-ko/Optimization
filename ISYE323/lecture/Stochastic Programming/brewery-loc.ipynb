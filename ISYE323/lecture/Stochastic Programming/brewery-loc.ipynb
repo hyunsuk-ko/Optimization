{
 "cells": [
  {
   "cell_type": "code",
   "execution_count": 2,
   "metadata": {},
   "outputs": [
    {
     "name": "stdout",
     "output_type": "stream",
     "text": [
      "\n",
      "Total cost: $139275.0\n",
      "Open brewery in:\n",
      "Madison\n",
      "\tSend 745.0 barrels to Wisconsin\n",
      "\tSend 455.0 barrels to Minnesota\n",
      "Chicago\n",
      "\tSend 90.0 barrels to Wisconsin\n",
      "\tSend 540.0 barrels to Illinois\n",
      "\tSend 545.0 barrels to Iowa\n"
     ]
    }
   ],
   "source": [
    "using JuMP, Cbc\n",
    "\n",
    "# we'll build the model using number indices\n",
    "# but we'll display the solution with names\n",
    "cities = 1:4\n",
    "states = 1:4\n",
    "citynames = [:Madison,:Chicago,:DesMoines,:Minneapolis]\n",
    "statenames = [:Wisconsin,:Illinois,:Iowa,:Minnesota]\n",
    "cost = [\n",
    "    15  45  55  70;\n",
    "    40  10  50  115;\n",
    "    40  20  65  75;\n",
    "    65  112 85 10]\n",
    "demand = [835, 540, 545, 455]\n",
    "capacity = [1200, 1200, 1200, 1200]\n",
    "unmet_pen = [180,180,180,180]\n",
    "\n",
    "fixedcost = 30000\n",
    "\n",
    "m = Model()\n",
    "\n",
    "@variable(m, \n",
    "    amountsent[cities,states] >= 0)\n",
    "@variable(m, \n",
    "    open[cities], Bin)\n",
    "@variable(m,\n",
    "    shortfall[states] >= 0)\n",
    "\n",
    "@objective(m, Min,\n",
    "    fixedcost*sum(open[i] for i in cities)\n",
    "    + sum(cost[i,j]amountsent[i,j] \n",
    "        for i in cities for j in states)\n",
    "    + sum(unmet_pen[j]*shortfall[j] \n",
    "        for j in states))\n",
    "\n",
    "@constraint(m, meetdemand[j in states],\n",
    "    sum(amountsent[i,j] for i in cities)\n",
    "       + shortfall[j] == demand[j])\n",
    "\n",
    "@constraint(m, brewerylimit[i in cities],\n",
    "    sum(amountsent[i,j] for j in states) \n",
    "            <= capacity[i]*open[i])\n",
    "    \n",
    "set_optimizer(m, Cbc.Optimizer)\n",
    "set_silent(m)\n",
    "optimize!(m)\n",
    "\n",
    "println(\"\\nTotal cost: \\$\", \n",
    "    objective_value(m))\n",
    "println(\"Open brewery in:\")\n",
    "for i in cities\n",
    "    if value(open[i]) > 0.1\n",
    "        println(citynames[i])\n",
    "        for j in states\n",
    "            if value(amountsent[i,j])>0.001\n",
    "                println(\"\\tSend \", \n",
    "                 round(value(amountsent[i,j]),digits=1), \n",
    "                 \" barrels to \", statenames[j])\n",
    "            end\n",
    "        end\n",
    "    end\n",
    "end"
   ]
  },
  {
   "cell_type": "code",
   "execution_count": null,
   "metadata": {},
   "outputs": [],
   "source": []
  }
 ],
 "metadata": {
  "kernelspec": {
   "display_name": "Julia 1.6.2",
   "language": "julia",
   "name": "julia-1.6"
  },
  "language_info": {
   "file_extension": ".jl",
   "mimetype": "application/julia",
   "name": "julia",
   "version": "1.6.2"
  }
 },
 "nbformat": 4,
 "nbformat_minor": 4
}
