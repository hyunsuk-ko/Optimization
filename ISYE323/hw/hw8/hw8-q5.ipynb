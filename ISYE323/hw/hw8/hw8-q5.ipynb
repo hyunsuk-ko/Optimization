{
 "cells": [
  {
   "cell_type": "code",
   "execution_count": 10,
   "id": "733200c3",
   "metadata": {},
   "outputs": [
    {
     "name": "stdout",
     "output_type": "stream",
     "text": [
      "Presolve 1 (-2) rows, 3 (-1) columns and 3 (-6) elements\n",
      "0  Obj -0 Dual inf 16.999997 (3)\n",
      "1  Obj 15\n",
      "Optimal - objective value 15\n",
      "After Postsolve, objective 15, infeasibilities - dual 0 (0), primal 0 (0)\n",
      "Optimal objective 15 - 1 iterations time 0.002, Presolve 0.00\n"
     ]
    },
    {
     "data": {
      "text/plain": [
       "* Solver : COIN Branch-and-Cut (Cbc)\n",
       "\n",
       "* Status\n",
       "  Termination status : OPTIMAL\n",
       "  Primal status      : FEASIBLE_POINT\n",
       "  Dual status        : NO_SOLUTION\n",
       "  Result count       : 1\n",
       "  Has duals          : false\n",
       "  Message from the solver:\n",
       "  \"Cbc_status          = finished - check isProvenOptimal or isProvenInfeasible to see if solution found (or check value of best solution)\n",
       "Cbc_secondaryStatus = unset (status_ will also be -1)\n",
       "\"\n",
       "\n",
       "* Candidate solution\n",
       "  Objective value      : 15.0\n",
       "  Objective bound      : 15.0\n",
       "  Primal solution :\n",
       "    x[1] : 1.0\n",
       "    x[2] : 0.0\n",
       "    x[3] : 0.0\n",
       "    x[4] : 1.0\n",
       "\n",
       "* Work counters\n",
       "  Solve time (sec)   : 0.00100\n"
      ]
     },
     "execution_count": 10,
     "metadata": {},
     "output_type": "execute_result"
    }
   ],
   "source": [
    "# load the JuMP package and Cbc solver package\n",
    "using JuMP, Cbc\n",
    "\n",
    "# create the model object\n",
    "m = Model()\n",
    "\n",
    "lb = [0,0,0,0]\n",
    "ub = [1,1,0,1]\n",
    "\n",
    "@variable(m, lb[j] <= x[j in 1:4] <= ub[j])\n",
    "\n",
    "\n",
    "@objective(m, Max, \n",
    "    10x[1]+2x[2]+7x[3]+5x[4])\n",
    "\n",
    "# Constraint on each nutrient\n",
    "@constraint(m, c1, x[1] + x[2] + x[3] <= 2)\n",
    "@constraint(m, c2, x[1] + x[3] + x[4] <= 2)\n",
    "@constraint(m, c3, x[1] + x[2] + x[4] <= 2)\n",
    "\n",
    "    \n",
    "# specify the solver you want to use to solve Model m\n",
    "set_optimizer(m, Cbc.Optimizer)\n",
    "\n",
    "# solve it\n",
    "optimize!(m)\n",
    "\n",
    "# display the solution\n",
    "solution_summary(m,verbose=true)"
   ]
  },
  {
   "cell_type": "code",
   "execution_count": null,
   "id": "486f5c62",
   "metadata": {},
   "outputs": [],
   "source": []
  }
 ],
 "metadata": {
  "kernelspec": {
   "display_name": "Julia 1.7.1",
   "language": "julia",
   "name": "julia-1.7"
  },
  "language_info": {
   "file_extension": ".jl",
   "mimetype": "application/julia",
   "name": "julia",
   "version": "1.7.1"
  }
 },
 "nbformat": 4,
 "nbformat_minor": 5
}
