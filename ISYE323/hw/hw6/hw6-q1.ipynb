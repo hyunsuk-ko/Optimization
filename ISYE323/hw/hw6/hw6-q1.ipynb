{
 "cells": [
  {
   "cell_type": "code",
   "execution_count": 3,
   "id": "028bb417",
   "metadata": {},
   "outputs": [
    {
     "name": "stdout",
     "output_type": "stream",
     "text": [
      "Use arc(3, 4)\n",
      "Total cost: 530.0\n",
      "Presolve 0 (-4) rows, 0 (-6) columns and 0 (-12) elements\n",
      "Optimal - objective value 530\n",
      "After Postsolve, objective 530, infeasibilities - dual 0 (0), primal 0 (0)\n",
      "Optimal objective 530 - 0 iterations time 0.002, Presolve 0.00\n"
     ]
    }
   ],
   "source": [
    "using JuMP, Cbc\n",
    "\n",
    "\n",
    "nodes = [3,2,1,4]\n",
    "arcs = [(3,2), (3,1), (3,4), (2,1), (2,4), (1,4)]\n",
    "b = Dict(zip(nodes, [1, 0, 0, -1]))\n",
    "costs = Dict(zip(arcs, [290, 386, 530, 174, 270, 225]))\n",
    "\n",
    "m = Model()\n",
    "\n",
    "@variable(m, 0 <= x[arcs] <= 1)\n",
    "\n",
    "@objective(m, Min, sum(costs[i] * x[i] for i in arcs))\n",
    "\n",
    "@constraint(m, flowbalance[i in nodes], sum(x[a] for a in arcs if a[1] == i)\n",
    "- sum(x[a] for a in arcs if a[2] == i) == b[i])\n",
    "\n",
    "\n",
    "set_optimizer(m, Cbc.Optimizer)\n",
    "\n",
    "optimize!(m)\n",
    "\n",
    "for a in arcs\n",
    "    if value(x[a]) > 0.01\n",
    "        println(\"Use arc\", a)\n",
    "    end\n",
    "end\n",
    "println(\"Total cost: \", objective_value(m))"
   ]
  },
  {
   "cell_type": "code",
   "execution_count": null,
   "id": "2a9ced0f",
   "metadata": {},
   "outputs": [],
   "source": []
  }
 ],
 "metadata": {
  "kernelspec": {
   "display_name": "Julia 1.7.1",
   "language": "julia",
   "name": "julia-1.7"
  },
  "language_info": {
   "file_extension": ".jl",
   "mimetype": "application/julia",
   "name": "julia",
   "version": "1.7.1"
  }
 },
 "nbformat": 4,
 "nbformat_minor": 5
}
