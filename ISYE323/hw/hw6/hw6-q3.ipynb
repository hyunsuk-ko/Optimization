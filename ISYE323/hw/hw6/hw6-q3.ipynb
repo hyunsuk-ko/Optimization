{
 "cells": [
  {
   "cell_type": "code",
   "execution_count": 6,
   "id": "ac3970e8",
   "metadata": {},
   "outputs": [
    {
     "name": "stdout",
     "output_type": "stream",
     "text": [
      "It is not possible to finish all campaigns in time\n",
      "\n",
      "(:s, :C1): 15.0\n",
      "(:s, :C2): 12.0\n",
      "(:s, :C3): 11.0\n",
      "(:C1, :M1): 7.0\n",
      "(:C1, :M2): 8.0\n",
      "(:C2, :M1): 0.0\n",
      "(:C2, :M2): 2.0\n",
      "(:C2, :M3): 2.0\n",
      "(:C2, :M4): 8.0\n",
      "(:C3, :M1): 3.0\n",
      "(:C3, :M2): 0.0\n",
      "(:C3, :M3): 8.0\n",
      "(:M1, :t): 10.0\n",
      "(:M2, :t): 10.0\n",
      "(:M3, :t): 10.0\n",
      "(:M4, :t): 8.0\n",
      "(:t, :s): 38.0\n",
      "Presolve 7 (-19) rows, 15 (-2) columns and 30 (-21) elements\n",
      "Perturbing problem by 0.001% of 1 - largest nonzero change 4.7050271e-05 ( 0.0047050271%) - largest zero change 4.6564243e-05\n",
      "0  Obj -0 Dual inf 2.9998753 (3)\n",
      "7  Obj 37.995941\n",
      "Optimal - objective value 38\n",
      "After Postsolve, objective 38, infeasibilities - dual 0 (0), primal 0 (0)\n",
      "Optimal objective 38 - 7 iterations time 0.002, Presolve 0.00\n"
     ]
    }
   ],
   "source": [
    "using JuMP, Cbc\n",
    "\n",
    "N = [:s,:C1,:C2,:C3,:M1,:M2,:M3,:M4,:t]\n",
    "A = [(:s,:C1),(:s,:C2),(:s,:C3),(:C1,:M1),\n",
    "(:C1,:M2),(:C2,:M1),(:C2,:M2),(:C2,:M3),\n",
    "(:C2,:M4),(:C3,:M1),(:C3,:M2),(:C3,:M3),\n",
    "(:M1,:t),(:M2,:t),(:M3,:t),(:M4,:t),(:t,:s)]\n",
    "\n",
    "cap = Dict(zip(A, [15 12 13 8 8 8 8 8 8 8 8 8 10 10 10 10 1000]))\n",
    "\n",
    "m = Model()\n",
    "\n",
    "@variable(m, x[A] >= 0)\n",
    "\n",
    "@objective(m, Max, x[(:t,:s)])\n",
    "\n",
    "@constraint(m, capacity[a in A], x[a] <= cap[a])\n",
    "\n",
    "@constraint(m, flowbalance[i in N], sum(x[a] for a in A if a[1] == i)\n",
    "            == sum(x[a] for a in A if a[2] == i))\n",
    "\n",
    "set_optimizer(m, Cbc.Optimizer)\n",
    "\n",
    "optimize!(m)\n",
    "\n",
    "if objective_value(m) < 40\n",
    "    println(\"It is not possible to finish all campaigns in time\")\n",
    "else\n",
    "    println(\"It is possible to finish all campaigns in time\")\n",
    "end\n",
    "println()\n",
    "for a in A\n",
    "    println(a, \": \", value(x[a]))\n",
    "end"
   ]
  },
  {
   "cell_type": "code",
   "execution_count": null,
   "id": "6ceae76d",
   "metadata": {},
   "outputs": [],
   "source": []
  }
 ],
 "metadata": {
  "kernelspec": {
   "display_name": "Julia 1.7.1",
   "language": "julia",
   "name": "julia-1.7"
  },
  "language_info": {
   "file_extension": ".jl",
   "mimetype": "application/julia",
   "name": "julia",
   "version": "1.7.1"
  }
 },
 "nbformat": 4,
 "nbformat_minor": 5
}
