{
 "cells": [
  {
   "cell_type": "code",
   "execution_count": 8,
   "id": "95d8360d",
   "metadata": {},
   "outputs": [
    {
     "name": "stdout",
     "output_type": "stream",
     "text": [
      "Presolve 13 (-8) rows, 11 (-10) columns and 30 (-31) elements\n",
      "0  Obj 0 Primal inf 17.999994 (6)\n",
      "5  Obj 2.7e-17\n",
      "Optimal - objective value 0\n",
      "After Postsolve, objective 0, infeasibilities - dual 0 (0), primal 0 (0)\n",
      "Optimal objective 0 - 5 iterations time 0.002, Presolve 0.00\n"
     ]
    },
    {
     "data": {
      "text/plain": [
       "* Solver : COIN Branch-and-Cut (Cbc)\n",
       "\n",
       "* Status\n",
       "  Termination status : OPTIMAL\n",
       "  Primal status      : FEASIBLE_POINT\n",
       "  Dual status        : NO_SOLUTION\n",
       "  Result count       : 1\n",
       "  Has duals          : false\n",
       "  Message from the solver:\n",
       "  \"Cbc_status          = finished - check isProvenOptimal or isProvenInfeasible to see if solution found (or check value of best solution)\n",
       "Cbc_secondaryStatus = unset (status_ will also be -1)\n",
       "\"\n",
       "\n",
       "* Candidate solution\n",
       "  Objective value      : 0.0\n",
       "  Objective bound      : 0.0\n",
       "  Primal solution :\n",
       "    x[A] : 0.0\n",
       "    x[B] : 3.0\n",
       "    x[C] : 3.0\n",
       "    x[D] : 12.0\n",
       "    x[E] : 13.0\n",
       "    x[F] : 5.0\n",
       "    x[G] : 15.0\n",
       "    x[H] : 9.0\n",
       "    x[I] : 10.0\n",
       "    x[J] : 12.0\n",
       "    y[A] : 0.0\n",
       "    y[B] : 0.0\n",
       "    y[C] : 0.0\n",
       "    y[D] : 0.0\n",
       "    y[E] : 0.0\n",
       "    y[F] : 0.0\n",
       "    y[G] : 0.0\n",
       "    y[H] : 0.0\n",
       "    y[I] : 0.0\n",
       "    y[J] : 0.0\n",
       "    z : 10.0\n",
       "\n",
       "* Work counters\n",
       "  Solve time (sec)   : 0.00000\n"
      ]
     },
     "execution_count": 8,
     "metadata": {},
     "output_type": "execute_result"
    }
   ],
   "source": [
    "activity = [:A, :B, :C, :D, :E, :F, :G, :H, :I, :J]\n",
    "a = Dict(zip(activity, [3, 2, 6, 2, 3, 3, 5, 1, 1.5, 2]))\n",
    "c = Dict(zip(activity, [70, 40, 60, 60, 75, 90, 70, 0, 0, 40]))\n",
    "\n",
    "using JuMP, Cbc\n",
    "\n",
    "m = Model()\n",
    "\n",
    "@variable(m, x[activity] >= 0) \n",
    "@variable(m, z >= 0)\n",
    "@variable(m, 0 <= y[i in activity] <= a[i])\n",
    "\n",
    "@objective(m, Min, sum(c[i] * y[i] for i in activity))\n",
    "\n",
    "@constraint(m, time_limit, z <= 10)\n",
    "@constraint(m, minmax[i in activity], z >= x[i] + y[i] - a[i])\n",
    "@constraint(m, predecessor_BA, x[:B] >= x[:A] + 3 - y[:A])\n",
    "@constraint(m, predecessor_CA, x[:C] >= x[:A] + 3 - y[:A])\n",
    "@constraint(m, predecessor_DC, x[:D] >= x[:C] + 6 - y[:C])\n",
    "@constraint(m, predecessor_EA, x[:E] >= x[:A] + 3 - y[:A])\n",
    "@constraint(m, predecessor_FB, x[:F] >= x[:B] + 2 - y[:B])\n",
    "@constraint(m, predecessor_GC, x[:G] >= x[:C] + 6 - y[:C])\n",
    "@constraint(m, predecessor_HC, x[:H] >= x[:C] + 6 - y[:C])\n",
    "@constraint(m, predecessor_IF, x[:I] >= x[:F] + 3 - y[:F])\n",
    "@constraint(m, predecessor_IH, x[:I] >= x[:H] + 1 - y[:H])\n",
    "@constraint(m, predecessor_JI, x[:J] >= x[:I] + 1.5 - y[:I])\n",
    "\n",
    "set_optimizer(m, Cbc.Optimizer)\n",
    "\n",
    "optimize!(m)\n",
    "\n",
    "solution_summary(m, verbose = true)"
   ]
  },
  {
   "cell_type": "code",
   "execution_count": null,
   "id": "76c1e4c8",
   "metadata": {},
   "outputs": [],
   "source": []
  }
 ],
 "metadata": {
  "kernelspec": {
   "display_name": "Julia 1.7.1",
   "language": "julia",
   "name": "julia-1.7"
  },
  "language_info": {
   "file_extension": ".jl",
   "mimetype": "application/julia",
   "name": "julia",
   "version": "1.7.1"
  }
 },
 "nbformat": 4,
 "nbformat_minor": 5
}
