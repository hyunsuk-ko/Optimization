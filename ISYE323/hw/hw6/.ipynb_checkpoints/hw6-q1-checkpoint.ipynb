{
 "cells": [
  {
   "cell_type": "code",
   "execution_count": 2,
   "id": "028bb417",
   "metadata": {},
   "outputs": [
    {
     "name": "stdout",
     "output_type": "stream",
     "text": [
      "Presolve 6 (0) rows, 9 (0) columns and 21 (0) elements\n",
      "0  Obj 0 Primal inf 35 (3)\n",
      "7  Obj 364\n",
      "Optimal - objective value 364\n",
      "Optimal objective 364 - 7 iterations time 0.002\n"
     ]
    },
    {
     "data": {
      "text/plain": [
       "* Solver : COIN Branch-and-Cut (Cbc)\n",
       "\n",
       "* Status\n",
       "  Termination status : OPTIMAL\n",
       "  Primal status      : FEASIBLE_POINT\n",
       "  Dual status        : NO_SOLUTION\n",
       "  Result count       : 1\n",
       "  Has duals          : false\n",
       "  Message from the solver:\n",
       "  \"Cbc_status          = finished - check isProvenOptimal or isProvenInfeasible to see if solution found (or check value of best solution)\n",
       "Cbc_secondaryStatus = unset (status_ will also be -1)\n",
       "\"\n",
       "\n",
       "* Candidate solution\n",
       "  Objective value      : 1339.0\n",
       "  Objective bound      : 1339.0\n",
       "  Primal solution :\n",
       "    x11 : 4.0\n",
       "    x12 : 8.0\n",
       "    x13 : 0.0\n",
       "    x21 : 8.0\n",
       "    x22 : 0.0\n",
       "    x23 : 0.0\n",
       "    x31 : 0.0\n",
       "    x32 : 0.0\n",
       "    x33 : 15.0\n",
       "\n",
       "* Work counters\n",
       "  Solve time (sec)   : 0.00100\n"
      ]
     },
     "execution_count": 2,
     "metadata": {},
     "output_type": "execute_result"
    }
   ],
   "source": [
    "using JuMP, Cbc\n",
    "\n",
    "m = Model()\n",
    "\n",
    "@variable(m, x11 >= 0)\n",
    "@variable(m, x12 >= 0)\n",
    "@variable(m, x13 >= 0)\n",
    "@variable(m, x21 >= 0)\n",
    "@variable(m, x22 >= 0)\n",
    "@variable(m, x23 >= 0)\n",
    "@variable(m, x31 >= 0)\n",
    "@variable(m, x32 >= 0)\n",
    "@variable(m, x33 >= 0)\n",
    "\n",
    "@objective(m, Min, (105 + 10x11) + (110 + 8x12) + (110+ 12x13) + (105 + 10x21) + (110 + 8x22) + (110 + 12x23) \n",
    "    + (105 + 10x31) + (110 + 8x32) + (110+12x33))\n",
    "\n",
    "@constraint(m, min_demand_1, x11 + x12 + x13 >= 12)\n",
    "@constraint(m, min_demand_2, x21 + x22 + x23 >= 8)\n",
    "@constraint(m, min_demand_3, x31 + x32 + x33 >= 15)\n",
    "\n",
    "@constraint(m, balance_1, x12 + x13 == x21 + x31)\n",
    "@constraint(m, balance_2, x21 + x23 == x12 + x32)\n",
    "@constraint(m, balance_3, x31 + x32 == x13 + x23)\n",
    "\n",
    "set_optimizer(m, Cbc.Optimizer)\n",
    "\n",
    "optimize!(m)\n",
    "\n",
    "solution_summary(m, verbose=true)"
   ]
  },
  {
   "cell_type": "code",
   "execution_count": null,
   "id": "2a9ced0f",
   "metadata": {},
   "outputs": [],
   "source": []
  }
 ],
 "metadata": {
  "kernelspec": {
   "display_name": "Julia 1.7.1",
   "language": "julia",
   "name": "julia-1.7"
  },
  "language_info": {
   "file_extension": ".jl",
   "mimetype": "application/julia",
   "name": "julia",
   "version": "1.7.1"
  }
 },
 "nbformat": 4,
 "nbformat_minor": 5
}
