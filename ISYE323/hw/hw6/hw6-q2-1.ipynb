{
 "cells": [
  {
   "cell_type": "code",
   "execution_count": 14,
   "id": "1f9b8df9",
   "metadata": {},
   "outputs": [
    {
     "name": "stdout",
     "output_type": "stream",
     "text": [
      "Presolve 0 (-20) rows, 0 (-11) columns and 0 (-40) elements\n",
      "Optimal - objective value 14\n",
      "After Postsolve, objective 14, infeasibilities - dual 0 (0), primal 0 (0)\n",
      "Optimal objective 14 - 0 iterations time 0.002, Presolve 0.00\n"
     ]
    },
    {
     "data": {
      "text/plain": [
       "* Solver : COIN Branch-and-Cut (Cbc)\n",
       "\n",
       "* Status\n",
       "  Termination status : OPTIMAL\n",
       "  Primal status      : FEASIBLE_POINT\n",
       "  Dual status        : NO_SOLUTION\n",
       "  Result count       : 1\n",
       "  Has duals          : false\n",
       "  Message from the solver:\n",
       "  \"Cbc_status          = finished - check isProvenOptimal or isProvenInfeasible to see if solution found (or check value of best solution)\n",
       "Cbc_secondaryStatus = unset (status_ will also be -1)\n",
       "\"\n",
       "\n",
       "* Candidate solution\n",
       "  Objective value      : 14.0\n",
       "  Objective bound      : 14.0\n",
       "  Primal solution :\n",
       "    x[A] : 0.0\n",
       "    x[B] : 3.0\n",
       "    x[C] : 3.0\n",
       "    x[D] : 12.0\n",
       "    x[E] : 11.0\n",
       "    x[F] : 5.0\n",
       "    x[G] : 9.0\n",
       "    x[H] : 9.0\n",
       "    x[I] : 10.0\n",
       "    x[J] : 12.0\n",
       "    z : 14.0\n",
       "\n",
       "* Work counters\n",
       "  Solve time (sec)   : 0.00000\n"
      ]
     },
     "execution_count": 14,
     "metadata": {},
     "output_type": "execute_result"
    }
   ],
   "source": [
    "activity = [:A, :B, :C, :D, :E, :F, :G, :H, :I, :J]\n",
    "a = Dict(zip(activity, [3, 2, 6, 2, 3, 3, 5, 1, 1.5, 2]))\n",
    "\n",
    "using JuMP, Cbc\n",
    "\n",
    "m = Model()\n",
    "\n",
    "@variable(m, x[activity] >= 0) \n",
    "@variable(m, z >= 0)\n",
    "\n",
    "@objective(m, Min, z)\n",
    "\n",
    "@constraint(m, minmax[i in activity], z >= x[i] + a[i])\n",
    "@constraint(m, predecessor_BA, x[:B] >= x[:A] + 3)\n",
    "@constraint(m, predecessor_CA, x[:C] >= x[:A] + 3)\n",
    "@constraint(m, predecessor_DC, x[:D] >= x[:C] + 6)\n",
    "@constraint(m, predecessor_EA, x[:E] >= x[:A] + 3)\n",
    "@constraint(m, predecessor_FB, x[:F] >= x[:B] + 2)\n",
    "@constraint(m, predecessor_GC, x[:G] >= x[:C] + 6)\n",
    "@constraint(m, predecessor_HC, x[:H] >= x[:C] + 6)\n",
    "@constraint(m, predecessor_IF, x[:I] >= x[:F] + 3)\n",
    "@constraint(m, predecessor_IH, x[:I] >= x[:H] + 1)\n",
    "@constraint(m, predecessor_JI, x[:J] >= x[:I] + 1.5)\n",
    "\n",
    "set_optimizer(m, Cbc.Optimizer)\n",
    "\n",
    "optimize!(m)\n",
    "\n",
    "solution_summary(m, verbose = true)"
   ]
  },
  {
   "cell_type": "code",
   "execution_count": null,
   "id": "fd3637b7",
   "metadata": {},
   "outputs": [],
   "source": []
  }
 ],
 "metadata": {
  "kernelspec": {
   "display_name": "Julia 1.7.1",
   "language": "julia",
   "name": "julia-1.7"
  },
  "language_info": {
   "file_extension": ".jl",
   "mimetype": "application/julia",
   "name": "julia",
   "version": "1.7.1"
  }
 },
 "nbformat": 4,
 "nbformat_minor": 5
}
