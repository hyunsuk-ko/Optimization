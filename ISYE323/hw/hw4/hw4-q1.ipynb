{
 "cells": [
  {
   "cell_type": "code",
   "execution_count": 3,
   "id": "12ed271a",
   "metadata": {},
   "outputs": [
    {
     "name": "stdout",
     "output_type": "stream",
     "text": [
      "Presolve 5 (-3) rows, 7 (-3) columns and 18 (-8) elements\n",
      "0  Obj -0 Dual inf 11.320436 (6)\n",
      "9  Obj -0\n",
      "Optimal - objective value 0\n",
      "After Postsolve, objective 0, infeasibilities - dual 0 (0), primal 0 (0)\n",
      "Optimal objective 0 - 9 iterations time 0.002, Presolve 0.00\n"
     ]
    },
    {
     "data": {
      "text/plain": [
       "* Solver : COIN Branch-and-Cut (Cbc)\n",
       "\n",
       "* Status\n",
       "  Termination status : OPTIMAL\n",
       "  Primal status      : FEASIBLE_POINT\n",
       "  Dual status        : NO_SOLUTION\n",
       "  Result count       : 1\n",
       "  Has duals          : false\n",
       "  Message from the solver:\n",
       "  \"Cbc_status          = finished - check isProvenOptimal or isProvenInfeasible to see if solution found (or check value of best solution)\n",
       "Cbc_secondaryStatus = unset (status_ will also be -1)\n",
       "\"\n",
       "\n",
       "* Candidate solution\n",
       "  Objective value      : 0.0\n",
       "  Objective bound      : 0.0\n",
       "  Primal solution :\n",
       "    x1 : 0.0\n",
       "    x2 : 0.0\n",
       "    x3 : 0.0\n",
       "    x4 : 0.0\n",
       "    x5 : -0.0\n",
       "    x6 : 0.0\n",
       "    x7 : 0.0\n",
       "    x8 : 0.0\n",
       "    y1 : -0.0\n",
       "    y2 : -0.0\n",
       "\n",
       "* Work counters\n",
       "  Solve time (sec)   : 0.00100\n"
      ]
     },
     "execution_count": 3,
     "metadata": {},
     "output_type": "execute_result"
    }
   ],
   "source": [
    "using JuMP, Cbc\n",
    "\n",
    "m = Model()\n",
    "\n",
    "@variable(m, x1 >= 0) # using RM for process 1\n",
    "@variable(m, x2 >= 0) # using labor for process 1\n",
    "@variable(m, x3 >= 0) # using RM for process 2\n",
    "@variable(m, x4 >= 0) # using labor for process 2\n",
    "@variable(m, x5 >= 0) # using A for mix 1\n",
    "@variable(m, x6 >= 0) # using B for mix 1\n",
    "@variable(m, x7 >= 0) # using A for mix 2\n",
    "@variable(m, x8 >= 0) # using B for mix 2\n",
    "@variable(m, y1 >= 0) # selling mix 1\n",
    "@variable(m, y2 >= 0) # selling mix 2\n",
    "\n",
    "@objective(m, Max, 7.5y1 + 5y2)\n",
    "\n",
    "@constraint(m, max_rm_use, 3.5x1 + 2x3 <= 110)\n",
    "@constraint(m, max_labor_use, 3x2 + 4x4 <= 130)\n",
    "@constraint(m, min_A_req_mix1, x5 >= 0.7(x5+x6))\n",
    "@constraint(m, min_A_req_mix2, x7 >= 0.5(x7+x8))\n",
    "@constraint(m, A_balance, (x1+x2) + (x3+x4) == 8(x5+x7))\n",
    "@constraint(m, B_balance, (x1+x2) + (x3+x4) == 5.5(x6+x8))\n",
    "@constraint(m, mix1_balance, x5 + x6 == y1)\n",
    "@constraint(m, mix2_balance, x7 + x8 == y2)\n",
    "\n",
    "set_optimizer(m, Cbc.Optimizer)\n",
    "\n",
    "optimize!(m)\n",
    "\n",
    "solution_summary(m, verbose=true)"
   ]
  },
  {
   "cell_type": "code",
   "execution_count": 2,
   "id": "de8b8887",
   "metadata": {},
   "outputs": [
    {
     "name": "stdout",
     "output_type": "stream",
     "text": [
      "Presolve 5 (-3) rows, 5 (-3) columns and 14 (-8) elements\n",
      "0  Obj -0 Dual inf 6.4172827 (4)\n",
      "6  Obj -0\n",
      "Optimal - objective value 0\n",
      "After Postsolve, objective 0, infeasibilities - dual 0 (0), primal 0 (0)\n",
      "Optimal objective 0 - 6 iterations time 0.002, Presolve 0.00\n"
     ]
    },
    {
     "data": {
      "text/plain": [
       "* Solver : COIN Branch-and-Cut (Cbc)\n",
       "\n",
       "* Status\n",
       "  Termination status : OPTIMAL\n",
       "  Primal status      : FEASIBLE_POINT\n",
       "  Dual status        : NO_SOLUTION\n",
       "  Result count       : 1\n",
       "  Has duals          : false\n",
       "  Message from the solver:\n",
       "  \"Cbc_status          = finished - check isProvenOptimal or isProvenInfeasible to see if solution found (or check value of best solution)\n",
       "Cbc_secondaryStatus = unset (status_ will also be -1)\n",
       "\"\n",
       "\n",
       "* Candidate solution\n",
       "  Objective value      : 0.0\n",
       "  Objective bound      : 0.0\n",
       "  Primal solution :\n",
       "    x1 : 0.0\n",
       "    x2 : 0.0\n",
       "    x3 : -0.0\n",
       "    x4 : 0.0\n",
       "    x5 : 0.0\n",
       "    x6 : 0.0\n",
       "    y1 : -0.0\n",
       "    y2 : -0.0\n",
       "\n",
       "* Work counters\n",
       "  Solve time (sec)   : 0.00100\n"
      ]
     },
     "execution_count": 2,
     "metadata": {},
     "output_type": "execute_result"
    }
   ],
   "source": [
    "using JuMP, Cbc\n",
    "\n",
    "m = Model()\n",
    "\n",
    "@variable(m, x1 >= 0) # using RM for process 1\n",
    "@variable(m, x2 >= 0) # using labor for process 1\n",
    "@variable(m, x3 >= 0) # using RM for process 2\n",
    "@variable(m, x4 >= 0) # using labor for process 2\n",
    "@variable(m, x5 >= 0) # using A for mix 1\n",
    "@variable(m, x6 >= 0) # using B for mix 1\n",
    "@variable(m, y1 >= 0) # selling mix 1\n",
    "@variable(m, y2 >= 0) # selling mix 2\n",
    "\n",
    "@objective(m, Max, 7.5y1 + 5y2)\n",
    "\n",
    "@constraint(m, max_rm_use, 3.5x1 + 2x2 <= 110)\n",
    "@constraint(m, max_labor_use, 3x1 + 4x2 <= 130)\n",
    "@constraint(m, min_A_req_mix1, x3 >= 0.7(x3+x4))\n",
    "@constraint(m, min_A_req_mix2, x5 >= 0.5(x5+x6))\n",
    "@constraint(m, A_balance, x1 + x2 == 8(x3+x5))\n",
    "@constraint(m, B_balance, x1 + x2 == 5.5(x4+x6))\n",
    "@constraint(m, mix1_balance, x3 + x4 == y1)\n",
    "@constraint(m, mix2_balance, x5 + x6 == y2)\n",
    "\n",
    "set_optimizer(m, Cbc.Optimizer)\n",
    "\n",
    "optimize!(m)\n",
    "\n",
    "solution_summary(m, verbose=true)"
   ]
  },
  {
   "cell_type": "code",
   "execution_count": null,
   "id": "7db75e55",
   "metadata": {},
   "outputs": [],
   "source": []
  }
 ],
 "metadata": {
  "kernelspec": {
   "display_name": "Julia 1.7.1",
   "language": "julia",
   "name": "julia-1.7"
  },
  "language_info": {
   "file_extension": ".jl",
   "mimetype": "application/julia",
   "name": "julia",
   "version": "1.7.1"
  }
 },
 "nbformat": 4,
 "nbformat_minor": 5
}
