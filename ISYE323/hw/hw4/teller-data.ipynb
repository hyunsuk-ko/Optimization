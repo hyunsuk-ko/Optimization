{
 "cells": [
  {
   "cell_type": "code",
   "execution_count": null,
   "metadata": {},
   "outputs": [],
   "source": [
    "n = 6\n",
    "init_tellers = 10 # A0\n",
    "cost_salary = 10 #CS\n",
    "cost_retire = 30 #CR\n",
    "cost_hire = 10 #CH\n",
    "retire_max = 10 #RM\n",
    "max_labor = 160 #MH\n",
    "\n",
    "hours_created = [4800 6000 6500 5000 4500 3500] #HrsReq (work created in each month)\n",
    "max_hrs_left = [800 700 600 500 400 0]; #Lt (max hours left over at the end of each month)\n"
   ]
  }
 ],
 "metadata": {
  "kernelspec": {
   "display_name": "Julia 1.7.1",
   "language": "julia",
   "name": "julia-1.7"
  },
  "language_info": {
   "file_extension": ".jl",
   "mimetype": "application/julia",
   "name": "julia",
   "version": "1.7.1"
  }
 },
 "nbformat": 4,
 "nbformat_minor": 4
}
