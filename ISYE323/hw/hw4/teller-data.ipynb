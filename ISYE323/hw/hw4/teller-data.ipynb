{
 "cells": [
  {
   "cell_type": "code",
   "execution_count": 12,
   "metadata": {},
   "outputs": [],
   "source": [
    "n = 6\n",
    "init_tellers = 10 # A0\n",
    "cost_salary = 10 #CS\n",
    "cost_retire = 30 #CR\n",
    "cost_hire = 10 #CH\n",
    "retire_max = 10 #RM\n",
    "max_labor = 160 #MH\n",
    "\n",
    "hours_created = [4800 6000 6500 5000 4500 3500] #HrsReq (work created in each month)\n",
    "max_hrs_left = [800 700 600 500 400 0]; #Lt (max hours left over at the end of each month)"
   ]
  },
  {
   "cell_type": "code",
   "execution_count": 15,
   "metadata": {},
   "outputs": [
    {
     "ename": "LoadError",
     "evalue": "MathOptInterface.UnsupportedConstraint{MathOptInterface.ScalarQuadraticFunction{Float64}, MathOptInterface.EqualTo{Float64}}: `MathOptInterface.ScalarQuadraticFunction{Float64}`-in-`MathOptInterface.EqualTo{Float64}` constraint is not supported by the model.",
     "output_type": "error",
     "traceback": [
      "MathOptInterface.UnsupportedConstraint{MathOptInterface.ScalarQuadraticFunction{Float64}, MathOptInterface.EqualTo{Float64}}: `MathOptInterface.ScalarQuadraticFunction{Float64}`-in-`MathOptInterface.EqualTo{Float64}` constraint is not supported by the model.",
      "",
      "Stacktrace:",
      "  [1] bridge_type(b::MathOptInterface.Bridges.LazyBridgeOptimizer{MathOptInterface.Utilities.CachingOptimizer{Cbc.Optimizer, MathOptInterface.Utilities.UniversalFallback{MathOptInterface.Utilities.Model{Float64}}}}, F::Type{MathOptInterface.ScalarQuadraticFunction{Float64}}, S::Type{MathOptInterface.EqualTo{Float64}})",
      "    @ MathOptInterface.Bridges C:\\Users\\peren\\.julia\\packages\\MathOptInterface\\QxT5e\\src\\Bridges\\lazy_bridge_optimizer.jl:441",
      "  [2] concrete_bridge_type(b::MathOptInterface.Bridges.LazyBridgeOptimizer{MathOptInterface.Utilities.CachingOptimizer{Cbc.Optimizer, MathOptInterface.Utilities.UniversalFallback{MathOptInterface.Utilities.Model{Float64}}}}, F::Type{MathOptInterface.ScalarQuadraticFunction{Float64}}, S::Type{MathOptInterface.EqualTo{Float64}})",
      "    @ MathOptInterface.Bridges.Constraint C:\\Users\\peren\\.julia\\packages\\MathOptInterface\\QxT5e\\src\\Bridges\\Constraint\\bridge.jl:145",
      "  [3] add_constraint(b::MathOptInterface.Bridges.LazyBridgeOptimizer{MathOptInterface.Utilities.CachingOptimizer{Cbc.Optimizer, MathOptInterface.Utilities.UniversalFallback{MathOptInterface.Utilities.Model{Float64}}}}, f::MathOptInterface.ScalarQuadraticFunction{Float64}, s::MathOptInterface.EqualTo{Float64})",
      "    @ MathOptInterface.Bridges C:\\Users\\peren\\.julia\\packages\\MathOptInterface\\QxT5e\\src\\Bridges\\bridge_optimizer.jl:1541",
      "  [4] _copy_constraints(dest::MathOptInterface.Bridges.LazyBridgeOptimizer{MathOptInterface.Utilities.CachingOptimizer{Cbc.Optimizer, MathOptInterface.Utilities.UniversalFallback{MathOptInterface.Utilities.Model{Float64}}}}, src::MathOptInterface.Utilities.UniversalFallback{MathOptInterface.Utilities.Model{Float64}}, index_map::MathOptInterface.Utilities.IndexMap, cis_src::Vector{MathOptInterface.ConstraintIndex{MathOptInterface.ScalarQuadraticFunction{Float64}, MathOptInterface.EqualTo{Float64}}})",
      "    @ MathOptInterface.Utilities C:\\Users\\peren\\.julia\\packages\\MathOptInterface\\QxT5e\\src\\Utilities\\copy.jl:248",
      "  [5] pass_nonvariable_constraints_fallback(dest::MathOptInterface.Bridges.LazyBridgeOptimizer{MathOptInterface.Utilities.CachingOptimizer{Cbc.Optimizer, MathOptInterface.Utilities.UniversalFallback{MathOptInterface.Utilities.Model{Float64}}}}, src::MathOptInterface.Utilities.UniversalFallback{MathOptInterface.Utilities.Model{Float64}}, index_map::MathOptInterface.Utilities.IndexMap, constraint_types::Vector{Any})",
      "    @ MathOptInterface.Utilities C:\\Users\\peren\\.julia\\packages\\MathOptInterface\\QxT5e\\src\\Utilities\\copy.jl:261",
      "  [6] pass_nonvariable_constraints(dest::MathOptInterface.Bridges.LazyBridgeOptimizer{MathOptInterface.Utilities.CachingOptimizer{Cbc.Optimizer, MathOptInterface.Utilities.UniversalFallback{MathOptInterface.Utilities.Model{Float64}}}}, src::MathOptInterface.Utilities.UniversalFallback{MathOptInterface.Utilities.Model{Float64}}, idxmap::MathOptInterface.Utilities.IndexMap, constraint_types::Vector{Any})",
      "    @ MathOptInterface.Bridges C:\\Users\\peren\\.julia\\packages\\MathOptInterface\\QxT5e\\src\\Bridges\\bridge_optimizer.jl:412",
      "  [7] _pass_constraints(dest::MathOptInterface.Bridges.LazyBridgeOptimizer{MathOptInterface.Utilities.CachingOptimizer{Cbc.Optimizer, MathOptInterface.Utilities.UniversalFallback{MathOptInterface.Utilities.Model{Float64}}}}, src::MathOptInterface.Utilities.UniversalFallback{MathOptInterface.Utilities.Model{Float64}}, index_map::MathOptInterface.Utilities.IndexMap, variable_constraints_not_added::Vector{Any})",
      "    @ MathOptInterface.Utilities C:\\Users\\peren\\.julia\\packages\\MathOptInterface\\QxT5e\\src\\Utilities\\copy.jl:309",
      "  [8] default_copy_to(dest::MathOptInterface.Bridges.LazyBridgeOptimizer{MathOptInterface.Utilities.CachingOptimizer{Cbc.Optimizer, MathOptInterface.Utilities.UniversalFallback{MathOptInterface.Utilities.Model{Float64}}}}, src::MathOptInterface.Utilities.UniversalFallback{MathOptInterface.Utilities.Model{Float64}})",
      "    @ MathOptInterface.Utilities C:\\Users\\peren\\.julia\\packages\\MathOptInterface\\QxT5e\\src\\Utilities\\copy.jl:498",
      "  [9] #copy_to#7",
      "    @ C:\\Users\\peren\\.julia\\packages\\MathOptInterface\\QxT5e\\src\\Bridges\\bridge_optimizer.jl:421 [inlined]",
      " [10] copy_to",
      "    @ C:\\Users\\peren\\.julia\\packages\\MathOptInterface\\QxT5e\\src\\Bridges\\bridge_optimizer.jl:421 [inlined]",
      " [11] optimize!",
      "    @ C:\\Users\\peren\\.julia\\packages\\MathOptInterface\\QxT5e\\src\\MathOptInterface.jl:80 [inlined]",
      " [12] optimize!(m::MathOptInterface.Utilities.CachingOptimizer{MathOptInterface.Bridges.LazyBridgeOptimizer{MathOptInterface.Utilities.CachingOptimizer{Cbc.Optimizer, MathOptInterface.Utilities.UniversalFallback{MathOptInterface.Utilities.Model{Float64}}}}, MathOptInterface.Utilities.UniversalFallback{MathOptInterface.Utilities.Model{Float64}}})",
      "    @ MathOptInterface.Utilities C:\\Users\\peren\\.julia\\packages\\MathOptInterface\\QxT5e\\src\\Utilities\\cachingoptimizer.jl:285",
      " [13] optimize!(model::Model, optimizer_factory::Nothing; bridge_constraints::Bool, ignore_optimize_hook::Bool, kwargs::Base.Pairs{Symbol, Union{}, Tuple{}, NamedTuple{(), Tuple{}}})",
      "    @ JuMP C:\\Users\\peren\\.julia\\packages\\JuMP\\lnUbA\\src\\optimizer_interface.jl:195",
      " [14] optimize! (repeats 2 times)",
      "    @ C:\\Users\\peren\\.julia\\packages\\JuMP\\lnUbA\\src\\optimizer_interface.jl:167 [inlined]",
      " [15] top-level scope",
      "    @ In[15]:25",
      " [16] eval",
      "    @ .\\boot.jl:373 [inlined]",
      " [17] include_string(mapexpr::typeof(REPL.softscope), mod::Module, code::String, filename::String)",
      "    @ Base .\\loading.jl:1196"
     ]
    }
   ],
   "source": [
    "using JuMP, Cbc\n",
    "\n",
    "m = Model()\n",
    "\n",
    "@variable(m, x[1:n] >= 0) # of hired employees in period t\n",
    "@variable(m, y[1:n] >= 0) # of retired employees in period t\n",
    "@variable(m, z[0:n] >= 0) # of current employees in period t\n",
    "@variable(m, s[0:n] >= 0) # of carryover hours in period t\n",
    "@variable(m, a[1:n] >= 0) # of individual's working hours in period t\n",
    "\n",
    "@objective(m, Min, sum(cost_salary * z) + sum(cost_retire * y) + sum(cost_hire * x))\n",
    "\n",
    "@constraint(m, curr_work[t in 1:n], z[t] == z[t-1] + x[t] - y[t])\n",
    "@constraint(m, carryover[t in 1:6], s[t] == s[t-1] + (hours_created[t] - (a[t] * z[t])))\n",
    "#@constraint(m, carryover[t in 1:6], s[t] == (hours_created[t] - (a[t] * z[t])))\n",
    "@constraint(m, start_worker, z[0] == init_tellers)\n",
    "@constraint(m, start_carryover, s[0] == 0)\n",
    "@constraint(m, max_retire, sum(y) <= retire_max)\n",
    "@constraint(m, max_indv_labor[t in 1:6], a[t] <= max_labor)\n",
    "@constraint(m, max_carryover[t in 1:6], s[t] <= max_hrs_left[t])\n",
    "@constraint(m, tot_hrs_meet, sum(a[t] * z[t] + s[t] for t in 1:6)== sum(hours_created))\n",
    "\n",
    "set_optimizer(m, Cbc.Optimizer)\n",
    "\n",
    "optimize!(m)\n",
    "\n",
    "solution_summary(m, verbose=true)"
   ]
  },
  {
   "cell_type": "code",
   "execution_count": null,
   "metadata": {},
   "outputs": [],
   "source": []
  }
 ],
 "metadata": {
  "kernelspec": {
   "display_name": "Julia 1.7.1",
   "language": "julia",
   "name": "julia-1.7"
  },
  "language_info": {
   "file_extension": ".jl",
   "mimetype": "application/julia",
   "name": "julia",
   "version": "1.7.1"
  }
 },
 "nbformat": 4,
 "nbformat_minor": 4
}
