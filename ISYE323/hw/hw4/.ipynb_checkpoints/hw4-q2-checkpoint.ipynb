{
 "cells": [
  {
   "cell_type": "code",
   "execution_count": 10,
   "id": "f651f044",
   "metadata": {},
   "outputs": [
    {
     "name": "stdout",
     "output_type": "stream",
     "text": [
      "Presolve 4 (-4) rows, 7 (-1) columns and 15 (-8) elements\n",
      "0  Obj -0 Dual inf 86.20926 (3)\n",
      "3  Obj 1948.5\n",
      "Optimal - objective value 1948.5\n",
      "After Postsolve, objective 1948.5, infeasibilities - dual 0 (0), primal 0 (0)\n",
      "Optimal objective 1948.5 - 3 iterations time 0.002, Presolve 0.00\n"
     ]
    },
    {
     "data": {
      "text/plain": [
       "* Solver : COIN Branch-and-Cut (Cbc)\n",
       "\n",
       "* Status\n",
       "  Termination status : OPTIMAL\n",
       "  Primal status      : FEASIBLE_POINT\n",
       "  Dual status        : NO_SOLUTION\n",
       "  Result count       : 1\n",
       "  Has duals          : false\n",
       "  Message from the solver:\n",
       "  \"Cbc_status          = finished - check isProvenOptimal or isProvenInfeasible to see if solution found (or check value of best solution)\n",
       "Cbc_secondaryStatus = unset (status_ will also be -1)\n",
       "\"\n",
       "\n",
       "* Candidate solution\n",
       "  Objective value      : 1948.4999999999998\n",
       "  Objective bound      : 1948.4999999999998\n",
       "  Primal solution :\n",
       "    x1 : 11.700000000000003\n",
       "    x2 : 0.0\n",
       "    x3 : 27.999999999999993\n",
       "    x4 : 0.0\n",
       "    y : 39.699999999999996\n",
       "    zb : 39.7\n",
       "    zc : 50.0\n",
       "    zd : 39.99999999999999\n",
       "\n",
       "* Work counters\n",
       "  Solve time (sec)   : 0.00000\n"
      ]
     },
     "execution_count": 10,
     "metadata": {},
     "output_type": "execute_result"
    }
   ],
   "source": [
    "using JuMP, Cbc\n",
    "\n",
    "m = Model()\n",
    "\n",
    "@variable(m, y >= 0)\n",
    "@variable(m, x1 >= 0)\n",
    "@variable(m, x2 >= 0)\n",
    "@variable(m, x3 >= 0)\n",
    "@variable(m, x4 >= 0)\n",
    "@variable(m, zb >= 0)\n",
    "@variable(m, zc >= 0)\n",
    "@variable(m, zd >= 0)\n",
    "\n",
    "@objective(m, Max, 10zb + 15zc + 25zd -5y -2.5x2 -2x4)\n",
    "\n",
    "@constraint(m, max_labor, 3x1 + x3 <= 350)\n",
    "@constraint(m, balance_b, x1+x2 + x3+x4 == zb)\n",
    "@constraint(m, balance_c, x1+x2 == (x3+x4+zc)*3/20)\n",
    "@constraint(m, balance_d, x3+x4 == zd * 7/10)\n",
    "@constraint(m, max_demand_b, zb <= 40)\n",
    "@constraint(m, max_demand_c, zc <= 50)\n",
    "@constraint(m, max_demand_d, zd <= 40)\n",
    "@constraint(m, balance_a, y == x1+x2+x3+x4)\n",
    "\n",
    "set_optimizer(m, Cbc.Optimizer)\n",
    "\n",
    "optimize!(m)\n",
    "\n",
    "solution_summary(m, verbose=true)"
   ]
  },
  {
   "cell_type": "code",
   "execution_count": null,
   "id": "00ec6a03",
   "metadata": {},
   "outputs": [],
   "source": []
  }
 ],
 "metadata": {
  "kernelspec": {
   "display_name": "Julia 1.7.1",
   "language": "julia",
   "name": "julia-1.7"
  },
  "language_info": {
   "file_extension": ".jl",
   "mimetype": "application/julia",
   "name": "julia",
   "version": "1.7.1"
  }
 },
 "nbformat": 4,
 "nbformat_minor": 5
}
