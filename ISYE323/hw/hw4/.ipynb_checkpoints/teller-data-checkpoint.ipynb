{
 "cells": [
  {
   "cell_type": "code",
   "execution_count": 1,
   "metadata": {},
   "outputs": [],
   "source": [
    "n = 6\n",
    "init_tellers = 10 # A0\n",
    "cost_salary = 10 #CS\n",
    "cost_retire = 30 #CR\n",
    "cost_hire = 10 #CH\n",
    "retire_max = 10 #RM\n",
    "max_labor = 160 #MH\n",
    "\n",
    "hours_created = [4800 6000 6500 5000 4500 3500] #HrsReq (work created in each month)\n",
    "max_hrs_left = [800 700 600 500 400 0]; #Lt (max hours left over at the end of each month)"
   ]
  },
  {
   "cell_type": "code",
   "execution_count": null,
   "metadata": {},
   "outputs": [],
   "source": []
  },
  {
   "cell_type": "code",
   "execution_count": 3,
   "metadata": {},
   "outputs": [
    {
     "data": {
      "text/latex": [
       "tot_hrs_meet : $ a_{1}\\times z_{1} + a_{2}\\times z_{2} + a_{3}\\times z_{3} + a_{4}\\times z_{4} + a_{5}\\times z_{5} + a_{6}\\times z_{6} + s_{1} + s_{2} + s_{3} + s_{4} + s_{5} + s_{6} = 30300.0 $"
      ],
      "text/plain": [
       "tot_hrs_meet : a[1]*z[1] + a[2]*z[2] + a[3]*z[3] + a[4]*z[4] + a[5]*z[5] + a[6]*z[6] + s[1] + s[2] + s[3] + s[4] + s[5] + s[6] == 30300.0"
      ]
     },
     "execution_count": 3,
     "metadata": {},
     "output_type": "execute_result"
    }
   ],
   "source": [
    "using JuMP, Cbc\n",
    "\n",
    "m = Model()\n",
    "\n",
    "@variable(m, x[1:n] >= 0) # of hired employees in period t\n",
    "@variable(m, y[1:n] >= 0) # of retired employees in period t\n",
    "@variable(m, z[0:n] >= 0) # of current employees in period t\n",
    "@variable(m, s[0:n] >= 0) # of carryover hours in period t\n",
    "@variable(m, a[1:n] >= 0) # of individual's working hours in period t\n",
    "\n",
    "@objective(m, Min, sum(cost_salary * z) + sum(cost_retire * y) + sum(cost_hire * x))\n",
    "\n",
    "@constraint(m, curr_work[t in 1:n], z[t] == z[t-1] + x[t] - y[t])\n",
    "@constraint(m, carryover[t in 1:6], s[t] == s[t-1] + (hours_created[t] - (a[t] * z[t])))\n",
    "@constraint(m, start_worker, z[0] == init_tellers)\n",
    "@constraint(m, start_carryover, s[0] == 0)\n",
    "@constraint(m, max_retire, sum(y) <= retire_max)\n",
    "#@constraint(m, max_indv_labor[t in 1:6], a[t] <= max_labor)\n",
    "@constraint(m, max_carryover[t in 1:6], s[t] <= max_hrs_left[t])\n",
    "@constraint(m, tot_hrs_meet, sum(a[t] * z[t] + s[t] for t in 1:6)== sum(hours_created))\n",
    "\n",
    "#set_optimizer(m, Cbc.Optimizer)\n",
    "\n",
    "#optimize!(m)\n",
    "\n",
    "#solution_summary(m, verbose=true)"
   ]
  },
  {
   "cell_type": "code",
   "execution_count": null,
   "metadata": {},
   "outputs": [],
   "source": []
  }
 ],
 "metadata": {
  "kernelspec": {
   "display_name": "Julia 1.7.1",
   "language": "julia",
   "name": "julia-1.7"
  },
  "language_info": {
   "file_extension": ".jl",
   "mimetype": "application/julia",
   "name": "julia",
   "version": "1.7.1"
  }
 },
 "nbformat": 4,
 "nbformat_minor": 4
}
