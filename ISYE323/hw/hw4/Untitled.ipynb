{
 "cells": [
  {
   "cell_type": "code",
   "execution_count": 6,
   "id": "11ada919",
   "metadata": {},
   "outputs": [
    {
     "data": {
      "text/plain": [
       "6-element Vector{Int64}:\n",
       " 2500\n",
       " 3000\n",
       " 4000\n",
       " 5500\n",
       " 4500\n",
       " 3500"
      ]
     },
     "execution_count": 6,
     "metadata": {},
     "output_type": "execute_result"
    }
   ],
   "source": [
    "H = [2500, 3000, 4000, 5500, 4500, 3500]"
   ]
  },
  {
   "cell_type": "code",
   "execution_count": 17,
   "id": "1e911cab",
   "metadata": {},
   "outputs": [
    {
     "data": {
      "text/latex": [
       "tot_hrs_meet : $ a_{1}\\times z_{1} + a_{2}\\times z_{2} + a_{3}\\times z_{3} + a_{4}\\times z_{4} + a_{5}\\times z_{5} + a_{6}\\times z_{6} + s_{1} + s_{2} + s_{3} + s_{4} + s_{5} = 23000.0 $"
      ],
      "text/plain": [
       "tot_hrs_meet : a[1]*z[1] + a[2]*z[2] + a[3]*z[3] + a[4]*z[4] + a[5]*z[5] + a[6]*z[6] + s[1] + s[2] + s[3] + s[4] + s[5] == 23000.0"
      ]
     },
     "execution_count": 17,
     "metadata": {},
     "output_type": "execute_result"
    }
   ],
   "source": [
    "using JuMP, Cbc\n",
    "\n",
    "m = Model()\n",
    "\n",
    "@variable(m, x[1:6] >= 0) # of hired employees in period t\n",
    "@variable(m, y[1:6] >= 0) # of retiring employees in period t\n",
    "@variable(m, s[0:5] >= 0) # of carryover labor hours in from period t-1 to t\n",
    "#@variable(m, a[1:6] >= 0) # of hrs an employee works in period t\n",
    "@variable(m, z[0:6] >= 0) # of current employees in period t\n",
    "\n",
    "@objective(m, Min, 5000 * sum(x) + 10000 * sum(y) + 2000 * sum(z))\n",
    "\n",
    "@constraint(m, curr_work[t in 1:6], z[t] == z[t-1] + x[t] - y[t])\n",
    "@constraint(m, start_worker, z[0] == 35)\n",
    "\n",
    "@constraint(m, carryover[t in 1:5], s[t] == s[t-1] + (H[t] - a[t])) # ??\n",
    "@constraint(m, start_carryover, s[0] == 0)\n",
    "\n",
    "@constraint(m, max_retire, sum(y) <= 8)\n",
    "@constraint(m, max_worker_hrs[t in 1:6], a[t] * 160 <= H[t])\n",
    "@constraint(m, max_carryover, sum(s) <= 400)\n",
    "@constraint(m, hrs_req[t in 1:6], a[t] * z[t] + s[t-1] <= H[t]) # ??\n",
    "@constraint(m, tot_hrs_meet, sum(a[t] * z[t] for t in 1:6) + sum(s[i] for i in 1:5) == sum(H))"
   ]
  },
  {
   "cell_type": "code",
   "execution_count": 18,
   "id": "f4e6e248",
   "metadata": {},
   "outputs": [
    {
     "ename": "LoadError",
     "evalue": "MathOptInterface.UnsupportedConstraint{MathOptInterface.ScalarQuadraticFunction{Float64}, MathOptInterface.EqualTo{Float64}}: `MathOptInterface.ScalarQuadraticFunction{Float64}`-in-`MathOptInterface.EqualTo{Float64}` constraint is not supported by the model.",
     "output_type": "error",
     "traceback": [
      "MathOptInterface.UnsupportedConstraint{MathOptInterface.ScalarQuadraticFunction{Float64}, MathOptInterface.EqualTo{Float64}}: `MathOptInterface.ScalarQuadraticFunction{Float64}`-in-`MathOptInterface.EqualTo{Float64}` constraint is not supported by the model.",
      "",
      "Stacktrace:",
      "  [1] bridge_type(b::MathOptInterface.Bridges.LazyBridgeOptimizer{MathOptInterface.Utilities.CachingOptimizer{Cbc.Optimizer, MathOptInterface.Utilities.UniversalFallback{MathOptInterface.Utilities.Model{Float64}}}}, F::Type{MathOptInterface.ScalarQuadraticFunction{Float64}}, S::Type{MathOptInterface.EqualTo{Float64}})",
      "    @ MathOptInterface.Bridges C:\\Users\\peren\\.julia\\packages\\MathOptInterface\\QxT5e\\src\\Bridges\\lazy_bridge_optimizer.jl:441",
      "  [2] concrete_bridge_type(b::MathOptInterface.Bridges.LazyBridgeOptimizer{MathOptInterface.Utilities.CachingOptimizer{Cbc.Optimizer, MathOptInterface.Utilities.UniversalFallback{MathOptInterface.Utilities.Model{Float64}}}}, F::Type{MathOptInterface.ScalarQuadraticFunction{Float64}}, S::Type{MathOptInterface.EqualTo{Float64}})",
      "    @ MathOptInterface.Bridges.Constraint C:\\Users\\peren\\.julia\\packages\\MathOptInterface\\QxT5e\\src\\Bridges\\Constraint\\bridge.jl:145",
      "  [3] add_constraint(b::MathOptInterface.Bridges.LazyBridgeOptimizer{MathOptInterface.Utilities.CachingOptimizer{Cbc.Optimizer, MathOptInterface.Utilities.UniversalFallback{MathOptInterface.Utilities.Model{Float64}}}}, f::MathOptInterface.ScalarQuadraticFunction{Float64}, s::MathOptInterface.EqualTo{Float64})",
      "    @ MathOptInterface.Bridges C:\\Users\\peren\\.julia\\packages\\MathOptInterface\\QxT5e\\src\\Bridges\\bridge_optimizer.jl:1541",
      "  [4] _copy_constraints(dest::MathOptInterface.Bridges.LazyBridgeOptimizer{MathOptInterface.Utilities.CachingOptimizer{Cbc.Optimizer, MathOptInterface.Utilities.UniversalFallback{MathOptInterface.Utilities.Model{Float64}}}}, src::MathOptInterface.Utilities.UniversalFallback{MathOptInterface.Utilities.Model{Float64}}, index_map::MathOptInterface.Utilities.IndexMap, cis_src::Vector{MathOptInterface.ConstraintIndex{MathOptInterface.ScalarQuadraticFunction{Float64}, MathOptInterface.EqualTo{Float64}}})",
      "    @ MathOptInterface.Utilities C:\\Users\\peren\\.julia\\packages\\MathOptInterface\\QxT5e\\src\\Utilities\\copy.jl:248",
      "  [5] pass_nonvariable_constraints_fallback(dest::MathOptInterface.Bridges.LazyBridgeOptimizer{MathOptInterface.Utilities.CachingOptimizer{Cbc.Optimizer, MathOptInterface.Utilities.UniversalFallback{MathOptInterface.Utilities.Model{Float64}}}}, src::MathOptInterface.Utilities.UniversalFallback{MathOptInterface.Utilities.Model{Float64}}, index_map::MathOptInterface.Utilities.IndexMap, constraint_types::Vector{Any})",
      "    @ MathOptInterface.Utilities C:\\Users\\peren\\.julia\\packages\\MathOptInterface\\QxT5e\\src\\Utilities\\copy.jl:261",
      "  [6] pass_nonvariable_constraints(dest::MathOptInterface.Bridges.LazyBridgeOptimizer{MathOptInterface.Utilities.CachingOptimizer{Cbc.Optimizer, MathOptInterface.Utilities.UniversalFallback{MathOptInterface.Utilities.Model{Float64}}}}, src::MathOptInterface.Utilities.UniversalFallback{MathOptInterface.Utilities.Model{Float64}}, idxmap::MathOptInterface.Utilities.IndexMap, constraint_types::Vector{Any})",
      "    @ MathOptInterface.Bridges C:\\Users\\peren\\.julia\\packages\\MathOptInterface\\QxT5e\\src\\Bridges\\bridge_optimizer.jl:412",
      "  [7] _pass_constraints(dest::MathOptInterface.Bridges.LazyBridgeOptimizer{MathOptInterface.Utilities.CachingOptimizer{Cbc.Optimizer, MathOptInterface.Utilities.UniversalFallback{MathOptInterface.Utilities.Model{Float64}}}}, src::MathOptInterface.Utilities.UniversalFallback{MathOptInterface.Utilities.Model{Float64}}, index_map::MathOptInterface.Utilities.IndexMap, variable_constraints_not_added::Vector{Any})",
      "    @ MathOptInterface.Utilities C:\\Users\\peren\\.julia\\packages\\MathOptInterface\\QxT5e\\src\\Utilities\\copy.jl:309",
      "  [8] default_copy_to(dest::MathOptInterface.Bridges.LazyBridgeOptimizer{MathOptInterface.Utilities.CachingOptimizer{Cbc.Optimizer, MathOptInterface.Utilities.UniversalFallback{MathOptInterface.Utilities.Model{Float64}}}}, src::MathOptInterface.Utilities.UniversalFallback{MathOptInterface.Utilities.Model{Float64}})",
      "    @ MathOptInterface.Utilities C:\\Users\\peren\\.julia\\packages\\MathOptInterface\\QxT5e\\src\\Utilities\\copy.jl:498",
      "  [9] #copy_to#7",
      "    @ C:\\Users\\peren\\.julia\\packages\\MathOptInterface\\QxT5e\\src\\Bridges\\bridge_optimizer.jl:421 [inlined]",
      " [10] copy_to",
      "    @ C:\\Users\\peren\\.julia\\packages\\MathOptInterface\\QxT5e\\src\\Bridges\\bridge_optimizer.jl:421 [inlined]",
      " [11] optimize!",
      "    @ C:\\Users\\peren\\.julia\\packages\\MathOptInterface\\QxT5e\\src\\MathOptInterface.jl:80 [inlined]",
      " [12] optimize!(m::MathOptInterface.Utilities.CachingOptimizer{MathOptInterface.Bridges.LazyBridgeOptimizer{MathOptInterface.Utilities.CachingOptimizer{Cbc.Optimizer, MathOptInterface.Utilities.UniversalFallback{MathOptInterface.Utilities.Model{Float64}}}}, MathOptInterface.Utilities.UniversalFallback{MathOptInterface.Utilities.Model{Float64}}})",
      "    @ MathOptInterface.Utilities C:\\Users\\peren\\.julia\\packages\\MathOptInterface\\QxT5e\\src\\Utilities\\cachingoptimizer.jl:285",
      " [13] optimize!(model::Model, optimizer_factory::Nothing; bridge_constraints::Bool, ignore_optimize_hook::Bool, kwargs::Base.Pairs{Symbol, Union{}, Tuple{}, NamedTuple{(), Tuple{}}})",
      "    @ JuMP C:\\Users\\peren\\.julia\\packages\\JuMP\\lnUbA\\src\\optimizer_interface.jl:195",
      " [14] optimize! (repeats 2 times)",
      "    @ C:\\Users\\peren\\.julia\\packages\\JuMP\\lnUbA\\src\\optimizer_interface.jl:167 [inlined]",
      " [15] top-level scope",
      "    @ In[18]:3",
      " [16] eval",
      "    @ .\\boot.jl:373 [inlined]",
      " [17] include_string(mapexpr::typeof(REPL.softscope), mod::Module, code::String, filename::String)",
      "    @ Base .\\loading.jl:1196"
     ]
    }
   ],
   "source": [
    "set_optimizer(m, Cbc.Optimizer)\n",
    "\n",
    "optimize!(m)\n",
    "\n",
    "solution_summary(m, verbose=true)"
   ]
  },
  {
   "cell_type": "code",
   "execution_count": null,
   "id": "69544eda",
   "metadata": {},
   "outputs": [],
   "source": []
  }
 ],
 "metadata": {
  "kernelspec": {
   "display_name": "Julia 1.7.1",
   "language": "julia",
   "name": "julia-1.7"
  },
  "language_info": {
   "file_extension": ".jl",
   "mimetype": "application/julia",
   "name": "julia",
   "version": "1.7.1"
  }
 },
 "nbformat": 4,
 "nbformat_minor": 5
}
