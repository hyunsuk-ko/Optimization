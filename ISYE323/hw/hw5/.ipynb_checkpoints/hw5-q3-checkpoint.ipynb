{
 "cells": [
  {
   "cell_type": "code",
   "execution_count": 43,
   "id": "2b8da1d4",
   "metadata": {},
   "outputs": [
    {
     "name": "stdout",
     "output_type": "stream",
     "text": [
      "On week 0, we buy from roaster 5.\n",
      "On week 1, we buy from roaster 2.\n",
      "On week 2, we buy from roaster 3.\n",
      "On week 3, we buy from roaster 1.\n",
      "On week 4, we buy from roaster 6.\n",
      "On week 5, we buy from roaster 4.\n",
      "==>Maximum amount of enjoyment: 3665.0\n",
      "\n",
      "Presolve 12 (0) rows, 36 (0) columns and 72 (0) elements\n",
      "0  Obj -0 Primal inf 11.999999 (12) Dual inf 20060 (28)\n",
      "17  Obj 3665\n",
      "Optimal - objective value 3665\n",
      "Optimal objective 3665 - 17 iterations time 0.002\n"
     ]
    }
   ],
   "source": [
    "using NamedArrays\n",
    "\n",
    "roaster = 1:6\n",
    "T = 0:5\n",
    "coef = [:a, :b, :c]\n",
    "P = NamedArray([600 672 748 828 912 1000; 0 18 42 72 108 150; 0 25 60 105 160 225; 1100 1218 1342 1472 1608 1750; -150 -154 -156 -156 -154 -150; 675 784 901 1026 1159 1300], (roaster, T), (\"Roaster\", \"Time\"))\n",
    "\n",
    "using JuMP, Cbc\n",
    "\n",
    "m = Model()\n",
    "\n",
    "@variable(m, x[roaster, T] >= 0) \n",
    "\n",
    "@objective(m, Max, sum(x[i,j] * P[i,j+1] for j in T for i in roaster))\n",
    "\n",
    "@constraint(m, purchase_one[i in roaster], sum(x[i,j] for j in T) == 1)\n",
    "@constraint(m, roaster_one[j in T], sum(x[i,j] for i in roaster) == 1)\n",
    "\n",
    "set_optimizer(m, Cbc.Optimizer)\n",
    "\n",
    "optimize!(m)\n",
    "\n",
    "##solution_summary(m, verbose=true)\n",
    "for j in T\n",
    "    for i in roaster\n",
    "        if value(x[i,j]) == 1\n",
    "            print(\"On week \", j, \", we buy from roaster \", i, \".\")\n",
    "            println()\n",
    "        end\n",
    "    end\n",
    "end\n",
    "println(\"==>Maximum amount of enjoyment: \", objective_value(m))\n",
    "println()"
   ]
  },
  {
   "cell_type": "code",
   "execution_count": null,
   "id": "a9475a70",
   "metadata": {},
   "outputs": [],
   "source": []
  }
 ],
 "metadata": {
  "kernelspec": {
   "display_name": "Julia 1.7.1",
   "language": "julia",
   "name": "julia-1.7"
  },
  "language_info": {
   "file_extension": ".jl",
   "mimetype": "application/julia",
   "name": "julia",
   "version": "1.7.1"
  }
 },
 "nbformat": 4,
 "nbformat_minor": 5
}
