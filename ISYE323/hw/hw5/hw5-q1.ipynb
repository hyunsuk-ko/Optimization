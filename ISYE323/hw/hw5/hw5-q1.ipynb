{
 "cells": [
  {
   "cell_type": "code",
   "execution_count": 2,
   "id": "f210f027",
   "metadata": {},
   "outputs": [
    {
     "name": "stdout",
     "output_type": "stream",
     "text": [
      "Buying & Pasteurizing milk: 92.10526315789473\n",
      "\n",
      "Using method1:26.3157894736842\n",
      "Using method2:65.78947368421052\n",
      "\n",
      "Specialty method:181.57894736842107\n",
      "\n",
      "Selling small blocks:499.99999999999994\n",
      "Selling small wheels:250.0\n",
      "Selling small waste material:1242.1052631578937\n",
      "Selling small specialty spread:181.57894736842107\n",
      "\n",
      "Optimal Profit:5684.210526315788\n",
      "\n",
      "Presolve 4 (-6) rows, 6 (-2) columns and 13 (-10) elements\n",
      "0  Obj -0 Dual inf 153.66666 (4)\n",
      "5  Obj 5684.2105\n",
      "Optimal - objective value 5684.2105\n",
      "After Postsolve, objective 5684.2105, infeasibilities - dual 0 (0), primal 0 (0)\n",
      "Optimal objective 5684.210526 - 5 iterations time 0.002, Presolve 0.00\n"
     ]
    }
   ],
   "source": [
    "using JuMP, Cbc\n",
    "\n",
    "m = Model()\n",
    "\n",
    "@variable(m, z >= 0) # buy  & pasteurize milk\n",
    "@variable(m, y[1:2] >= 0) # method 1, 2\n",
    "@variable(m, s >= 0) # specialty spread\n",
    "@variable(m, x[1:4] >= 0) # x1 = sell small / x2 = sell wheel / x3 = sell waste / x4 = sell specialty\n",
    "\n",
    "@objective(m, Max, (3x[1] + 10x[2] + x[3] + 20x[4]) - 25z - 3y[1] - 4y[2] - 3s)\n",
    "\n",
    "@constraint(m, small_block_balance, 9y[1] + 4y[2] == x[1])\n",
    "@constraint(m, wheel_balance, 2y[1] + 3y[2] == x[2])\n",
    "@constraint(m, waste_balance, 30y[1] + 40y[2] == 12s + x[3])\n",
    "@constraint(m, specialty_balance, s == x[4])\n",
    "@constraint(m, pasteurized_milk_balance, z == y[1] + y[2])\n",
    "\n",
    "@constraint(m, labor_limit, 0.5z + 1.2y[1] + 2y[2] + 0.5s <= 300)\n",
    "\n",
    "@constraint(m, max_sell_sb, x[1] <= 500)\n",
    "@constraint(m, max_sell_wh, x[2] <= 250)\n",
    "@constraint(m, max_sell_wm, x[3] <= 3000)\n",
    "@constraint(m, max_sell_ss, x[4] <= 400)\n",
    "\n",
    "\n",
    "set_optimizer(m, Cbc.Optimizer)\n",
    "\n",
    "optimize!(m)\n",
    "\n",
    "println(\"Buying & Pasteurizing milk: \", value(z))\n",
    "println()\n",
    "for i in 1:2\n",
    "    println(\"Using method\", i, \":\", value(y[i]))\n",
    "end\n",
    "println()\n",
    "println(\"Specialty method:\", value(s))\n",
    "println()\n",
    "println(\"Selling small blocks:\", value(x[1]))\n",
    "println(\"Selling small wheels:\", value(x[2]))\n",
    "println(\"Selling small waste material:\", value(x[3]))\n",
    "println(\"Selling small specialty spread:\", value(x[4]))\n",
    "println()\n",
    "println(\"Optimal Profit:\", objective_value(m))\n",
    "println()"
   ]
  },
  {
   "cell_type": "code",
   "execution_count": null,
   "id": "456c03fc",
   "metadata": {},
   "outputs": [],
   "source": []
  }
 ],
 "metadata": {
  "kernelspec": {
   "display_name": "Julia 1.7.1",
   "language": "julia",
   "name": "julia-1.7"
  },
  "language_info": {
   "file_extension": ".jl",
   "mimetype": "application/julia",
   "name": "julia",
   "version": "1.7.1"
  }
 },
 "nbformat": 4,
 "nbformat_minor": 5
}
