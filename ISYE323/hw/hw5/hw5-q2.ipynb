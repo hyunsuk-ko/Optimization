{
 "cells": [
  {
   "cell_type": "code",
   "execution_count": 43,
   "id": "b79833d9",
   "metadata": {},
   "outputs": [
    {
     "name": "stdout",
     "output_type": "stream",
     "text": [
      "Presolve 2 (-10) rows, 5 (-10) columns and 10 (-15) elements\n",
      "0  Obj 4282.5 Primal inf 800 (1) Dual inf 0.549998 (2)\n",
      "1  Obj 4537.5 Primal inf 800 (1)\n",
      "Primal infeasible - objective value 4537.5\n",
      "Presolved problem not optimal, resolve after postsolve\n",
      "After Postsolve, objective 4537.5, infeasibilities - dual 0 (0), primal 800 (1)\n",
      "PrimalInfeasible objective 4537.5 - 1 iterations time 0.002, Presolve 0.00\n"
     ]
    },
    {
     "ename": "LoadError",
     "evalue": "MethodError: \u001b[0mCannot `convert` an object of type \u001b[92mMissing\u001b[39m\u001b[0m to an object of type \u001b[91mFloat64\u001b[39m\n\u001b[0mClosest candidates are:\n\u001b[0m  convert(::Type{T}, \u001b[91m::T\u001b[39m) where T<:Number at C:\\Users\\peren\\AppData\\Local\\Programs\\Julia-1.7.1\\share\\julia\\base\\number.jl:6\n\u001b[0m  convert(::Type{T}, \u001b[91m::Number\u001b[39m) where T<:Number at C:\\Users\\peren\\AppData\\Local\\Programs\\Julia-1.7.1\\share\\julia\\base\\number.jl:7\n\u001b[0m  convert(::Type{T}, \u001b[91m::Base.TwicePrecision\u001b[39m) where T<:Number at C:\\Users\\peren\\AppData\\Local\\Programs\\Julia-1.7.1\\share\\julia\\base\\twiceprecision.jl:262\n\u001b[0m  ...",
     "output_type": "error",
     "traceback": [
      "MethodError: \u001b[0mCannot `convert` an object of type \u001b[92mMissing\u001b[39m\u001b[0m to an object of type \u001b[91mFloat64\u001b[39m\n\u001b[0mClosest candidates are:\n\u001b[0m  convert(::Type{T}, \u001b[91m::T\u001b[39m) where T<:Number at C:\\Users\\peren\\AppData\\Local\\Programs\\Julia-1.7.1\\share\\julia\\base\\number.jl:6\n\u001b[0m  convert(::Type{T}, \u001b[91m::Number\u001b[39m) where T<:Number at C:\\Users\\peren\\AppData\\Local\\Programs\\Julia-1.7.1\\share\\julia\\base\\number.jl:7\n\u001b[0m  convert(::Type{T}, \u001b[91m::Base.TwicePrecision\u001b[39m) where T<:Number at C:\\Users\\peren\\AppData\\Local\\Programs\\Julia-1.7.1\\share\\julia\\base\\twiceprecision.jl:262\n\u001b[0m  ...",
      "",
      "Stacktrace:",
      " [1] JuMP._SolutionSummary(verbose::Bool, solver::String, termination_status::MathOptInterface.TerminationStatusCode, primal_status::MathOptInterface.ResultStatusCode, dual_status::MathOptInterface.ResultStatusCode, raw_status::String, result_count::Int64, has_values::Bool, has_duals::Bool, objective_value::Missing, objective_bound::Missing, dual_objective_value::Missing, primal_solution::Dict{String, Float64}, dual_solution::Dict{String, Float64}, solve_time::Float64, barrier_iterations::Missing, simplex_iterations::Missing, node_count::Missing)",
      "   @ JuMP C:\\Users\\peren\\.julia\\packages\\JuMP\\lnUbA\\src\\solution_summary.jl:9",
      " [2] solution_summary(model::Model; verbose::Bool)",
      "   @ JuMP C:\\Users\\peren\\.julia\\packages\\JuMP\\lnUbA\\src\\solution_summary.jl:57",
      " [3] top-level scope",
      "   @ In[43]:37",
      " [4] eval",
      "   @ .\\boot.jl:373 [inlined]",
      " [5] include_string(mapexpr::typeof(REPL.softscope), mod::Module, code::String, filename::String)",
      "   @ Base .\\loading.jl:1196"
     ]
    }
   ],
   "source": [
    "nodes= [:P, :W, :C, :R, :O, :F, :M]\n",
    "supply = [:P, :W]\n",
    "plant = [:C, :R]\n",
    "city = [:O, :F, :M]\n",
    "arcs=[(:P,:C), (:P,:R), (:W,:C), (:W,:R), \n",
    "      (:C,:O), (:C,:F), (:C,:M), \n",
    "      (:R,:O), (:R,:F), (:R,:M)]\n",
    "\n",
    "R = Dict(zip(city, [3.5, 2.5, 2.85]))\n",
    "B = Dict(zip(nodes, [400, 650, 0, 0, -550, -600, -700]))\n",
    "C = Dict(zip(arcs, [0.35, 0.5, 0.3, 0.3, 0.6, 0.5, 0.25, 0.25, 0.25, 0.65]))\n",
    "P = Dict(zip(plant, [0.25, 0.3]))\n",
    "H = Dict(zip(plant, [900, 500]))\n",
    "M = Dict(zip(city, [550, 600, 700]))\n",
    "\n",
    "using JuMP, Cbc\n",
    "\n",
    "m = Model()\n",
    "\n",
    "@variable(m, x[arcs] >= 0) # amount of transported from node i to j\n",
    "@variable(m, y[plant] >= 0) # amount of processed at plant \n",
    "@variable(m, z[city] >= 0) # amount of milk sold at city\n",
    "\n",
    "@objective(m, Max, sum(R[i] * z[i] for i in city) - sum(C[i] * x[i] for i in arcs) - sum(P[i] * y[i] for i in plant))\n",
    "\n",
    "@constraint(m, flowbalance[i in nodes], \n",
    "sum(x[(i,j)] for j in nodes if (i,j) in arcs) - sum(x[(j,i)] for j in nodes if (j,i) in arcs) == B[i])\n",
    "\n",
    "@constraint(m, max_process[i in plant], y[i] <= H[i])\n",
    "\n",
    "@constraint(m, max_sold[i in city], z[i] <= M[i])\n",
    "\n",
    "set_optimizer(m, Cbc.Optimizer)\n",
    "\n",
    "optimize!(m)\n",
    "\n",
    "solution_summary(m, verbose=true)"
   ]
  },
  {
   "cell_type": "code",
   "execution_count": 18,
   "id": "ec3d1add",
   "metadata": {},
   "outputs": [
    {
     "name": "stdout",
     "output_type": "stream",
     "text": [
      "Presolve thinks problem is unbounded\n",
      "Analysis indicates model infeasible or unbounded\n",
      "0  Obj -0 Primal inf 1850 (3) Dual inf 8.8499997 (3)\n",
      "7  Obj 8.8499999e+10 Primal inf 1300 (3)\n",
      "8  Obj 8.8499999e+10 Primal inf 1250 (2)\n",
      "8  Obj 8.8499999e+10 Primal inf 1250 (2)\n",
      "8  Obj 8.8499999e+10 Primal inf 1250 (2)\n",
      "8  Obj 4.425e+11 Primal inf 1250 (2)\n",
      "8  Obj 2.2125e+12 Primal inf 1250 (2)\n",
      "8  Obj 1.10625e+13 Primal inf 1250 (2)\n",
      "8  Obj 5.53125e+13 Primal inf 1250 (2)\n",
      "8  Obj -1245 Primal inf 1250 (2) Dual inf 8.8499997 (3)\n",
      "8  Obj -1245 Primal inf 1250 (2) Dual inf 8.8499997 (3)\n",
      "8  Obj -1245 Primal inf 1250 (2) Dual inf 8.8499997 (3)\n",
      "8  Obj -1245 Primal inf 1250 (2) Dual inf 8.8499997 (3)\n",
      "8  Obj -1245 Primal inf 1250 (2) Dual inf 8.8499997 (3)\n",
      "8  Obj -1245 Primal inf 1250 (2) Dual inf 8.8499997 (3)\n",
      "8  Obj -1245 Primal inf 1250 (2) Dual inf 8.8499997 (3)\n",
      "8  Obj -1245 Primal inf 1250 (2) Dual inf 8.8499997 (3)\n",
      "8  Obj -1245 Primal inf 1250 (2) Dual inf 8.8499997 (3)\n",
      "8  Obj -1245 Primal inf 1250 (2) Dual inf 9.5999996 (4)\n",
      "8  Obj -1245 Primal inf 1250 (2) Dual inf 8.8499997 (3)\n",
      "8  Obj -1245 Primal inf 1250 (2) Dual inf 8.8499997 (3)\n",
      "8  Obj -1245 Primal inf 1250 (2) Dual inf 8.8499997 (3)\n",
      "8  Obj -1245 Primal inf 1250 (2) Dual inf 8.8499997 (3)\n",
      "Primal infeasible - objective value -1245\n",
      "PrimalInfeasible objective -1245 - 8 iterations time 0.002\n"
     ]
    },
    {
     "ename": "LoadError",
     "evalue": "MethodError: \u001b[0mCannot `convert` an object of type \u001b[92mMissing\u001b[39m\u001b[0m to an object of type \u001b[91mFloat64\u001b[39m\n\u001b[0mClosest candidates are:\n\u001b[0m  convert(::Type{T}, \u001b[91m::T\u001b[39m) where T<:Number at C:\\Users\\peren\\AppData\\Local\\Programs\\Julia-1.7.1\\share\\julia\\base\\number.jl:6\n\u001b[0m  convert(::Type{T}, \u001b[91m::Number\u001b[39m) where T<:Number at C:\\Users\\peren\\AppData\\Local\\Programs\\Julia-1.7.1\\share\\julia\\base\\number.jl:7\n\u001b[0m  convert(::Type{T}, \u001b[91m::Base.TwicePrecision\u001b[39m) where T<:Number at C:\\Users\\peren\\AppData\\Local\\Programs\\Julia-1.7.1\\share\\julia\\base\\twiceprecision.jl:262\n\u001b[0m  ...",
     "output_type": "error",
     "traceback": [
      "MethodError: \u001b[0mCannot `convert` an object of type \u001b[92mMissing\u001b[39m\u001b[0m to an object of type \u001b[91mFloat64\u001b[39m\n\u001b[0mClosest candidates are:\n\u001b[0m  convert(::Type{T}, \u001b[91m::T\u001b[39m) where T<:Number at C:\\Users\\peren\\AppData\\Local\\Programs\\Julia-1.7.1\\share\\julia\\base\\number.jl:6\n\u001b[0m  convert(::Type{T}, \u001b[91m::Number\u001b[39m) where T<:Number at C:\\Users\\peren\\AppData\\Local\\Programs\\Julia-1.7.1\\share\\julia\\base\\number.jl:7\n\u001b[0m  convert(::Type{T}, \u001b[91m::Base.TwicePrecision\u001b[39m) where T<:Number at C:\\Users\\peren\\AppData\\Local\\Programs\\Julia-1.7.1\\share\\julia\\base\\twiceprecision.jl:262\n\u001b[0m  ...",
      "",
      "Stacktrace:",
      " [1] JuMP._SolutionSummary(verbose::Bool, solver::String, termination_status::MathOptInterface.TerminationStatusCode, primal_status::MathOptInterface.ResultStatusCode, dual_status::MathOptInterface.ResultStatusCode, raw_status::String, result_count::Int64, has_values::Bool, has_duals::Bool, objective_value::Missing, objective_bound::Missing, dual_objective_value::Missing, primal_solution::Dict{String, Float64}, dual_solution::Dict{String, Float64}, solve_time::Float64, barrier_iterations::Missing, simplex_iterations::Missing, node_count::Missing)",
      "   @ JuMP C:\\Users\\peren\\.julia\\packages\\JuMP\\lnUbA\\src\\solution_summary.jl:9",
      " [2] solution_summary(model::Model; verbose::Bool)",
      "   @ JuMP C:\\Users\\peren\\.julia\\packages\\JuMP\\lnUbA\\src\\solution_summary.jl:57",
      " [3] top-level scope",
      "   @ In[18]:29",
      " [4] eval",
      "   @ .\\boot.jl:373 [inlined]",
      " [5] include_string(mapexpr::typeof(REPL.softscope), mod::Module, code::String, filename::String)",
      "   @ Base .\\loading.jl:1196"
     ]
    }
   ],
   "source": [
    "using JuMP, Cbc\n",
    "\n",
    "m = Model()\n",
    "\n",
    "@variable(m, yo >= 0)\n",
    "@variable(m, yf >= 0)\n",
    "@variable(m, ym >= 0)\n",
    "@variable(m, x[arcs] >= 0)\n",
    "\n",
    "@objective(m, Max, 3.5yo + 2.5yf + 2.85ym - (0.35x[(:P, :C)] + 0.5x[(:P, :R)] + 0.3x[(:W, :C)] + 0.3x[(:W, :R)] +\n",
    "        0.6x[(:C, :O)] + 0.5x[(:C, :F)] + 0.25x[(:C, :M)] + 0.25x[(:R, :O)] + 0.25x[(:R, :F)] + 0.65x[(:R, :M)] ))\n",
    "\n",
    "@constraint(m, limit_P, x[(:P,:C)] + x[(:P,:R)] <= 400)\n",
    "@constraint(m, limit_W, x[(:W,:C)] + x[(:W,:R)] <= 650)\n",
    "@constraint(m, balance_C, -x[(:P,:C)] - x[(:W,:C)] + x[(:C,:O)] + x[(:C,:F)] + x[(:C,:M)] == 0)\n",
    "@constraint(m, balance_R, -x[(:P,:R)] - x[(:W,:R)] + x[(:R,:O)] + x[(:R,:F)] + x[(:R,:M)] == 0)\n",
    "@constraint(m, limit_C, x[(:C,:O)] + x[(:C,:F)] + x[(:C,:M)] <= 900)\n",
    "@constraint(m, limit_R, x[(:R,:O)] + x[(:R,:F)] + x[(:R,:M)] <= 500)\n",
    "@constraint(m, limit_O, -x[(:C,:O)] - x[(:R,:O)] <= -550)\n",
    "@constraint(m, limit_F, -x[(:C,:F)] - x[(:R,:F)] <= -600)\n",
    "@constraint(m, limit_M, -x[(:C,:M)] - x[(:R,:M)] <= -700)\n",
    "@constraint(m, balance_all, x[(:P,:C)] + x[(:P,:R)] + x[(:W,:C)] + x[(:W,:R)] -x[(:C,:O)] - x[(:R,:O)] -x[(:C,:F)] - x[(:R,:F)]\n",
    "-x[(:C,:M)] - x[(:R,:M)] == 0)\n",
    "\n",
    "set_optimizer(m, Cbc.Optimizer)\n",
    "\n",
    "optimize!(m)\n",
    "\n",
    "solution_summary(m, verbose=true)"
   ]
  },
  {
   "cell_type": "code",
   "execution_count": null,
   "id": "0de4af58",
   "metadata": {},
   "outputs": [],
   "source": []
  }
 ],
 "metadata": {
  "kernelspec": {
   "display_name": "Julia 1.7.1",
   "language": "julia",
   "name": "julia-1.7"
  },
  "language_info": {
   "file_extension": ".jl",
   "mimetype": "application/julia",
   "name": "julia",
   "version": "1.7.1"
  }
 },
 "nbformat": 4,
 "nbformat_minor": 5
}
