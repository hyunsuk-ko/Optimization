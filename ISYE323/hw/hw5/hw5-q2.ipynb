{
 "cells": [
  {
   "cell_type": "code",
   "execution_count": 11,
   "id": "b79833d9",
   "metadata": {},
   "outputs": [
    {
     "name": "stdout",
     "output_type": "stream",
     "text": [
      "Presolve 9 (0) rows, 10 (0) columns and 24 (0) elements\n",
      "0  Obj -0 Dual inf 15.199999 (6)\n",
      "12  Obj 2735\n",
      "Optimal - objective value 2735\n",
      "Optimal objective 2735 - 12 iterations time 0.002\n"
     ]
    },
    {
     "data": {
      "text/plain": [
       "* Solver : COIN Branch-and-Cut (Cbc)\n",
       "\n",
       "* Status\n",
       "  Termination status : OPTIMAL\n",
       "  Primal status      : FEASIBLE_POINT\n",
       "  Dual status        : NO_SOLUTION\n",
       "  Result count       : 1\n",
       "  Has duals          : false\n",
       "  Message from the solver:\n",
       "  \"Cbc_status          = finished - check isProvenOptimal or isProvenInfeasible to see if solution found (or check value of best solution)\n",
       "Cbc_secondaryStatus = unset (status_ will also be -1)\n",
       "\"\n",
       "\n",
       "* Candidate solution\n",
       "  Objective value      : 2735.0\n",
       "  Objective bound      : 2735.0\n",
       "  Primal solution :\n",
       "    x[(:C, :F)] : 0.0\n",
       "    x[(:C, :M)] : 500.0\n",
       "    x[(:C, :O)] : 50.0\n",
       "    x[(:P, :C)] : 400.0\n",
       "    x[(:P, :R)] : 0.0\n",
       "    x[(:R, :F)] : 0.0\n",
       "    x[(:R, :M)] : 0.0\n",
       "    x[(:R, :O)] : 500.0\n",
       "    x[(:W, :C)] : 150.0\n",
       "    x[(:W, :R)] : 500.0\n",
       "\n",
       "* Work counters\n",
       "  Solve time (sec)   : 0.00100\n"
      ]
     },
     "execution_count": 11,
     "metadata": {},
     "output_type": "execute_result"
    }
   ],
   "source": [
    "nodes= [:P, :W, :C, :R, :O, :F, :M]\n",
    "supply = [:P, :W]\n",
    "plant = [:C, :R]\n",
    "city = [:O, :F, :M]\n",
    "arcs=[(:P,:C), (:P,:R), (:W,:C), (:W,:R), \n",
    "      (:C,:O), (:C,:F), (:C,:M), \n",
    "      (:R,:O), (:R,:F), (:R,:M)]\n",
    "\n",
    "R = Dict(zip(city, [3.5, 2.5, 2.85]))\n",
    "B = Dict(zip(nodes, [400, 650, 0, 0, -550, -600, -700]))\n",
    "C = Dict(zip(arcs, [0.35, 0.5, 0.3, 0.3, 0.6, 0.5, 0.25, 0.25, 0.25, 0.65]))\n",
    "P = Dict(zip(plant, [0.25, 0.3]))\n",
    "H = Dict(zip(plant, [900, 500]))\n",
    "M = Dict(zip(city, [550, 600, 700]))\n",
    "\n",
    "using JuMP, Cbc\n",
    "\n",
    "m = Model()\n",
    "\n",
    "@variable(m, x[arcs] >= 0)\n",
    "\n",
    "@objective(m, Max, 3.5(x[(:C, :O)] + x[(:R, :O)]) + 2.5(x[(:C, :F)] + x[(:R, :F)]) + 2.85(x[(:C, :M)] + x[(:R, :M)]) - sum(C[i] * x[i] for i in arcs))\n",
    "\n",
    "@constraint(m, limit_P, x[(:P,:C)] + x[(:P,:R)] <= 400)\n",
    "@constraint(m, limit_W, x[(:W,:C)] + x[(:W,:R)] <= 650)\n",
    "@constraint(m, balance_C, x[(:P,:C)] + x[(:W,:C)] - x[(:C,:O)] - x[(:C,:F)] - x[(:C,:M)] == 0)\n",
    "@constraint(m, balance_R, x[(:P,:R)] + x[(:W,:R)] - x[(:R,:O)] - x[(:R,:F)] - x[(:R,:M)] == 0)\n",
    "@constraint(m, limit_O, x[(:C,:O)] + x[(:R,:O)] <= 550)\n",
    "@constraint(m, limit_F, x[(:C,:F)] + x[(:R,:F)] <= 600)\n",
    "@constraint(m, limit_M, x[(:C,:M)] + x[(:R,:M)] <= 700)\n",
    "@constraint(m, limit_C, x[(:P,:C)] + x[(:W,:C)] <= 900)\n",
    "@constraint(m, limit_R, x[(:W,:R)] + x[(:P,:R)] <= 500)\n",
    "\n",
    "set_optimizer(m, Cbc.Optimizer)\n",
    "\n",
    "optimize!(m)\n",
    "\n",
    "solution_summary(m, verbose=true)"
   ]
  },
  {
   "cell_type": "code",
   "execution_count": null,
   "id": "0de4af58",
   "metadata": {},
   "outputs": [],
   "source": []
  }
 ],
 "metadata": {
  "kernelspec": {
   "display_name": "Julia 1.7.1",
   "language": "julia",
   "name": "julia-1.7"
  },
  "language_info": {
   "file_extension": ".jl",
   "mimetype": "application/julia",
   "name": "julia",
   "version": "1.7.1"
  }
 },
 "nbformat": 4,
 "nbformat_minor": 5
}
