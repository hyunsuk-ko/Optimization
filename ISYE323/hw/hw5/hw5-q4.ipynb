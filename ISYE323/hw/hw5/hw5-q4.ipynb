{
 "cells": [
  {
   "cell_type": "code",
   "execution_count": 4,
   "id": "2a67f640",
   "metadata": {},
   "outputs": [
    {
     "data": {
      "text/plain": [
       "Dict{Symbol, Int64} with 7 entries:\n",
       "  :WT => 0\n",
       "  :OF => 0\n",
       "  :A  => -1\n",
       "  :SS => 1\n",
       "  :IG => 0\n",
       "  :GD => 0\n",
       "  :RS => 0"
      ]
     },
     "execution_count": 4,
     "metadata": {},
     "output_type": "execute_result"
    }
   ],
   "source": [
    "nodes= [:SS, :GD, :OF, :RS, :IG, :WT, :A]\n",
    "arcs=[(:SS,:GD), (:SS,:OF), (:SS,:RS), (:GD,:OF), \n",
    "      (:GD,:IG), (:OF,:RS), (:OF,:IG), (:OF,:WT), \n",
    "      (:RS,:WT), (:IG,:WT), (:IG,:A), (:WT,:A)]\n",
    "cost = Dict(zip(arcs, [4, 6, 5, 1, 7, 2, 5.5, 4, 5, 1, 6, 8]))\n",
    "b = Dict(zip(nodes, [1, 0, 0, 0, 0, 0, -1]))"
   ]
  },
  {
   "cell_type": "code",
   "execution_count": 7,
   "id": "fdb28965",
   "metadata": {},
   "outputs": [
    {
     "name": "stdout",
     "output_type": "stream",
     "text": [
      "Mininum cost = 16.5\n",
      "flow on arc (:SS, :GD)= 1.0\n",
      "flow on arc (:SS, :OF)= 0.0\n",
      "flow on arc (:SS, :RS)= 0.0\n",
      "flow on arc (:GD, :OF)= 1.0\n",
      "flow on arc (:GD, :IG)= 0.0\n",
      "flow on arc (:OF, :RS)= 0.0\n",
      "flow on arc (:OF, :IG)= 1.0\n",
      "flow on arc (:OF, :WT)= 0.0\n",
      "flow on arc (:RS, :WT)= 0.0\n",
      "flow on arc (:IG, :WT)= 0.0\n",
      "flow on arc (:IG, :A)= 1.0\n",
      "flow on arc (:WT, :A)= 0.0\n",
      "Presolve 0 (-7) rows, 0 (-12) columns and 0 (-24) elements\n",
      "Optimal - objective value 16.5\n",
      "After Postsolve, objective 16.5, infeasibilities - dual 0 (0), primal 0 (0)\n",
      "Optimal objective 16.5 - 0 iterations time 0.002, Presolve 0.00\n"
     ]
    }
   ],
   "source": [
    "using JuMP, Cbc\n",
    "\n",
    "m = Model()\n",
    "\n",
    "@variable(m, x[arcs] >= 0)\n",
    "\n",
    "@objective(m, Min, sum(cost[i] * x[i] for i in arcs))\n",
    "\n",
    "@constraint(m, flowbalance[i in nodes],\n",
    "    sum(x[(i,j)] for j in nodes if (i,j) in arcs) - \n",
    "    sum(x[(j,i)] for j in nodes if (j,i) in arcs) \n",
    "    == b[i])\n",
    "\n",
    "set_optimizer(m, Cbc.Optimizer)\n",
    "optimize!(m)\n",
    "\n",
    "println(\"Mininum cost = \", round(objective_value(m),digits=1))\n",
    "for a in arcs\n",
    "    println(\"flow on arc \", a, \"= \", round(value(x[a]),digits=1))\n",
    "end"
   ]
  },
  {
   "cell_type": "code",
   "execution_count": null,
   "id": "f13d975d",
   "metadata": {},
   "outputs": [],
   "source": []
  }
 ],
 "metadata": {
  "kernelspec": {
   "display_name": "Julia 1.7.1",
   "language": "julia",
   "name": "julia-1.7"
  },
  "language_info": {
   "file_extension": ".jl",
   "mimetype": "application/julia",
   "name": "julia",
   "version": "1.7.1"
  }
 },
 "nbformat": 4,
 "nbformat_minor": 5
}
