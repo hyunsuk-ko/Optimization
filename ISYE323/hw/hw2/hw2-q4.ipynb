{
 "cells": [
  {
   "cell_type": "code",
   "execution_count": 1,
   "id": "28292284",
   "metadata": {},
   "outputs": [
    {
     "data": {
      "text/plain": [
       "7×5 Matrix{Int64}:\n",
       " 1  1  0  0  0\n",
       " 0  1  1  0  0\n",
       " 0  0  1  1  0\n",
       " 0  0  0  1  1\n",
       " 1  1  1  0  0\n",
       " 0  1  1  1  0\n",
       " 0  0  1  1  1"
      ]
     },
     "execution_count": 1,
     "metadata": {},
     "output_type": "execute_result"
    }
   ],
   "source": [
    "using JuMP, Cbc\n",
    "\n",
    "period = 1:5\n",
    "shift = 1:7\n",
    "c = [31, 31, 31, 31, 43, 43, 43]\n",
    "b = [3, 4, 5, 5, 4]\n",
    "\n",
    "a = [\n",
    "1 1 0 0 0\n",
    "0 1 1 0 0\n",
    "0 0 1 1 0\n",
    "0 0 0 1 1\n",
    "1 1 1 0 0\n",
    "0 1 1 1 0\n",
    "0 0 1 1 1\n",
    "]"
   ]
  },
  {
   "cell_type": "code",
   "execution_count": 7,
   "id": "ec00eff5",
   "metadata": {},
   "outputs": [
    {
     "name": "stdout",
     "output_type": "stream",
     "text": [
      "Presolve 5 (0) rows, 7 (0) columns and 17 (0) elements\n",
      "0  Obj 0 Primal inf 20.999999 (5)\n",
      "6  Obj 308\n",
      "Optimal - objective value 308\n",
      "Optimal objective 308 - 6 iterations time 0.012\n"
     ]
    },
    {
     "data": {
      "text/plain": [
       "* Solver : COIN Branch-and-Cut (Cbc)\n",
       "\n",
       "* Status\n",
       "  Termination status : OPTIMAL\n",
       "  Primal status      : FEASIBLE_POINT\n",
       "  Dual status        : NO_SOLUTION\n",
       "  Result count       : 1\n",
       "  Has duals          : false\n",
       "  Message from the solver:\n",
       "  \"Cbc_status          = finished - check isProvenOptimal or isProvenInfeasible to see if solution found (or check value of best solution)\n",
       "Cbc_secondaryStatus = unset (status_ will also be -1)\n",
       "\"\n",
       "\n",
       "* Candidate solution\n",
       "  Objective value      : 308.0\n",
       "  Objective bound      : 308.0\n",
       "  Primal solution :\n",
       "    x[1] : 0.0\n",
       "    x[2] : 0.0\n",
       "    x[3] : 0.0\n",
       "    x[4] : 3.0\n",
       "    y[1] : 3.0\n",
       "    y[2] : 1.0\n",
       "    y[3] : 1.0\n",
       "\n",
       "* Work counters\n",
       "  Solve time (sec)   : 0.00800\n"
      ]
     },
     "execution_count": 7,
     "metadata": {},
     "output_type": "execute_result"
    }
   ],
   "source": [
    "m = Model()\n",
    "\n",
    "@variable(m, x[1:4] >= 0)\n",
    "@variable(m, y[1:3] >= 0)\n",
    "\n",
    "@objective(m, Min, sum(c[j] * x[j] for j in 1:4) + sum(c[j+4] * y[j] for j in 1:3))\n",
    "\n",
    "@constraint(m, period_req[j in period], sum(a[i,j] * x[i] for i in 1:4) + sum(a[i+4,j] * y[i] for i in 1:3) >= b[j])\n",
    "\n",
    "set_optimizer(m, Cbc.Optimizer)\n",
    "\n",
    "optimize!(m)\n",
    "\n",
    "solution_summary(m, verbose=true)"
   ]
  },
  {
   "cell_type": "code",
   "execution_count": 8,
   "id": "31522e7b",
   "metadata": {},
   "outputs": [
    {
     "name": "stdout",
     "output_type": "stream",
     "text": [
      "Presolve 10 (0) rows, 7 (0) columns and 34 (0) elements\n",
      "0  Obj 0 Primal inf 20.999999 (5)\n",
      "9  Obj 324.5\n",
      "Optimal - objective value 324.5\n",
      "Optimal objective 324.5 - 9 iterations time 0.002\n"
     ]
    },
    {
     "data": {
      "text/plain": [
       "* Solver : COIN Branch-and-Cut (Cbc)\n",
       "\n",
       "* Status\n",
       "  Termination status : OPTIMAL\n",
       "  Primal status      : FEASIBLE_POINT\n",
       "  Dual status        : NO_SOLUTION\n",
       "  Result count       : 1\n",
       "  Has duals          : false\n",
       "  Message from the solver:\n",
       "  \"Cbc_status          = finished - check isProvenOptimal or isProvenInfeasible to see if solution found (or check value of best solution)\n",
       "Cbc_secondaryStatus = unset (status_ will also be -1)\n",
       "\"\n",
       "\n",
       "* Candidate solution\n",
       "  Objective value      : 324.5\n",
       "  Objective bound      : 324.5\n",
       "  Primal solution :\n",
       "    x[1] : 1.5\n",
       "    x[2] : 1.0\n",
       "    x[3] : 1.5\n",
       "    x[4] : 3.0\n",
       "    y[1] : 1.5\n",
       "    y[2] : 0.0\n",
       "    y[3] : 1.0\n",
       "\n",
       "* Work counters\n",
       "  Solve time (sec)   : 0.00300\n"
      ]
     },
     "execution_count": 8,
     "metadata": {},
     "output_type": "execute_result"
    }
   ],
   "source": [
    "m = Model()\n",
    "\n",
    "@variable(m, x[1:4] >= 0)\n",
    "@variable(m, y[1:3] >= 0)\n",
    "\n",
    "@objective(m, Min, sum(c[j] * x[j] for j in 1:4) + sum(c[j+4] * y[j] for j in 1:3))\n",
    "\n",
    "@constraint(m, period_req[j in period], sum(a[i,j] * x[i] for i in 1:4) + sum(a[i+4,j] * y[i] for i in 1:3) >= b[j])\n",
    "@constraint(m, turnover_req[j in period], sum(a[i,j] * x[i] for i in 1:4) >= sum(a[i+4,j] * y[i] for i in 1:3))\n",
    "\n",
    "set_optimizer(m, Cbc.Optimizer)\n",
    "\n",
    "optimize!(m)\n",
    "\n",
    "solution_summary(m, verbose=true)"
   ]
  },
  {
   "cell_type": "code",
   "execution_count": null,
   "id": "f875ed84",
   "metadata": {},
   "outputs": [],
   "source": []
  }
 ],
 "metadata": {
  "kernelspec": {
   "display_name": "Julia 1.7.1",
   "language": "julia",
   "name": "julia-1.7"
  },
  "language_info": {
   "file_extension": ".jl",
   "mimetype": "application/julia",
   "name": "julia",
   "version": "1.7.1"
  }
 },
 "nbformat": 4,
 "nbformat_minor": 5
}
