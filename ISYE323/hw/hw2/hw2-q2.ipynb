{
 "cells": [
  {
   "cell_type": "code",
   "execution_count": 1,
   "id": "3fc3d998",
   "metadata": {},
   "outputs": [
    {
     "data": {
      "text/plain": [
       "4×4 Named Matrix{Int64}\n",
       "supplier ╲ gnome_type │   :tiny   :small  :medium   :large\n",
       "──────────────────────┼───────────────────────────────────\n",
       ":s1                   │      20       30       10       40\n",
       ":s2                   │      25       15       10       50\n",
       ":s3                   │      30       10       20       20\n",
       ":s4                   │      35       25       10       25"
      ]
     },
     "execution_count": 1,
     "metadata": {},
     "output_type": "execute_result"
    }
   ],
   "source": [
    "gnome_types = [:tiny,:small,:medium,:large]\n",
    "suppliers = [:s1,:s2,:s3,:s4]\n",
    "\n",
    "cost_per_pallet = Dict(zip(suppliers,[450, 500, 300, 400]))\n",
    "gnome_demand = Dict(zip(gnome_types,[5000, 2000, 3000, 6000]))\n",
    "max_buy = 200\n",
    "    \n",
    "using NamedArrays\n",
    "gnome_percents = NamedArray([20 30 10 40; 25 15 10 50; 30 10 20 20; 35 25 10 25], (suppliers,gnome_types),(\"supplier\",\"gnome_type\"))"
   ]
  },
  {
   "cell_type": "code",
   "execution_count": 2,
   "id": "c27c12bc",
   "metadata": {},
   "outputs": [
    {
     "name": "stdout",
     "output_type": "stream",
     "text": [
      "optimal value of x[s1]: 0.0\n",
      "optimal value of x[s2]: 75.0\n",
      "optimal value of x[s3]: 112.5\n",
      "optimal value of x[s4]: 0.0\n",
      "optimal objective: 71250.0\n",
      "Presolve 4 (-4) rows, 4 (0) columns and 16 (-4) elements\n",
      "0  Obj 0 Primal inf 479.52381 (4)\n",
      "2  Obj 71250\n",
      "Optimal - objective value 71250\n",
      "After Postsolve, objective 71250, infeasibilities - dual 0 (0), primal 0 (0)\n",
      "Optimal objective 71250 - 2 iterations time 0.012, Presolve 0.01\n"
     ]
    }
   ],
   "source": [
    "using JuMP, Cbc\n",
    "\n",
    "m = Model()\n",
    "@variable(m, x[suppliers] >= 0)\n",
    "\n",
    "@objective(m, Min, sum(cost_per_pallet[j]x[j] for j in suppliers))\n",
    "\n",
    "@constraint(m, supply_req[i in suppliers], x[i] <= max_buy)\n",
    "@constraint(m, demand_req[i in gnome_types], sum(gnome_percents[j,i]x[j] for j in suppliers) >= gnome_demand[i])\n",
    "\n",
    "set_optimizer(m, Cbc.Optimizer)\n",
    "optimize!(m)\n",
    "\n",
    "# display the solution\n",
    "println(\"optimal value of x[s1]: \", value(x[:s1]))\n",
    "println(\"optimal value of x[s2]: \", value(x[:s2]))\n",
    "println(\"optimal value of x[s3]: \", value(x[:s3]))\n",
    "println(\"optimal value of x[s4]: \", value(x[:s4]))\n",
    "println(\"optimal objective: \", objective_value(m))"
   ]
  },
  {
   "cell_type": "code",
   "execution_count": null,
   "id": "d49d7096",
   "metadata": {},
   "outputs": [],
   "source": []
  }
 ],
 "metadata": {
  "kernelspec": {
   "display_name": "Julia 1.7.1",
   "language": "julia",
   "name": "julia-1.7"
  },
  "language_info": {
   "file_extension": ".jl",
   "mimetype": "application/julia",
   "name": "julia",
   "version": "1.7.1"
  }
 },
 "nbformat": 4,
 "nbformat_minor": 5
}
