{
 "cells": [
  {
   "cell_type": "markdown",
   "id": "5a4d3cee",
   "metadata": {},
   "source": [
    "## Laid-Out Model"
   ]
  },
  {
   "cell_type": "code",
   "execution_count": 1,
   "id": "ff9906c7",
   "metadata": {},
   "outputs": [
    {
     "name": "stdout",
     "output_type": "stream",
     "text": [
      "optimal value of x1: 100.0\n",
      "optimal value of x2: 46.153846153846146\n",
      "optimal value of x2: 46.15384615384616\n",
      "optimal objective: 86153.84615384616\n",
      "Presolve 3 (-3) rows, 3 (0) columns and 9 (-3) elements\n",
      "0  Obj 17261.109 Primal inf 244.05806 (3)\n",
      "3  Obj 86153.846\n",
      "Optimal - objective value 86153.846\n",
      "After Postsolve, objective 86153.846, infeasibilities - dual 0 (0), primal 0 (0)\n",
      "Optimal objective 86153.84615 - 3 iterations time 0.002, Presolve 0.00\n"
     ]
    }
   ],
   "source": [
    "using JuMP, Cbc\n",
    "\n",
    "m = Model()\n",
    "@variable(m, x1 >= 0) # number of pallets bought from supplier 1\n",
    "@variable(m, x2 >= 0) # number of pallets bought from supplier 2\n",
    "@variable(m, x3 >= 0) # number of pallets bought from supplier 3\n",
    "\n",
    "@objective(m, Min, 400x1 + 500x2 + 500x3)\n",
    "\n",
    "@constraint(m, large_req, 20x1 + 20x2 + 45x3 >= 5000)  # number of large gnomes bought for every 100 pallets purchase\n",
    "@constraint(m, medium_req, 30x1 + 40x2 + 25x3 >= 6000) # number of medium gnomes bought for every 100 pallets purchase\n",
    "@constraint(m, small_req, 50x1 + 40x2 + 30x3 >= 3000)  # number of small gnomes bought for every 100 pallets purchase\n",
    "@constraint(m, purchase_req_1, x1 <= 100)\n",
    "@constraint(m, purchase_req_2, x2 <= 100)\n",
    "@constraint(m, purchase_req_3, x3 <= 100)\n",
    "\n",
    "set_optimizer(m, Cbc.Optimizer)\n",
    "optimize!(m)\n",
    "\n",
    "# display the solution\n",
    "println(\"optimal value of x1: \", value(x1))\n",
    "println(\"optimal value of x2: \", value(x2))\n",
    "println(\"optimal value of x2: \", value(x3))\n",
    "println(\"optimal objective: \", objective_value(m))"
   ]
  },
  {
   "cell_type": "markdown",
   "id": "b7b91de9",
   "metadata": {},
   "source": [
    "## General Model"
   ]
  },
  {
   "cell_type": "code",
   "execution_count": 1,
   "id": "a3641604",
   "metadata": {},
   "outputs": [
    {
     "data": {
      "text/plain": [
       "3×3 Named Matrix{Int64}\n",
       "supplier ╲ mix │  :large  :medium   :small\n",
       "───────────────┼──────────────────────────\n",
       "1              │      20       30       50\n",
       "2              │      20       40       40\n",
       "3              │      45       25       30"
      ]
     },
     "execution_count": 1,
     "metadata": {},
     "output_type": "execute_result"
    }
   ],
   "source": [
    "using NamedArrays\n",
    "\n",
    "M = [:large, :medium, :small] # mix\n",
    "S = [1, 2, 3] # supplier\n",
    "c = Dict(zip(S, [400, 500, 500])) # cost per supply\n",
    "r = Dict(zip(M, [5000, 6000, 3000])) # gnome purchase req\n",
    "b = Dict(zip(S, [100, 100, 100])) # max purchase\n",
    "\n",
    "a = NamedArray([20 30 50; 20 40 40; 45 25 30], (S, M), (\"supplier\", \"mix\"))"
   ]
  },
  {
   "cell_type": "code",
   "execution_count": 8,
   "id": "df1ed26c",
   "metadata": {},
   "outputs": [
    {
     "name": "stdout",
     "output_type": "stream",
     "text": [
      "Presolve 3 (-3) rows, 3 (0) columns and 9 (-3) elements\n",
      "0  Obj 17261.109 Primal inf 244.05806 (3)\n",
      "3  Obj 86153.846\n",
      "Optimal - objective value 86153.846\n",
      "After Postsolve, objective 86153.846, infeasibilities - dual 0 (0), primal 0 (0)\n",
      "Optimal objective 86153.84615 - 3 iterations time 0.012, Presolve 0.00\n"
     ]
    },
    {
     "data": {
      "text/plain": [
       "* Solver : COIN Branch-and-Cut (Cbc)\n",
       "\n",
       "* Status\n",
       "  Termination status : OPTIMAL\n",
       "  Primal status      : FEASIBLE_POINT\n",
       "  Dual status        : NO_SOLUTION\n",
       "  Result count       : 1\n",
       "  Has duals          : false\n",
       "  Message from the solver:\n",
       "  \"Cbc_status          = finished - check isProvenOptimal or isProvenInfeasible to see if solution found (or check value of best solution)\n",
       "Cbc_secondaryStatus = unset (status_ will also be -1)\n",
       "\"\n",
       "\n",
       "* Candidate solution\n",
       "  Objective value      : 86153.84615384616\n",
       "  Objective bound      : 86153.84615384616\n",
       "  Primal solution :\n",
       "    x[1] : 100.0\n",
       "    x[2] : 46.153846153846146\n",
       "    x[3] : 46.15384615384616\n",
       "\n",
       "* Work counters\n",
       "  Solve time (sec)   : 0.00700\n"
      ]
     },
     "execution_count": 8,
     "metadata": {},
     "output_type": "execute_result"
    }
   ],
   "source": [
    "using JuMP, Cbc\n",
    "\n",
    "m = Model()\n",
    "\n",
    "@variable(m, x[S] >= 0)\n",
    "\n",
    "@objective(m, Min, sum(c[i] * x[i] for i in S))\n",
    "\n",
    "@constraint(m, demand_req[j in M], sum(a[i,j] * x[i] for i in S) >= r[j])\n",
    "@constraint(m, supply_req[i in S], x[i] <= b[i])\n",
    "\n",
    "set_optimizer(m, Cbc.Optimizer)\n",
    "\n",
    "optimize!(m)\n",
    "\n",
    "solution_summary(m, verbose=true)"
   ]
  },
  {
   "cell_type": "code",
   "execution_count": null,
   "id": "f44dff68",
   "metadata": {},
   "outputs": [],
   "source": []
  }
 ],
 "metadata": {
  "kernelspec": {
   "display_name": "Julia 1.7.1",
   "language": "julia",
   "name": "julia-1.7"
  },
  "language_info": {
   "file_extension": ".jl",
   "mimetype": "application/julia",
   "name": "julia",
   "version": "1.7.1"
  }
 },
 "nbformat": 4,
 "nbformat_minor": 5
}
