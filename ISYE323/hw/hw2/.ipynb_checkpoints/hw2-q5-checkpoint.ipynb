{
 "cells": [
  {
   "cell_type": "code",
   "execution_count": 1,
   "id": "7c4e9f53",
   "metadata": {},
   "outputs": [
    {
     "data": {
      "text/plain": [
       "4×7 Matrix{Int64}:\n",
       " 1  0  0  0  0  1  1\n",
       " 1  1  1  1  1  0  0\n",
       " 0  0  1  1  1  1  0\n",
       " 1  0  0  0  1  1  1"
      ]
     },
     "execution_count": 1,
     "metadata": {},
     "output_type": "execute_result"
    }
   ],
   "source": [
    "using JuMP, Cbc\n",
    "\n",
    "T = 1:4\n",
    "D = 1:7\n",
    "\n",
    "c = [250, 300, 200, 300]\n",
    "b = [30, 8, 15, 20, 25, 30, 50]\n",
    "\n",
    "a = [\n",
    "1 0 0 0 0 1 1\n",
    "1 1 1 1 1 0 0\n",
    "0 0 1 1 1 1 0\n",
    "1 0 0 0 1 1 1\n",
    "]"
   ]
  },
  {
   "cell_type": "code",
   "execution_count": 14,
   "id": "298cc227",
   "metadata": {},
   "outputs": [
    {
     "name": "stdout",
     "output_type": "stream",
     "text": [
      "Presolve 5 (-2) rows, 4 (0) columns and 13 (-3) elements\n",
      "0  Obj 2400 Primal inf 131 (5)\n",
      "3  Obj 17550\n",
      "Optimal - objective value 17550\n",
      "After Postsolve, objective 17550, infeasibilities - dual 0 (0), primal 0 (0)\n",
      "Optimal objective 17550 - 3 iterations time 0.002, Presolve 0.00\n"
     ]
    },
    {
     "data": {
      "text/plain": [
       "* Solver : COIN Branch-and-Cut (Cbc)\n",
       "\n",
       "* Status\n",
       "  Termination status : OPTIMAL\n",
       "  Primal status      : FEASIBLE_POINT\n",
       "  Dual status        : NO_SOLUTION\n",
       "  Result count       : 1\n",
       "  Has duals          : false\n",
       "  Message from the solver:\n",
       "  \"Cbc_status          = finished - check isProvenOptimal or isProvenInfeasible to see if solution found (or check value of best solution)\n",
       "Cbc_secondaryStatus = unset (status_ will also be -1)\n",
       "\"\n",
       "\n",
       "* Candidate solution\n",
       "  Objective value      : 17550.0\n",
       "  Objective bound      : 17550.0\n",
       "  Primal solution :\n",
       "    x[1] : 45.0\n",
       "    x[2] : 8.0\n",
       "    x[3] : 12.0\n",
       "    x[4] : 5.0\n",
       "\n",
       "* Work counters\n",
       "  Solve time (sec)   : 0.00100\n"
      ]
     },
     "execution_count": 14,
     "metadata": {},
     "output_type": "execute_result"
    }
   ],
   "source": [
    "m = Model()\n",
    "\n",
    "@variable(m, x[T] >= 0)\n",
    "\n",
    "@objective(m, Min, sum(c[i] * x[i] for i in T))\n",
    "\n",
    "@constraint(m, day_req[j in D], sum(a[i,j] * x[i] for i in T) >= b[j])\n",
    "\n",
    "set_optimizer(m, Cbc.Optimizer)\n",
    "\n",
    "optimize!(m)\n",
    "\n",
    "solution_summary(m, verbose=true)"
   ]
  },
  {
   "cell_type": "code",
   "execution_count": 12,
   "id": "b05b5239",
   "metadata": {},
   "outputs": [
    {
     "name": "stdout",
     "output_type": "stream",
     "text": [
      "optimal value of xa: 38.0\n",
      "optimal value of xb: 8.0\n",
      "optimal value of xc: 7.0\n",
      "optimal value of xd: 12.0\n",
      "optimal objective: 16900.0\n",
      "Presolve 6 (-1) rows, 4 (0) columns and 15 (-1) elements\n",
      "0  Obj 2400 Primal inf 137.99999 (6)\n",
      "4  Obj 16900\n",
      "Optimal - objective value 16900\n",
      "After Postsolve, objective 16900, infeasibilities - dual 0 (0), primal 0 (0)\n",
      "Optimal objective 16900 - 4 iterations time 0.002, Presolve 0.00\n"
     ]
    }
   ],
   "source": [
    "using JuMP, Cbc\n",
    "\n",
    "m = Model()\n",
    "\n",
    "@variable(m, xa >= 0)\n",
    "@variable(m, xb >= 0)\n",
    "@variable(m, xc >= 0)\n",
    "@variable(m, xd >= 0)\n",
    "\n",
    "@objective(m, Min, 250xa + 300(xb+xd) + 200xc)\n",
    "\n",
    "@constraint(m, xa+xb+xd >= 30)\n",
    "@constraint(m, xb >= 8)\n",
    "@constraint(m, xb+xc >= 15)\n",
    "@constraint(m, xb+xd >= 20)\n",
    "@constraint(m, xb+xc+xd >= 25)\n",
    "@constraint(m, xa+xc+xd >= 30)\n",
    "@constraint(m, xa+xd >= 50)\n",
    "\n",
    "set_optimizer(m, Cbc.Optimizer)\n",
    "optimize!(m)\n",
    "\n",
    "# display the solution\n",
    "println(\"optimal value of xa: \", value(xa))\n",
    "println(\"optimal value of xb: \", value(xb))\n",
    "println(\"optimal value of xc: \", value(xc))\n",
    "println(\"optimal value of xd: \", value(xd))\n",
    "\n",
    "println(\"optimal objective: \", objective_value(m))"
   ]
  },
  {
   "cell_type": "code",
   "execution_count": null,
   "id": "e3b8dd42",
   "metadata": {},
   "outputs": [],
   "source": []
  }
 ],
 "metadata": {
  "kernelspec": {
   "display_name": "Julia 1.7.1",
   "language": "julia",
   "name": "julia-1.7"
  },
  "language_info": {
   "file_extension": ".jl",
   "mimetype": "application/julia",
   "name": "julia",
   "version": "1.7.1"
  }
 },
 "nbformat": 4,
 "nbformat_minor": 5
}
