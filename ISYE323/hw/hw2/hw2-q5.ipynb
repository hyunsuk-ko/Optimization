{
 "cells": [
  {
   "cell_type": "code",
   "execution_count": 1,
   "id": "b05b5239",
   "metadata": {},
   "outputs": [
    {
     "name": "stdout",
     "output_type": "stream",
     "text": [
      "optimal value of xa: 38.0\n",
      "optimal value of xb: 8.0\n",
      "optimal value of xc: 7.0\n",
      "optimal value of xd: 12.0\n",
      "optimal objective: 16900.0\n",
      "Presolve 6 (-1) rows, 4 (0) columns and 15 (-1) elements\n",
      "0  Obj 2400 Primal inf 137.99999 (6)\n",
      "4  Obj 16900\n",
      "Optimal - objective value 16900\n",
      "After Postsolve, objective 16900, infeasibilities - dual 0 (0), primal 0 (0)\n",
      "Optimal objective 16900 - 4 iterations time 0.012, Presolve 0.01\n"
     ]
    }
   ],
   "source": [
    "using JuMP, Cbc\n",
    "\n",
    "m = Model()\n",
    "\n",
    "@variable(m, xa >= 0)\n",
    "@variable(m, xb >= 0)\n",
    "@variable(m, xc >= 0)\n",
    "@variable(m, xd >= 0)\n",
    "\n",
    "@objective(m, Min, 250xa + 300(xb+xd) + 200xc)\n",
    "\n",
    "@constraint(m, xa+xb+xd >= 30)\n",
    "@constraint(m, xb >= 8)\n",
    "@constraint(m, xb+xc >= 15)\n",
    "@constraint(m, xb+xd >= 20)\n",
    "@constraint(m, xb+xc+xd >= 25)\n",
    "@constraint(m, xa+xc+xd >= 30)\n",
    "@constraint(m, xa+xd >= 50)\n",
    "\n",
    "set_optimizer(m, Cbc.Optimizer)\n",
    "optimize!(m)\n",
    "\n",
    "# display the solution\n",
    "println(\"optimal value of xa: \", value(xa))\n",
    "println(\"optimal value of xb: \", value(xb))\n",
    "println(\"optimal value of xc: \", value(xc))\n",
    "println(\"optimal value of xd: \", value(xd))\n",
    "\n",
    "println(\"optimal objective: \", objective_value(m))"
   ]
  },
  {
   "cell_type": "code",
   "execution_count": null,
   "id": "e3b8dd42",
   "metadata": {},
   "outputs": [],
   "source": []
  }
 ],
 "metadata": {
  "kernelspec": {
   "display_name": "Julia 1.7.1",
   "language": "julia",
   "name": "julia-1.7"
  },
  "language_info": {
   "file_extension": ".jl",
   "mimetype": "application/julia",
   "name": "julia",
   "version": "1.7.1"
  }
 },
 "nbformat": 4,
 "nbformat_minor": 5
}
