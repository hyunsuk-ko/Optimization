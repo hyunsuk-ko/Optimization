{
 "cells": [
  {
   "cell_type": "code",
   "execution_count": 11,
   "id": "762ff7ed",
   "metadata": {},
   "outputs": [
    {
     "name": "stdout",
     "output_type": "stream",
     "text": [
      "Presolve 7 (0) rows, 5 (0) columns and 35 (0) elements\n",
      "0  Obj -0 Primal inf 0.9999999 (1) Dual inf 47 (5)\n",
      "2  Obj 9.1666667\n",
      "Optimal - objective value 9.1666667\n",
      "Optimal objective 9.166666667 - 2 iterations time 0.002\n"
     ]
    },
    {
     "data": {
      "text/plain": [
       "* Solver : COIN Branch-and-Cut (Cbc)\n",
       "\n",
       "* Status\n",
       "  Termination status : OPTIMAL\n",
       "  Primal status      : FEASIBLE_POINT\n",
       "  Dual status        : NO_SOLUTION\n",
       "  Result count       : 1\n",
       "  Has duals          : false\n",
       "  Message from the solver:\n",
       "  \"Cbc_status          = finished - check isProvenOptimal or isProvenInfeasible to see if solution found (or check value of best solution)\n",
       "Cbc_secondaryStatus = unset (status_ will also be -1)\n",
       "\"\n",
       "\n",
       "* Candidate solution\n",
       "  Objective value      : 9.166666666666666\n",
       "  Objective bound      : 9.166666666666666\n",
       "  Primal solution :\n",
       "    x[1] : 0.0\n",
       "    x[2] : 0.0\n",
       "    x[3] : 0.0\n",
       "    x[4] : 0.16666666666666669\n",
       "    x[5] : 0.8333333333333333\n",
       "\n",
       "* Work counters\n",
       "  Solve time (sec)   : 0.00100\n"
      ]
     },
     "execution_count": 11,
     "metadata": {},
     "output_type": "execute_result"
    }
   ],
   "source": [
    "using JuMP, Cbc\n",
    "\n",
    "m2 = Model()\n",
    "@variable(m2, x[1:5] >= 0) # amount of money invested in company \n",
    "\n",
    "@objective(m2, Max, 6x[1] + 5x[2] + 13x[3] + 15x[4] + 8x[5])\n",
    "\n",
    "@constraint(m2, year1_req, 5x[1] + 2x[2] + 8x[3] + 10x[4] + 2x[5] <= 25)\n",
    "@constraint(m2, year2_req, 3x[1] + 6x[2] + 10x[3] + 10x[4] + 9x[5] <= 25)\n",
    "@constraint(m2, year3_req, 3x[1] + 3x[2] + 8x[3] + 9x[4] + 6x[5] <= 25)\n",
    "\n",
    "@constraint(m2, year1_risk_req,  8x[3] + 10x[4] <= 0.5(5x[1] + 2x[2] + 8x[3] + 10x[4] + 2x[5]))\n",
    "@constraint(m2, year2_risk_req, 10x[3] + 10x[4] <= 0.5(3x[1] + 6x[2] + 10x[3] + 10x[4] + 9x[5]))\n",
    "@constraint(m2, year3_risk_req,  8x[3] + 9x[4] <= 0.5(3x[1] + 3x[2] + 8x[3] + 9x[4] + 6x[5]))\n",
    "\n",
    "@constraint(m2, addup_1, sum(x[1:5]) == 1)\n",
    "\n",
    "set_optimizer(m2, Cbc.Optimizer)\n",
    "\n",
    "optimize!(m2)\n",
    "\n",
    "solution_summary(m2, verbose=true)"
   ]
  },
  {
   "cell_type": "code",
   "execution_count": null,
   "id": "a9cc5b7b",
   "metadata": {},
   "outputs": [],
   "source": []
  }
 ],
 "metadata": {
  "kernelspec": {
   "display_name": "Julia 1.7.1",
   "language": "julia",
   "name": "julia-1.7"
  },
  "language_info": {
   "file_extension": ".jl",
   "mimetype": "application/julia",
   "name": "julia",
   "version": "1.7.1"
  }
 },
 "nbformat": 4,
 "nbformat_minor": 5
}
