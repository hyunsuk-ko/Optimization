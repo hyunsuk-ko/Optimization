{
 "cells": [
  {
   "cell_type": "code",
   "execution_count": 6,
   "id": "a8a18aab",
   "metadata": {},
   "outputs": [
    {
     "name": "stdout",
     "output_type": "stream",
     "text": [
      "optimal value of x1: 45.0\n",
      "optimal value of x2: 35.0\n",
      "optimal objective: 205.0\n",
      "Presolve 2 (-1) rows, 2 (0) columns and 4 (-1) elements\n",
      "0  Obj 135 Primal inf 44.999998 (2)\n",
      "1  Obj 205\n",
      "Optimal - objective value 205\n",
      "After Postsolve, objective 205, infeasibilities - dual 0 (0), primal 0 (0)\n",
      "Optimal objective 205 - 1 iterations time 0.002, Presolve 0.00\n"
     ]
    }
   ],
   "source": [
    "using JuMP, Cbc\n",
    "\n",
    "m = Model()\n",
    "@variable(m, x1 >= 0)\n",
    "@variable(m, x2 >= 0)\n",
    "\n",
    "@objective(m, Min, 3x1+2x2)\n",
    "\n",
    "@constraint(m, constraint1, 2x1+x2 >= 100)\n",
    "@constraint(m, constraint2, x1+x2 >= 80)\n",
    "@constraint(m, constraint3, x1 >= 45)\n",
    "\n",
    "set_optimizer(m, Cbc.Optimizer)\n",
    "optimize!(m)\n",
    "\n",
    "# display the solution\n",
    "println(\"optimal value of x1: \", value(x1))\n",
    "println(\"optimal value of x2: \", value(x2))\n",
    "println(\"optimal objective: \", objective_value(m))"
   ]
  },
  {
   "cell_type": "code",
   "execution_count": null,
   "id": "b2b2b89e",
   "metadata": {},
   "outputs": [],
   "source": []
  }
 ],
 "metadata": {
  "kernelspec": {
   "display_name": "Julia 1.7.1",
   "language": "julia",
   "name": "julia-1.7"
  },
  "language_info": {
   "file_extension": ".jl",
   "mimetype": "application/julia",
   "name": "julia",
   "version": "1.7.1"
  }
 },
 "nbformat": 4,
 "nbformat_minor": 5
}
