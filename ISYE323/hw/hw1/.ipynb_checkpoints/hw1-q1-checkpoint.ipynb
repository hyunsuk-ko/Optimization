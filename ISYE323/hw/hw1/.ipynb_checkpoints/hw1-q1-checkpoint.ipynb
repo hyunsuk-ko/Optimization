{
 "cells": [
  {
   "cell_type": "code",
   "execution_count": 1,
   "id": "9dc6d57d",
   "metadata": {},
   "outputs": [
    {
     "data": {
      "text/plain": [
       "3×3 Matrix{Int64}:\n",
       " 40  15  10\n",
       " 30  25  15\n",
       " 20  30  20"
      ]
     },
     "execution_count": 1,
     "metadata": {},
     "output_type": "execute_result"
    }
   ],
   "source": [
    "layout = 1:3\n",
    "flower = 1:3\n",
    "p = [30, 60, 50]\n",
    "b = [900, 700, 500]\n",
    "\n",
    "a = [\n",
    "40 15 10\n",
    "30 25 15\n",
    "20 30 20\n",
    "]"
   ]
  },
  {
   "cell_type": "code",
   "execution_count": 7,
   "id": "584bdc44",
   "metadata": {},
   "outputs": [
    {
     "name": "stdout",
     "output_type": "stream",
     "text": [
      "Presolve 3 (0) rows, 3 (0) columns and 9 (0) elements\n",
      "0  Obj -0 Dual inf 152 (3)\n",
      "1  Obj 1680\n",
      "Optimal - objective value 1680\n",
      "Optimal objective 1680 - 1 iterations time 0.002\n"
     ]
    },
    {
     "data": {
      "text/plain": [
       "* Solver : COIN Branch-and-Cut (Cbc)\n",
       "\n",
       "* Status\n",
       "  Termination status : OPTIMAL\n",
       "  Primal status      : FEASIBLE_POINT\n",
       "  Dual status        : NO_SOLUTION\n",
       "  Result count       : 1\n",
       "  Has duals          : false\n",
       "  Message from the solver:\n",
       "  \"Cbc_status          = finished - check isProvenOptimal or isProvenInfeasible to see if solution found (or check value of best solution)\n",
       "Cbc_secondaryStatus = unset (status_ will also be -1)\n",
       "\"\n",
       "\n",
       "* Candidate solution\n",
       "  Objective value      : 1679.9999999999998\n",
       "  Objective bound      : 1679.9999999999998\n",
       "  Primal solution :\n",
       "    x[1] : 0.0\n",
       "    x[2] : 27.999999999999996\n",
       "    x[3] : 0.0\n",
       "\n",
       "* Work counters\n",
       "  Solve time (sec)   : 0.00100\n"
      ]
     },
     "execution_count": 7,
     "metadata": {},
     "output_type": "execute_result"
    }
   ],
   "source": [
    "using JuMP, Cbc\n",
    "\n",
    "m = Model()\n",
    "\n",
    "@variable(m, x[layout] >= 0)\n",
    "\n",
    "@objective(m, Max, sum(p[i] * x[i] for i in layout))\n",
    "\n",
    "@constraint(m, flower_req[j in flower], sum(a[i,j] * x[i] for i in layout) <= b[j])\n",
    "\n",
    "set_optimizer(m, Cbc.Optimizer)\n",
    "\n",
    "optimize!(m)\n",
    "\n",
    "solution_summary(m, verbose=true)"
   ]
  },
  {
   "cell_type": "code",
   "execution_count": null,
   "id": "48697a3b",
   "metadata": {},
   "outputs": [],
   "source": []
  }
 ],
 "metadata": {
  "kernelspec": {
   "display_name": "Julia 1.7.1",
   "language": "julia",
   "name": "julia-1.7"
  },
  "language_info": {
   "file_extension": ".jl",
   "mimetype": "application/julia",
   "name": "julia",
   "version": "1.7.1"
  }
 },
 "nbformat": 4,
 "nbformat_minor": 5
}
