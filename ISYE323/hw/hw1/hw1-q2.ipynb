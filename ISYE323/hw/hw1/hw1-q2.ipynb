{
 "cells": [
  {
   "cell_type": "code",
   "execution_count": 5,
   "id": "59d794e6",
   "metadata": {},
   "outputs": [
    {
     "name": "stdout",
     "output_type": "stream",
     "text": [
      "Presolve 1 (-2) rows, 2 (0) columns and 2 (-2) elements\n",
      "0  Obj -0 Dual inf 7.999998 (2)\n",
      "1  Obj 2600\n",
      "Optimal - objective value 2600\n",
      "After Postsolve, objective 2600, infeasibilities - dual 0 (0), primal 0 (0)\n",
      "Optimal objective 2600 - 1 iterations time 0.002, Presolve 0.00\n"
     ]
    },
    {
     "data": {
      "text/plain": [
       "* Solver : COIN Branch-and-Cut (Cbc)\n",
       "\n",
       "* Status\n",
       "  Termination status : OPTIMAL\n",
       "  Primal status      : FEASIBLE_POINT\n",
       "  Dual status        : NO_SOLUTION\n",
       "  Result count       : 1\n",
       "  Has duals          : false\n",
       "  Message from the solver:\n",
       "  \"Cbc_status          = finished - check isProvenOptimal or isProvenInfeasible to see if solution found (or check value of best solution)\n",
       "Cbc_secondaryStatus = unset (status_ will also be -1)\n",
       "\"\n",
       "\n",
       "* Candidate solution\n",
       "  Objective value      : 2600.0\n",
       "  Objective bound      : 2600.0\n",
       "  Primal solution :\n",
       "    x[1] : 400.0\n",
       "    x[2] : 300.0\n",
       "\n",
       "* Work counters\n",
       "  Solve time (sec)   : 0.00400\n"
      ]
     },
     "execution_count": 5,
     "metadata": {},
     "output_type": "execute_result"
    }
   ],
   "source": [
    "warranty = 1:2\n",
    "department = 1:3\n",
    "profit = [5, 2]\n",
    "b = [600, 1800, 800]\n",
    "a = [\n",
    "0 1\n",
    "3 2\n",
    "2 0\n",
    "]\n",
    "\n",
    "using JuMP, Cbc\n",
    "\n",
    "m = Model()\n",
    "\n",
    "@variable(m, x[warranty] >= 0)\n",
    "\n",
    "@objective(m, Max, sum(profit[j] * x[j] for j in warranty))\n",
    "\n",
    "@constraint(m, dept_req[i in department], sum(a[i,j] * x[j] for j in warranty) <= b[i])\n",
    "\n",
    "set_optimizer(m, Cbc.Optimizer)\n",
    "\n",
    "optimize!(m)\n",
    "\n",
    "solution_summary(m, verbose=true)"
   ]
  },
  {
   "cell_type": "code",
   "execution_count": null,
   "id": "780dd580",
   "metadata": {},
   "outputs": [],
   "source": []
  }
 ],
 "metadata": {
  "kernelspec": {
   "display_name": "Julia 1.7.1",
   "language": "julia",
   "name": "julia-1.7"
  },
  "language_info": {
   "file_extension": ".jl",
   "mimetype": "application/julia",
   "name": "julia",
   "version": "1.7.1"
  }
 },
 "nbformat": 4,
 "nbformat_minor": 5
}
