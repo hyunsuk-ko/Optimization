{
 "cells": [
  {
   "cell_type": "code",
   "execution_count": 6,
   "id": "323c283a",
   "metadata": {},
   "outputs": [
    {
     "name": "stdout",
     "output_type": "stream",
     "text": [
      "Welcome to the CBC MILP Solver \n",
      "Version: 2.10.5 \n",
      "Build Date: Jan  1 1970 \n",
      "\n",
      "command line - Cbc_C_Interface -solve -quit (default strategy 1)\n",
      "Continuous objective value is 6114.29 - 0.00 seconds\n",
      "Cgl0003I 0 fixed, 0 tightened bounds, 3 strengthened rows, 0 substitutions\n",
      "Cgl0004I processed model has 4 rows, 3 columns (3 integer (1 of which binary)) and 11 elements\n",
      "Cutoff increment increased from 1e-05 to 99.9999\n",
      "Cbc0038I Initial state - 0 integers unsatisfied sum - 8.88178e-16\n",
      "Cbc0038I Solution found of 7000\n",
      "Cbc0038I Cleaned solution of 7000\n",
      "Cbc0038I Before mini branch and bound, 3 integers at bound fixed and 0 continuous of which 1 were internal integer and 0 internal continuous\n",
      "Cbc0038I Mini branch and bound did not improve solution (0.01 seconds)\n",
      "Cbc0038I After 0.01 seconds - Feasibility pump exiting with objective of 7000 - took 0.00 seconds\n",
      "Cbc0012I Integer solution of 7000 found by feasibility pump after 0 iterations and 0 nodes (0.01 seconds)\n",
      "Cbc0001I Search completed - best objective 7000, took 0 iterations and 0 nodes (0.01 seconds)\n",
      "Cbc0035I Maximum depth 0, 0 variables fixed on reduced cost\n",
      "Cuts at root node changed objective from 7000 to 7000\n",
      "Probing was tried 0 times and created 0 cuts of which 0 were active after adding rounds of cuts (0.000 seconds)\n",
      "Gomory was tried 0 times and created 0 cuts of which 0 were active after adding rounds of cuts (0.000 seconds)\n",
      "Knapsack was tried 0 times and created 0 cuts of which 0 were active after adding rounds of cuts (0.000 seconds)\n",
      "Clique was tried 0 times and created 0 cuts of which 0 were active after adding rounds of cuts (0.000 seconds)\n",
      "MixedIntegerRounding2 was tried 0 times and created 0 cuts of which 0 were active after adding rounds of cuts (0.000 seconds)\n",
      "FlowCover was tried 0 times and created 0 cuts of which 0 were active after adding rounds of cuts (0.000 seconds)\n",
      "TwoMirCuts was tried 0 times and created 0 cuts of which 0 were active after adding rounds of cuts (0.000 seconds)\n",
      "ZeroHalf was tried 0 times and created 0 cuts of which 0 were active after adding rounds of cuts (0.000 seconds)\n",
      "\n",
      "Result - Optimal solution found\n",
      "\n",
      "Objective value:                7000.00000000\n",
      "Enumerated nodes:               0\n",
      "Total iterations:               0\n",
      "Time (CPU seconds):             0.01\n",
      "Time (Wallclock seconds):       0.01\n",
      "\n",
      "Total time (CPU seconds):       0.01   (Wallclock seconds):       0.01\n",
      "\n"
     ]
    },
    {
     "data": {
      "text/plain": [
       "* Solver : COIN Branch-and-Cut (Cbc)\n",
       "\n",
       "* Status\n",
       "  Termination status : OPTIMAL\n",
       "  Primal status      : FEASIBLE_POINT\n",
       "  Dual status        : NO_SOLUTION\n",
       "  Result count       : 1\n",
       "  Has duals          : false\n",
       "  Message from the solver:\n",
       "  \"Cbc_status          = finished - check isProvenOptimal or isProvenInfeasible to see if solution found (or check value of best solution)\n",
       "Cbc_secondaryStatus = search completed with solution\n",
       "\"\n",
       "\n",
       "* Candidate solution\n",
       "  Objective value      : 7000.0\n",
       "  Objective bound      : 7000.0\n",
       "  Primal solution :\n",
       "    x[1] : 0.0\n",
       "    x[2] : 5.0\n",
       "    y[1] : 0.0\n",
       "    y[2] : 0.9999999999999999\n",
       "\n",
       "* Work counters\n",
       "  Solve time (sec)   : 0.01400\n"
      ]
     },
     "execution_count": 6,
     "metadata": {},
     "output_type": "execute_result"
    }
   ],
   "source": [
    "using JuMP, Cbc\n",
    "\n",
    "\n",
    "m = Model()\n",
    "\n",
    "@variable(m, x[1:2] >= 0, Int)\n",
    "@variable(m, y[1:2], Bin)\n",
    "\n",
    "@objective(m, Min , 1000 * x[1] + 1100 * x[2] + 900 * y[1] + 1500 * y[2])\n",
    "\n",
    "@constraint(m, demand_1, 25 * x[1] + 45 * x[2] >= 200)\n",
    "@constraint(m, demand_2, 25 * x[1] + 40 * x[2] >= 150)\n",
    "@constraint(m, demand_3, 50 * x[1] + 55 * x[2] >= 250)\n",
    "@constraint(m, binary_1, x[1] <= 6 * y[1])\n",
    "@constraint(m, binary_2, x[2] <= 6* y[2])\n",
    "\n",
    "set_optimizer(m, Cbc.Optimizer)\n",
    "\n",
    "optimize!(m)\n",
    "\n",
    "solution_summary(m, verbose = true)"
   ]
  },
  {
   "cell_type": "code",
   "execution_count": null,
   "id": "17169aa7",
   "metadata": {},
   "outputs": [],
   "source": []
  }
 ],
 "metadata": {
  "kernelspec": {
   "display_name": "Julia 1.7.1",
   "language": "julia",
   "name": "julia-1.7"
  },
  "language_info": {
   "file_extension": ".jl",
   "mimetype": "application/julia",
   "name": "julia",
   "version": "1.7.1"
  }
 },
 "nbformat": 4,
 "nbformat_minor": 5
}
