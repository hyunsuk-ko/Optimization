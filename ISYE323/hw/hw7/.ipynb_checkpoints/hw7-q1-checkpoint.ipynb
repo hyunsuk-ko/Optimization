{
 "cells": [
  {
   "cell_type": "code",
   "execution_count": 27,
   "id": "fbb23f23",
   "metadata": {},
   "outputs": [
    {
     "name": "stdout",
     "output_type": "stream",
     "text": [
      "Welcome to the CBC MILP Solver \n",
      "Version: 2.10.5 \n",
      "Build Date: Jan  1 1970 \n",
      "\n",
      "command line - Cbc_C_Interface -solve -quit (default strategy 1)\n",
      "Continuous objective value is 16812.5 - 0.00 seconds\n",
      "Cgl0003I 0 fixed, 2 tightened bounds, 0 strengthened rows, 0 substitutions\n",
      "Cgl0004I processed model has 5 rows, 8 columns (2 integer (0 of which binary)) and 14 elements\n",
      "Cbc0012I Integer solution of 17913.889 found by DiveCoefficient after 0 iterations and 0 nodes (0.01 seconds)\n",
      "Cbc0031I 2 added rows had average density of 4\n",
      "Cbc0013I At root node, 2 cuts changed objective from 16812.5 to 17913.885 in 28 passes\n",
      "Cbc0014I Cut generator 0 (Probing) - 0 row cuts average 0.0 elements, 1 column cuts (1 active)  in 0.001 seconds - new frequency is 1\n",
      "Cbc0014I Cut generator 1 (Gomory) - 40 row cuts average 4.2 elements, 0 column cuts (0 active)  in 0.002 seconds - new frequency is 1\n",
      "Cbc0014I Cut generator 2 (Knapsack) - 0 row cuts average 0.0 elements, 0 column cuts (0 active)  in 0.000 seconds - new frequency is -100\n",
      "Cbc0014I Cut generator 3 (Clique) - 0 row cuts average 0.0 elements, 0 column cuts (0 active)  in 0.000 seconds - new frequency is -100\n",
      "Cbc0014I Cut generator 4 (MixedIntegerRounding2) - 6 row cuts average 4.3 elements, 0 column cuts (0 active)  in 0.003 seconds - new frequency is 1\n",
      "Cbc0014I Cut generator 5 (FlowCover) - 0 row cuts average 0.0 elements, 0 column cuts (0 active)  in 0.004 seconds - new frequency is -100\n",
      "Cbc0014I Cut generator 6 (TwoMirCuts) - 8 row cuts average 3.9 elements, 0 column cuts (0 active)  in 0.003 seconds - new frequency is 1\n",
      "Cbc0001I Search completed - best objective 17913.88888888889, took 74 iterations and 0 nodes (0.03 seconds)\n",
      "Cbc0032I Strong branching done 2 times (4 iterations), fathomed 1 nodes and fixed 0 variables\n",
      "Cbc0035I Maximum depth 0, 0 variables fixed on reduced cost\n",
      "Cuts at root node changed objective from 16812.5 to 17913.9\n",
      "Probing was tried 28 times and created 1 cuts of which 0 were active after adding rounds of cuts (0.001 seconds)\n",
      "Gomory was tried 28 times and created 40 cuts of which 0 were active after adding rounds of cuts (0.002 seconds)\n",
      "Knapsack was tried 28 times and created 0 cuts of which 0 were active after adding rounds of cuts (0.000 seconds)\n",
      "Clique was tried 28 times and created 0 cuts of which 0 were active after adding rounds of cuts (0.000 seconds)\n",
      "MixedIntegerRounding2 was tried 28 times and created 6 cuts of which 0 were active after adding rounds of cuts (0.003 seconds)\n",
      "FlowCover was tried 28 times and created 0 cuts of which 0 were active after adding rounds of cuts (0.004 seconds)\n",
      "TwoMirCuts was tried 28 times and created 8 cuts of which 0 were active after adding rounds of cuts (0.003 seconds)\n",
      "ZeroHalf was tried 1 times and created 0 cuts of which 0 were active after adding rounds of cuts (0.000 seconds)\n",
      "\n",
      "Result - Optimal solution found\n",
      "\n",
      "Objective value:                17913.88888889\n",
      "Enumerated nodes:               0\n",
      "Total iterations:               74\n",
      "Time (CPU seconds):             0.04\n",
      "Time (Wallclock seconds):       0.04\n",
      "\n",
      "Total time (CPU seconds):       0.04   (Wallclock seconds):       0.04\n",
      "\n"
     ]
    },
    {
     "data": {
      "text/plain": [
       "* Solver : COIN Branch-and-Cut (Cbc)\n",
       "\n",
       "* Status\n",
       "  Termination status : OPTIMAL\n",
       "  Primal status      : FEASIBLE_POINT\n",
       "  Dual status        : NO_SOLUTION\n",
       "  Result count       : 1\n",
       "  Has duals          : false\n",
       "  Message from the solver:\n",
       "  \"Cbc_status          = finished - check isProvenOptimal or isProvenInfeasible to see if solution found (or check value of best solution)\n",
       "Cbc_secondaryStatus = search completed with solution\n",
       "\"\n",
       "\n",
       "* Candidate solution\n",
       "  Objective value      : 17913.88888888889\n",
       "  Objective bound      : 17913.88888888889\n",
       "  Primal solution :\n",
       "    x[1,1] : 0.0\n",
       "    x[1,2] : 0.0\n",
       "    x[1,3] : 5.000000000000001\n",
       "    x[2,1] : 4.4444444444444455\n",
       "    x[2,2] : 3.75\n",
       "    x[2,3] : 0.0\n",
       "    y[1] : 1.0\n",
       "    y[2] : 1.9999999999999998\n",
       "\n",
       "* Work counters\n",
       "  Solve time (sec)   : 0.03700\n"
      ]
     },
     "execution_count": 27,
     "metadata": {},
     "output_type": "execute_result"
    }
   ],
   "source": [
    "using JuMP, Cbc\n",
    "\n",
    "line = 1:2\n",
    "cupcake = 1:3\n",
    "\n",
    "m = Model()\n",
    "\n",
    "@variable(m, x[line,cupcake] >= 0)\n",
    "@variable(m, y[line], Int)\n",
    "\n",
    "@objective(m, Min , 1000 * (x[1,1] + x[1,2] + x[1,3]) + 1100 * (x[2,1] + x[2,2] + x[2,3]) + 900 * y[1] + 1500 * y[2])\n",
    "\n",
    "@constraint(m, demand_1, 25 * x[1,1] + 45 * x[2,1] >= 200)\n",
    "@constraint(m, demand_2, 25 * x[1,2] + 40 * x[2,2] >= 150)\n",
    "@constraint(m, demand_3, 50 * x[1,3] + 55 * x[2,3] >= 250)\n",
    "@constraint(m, binary_1, x[1,1] + x[1,2] + x[1,3] <= 6 * y[1])\n",
    "@constraint(m, binary_2, x[2,1] + x[2,2] + x[2,3] <= 6 * y[2])\n",
    "\n",
    "set_optimizer(m, Cbc.Optimizer)\n",
    "\n",
    "optimize!(m)\n",
    "\n",
    "solution_summary(m, verbose = true)"
   ]
  },
  {
   "cell_type": "code",
   "execution_count": 26,
   "id": "1241aee6",
   "metadata": {},
   "outputs": [
    {
     "name": "stdout",
     "output_type": "stream",
     "text": [
      "Welcome to the CBC MILP Solver \n",
      "Version: 2.10.5 \n",
      "Build Date: Jan  1 1970 \n",
      "\n",
      "command line - Cbc_C_Interface -solve -quit (default strategy 1)\n",
      "Problem is infeasible - 0.00 seconds\n",
      "Total time (CPU seconds):       0.00   (Wallclock seconds):       0.00\n",
      "\n"
     ]
    },
    {
     "ename": "LoadError",
     "evalue": "MethodError: \u001b[0mCannot `convert` an object of type \u001b[92mMissing\u001b[39m\u001b[0m to an object of type \u001b[91mFloat64\u001b[39m\n\u001b[0mClosest candidates are:\n\u001b[0m  convert(::Type{T}, \u001b[91m::T\u001b[39m) where T<:Number at C:\\Users\\peren\\AppData\\Local\\Programs\\Julia-1.7.1\\share\\julia\\base\\number.jl:6\n\u001b[0m  convert(::Type{T}, \u001b[91m::Number\u001b[39m) where T<:Number at C:\\Users\\peren\\AppData\\Local\\Programs\\Julia-1.7.1\\share\\julia\\base\\number.jl:7\n\u001b[0m  convert(::Type{T}, \u001b[91m::Base.TwicePrecision\u001b[39m) where T<:Number at C:\\Users\\peren\\AppData\\Local\\Programs\\Julia-1.7.1\\share\\julia\\base\\twiceprecision.jl:262\n\u001b[0m  ...",
     "output_type": "error",
     "traceback": [
      "MethodError: \u001b[0mCannot `convert` an object of type \u001b[92mMissing\u001b[39m\u001b[0m to an object of type \u001b[91mFloat64\u001b[39m\n\u001b[0mClosest candidates are:\n\u001b[0m  convert(::Type{T}, \u001b[91m::T\u001b[39m) where T<:Number at C:\\Users\\peren\\AppData\\Local\\Programs\\Julia-1.7.1\\share\\julia\\base\\number.jl:6\n\u001b[0m  convert(::Type{T}, \u001b[91m::Number\u001b[39m) where T<:Number at C:\\Users\\peren\\AppData\\Local\\Programs\\Julia-1.7.1\\share\\julia\\base\\number.jl:7\n\u001b[0m  convert(::Type{T}, \u001b[91m::Base.TwicePrecision\u001b[39m) where T<:Number at C:\\Users\\peren\\AppData\\Local\\Programs\\Julia-1.7.1\\share\\julia\\base\\twiceprecision.jl:262\n\u001b[0m  ...",
      "",
      "Stacktrace:",
      " [1] JuMP._SolutionSummary(verbose::Bool, solver::String, termination_status::MathOptInterface.TerminationStatusCode, primal_status::MathOptInterface.ResultStatusCode, dual_status::MathOptInterface.ResultStatusCode, raw_status::String, result_count::Int64, has_values::Bool, has_duals::Bool, objective_value::Missing, objective_bound::Float64, dual_objective_value::Missing, primal_solution::Missing, dual_solution::Missing, solve_time::Float64, barrier_iterations::Missing, simplex_iterations::Missing, node_count::Missing)",
      "   @ JuMP C:\\Users\\peren\\.julia\\packages\\JuMP\\lnUbA\\src\\solution_summary.jl:9",
      " [2] solution_summary(model::Model; verbose::Bool)",
      "   @ JuMP C:\\Users\\peren\\.julia\\packages\\JuMP\\lnUbA\\src\\solution_summary.jl:57",
      " [3] solution_summary(model::Model)",
      "   @ JuMP C:\\Users\\peren\\.julia\\packages\\JuMP\\lnUbA\\src\\solution_summary.jl:57",
      " [4] top-level scope",
      "   @ In[26]:23",
      " [5] eval",
      "   @ .\\boot.jl:373 [inlined]",
      " [6] include_string(mapexpr::typeof(REPL.softscope), mod::Module, code::String, filename::String)",
      "   @ Base .\\loading.jl:1196"
     ]
    }
   ],
   "source": [
    "using JuMP, Cbc\n",
    "\n",
    "line = 1:2\n",
    "cupcake = 1:3\n",
    "\n",
    "m = Model()\n",
    "\n",
    "@variable(m, x[line,cupcake] >= 0)\n",
    "@variable(m, y[line], Bin)\n",
    "\n",
    "@objective(m, Min , 1000 * (x[1,1] + x[1,2] + x[1,3]) + 1100 * (x[2,1] + x[2,2] + x[2,3]) + 900 * y[1] + 1500 * y[2])\n",
    "\n",
    "@constraint(m, demand_1, 25 * x[1,1] + 45 * x[2,1] >= 200)\n",
    "@constraint(m, demand_2, 25 * x[1,2] + 40 * x[2,2] >= 150)\n",
    "@constraint(m, demand_3, 50 * x[1,3] + 55 * x[2,3] >= 250)\n",
    "@constraint(m, binary_1, x[1,1] + x[1,2] + x[1,3] <= 6 * y[1])\n",
    "@constraint(m, binary_2, x[2,1] + x[2,2] + x[2,3] <= 6 * y[2])\n",
    "\n",
    "set_optimizer(m, Cbc.Optimizer)\n",
    "\n",
    "optimize!(m)\n",
    "\n",
    "solution_summary(m)"
   ]
  },
  {
   "cell_type": "code",
   "execution_count": null,
   "id": "fc397a0e",
   "metadata": {},
   "outputs": [],
   "source": []
  }
 ],
 "metadata": {
  "kernelspec": {
   "display_name": "Julia 1.7.1",
   "language": "julia",
   "name": "julia-1.7"
  },
  "language_info": {
   "file_extension": ".jl",
   "mimetype": "application/julia",
   "name": "julia",
   "version": "1.7.1"
  }
 },
 "nbformat": 4,
 "nbformat_minor": 5
}
