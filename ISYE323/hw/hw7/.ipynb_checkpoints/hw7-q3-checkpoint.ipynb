{
 "cells": [
  {
   "cell_type": "code",
   "execution_count": 13,
   "id": "bbe3de7b",
   "metadata": {},
   "outputs": [
    {
     "data": {
      "text/plain": [
       "1-dimensional DenseAxisArray{ConstraintRef{Model, MathOptInterface.ConstraintIndex{MathOptInterface.ScalarAffineFunction{Float64}, MathOptInterface.GreaterThan{Float64}}, ScalarShape},1,...} with index sets:\n",
       "    Dimension 1, [1, 2, 3, 4]\n",
       "And data, a 4-element Vector{ConstraintRef{Model, MathOptInterface.ConstraintIndex{MathOptInterface.ScalarAffineFunction{Float64}, MathOptInterface.GreaterThan{Float64}}, ScalarShape}}:\n",
       " covering[1] : x[1,1] + x[2,1] + x[3,1] + x[4,1] >= 1.0\n",
       " covering[2] : x[1,2] + x[2,2] + x[3,2] + x[4,2] >= 1.0\n",
       " covering[3] : x[1,3] + x[2,3] + x[3,3] + x[4,3] >= 1.0\n",
       " covering[4] : x[1,4] + x[2,4] + x[3,4] + x[4,4] >= 1.0"
      ]
     },
     "execution_count": 13,
     "metadata": {},
     "output_type": "execute_result"
    }
   ],
   "source": [
    "using JuMP, Cbc, NamedArrays\n",
    "\n",
    "nodes = [:W,1,2,3,4]\n",
    "farm = [1,2,3,4]\n",
    "demand = [3,7,4,5]\n",
    "\n",
    "c =[\n",
    "0 10 9 11 18;\n",
    "10 0 5 7 9;\n",
    "9 5 0 11 19;\n",
    "11 11 7 0 19;\n",
    "18 9 19 10 0;\n",
    "]\n",
    "c_NA = NamedArray(c, (nodes, nodes),(\"nodes\",\"nodes\"))\n",
    "\n",
    "m = Model()\n",
    "\n",
    "@variable(m, x[nodes,nodes], Bin)\n",
    "\n",
    "@objective(m, Min, sum(c_NA[i,j] * x[i,j] for i in nodes for j in nodes))\n",
    "\n",
    "@constraint(m, covering[j in farm], sum(x[1,j] + x[2,j] + x[3,j] + x[4,j]) >= 1)"
   ]
  },
  {
   "cell_type": "code",
   "execution_count": null,
   "id": "2219d628",
   "metadata": {},
   "outputs": [],
   "source": []
  }
 ],
 "metadata": {
  "kernelspec": {
   "display_name": "Julia 1.7.1",
   "language": "julia",
   "name": "julia-1.7"
  },
  "language_info": {
   "file_extension": ".jl",
   "mimetype": "application/julia",
   "name": "julia",
   "version": "1.7.1"
  }
 },
 "nbformat": 4,
 "nbformat_minor": 5
}
